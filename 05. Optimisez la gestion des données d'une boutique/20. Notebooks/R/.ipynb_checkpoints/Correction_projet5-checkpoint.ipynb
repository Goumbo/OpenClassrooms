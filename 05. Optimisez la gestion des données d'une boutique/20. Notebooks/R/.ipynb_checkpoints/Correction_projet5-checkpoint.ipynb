{
 "cells": [
  {
   "cell_type": "markdown",
   "id": "unable-wrong",
   "metadata": {},
   "source": [
    "PROJET 5 - Data Analyst\n"
   ]
  },
  {
   "cell_type": "markdown",
   "id": "bacterial-single",
   "metadata": {},
   "source": [
    "<div style=\"background-color: RGB(51,165,182);\" >\n",
    "<h2 style=\"margin: auto; padding: 20px; color:#fff; \">Partie 1 - Librairies et fonctions</h2>\n",
    "</div>"
   ]
  },
  {
   "cell_type": "markdown",
   "id": "married-mechanics",
   "metadata": {},
   "source": [
    "<div style=\"border: 1px solid RGB(51,165,182);\" >\n",
    "<h3 style=\"margin: auto; padding: 20px; color: RGB(51,165,182); \">1.1 - Importation des librairies</h3>\n",
    "</div>"
   ]
  },
  {
   "cell_type": "code",
   "execution_count": 29,
   "id": "published-prior",
   "metadata": {},
   "outputs": [],
   "source": [
    ".libPaths( c( .libPaths(), \"~/R_packages\") )\n",
    "library(\"readxl\")\n",
    "library(\"dplyr\", warn.conflicts = FALSE)\n",
    "library(\"ggplot2\")"
   ]
  },
  {
   "cell_type": "markdown",
   "id": "specified-stephen",
   "metadata": {},
   "source": [
    "<div style=\"border: 1px solid RGB(51,165,182);\" >\n",
    "<h3 style=\"margin: auto; padding: 20px; color: RGB(51,165,182); \">1.2 - Déclaration des fonctions</h3>\n",
    "</div>"
   ]
  },
  {
   "cell_type": "code",
   "execution_count": 2,
   "id": "controversial-vessel",
   "metadata": {},
   "outputs": [],
   "source": [
    "#######################################################################\n",
    "# On écrit une fonction qui permettra de tester si une cle est fiable #\n",
    "#######################################################################\n",
    "testerCle <- function(df, colonnes){\n",
    "    # Fonction qui prend en arguments un dataframe et les colonnes qui composent la clé primaire à tester.\n",
    "    \n",
    "    # On compare la taille du dataframe avant et après dédoublonnage \n",
    "    if(nrow(df) == nrow(unique(df[colonnes]))){\n",
    "        print(\"La clé n'est pas présente plusieurs fois dans le dataframe.\")\n",
    "        print(\"Elle peut donc être utilisée comme clé primaire.\")\n",
    "    }else {\n",
    "        print(\"La clé est présente plusieurs fois dans le dataframe.\")\n",
    "        print(\"Elle ne peut donc pas être utilisée comme clé primaire.\")\n",
    "    }\n",
    "    \n",
    "    # On renvoie également le comptage\n",
    "    print(sprintf(\"Le dataframe est de la forme : (%s) (lignes, colonnes)\", paste0(dim(df), collapse=\",\")))\n",
    "}"
   ]
  },
  {
   "cell_type": "markdown",
   "id": "forward-rescue",
   "metadata": {},
   "source": [
    "<div style=\"background-color: RGB(51,165,182);\" >\n",
    "<h2 style=\"margin: auto; padding: 20px; color:#fff; \">Partie 2 - Importation et préparation des fichiers</h2>\n",
    "</div>"
   ]
  },
  {
   "cell_type": "code",
   "execution_count": 3,
   "id": "eligible-dinner",
   "metadata": {},
   "outputs": [
    {
     "name": "stdout",
     "output_type": "stream",
     "text": [
      "[1] 825   5\n",
      "tibble [825 × 5] (S3: tbl_df/tbl/data.frame)\n",
      " $ product_id    : num [1:825] 3847 3849 3850 4032 4039 ...\n",
      " $ onsale_web    : num [1:825] 1 1 1 1 1 1 1 1 1 1 ...\n",
      " $ price         : num [1:825] 24.2 34.3 20.8 14.1 46 34.3 32.7 31.2 60 42.6 ...\n",
      " $ stock_quantity: num [1:825] 0 0 0 0 0 0 15 34 12 66 ...\n",
      " $ stock_status  : chr [1:825] \"outofstock\" \"outofstock\" \"outofstock\" \"outofstock\" ...\n",
      "NULL\n"
     ]
    },
    {
     "data": {
      "text/html": [
       "<table class=\"dataframe\">\n",
       "<caption>A tibble: 6 × 5</caption>\n",
       "<thead>\n",
       "\t<tr><th scope=col>product_id</th><th scope=col>onsale_web</th><th scope=col>price</th><th scope=col>stock_quantity</th><th scope=col>stock_status</th></tr>\n",
       "\t<tr><th scope=col>&lt;dbl&gt;</th><th scope=col>&lt;dbl&gt;</th><th scope=col>&lt;dbl&gt;</th><th scope=col>&lt;dbl&gt;</th><th scope=col>&lt;chr&gt;</th></tr>\n",
       "</thead>\n",
       "<tbody>\n",
       "\t<tr><td>3847</td><td>1</td><td>24.2</td><td>0</td><td>outofstock</td></tr>\n",
       "\t<tr><td>3849</td><td>1</td><td>34.3</td><td>0</td><td>outofstock</td></tr>\n",
       "\t<tr><td>3850</td><td>1</td><td>20.8</td><td>0</td><td>outofstock</td></tr>\n",
       "\t<tr><td>4032</td><td>1</td><td>14.1</td><td>0</td><td>outofstock</td></tr>\n",
       "\t<tr><td>4039</td><td>1</td><td>46.0</td><td>0</td><td>outofstock</td></tr>\n",
       "\t<tr><td>4040</td><td>1</td><td>34.3</td><td>0</td><td>outofstock</td></tr>\n",
       "</tbody>\n",
       "</table>\n"
      ],
      "text/latex": [
       "A tibble: 6 × 5\n",
       "\\begin{tabular}{lllll}\n",
       " product\\_id & onsale\\_web & price & stock\\_quantity & stock\\_status\\\\\n",
       " <dbl> & <dbl> & <dbl> & <dbl> & <chr>\\\\\n",
       "\\hline\n",
       "\t 3847 & 1 & 24.2 & 0 & outofstock\\\\\n",
       "\t 3849 & 1 & 34.3 & 0 & outofstock\\\\\n",
       "\t 3850 & 1 & 20.8 & 0 & outofstock\\\\\n",
       "\t 4032 & 1 & 14.1 & 0 & outofstock\\\\\n",
       "\t 4039 & 1 & 46.0 & 0 & outofstock\\\\\n",
       "\t 4040 & 1 & 34.3 & 0 & outofstock\\\\\n",
       "\\end{tabular}\n"
      ],
      "text/markdown": [
       "\n",
       "A tibble: 6 × 5\n",
       "\n",
       "| product_id &lt;dbl&gt; | onsale_web &lt;dbl&gt; | price &lt;dbl&gt; | stock_quantity &lt;dbl&gt; | stock_status &lt;chr&gt; |\n",
       "|---|---|---|---|---|\n",
       "| 3847 | 1 | 24.2 | 0 | outofstock |\n",
       "| 3849 | 1 | 34.3 | 0 | outofstock |\n",
       "| 3850 | 1 | 20.8 | 0 | outofstock |\n",
       "| 4032 | 1 | 14.1 | 0 | outofstock |\n",
       "| 4039 | 1 | 46.0 | 0 | outofstock |\n",
       "| 4040 | 1 | 34.3 | 0 | outofstock |\n",
       "\n"
      ],
      "text/plain": [
       "  product_id onsale_web price stock_quantity stock_status\n",
       "1 3847       1          24.2  0              outofstock  \n",
       "2 3849       1          34.3  0              outofstock  \n",
       "3 3850       1          20.8  0              outofstock  \n",
       "4 4032       1          14.1  0              outofstock  \n",
       "5 4039       1          46.0  0              outofstock  \n",
       "6 4040       1          34.3  0              outofstock  "
      ]
     },
     "metadata": {},
     "output_type": "display_data"
    }
   ],
   "source": [
    "# On importe le fichier ERP\n",
    "df_erp <- read_excel('data_p5/erp.xlsx')\n",
    "\n",
    "# On observe\n",
    "print(dim(df_erp))\n",
    "print(str(df_erp))\n",
    "head(df_erp)"
   ]
  },
  {
   "cell_type": "code",
   "execution_count": 4,
   "id": "increased-sleeping",
   "metadata": {},
   "outputs": [
    {
     "name": "stdout",
     "output_type": "stream",
     "text": [
      "[1] \"La clé n'est pas présente plusieurs fois dans le dataframe.\"\n",
      "[1] \"Elle peut donc être utilisée comme clé primaire.\"\n",
      "[1] \"Le dataframe est de la forme : (825,5) (lignes, colonnes)\"\n"
     ]
    }
   ],
   "source": [
    "# On teste l'unicité de la clé primaire\n",
    "\n",
    "testerCle(df_erp, c('product_id'))"
   ]
  },
  {
   "cell_type": "code",
   "execution_count": 5,
   "id": "generous-stock",
   "metadata": {},
   "outputs": [
    {
     "name": "stdout",
     "output_type": "stream",
     "text": [
      "[1] 825   2\n",
      "tibble [825 × 2] (S3: tbl_df/tbl/data.frame)\n",
      " $ product_id: num [1:825] 3847 3849 3850 4032 4039 ...\n",
      " $ id_web    : chr [1:825] \"15298\" \"15296\" \"15300\" \"19814\" ...\n",
      "NULL\n"
     ]
    },
    {
     "data": {
      "text/html": [
       "<table class=\"dataframe\">\n",
       "<caption>A tibble: 6 × 2</caption>\n",
       "<thead>\n",
       "\t<tr><th scope=col>product_id</th><th scope=col>id_web</th></tr>\n",
       "\t<tr><th scope=col>&lt;dbl&gt;</th><th scope=col>&lt;chr&gt;</th></tr>\n",
       "</thead>\n",
       "<tbody>\n",
       "\t<tr><td>3847</td><td>15298</td></tr>\n",
       "\t<tr><td>3849</td><td>15296</td></tr>\n",
       "\t<tr><td>3850</td><td>15300</td></tr>\n",
       "\t<tr><td>4032</td><td>19814</td></tr>\n",
       "\t<tr><td>4039</td><td>19815</td></tr>\n",
       "\t<tr><td>4040</td><td>15303</td></tr>\n",
       "</tbody>\n",
       "</table>\n"
      ],
      "text/latex": [
       "A tibble: 6 × 2\n",
       "\\begin{tabular}{ll}\n",
       " product\\_id & id\\_web\\\\\n",
       " <dbl> & <chr>\\\\\n",
       "\\hline\n",
       "\t 3847 & 15298\\\\\n",
       "\t 3849 & 15296\\\\\n",
       "\t 3850 & 15300\\\\\n",
       "\t 4032 & 19814\\\\\n",
       "\t 4039 & 19815\\\\\n",
       "\t 4040 & 15303\\\\\n",
       "\\end{tabular}\n"
      ],
      "text/markdown": [
       "\n",
       "A tibble: 6 × 2\n",
       "\n",
       "| product_id &lt;dbl&gt; | id_web &lt;chr&gt; |\n",
       "|---|---|\n",
       "| 3847 | 15298 |\n",
       "| 3849 | 15296 |\n",
       "| 3850 | 15300 |\n",
       "| 4032 | 19814 |\n",
       "| 4039 | 19815 |\n",
       "| 4040 | 15303 |\n",
       "\n"
      ],
      "text/plain": [
       "  product_id id_web\n",
       "1 3847       15298 \n",
       "2 3849       15296 \n",
       "3 3850       15300 \n",
       "4 4032       19814 \n",
       "5 4039       19815 \n",
       "6 4040       15303 "
      ]
     },
     "metadata": {},
     "output_type": "display_data"
    }
   ],
   "source": [
    "# On importe le fichier LIAISON\n",
    "df_liaison <- read_excel('data_p5/liaison.xlsx')\n",
    "\n",
    "# On observe\n",
    "print(dim(df_liaison))\n",
    "print(str(df_liaison))\n",
    "head(df_liaison)"
   ]
  },
  {
   "cell_type": "code",
   "execution_count": 6,
   "id": "textile-synthesis",
   "metadata": {},
   "outputs": [
    {
     "name": "stdout",
     "output_type": "stream",
     "text": [
      "[1] \"La clé n'est pas présente plusieurs fois dans le dataframe.\"\n",
      "[1] \"Elle peut donc être utilisée comme clé primaire.\"\n",
      "[1] \"Le dataframe est de la forme : (825,2) (lignes, colonnes)\"\n"
     ]
    }
   ],
   "source": [
    "# On teste l'unicité de la clé primaire\n",
    "testerCle(df_liaison, c('product_id'))"
   ]
  },
  {
   "cell_type": "code",
   "execution_count": 7,
   "id": "through-coupon",
   "metadata": {},
   "outputs": [
    {
     "name": "stdout",
     "output_type": "stream",
     "text": [
      "[1] 1513   28\n",
      "tibble [1,513 × 28] (S3: tbl_df/tbl/data.frame)\n",
      " $ sku                  : chr [1:1513] \"bon-cadeau-25-euros\" \"15298\" \"15296\" \"15300\" ...\n",
      " $ virtual              : num [1:1513] 0 0 0 0 0 0 0 0 0 0 ...\n",
      " $ downloadable         : num [1:1513] 0 0 0 0 0 0 0 0 0 0 ...\n",
      " $ rating_count         : num [1:1513] 0 0 0 0 0 0 0 0 0 0 ...\n",
      " $ average_rating       : num [1:1513] 0 0 0 0 0 0 0 0 0 0 ...\n",
      " $ total_sales          : num [1:1513] 10 6 0 0 3 0 0 0 7 3 ...\n",
      " $ tax_status           : chr [1:1513] \"taxable\" \"taxable\" \"taxable\" \"taxable\" ...\n",
      " $ tax_class            : logi [1:1513] NA NA NA NA NA NA ...\n",
      " $ post_author          : num [1:1513] 1 2 2 2 2 2 2 2 2 2 ...\n",
      " $ post_date            : POSIXct[1:1513], format: \"2018-06-01 13:53:46\" \"2018-02-08 12:58:52\" ...\n",
      " $ post_date_gmt        : POSIXct[1:1513], format: \"2018-06-01 11:53:46\" \"2018-02-08 11:58:52\" ...\n",
      " $ post_content         : logi [1:1513] NA NA NA NA NA NA ...\n",
      " $ post_title           : chr [1:1513] \"Bon cadeau de 25€\" \"Pierre Jean Villa Saint-Joseph Préface 2018\" \"Pierre Jean Villa Saint-Joseph Rouge Tildé 2017\" \"Pierre Jean Villa Crozes-Hermitage Accroche Coeur 2018\" ...\n",
      " $ post_excerpt         : chr [1:1513] \"<span style=\\\"color: #a85253;\\\"><strong>Parlons peu, parlons vin.</strong>\\r\\n<strong>Parlons cadeau !</strong>\"| __truncated__ \"Il exhale un nez subtil, racé avec du poivre fin et de la tourbe. La bouche est une caresse grâce à des tanins \"| __truncated__ \"Les vieilles vignes lui apportent une rare profondeur. L’attaque affiche de l’élégance. La bouche est portée pa\"| __truncated__ \"Dentelle de fruit de jeunes syrah, aux tanins légers et épicés. Hyper digeste. Un délice.\" ...\n",
      " $ post_status          : chr [1:1513] \"publish\" \"publish\" \"publish\" \"publish\" ...\n",
      " $ comment_status       : chr [1:1513] \"closed\" \"closed\" \"closed\" \"closed\" ...\n",
      " $ ping_status          : chr [1:1513] \"closed\" \"closed\" \"closed\" \"closed\" ...\n",
      " $ post_password        : logi [1:1513] NA NA NA NA NA NA ...\n",
      " $ post_name            : chr [1:1513] \"bon-cadeau-de-25-euros\" \"pierre-jean-villa-saint-joseph-preface-2018\" \"pierre-jean-villa-saint-joseph-tilde-2017\" \"pierre-jean-villa-croze-hermitage-accroche-coeur-2018\" ...\n",
      " $ post_modified        : POSIXct[1:1513], format: \"2018-06-01 14:13:57\" \"2019-12-30 09:30:29\" ...\n",
      " $ post_modified_gmt    : POSIXct[1:1513], format: \"2018-06-01 12:13:57\" \"2019-12-30 08:30:29\" ...\n",
      " $ post_content_filtered: logi [1:1513] NA NA NA NA NA NA ...\n",
      " $ post_parent          : num [1:1513] 0 0 0 0 0 0 0 0 0 0 ...\n",
      " $ guid                 : chr [1:1513] \"https://www.bottle-neck.fr/?post_type=product&#038;p=4954\" \"https://www.bottle-neck.fr/?post_type=product&#038;p=3847\" \"https://www.bottle-neck.fr/?post_type=product&#038;p=3849\" \"https://www.bottle-neck.fr/?post_type=product&#038;p=3850\" ...\n",
      " $ menu_order           : num [1:1513] 0 0 0 0 0 0 0 0 0 0 ...\n",
      " $ post_type            : chr [1:1513] \"product\" \"product\" \"product\" \"product\" ...\n",
      " $ post_mime_type       : chr [1:1513] NA NA NA NA ...\n",
      " $ comment_count        : num [1:1513] 0 0 0 0 0 0 0 0 0 0 ...\n",
      "NULL\n"
     ]
    },
    {
     "data": {
      "text/html": [
       "<table class=\"dataframe\">\n",
       "<caption>A tibble: 6 × 28</caption>\n",
       "<thead>\n",
       "\t<tr><th scope=col>sku</th><th scope=col>virtual</th><th scope=col>downloadable</th><th scope=col>rating_count</th><th scope=col>average_rating</th><th scope=col>total_sales</th><th scope=col>tax_status</th><th scope=col>tax_class</th><th scope=col>post_author</th><th scope=col>post_date</th><th scope=col>⋯</th><th scope=col>post_name</th><th scope=col>post_modified</th><th scope=col>post_modified_gmt</th><th scope=col>post_content_filtered</th><th scope=col>post_parent</th><th scope=col>guid</th><th scope=col>menu_order</th><th scope=col>post_type</th><th scope=col>post_mime_type</th><th scope=col>comment_count</th></tr>\n",
       "\t<tr><th scope=col>&lt;chr&gt;</th><th scope=col>&lt;dbl&gt;</th><th scope=col>&lt;dbl&gt;</th><th scope=col>&lt;dbl&gt;</th><th scope=col>&lt;dbl&gt;</th><th scope=col>&lt;dbl&gt;</th><th scope=col>&lt;chr&gt;</th><th scope=col>&lt;lgl&gt;</th><th scope=col>&lt;dbl&gt;</th><th scope=col>&lt;dttm&gt;</th><th scope=col>⋯</th><th scope=col>&lt;chr&gt;</th><th scope=col>&lt;dttm&gt;</th><th scope=col>&lt;dttm&gt;</th><th scope=col>&lt;lgl&gt;</th><th scope=col>&lt;dbl&gt;</th><th scope=col>&lt;chr&gt;</th><th scope=col>&lt;dbl&gt;</th><th scope=col>&lt;chr&gt;</th><th scope=col>&lt;chr&gt;</th><th scope=col>&lt;dbl&gt;</th></tr>\n",
       "</thead>\n",
       "<tbody>\n",
       "\t<tr><td>bon-cadeau-25-euros</td><td>0</td><td>0</td><td>0</td><td>0</td><td>10</td><td>taxable</td><td>NA</td><td>1</td><td>2018-06-01 13:53:46</td><td>⋯</td><td><span style=white-space:pre-wrap>bon-cadeau-de-25-euros                               </span></td><td>2018-06-01 14:13:57</td><td>2018-06-01 12:13:57</td><td>NA</td><td>0</td><td>https://www.bottle-neck.fr/?post_type=product&amp;#038;p=4954</td><td>0</td><td>product</td><td>NA</td><td>0</td></tr>\n",
       "\t<tr><td><span style=white-space:pre-wrap>15298              </span></td><td>0</td><td>0</td><td>0</td><td>0</td><td> 6</td><td>taxable</td><td>NA</td><td>2</td><td>2018-02-08 12:58:52</td><td>⋯</td><td><span style=white-space:pre-wrap>pierre-jean-villa-saint-joseph-preface-2018          </span></td><td>2019-12-30 09:30:29</td><td>2019-12-30 08:30:29</td><td>NA</td><td>0</td><td>https://www.bottle-neck.fr/?post_type=product&amp;#038;p=3847</td><td>0</td><td>product</td><td>NA</td><td>0</td></tr>\n",
       "\t<tr><td><span style=white-space:pre-wrap>15296              </span></td><td>0</td><td>0</td><td>0</td><td>0</td><td> 0</td><td>taxable</td><td>NA</td><td>2</td><td>2018-02-08 13:49:41</td><td>⋯</td><td><span style=white-space:pre-wrap>pierre-jean-villa-saint-joseph-tilde-2017            </span></td><td>2019-12-21 09:00:17</td><td>2019-12-21 08:00:17</td><td>NA</td><td>0</td><td>https://www.bottle-neck.fr/?post_type=product&amp;#038;p=3849</td><td>0</td><td>product</td><td>NA</td><td>0</td></tr>\n",
       "\t<tr><td><span style=white-space:pre-wrap>15300              </span></td><td>0</td><td>0</td><td>0</td><td>0</td><td> 0</td><td>taxable</td><td>NA</td><td>2</td><td>2018-02-08 14:08:36</td><td>⋯</td><td>pierre-jean-villa-croze-hermitage-accroche-coeur-2018</td><td>2020-06-26 18:15:03</td><td>2020-06-26 16:15:03</td><td>NA</td><td>0</td><td>https://www.bottle-neck.fr/?post_type=product&amp;#038;p=3850</td><td>0</td><td>product</td><td>NA</td><td>0</td></tr>\n",
       "\t<tr><td><span style=white-space:pre-wrap>19814              </span></td><td>0</td><td>0</td><td>0</td><td>0</td><td> 3</td><td>taxable</td><td>NA</td><td>2</td><td>2018-02-09 14:01:05</td><td>⋯</td><td><span style=white-space:pre-wrap>pierre-jean-villa-igp-gamine-2018                    </span></td><td>2020-01-04 16:36:01</td><td>2020-01-04 15:36:01</td><td>NA</td><td>0</td><td>https://www.bottle-neck.fr/?post_type=product&amp;#038;p=4032</td><td>0</td><td>product</td><td>NA</td><td>0</td></tr>\n",
       "\t<tr><td><span style=white-space:pre-wrap>19815              </span></td><td>0</td><td>0</td><td>0</td><td>0</td><td> 0</td><td>taxable</td><td>NA</td><td>2</td><td>2018-02-12 09:04:37</td><td>⋯</td><td><span style=white-space:pre-wrap>pierre-jean-villa-cote-rotie-carmina-2017            </span></td><td>2020-01-04 16:36:10</td><td>2020-01-04 15:36:10</td><td>NA</td><td>0</td><td>https://www.bottle-neck.fr/?post_type=product&amp;#038;p=4039</td><td>0</td><td>product</td><td>NA</td><td>0</td></tr>\n",
       "</tbody>\n",
       "</table>\n"
      ],
      "text/latex": [
       "A tibble: 6 × 28\n",
       "\\begin{tabular}{lllllllllllllllllllll}\n",
       " sku & virtual & downloadable & rating\\_count & average\\_rating & total\\_sales & tax\\_status & tax\\_class & post\\_author & post\\_date & ⋯ & post\\_name & post\\_modified & post\\_modified\\_gmt & post\\_content\\_filtered & post\\_parent & guid & menu\\_order & post\\_type & post\\_mime\\_type & comment\\_count\\\\\n",
       " <chr> & <dbl> & <dbl> & <dbl> & <dbl> & <dbl> & <chr> & <lgl> & <dbl> & <dttm> & ⋯ & <chr> & <dttm> & <dttm> & <lgl> & <dbl> & <chr> & <dbl> & <chr> & <chr> & <dbl>\\\\\n",
       "\\hline\n",
       "\t bon-cadeau-25-euros & 0 & 0 & 0 & 0 & 10 & taxable & NA & 1 & 2018-06-01 13:53:46 & ⋯ & bon-cadeau-de-25-euros                                & 2018-06-01 14:13:57 & 2018-06-01 12:13:57 & NA & 0 & https://www.bottle-neck.fr/?post\\_type=product\\&\\#038;p=4954 & 0 & product & NA & 0\\\\\n",
       "\t 15298               & 0 & 0 & 0 & 0 &  6 & taxable & NA & 2 & 2018-02-08 12:58:52 & ⋯ & pierre-jean-villa-saint-joseph-preface-2018           & 2019-12-30 09:30:29 & 2019-12-30 08:30:29 & NA & 0 & https://www.bottle-neck.fr/?post\\_type=product\\&\\#038;p=3847 & 0 & product & NA & 0\\\\\n",
       "\t 15296               & 0 & 0 & 0 & 0 &  0 & taxable & NA & 2 & 2018-02-08 13:49:41 & ⋯ & pierre-jean-villa-saint-joseph-tilde-2017             & 2019-12-21 09:00:17 & 2019-12-21 08:00:17 & NA & 0 & https://www.bottle-neck.fr/?post\\_type=product\\&\\#038;p=3849 & 0 & product & NA & 0\\\\\n",
       "\t 15300               & 0 & 0 & 0 & 0 &  0 & taxable & NA & 2 & 2018-02-08 14:08:36 & ⋯ & pierre-jean-villa-croze-hermitage-accroche-coeur-2018 & 2020-06-26 18:15:03 & 2020-06-26 16:15:03 & NA & 0 & https://www.bottle-neck.fr/?post\\_type=product\\&\\#038;p=3850 & 0 & product & NA & 0\\\\\n",
       "\t 19814               & 0 & 0 & 0 & 0 &  3 & taxable & NA & 2 & 2018-02-09 14:01:05 & ⋯ & pierre-jean-villa-igp-gamine-2018                     & 2020-01-04 16:36:01 & 2020-01-04 15:36:01 & NA & 0 & https://www.bottle-neck.fr/?post\\_type=product\\&\\#038;p=4032 & 0 & product & NA & 0\\\\\n",
       "\t 19815               & 0 & 0 & 0 & 0 &  0 & taxable & NA & 2 & 2018-02-12 09:04:37 & ⋯ & pierre-jean-villa-cote-rotie-carmina-2017             & 2020-01-04 16:36:10 & 2020-01-04 15:36:10 & NA & 0 & https://www.bottle-neck.fr/?post\\_type=product\\&\\#038;p=4039 & 0 & product & NA & 0\\\\\n",
       "\\end{tabular}\n"
      ],
      "text/markdown": [
       "\n",
       "A tibble: 6 × 28\n",
       "\n",
       "| sku &lt;chr&gt; | virtual &lt;dbl&gt; | downloadable &lt;dbl&gt; | rating_count &lt;dbl&gt; | average_rating &lt;dbl&gt; | total_sales &lt;dbl&gt; | tax_status &lt;chr&gt; | tax_class &lt;lgl&gt; | post_author &lt;dbl&gt; | post_date &lt;dttm&gt; | ⋯ ⋯ | post_name &lt;chr&gt; | post_modified &lt;dttm&gt; | post_modified_gmt &lt;dttm&gt; | post_content_filtered &lt;lgl&gt; | post_parent &lt;dbl&gt; | guid &lt;chr&gt; | menu_order &lt;dbl&gt; | post_type &lt;chr&gt; | post_mime_type &lt;chr&gt; | comment_count &lt;dbl&gt; |\n",
       "|---|---|---|---|---|---|---|---|---|---|---|---|---|---|---|---|---|---|---|---|---|\n",
       "| bon-cadeau-25-euros | 0 | 0 | 0 | 0 | 10 | taxable | NA | 1 | 2018-06-01 13:53:46 | ⋯ | bon-cadeau-de-25-euros                                | 2018-06-01 14:13:57 | 2018-06-01 12:13:57 | NA | 0 | https://www.bottle-neck.fr/?post_type=product&amp;#038;p=4954 | 0 | product | NA | 0 |\n",
       "| 15298               | 0 | 0 | 0 | 0 |  6 | taxable | NA | 2 | 2018-02-08 12:58:52 | ⋯ | pierre-jean-villa-saint-joseph-preface-2018           | 2019-12-30 09:30:29 | 2019-12-30 08:30:29 | NA | 0 | https://www.bottle-neck.fr/?post_type=product&amp;#038;p=3847 | 0 | product | NA | 0 |\n",
       "| 15296               | 0 | 0 | 0 | 0 |  0 | taxable | NA | 2 | 2018-02-08 13:49:41 | ⋯ | pierre-jean-villa-saint-joseph-tilde-2017             | 2019-12-21 09:00:17 | 2019-12-21 08:00:17 | NA | 0 | https://www.bottle-neck.fr/?post_type=product&amp;#038;p=3849 | 0 | product | NA | 0 |\n",
       "| 15300               | 0 | 0 | 0 | 0 |  0 | taxable | NA | 2 | 2018-02-08 14:08:36 | ⋯ | pierre-jean-villa-croze-hermitage-accroche-coeur-2018 | 2020-06-26 18:15:03 | 2020-06-26 16:15:03 | NA | 0 | https://www.bottle-neck.fr/?post_type=product&amp;#038;p=3850 | 0 | product | NA | 0 |\n",
       "| 19814               | 0 | 0 | 0 | 0 |  3 | taxable | NA | 2 | 2018-02-09 14:01:05 | ⋯ | pierre-jean-villa-igp-gamine-2018                     | 2020-01-04 16:36:01 | 2020-01-04 15:36:01 | NA | 0 | https://www.bottle-neck.fr/?post_type=product&amp;#038;p=4032 | 0 | product | NA | 0 |\n",
       "| 19815               | 0 | 0 | 0 | 0 |  0 | taxable | NA | 2 | 2018-02-12 09:04:37 | ⋯ | pierre-jean-villa-cote-rotie-carmina-2017             | 2020-01-04 16:36:10 | 2020-01-04 15:36:10 | NA | 0 | https://www.bottle-neck.fr/?post_type=product&amp;#038;p=4039 | 0 | product | NA | 0 |\n",
       "\n"
      ],
      "text/plain": [
       "  sku                 virtual downloadable rating_count average_rating\n",
       "1 bon-cadeau-25-euros 0       0            0            0             \n",
       "2 15298               0       0            0            0             \n",
       "3 15296               0       0            0            0             \n",
       "4 15300               0       0            0            0             \n",
       "5 19814               0       0            0            0             \n",
       "6 19815               0       0            0            0             \n",
       "  total_sales tax_status tax_class post_author post_date           ⋯\n",
       "1 10          taxable    NA        1           2018-06-01 13:53:46 ⋯\n",
       "2  6          taxable    NA        2           2018-02-08 12:58:52 ⋯\n",
       "3  0          taxable    NA        2           2018-02-08 13:49:41 ⋯\n",
       "4  0          taxable    NA        2           2018-02-08 14:08:36 ⋯\n",
       "5  3          taxable    NA        2           2018-02-09 14:01:05 ⋯\n",
       "6  0          taxable    NA        2           2018-02-12 09:04:37 ⋯\n",
       "  post_name                                             post_modified      \n",
       "1 bon-cadeau-de-25-euros                                2018-06-01 14:13:57\n",
       "2 pierre-jean-villa-saint-joseph-preface-2018           2019-12-30 09:30:29\n",
       "3 pierre-jean-villa-saint-joseph-tilde-2017             2019-12-21 09:00:17\n",
       "4 pierre-jean-villa-croze-hermitage-accroche-coeur-2018 2020-06-26 18:15:03\n",
       "5 pierre-jean-villa-igp-gamine-2018                     2020-01-04 16:36:01\n",
       "6 pierre-jean-villa-cote-rotie-carmina-2017             2020-01-04 16:36:10\n",
       "  post_modified_gmt   post_content_filtered post_parent\n",
       "1 2018-06-01 12:13:57 NA                    0          \n",
       "2 2019-12-30 08:30:29 NA                    0          \n",
       "3 2019-12-21 08:00:17 NA                    0          \n",
       "4 2020-06-26 16:15:03 NA                    0          \n",
       "5 2020-01-04 15:36:01 NA                    0          \n",
       "6 2020-01-04 15:36:10 NA                    0          \n",
       "  guid                                                      menu_order\n",
       "1 https://www.bottle-neck.fr/?post_type=product&#038;p=4954 0         \n",
       "2 https://www.bottle-neck.fr/?post_type=product&#038;p=3847 0         \n",
       "3 https://www.bottle-neck.fr/?post_type=product&#038;p=3849 0         \n",
       "4 https://www.bottle-neck.fr/?post_type=product&#038;p=3850 0         \n",
       "5 https://www.bottle-neck.fr/?post_type=product&#038;p=4032 0         \n",
       "6 https://www.bottle-neck.fr/?post_type=product&#038;p=4039 0         \n",
       "  post_type post_mime_type comment_count\n",
       "1 product   NA             0            \n",
       "2 product   NA             0            \n",
       "3 product   NA             0            \n",
       "4 product   NA             0            \n",
       "5 product   NA             0            \n",
       "6 product   NA             0            "
      ]
     },
     "metadata": {},
     "output_type": "display_data"
    }
   ],
   "source": [
    "# On importe le fichier WEB\n",
    "df_web <- read_excel('data_p5/web.xlsx')\n",
    "\n",
    "# On observe\n",
    "print(dim(df_web))\n",
    "print(str(df_web))\n",
    "head(df_web)"
   ]
  },
  {
   "cell_type": "code",
   "execution_count": 8,
   "id": "adjustable-botswana",
   "metadata": {},
   "outputs": [
    {
     "name": "stdout",
     "output_type": "stream",
     "text": [
      "[1] \"La clé est présente plusieurs fois dans le dataframe.\"\n",
      "[1] \"Elle ne peut donc pas être utilisée comme clé primaire.\"\n",
      "[1] \"Le dataframe est de la forme : (1513,28) (lignes, colonnes)\"\n"
     ]
    }
   ],
   "source": [
    "# On teste l'unicité de la clé primaire\n",
    "testerCle(df_web, c('sku'))"
   ]
  },
  {
   "cell_type": "code",
   "execution_count": 9,
   "id": "endangered-operator",
   "metadata": {},
   "outputs": [
    {
     "name": "stdout",
     "output_type": "stream",
     "text": [
      "[1] 85 28\n",
      "tibble [85 × 28] (S3: tbl_df/tbl/data.frame)\n",
      " $ sku                  : chr [1:85] NA NA NA NA ...\n",
      " $ virtual              : num [1:85] 0 0 0 0 0 0 0 0 0 0 ...\n",
      " $ downloadable         : num [1:85] 0 0 0 0 0 0 0 0 0 0 ...\n",
      " $ rating_count         : num [1:85] 0 0 0 0 0 0 0 0 0 0 ...\n",
      " $ average_rating       : num [1:85] NA NA NA NA NA NA NA NA NA NA ...\n",
      " $ total_sales          : num [1:85] NA NA NA NA NA NA NA NA NA NA ...\n",
      " $ tax_status           : chr [1:85] NA NA NA NA ...\n",
      " $ tax_class            : logi [1:85] NA NA NA NA NA NA ...\n",
      " $ post_author          : num [1:85] NA NA NA NA NA NA NA NA NA NA ...\n",
      " $ post_date            : POSIXct[1:85], format: NA NA ...\n",
      " $ post_date_gmt        : POSIXct[1:85], format: NA NA ...\n",
      " $ post_content         : logi [1:85] NA NA NA NA NA NA ...\n",
      " $ post_title           : chr [1:85] NA NA NA NA ...\n",
      " $ post_excerpt         : chr [1:85] NA NA NA NA ...\n",
      " $ post_status          : chr [1:85] NA NA NA NA ...\n",
      " $ comment_status       : chr [1:85] NA NA NA NA ...\n",
      " $ ping_status          : chr [1:85] NA NA NA NA ...\n",
      " $ post_password        : logi [1:85] NA NA NA NA NA NA ...\n",
      " $ post_name            : chr [1:85] NA NA NA NA ...\n",
      " $ post_modified        : POSIXct[1:85], format: NA NA ...\n",
      " $ post_modified_gmt    : POSIXct[1:85], format: NA NA ...\n",
      " $ post_content_filtered: logi [1:85] NA NA NA NA NA NA ...\n",
      " $ post_parent          : num [1:85] NA NA NA NA NA NA NA NA NA NA ...\n",
      " $ guid                 : chr [1:85] NA NA NA NA ...\n",
      " $ menu_order           : num [1:85] NA NA NA NA NA NA NA NA NA NA ...\n",
      " $ post_type            : chr [1:85] NA NA NA NA ...\n",
      " $ post_mime_type       : chr [1:85] NA NA NA NA ...\n",
      " $ comment_count        : num [1:85] NA NA NA NA NA NA NA NA NA NA ...\n",
      "NULL\n"
     ]
    },
    {
     "data": {
      "text/html": [
       "<table class=\"dataframe\">\n",
       "<caption>A tibble: 6 × 28</caption>\n",
       "<thead>\n",
       "\t<tr><th scope=col>sku</th><th scope=col>virtual</th><th scope=col>downloadable</th><th scope=col>rating_count</th><th scope=col>average_rating</th><th scope=col>total_sales</th><th scope=col>tax_status</th><th scope=col>tax_class</th><th scope=col>post_author</th><th scope=col>post_date</th><th scope=col>⋯</th><th scope=col>post_name</th><th scope=col>post_modified</th><th scope=col>post_modified_gmt</th><th scope=col>post_content_filtered</th><th scope=col>post_parent</th><th scope=col>guid</th><th scope=col>menu_order</th><th scope=col>post_type</th><th scope=col>post_mime_type</th><th scope=col>comment_count</th></tr>\n",
       "\t<tr><th scope=col>&lt;chr&gt;</th><th scope=col>&lt;dbl&gt;</th><th scope=col>&lt;dbl&gt;</th><th scope=col>&lt;dbl&gt;</th><th scope=col>&lt;dbl&gt;</th><th scope=col>&lt;dbl&gt;</th><th scope=col>&lt;chr&gt;</th><th scope=col>&lt;lgl&gt;</th><th scope=col>&lt;dbl&gt;</th><th scope=col>&lt;dttm&gt;</th><th scope=col>⋯</th><th scope=col>&lt;chr&gt;</th><th scope=col>&lt;dttm&gt;</th><th scope=col>&lt;dttm&gt;</th><th scope=col>&lt;lgl&gt;</th><th scope=col>&lt;dbl&gt;</th><th scope=col>&lt;chr&gt;</th><th scope=col>&lt;dbl&gt;</th><th scope=col>&lt;chr&gt;</th><th scope=col>&lt;chr&gt;</th><th scope=col>&lt;dbl&gt;</th></tr>\n",
       "</thead>\n",
       "<tbody>\n",
       "\t<tr><td>NA</td><td>0</td><td>0</td><td>0</td><td>NA</td><td>NA</td><td>NA</td><td>NA</td><td>NA</td><td>NA</td><td>⋯</td><td>NA</td><td>NA</td><td>NA</td><td>NA</td><td>NA</td><td>NA</td><td>NA</td><td>NA</td><td>NA</td><td>NA</td></tr>\n",
       "\t<tr><td>NA</td><td>0</td><td>0</td><td>0</td><td>NA</td><td>NA</td><td>NA</td><td>NA</td><td>NA</td><td>NA</td><td>⋯</td><td>NA</td><td>NA</td><td>NA</td><td>NA</td><td>NA</td><td>NA</td><td>NA</td><td>NA</td><td>NA</td><td>NA</td></tr>\n",
       "\t<tr><td>NA</td><td>0</td><td>0</td><td>0</td><td>NA</td><td>NA</td><td>NA</td><td>NA</td><td>NA</td><td>NA</td><td>⋯</td><td>NA</td><td>NA</td><td>NA</td><td>NA</td><td>NA</td><td>NA</td><td>NA</td><td>NA</td><td>NA</td><td>NA</td></tr>\n",
       "\t<tr><td>NA</td><td>0</td><td>0</td><td>0</td><td>NA</td><td>NA</td><td>NA</td><td>NA</td><td>NA</td><td>NA</td><td>⋯</td><td>NA</td><td>NA</td><td>NA</td><td>NA</td><td>NA</td><td>NA</td><td>NA</td><td>NA</td><td>NA</td><td>NA</td></tr>\n",
       "\t<tr><td>NA</td><td>0</td><td>0</td><td>0</td><td>NA</td><td>NA</td><td>NA</td><td>NA</td><td>NA</td><td>NA</td><td>⋯</td><td>NA</td><td>NA</td><td>NA</td><td>NA</td><td>NA</td><td>NA</td><td>NA</td><td>NA</td><td>NA</td><td>NA</td></tr>\n",
       "\t<tr><td>NA</td><td>0</td><td>0</td><td>0</td><td>NA</td><td>NA</td><td>NA</td><td>NA</td><td>NA</td><td>NA</td><td>⋯</td><td>NA</td><td>NA</td><td>NA</td><td>NA</td><td>NA</td><td>NA</td><td>NA</td><td>NA</td><td>NA</td><td>NA</td></tr>\n",
       "</tbody>\n",
       "</table>\n"
      ],
      "text/latex": [
       "A tibble: 6 × 28\n",
       "\\begin{tabular}{lllllllllllllllllllll}\n",
       " sku & virtual & downloadable & rating\\_count & average\\_rating & total\\_sales & tax\\_status & tax\\_class & post\\_author & post\\_date & ⋯ & post\\_name & post\\_modified & post\\_modified\\_gmt & post\\_content\\_filtered & post\\_parent & guid & menu\\_order & post\\_type & post\\_mime\\_type & comment\\_count\\\\\n",
       " <chr> & <dbl> & <dbl> & <dbl> & <dbl> & <dbl> & <chr> & <lgl> & <dbl> & <dttm> & ⋯ & <chr> & <dttm> & <dttm> & <lgl> & <dbl> & <chr> & <dbl> & <chr> & <chr> & <dbl>\\\\\n",
       "\\hline\n",
       "\t NA & 0 & 0 & 0 & NA & NA & NA & NA & NA & NA & ⋯ & NA & NA & NA & NA & NA & NA & NA & NA & NA & NA\\\\\n",
       "\t NA & 0 & 0 & 0 & NA & NA & NA & NA & NA & NA & ⋯ & NA & NA & NA & NA & NA & NA & NA & NA & NA & NA\\\\\n",
       "\t NA & 0 & 0 & 0 & NA & NA & NA & NA & NA & NA & ⋯ & NA & NA & NA & NA & NA & NA & NA & NA & NA & NA\\\\\n",
       "\t NA & 0 & 0 & 0 & NA & NA & NA & NA & NA & NA & ⋯ & NA & NA & NA & NA & NA & NA & NA & NA & NA & NA\\\\\n",
       "\t NA & 0 & 0 & 0 & NA & NA & NA & NA & NA & NA & ⋯ & NA & NA & NA & NA & NA & NA & NA & NA & NA & NA\\\\\n",
       "\t NA & 0 & 0 & 0 & NA & NA & NA & NA & NA & NA & ⋯ & NA & NA & NA & NA & NA & NA & NA & NA & NA & NA\\\\\n",
       "\\end{tabular}\n"
      ],
      "text/markdown": [
       "\n",
       "A tibble: 6 × 28\n",
       "\n",
       "| sku &lt;chr&gt; | virtual &lt;dbl&gt; | downloadable &lt;dbl&gt; | rating_count &lt;dbl&gt; | average_rating &lt;dbl&gt; | total_sales &lt;dbl&gt; | tax_status &lt;chr&gt; | tax_class &lt;lgl&gt; | post_author &lt;dbl&gt; | post_date &lt;dttm&gt; | ⋯ ⋯ | post_name &lt;chr&gt; | post_modified &lt;dttm&gt; | post_modified_gmt &lt;dttm&gt; | post_content_filtered &lt;lgl&gt; | post_parent &lt;dbl&gt; | guid &lt;chr&gt; | menu_order &lt;dbl&gt; | post_type &lt;chr&gt; | post_mime_type &lt;chr&gt; | comment_count &lt;dbl&gt; |\n",
       "|---|---|---|---|---|---|---|---|---|---|---|---|---|---|---|---|---|---|---|---|---|\n",
       "| NA | 0 | 0 | 0 | NA | NA | NA | NA | NA | NA | ⋯ | NA | NA | NA | NA | NA | NA | NA | NA | NA | NA |\n",
       "| NA | 0 | 0 | 0 | NA | NA | NA | NA | NA | NA | ⋯ | NA | NA | NA | NA | NA | NA | NA | NA | NA | NA |\n",
       "| NA | 0 | 0 | 0 | NA | NA | NA | NA | NA | NA | ⋯ | NA | NA | NA | NA | NA | NA | NA | NA | NA | NA |\n",
       "| NA | 0 | 0 | 0 | NA | NA | NA | NA | NA | NA | ⋯ | NA | NA | NA | NA | NA | NA | NA | NA | NA | NA |\n",
       "| NA | 0 | 0 | 0 | NA | NA | NA | NA | NA | NA | ⋯ | NA | NA | NA | NA | NA | NA | NA | NA | NA | NA |\n",
       "| NA | 0 | 0 | 0 | NA | NA | NA | NA | NA | NA | ⋯ | NA | NA | NA | NA | NA | NA | NA | NA | NA | NA |\n",
       "\n"
      ],
      "text/plain": [
       "  sku virtual downloadable rating_count average_rating total_sales tax_status\n",
       "1 NA  0       0            0            NA             NA          NA        \n",
       "2 NA  0       0            0            NA             NA          NA        \n",
       "3 NA  0       0            0            NA             NA          NA        \n",
       "4 NA  0       0            0            NA             NA          NA        \n",
       "5 NA  0       0            0            NA             NA          NA        \n",
       "6 NA  0       0            0            NA             NA          NA        \n",
       "  tax_class post_author post_date ⋯ post_name post_modified post_modified_gmt\n",
       "1 NA        NA          <NA>      ⋯ NA        <NA>          <NA>             \n",
       "2 NA        NA          <NA>      ⋯ NA        <NA>          <NA>             \n",
       "3 NA        NA          <NA>      ⋯ NA        <NA>          <NA>             \n",
       "4 NA        NA          <NA>      ⋯ NA        <NA>          <NA>             \n",
       "5 NA        NA          <NA>      ⋯ NA        <NA>          <NA>             \n",
       "6 NA        NA          <NA>      ⋯ NA        <NA>          <NA>             \n",
       "  post_content_filtered post_parent guid menu_order post_type post_mime_type\n",
       "1 NA                    NA          NA   NA         NA        NA            \n",
       "2 NA                    NA          NA   NA         NA        NA            \n",
       "3 NA                    NA          NA   NA         NA        NA            \n",
       "4 NA                    NA          NA   NA         NA        NA            \n",
       "5 NA                    NA          NA   NA         NA        NA            \n",
       "6 NA                    NA          NA   NA         NA        NA            \n",
       "  comment_count\n",
       "1 NA           \n",
       "2 NA           \n",
       "3 NA           \n",
       "4 NA           \n",
       "5 NA           \n",
       "6 NA           "
      ]
     },
     "metadata": {},
     "output_type": "display_data"
    }
   ],
   "source": [
    "# On observe les valeurs nulles détectées dans la colonnes sku\n",
    "recherche_null = df_web[is.na(df_web$sku),]\n",
    "\n",
    "# On observe\n",
    "print(dim(recherche_null))\n",
    "print(str(recherche_null))\n",
    "head(recherche_null)"
   ]
  },
  {
   "cell_type": "code",
   "execution_count": 10,
   "id": "enhanced-bishop",
   "metadata": {},
   "outputs": [
    {
     "name": "stdout",
     "output_type": "stream",
     "text": [
      "[1]  2 28\n"
     ]
    },
    {
     "data": {
      "text/html": [
       "<table class=\"dataframe\">\n",
       "<caption>A tibble: 2 × 28</caption>\n",
       "<thead>\n",
       "\t<tr><th scope=col>sku</th><th scope=col>virtual</th><th scope=col>downloadable</th><th scope=col>rating_count</th><th scope=col>average_rating</th><th scope=col>total_sales</th><th scope=col>tax_status</th><th scope=col>tax_class</th><th scope=col>post_author</th><th scope=col>post_date</th><th scope=col>⋯</th><th scope=col>post_name</th><th scope=col>post_modified</th><th scope=col>post_modified_gmt</th><th scope=col>post_content_filtered</th><th scope=col>post_parent</th><th scope=col>guid</th><th scope=col>menu_order</th><th scope=col>post_type</th><th scope=col>post_mime_type</th><th scope=col>comment_count</th></tr>\n",
       "\t<tr><th scope=col>&lt;chr&gt;</th><th scope=col>&lt;dbl&gt;</th><th scope=col>&lt;dbl&gt;</th><th scope=col>&lt;dbl&gt;</th><th scope=col>&lt;dbl&gt;</th><th scope=col>&lt;dbl&gt;</th><th scope=col>&lt;chr&gt;</th><th scope=col>&lt;lgl&gt;</th><th scope=col>&lt;dbl&gt;</th><th scope=col>&lt;dttm&gt;</th><th scope=col>⋯</th><th scope=col>&lt;chr&gt;</th><th scope=col>&lt;dttm&gt;</th><th scope=col>&lt;dttm&gt;</th><th scope=col>&lt;lgl&gt;</th><th scope=col>&lt;dbl&gt;</th><th scope=col>&lt;chr&gt;</th><th scope=col>&lt;dbl&gt;</th><th scope=col>&lt;chr&gt;</th><th scope=col>&lt;chr&gt;</th><th scope=col>&lt;dbl&gt;</th></tr>\n",
       "</thead>\n",
       "<tbody>\n",
       "\t<tr><td>NA</td><td>0</td><td>0</td><td>0</td><td>0</td><td>0</td><td>taxable</td><td>NA</td><td>2</td><td>2018-07-31 12:07:23</td><td>⋯</td><td>pierre-jean-villa-cote-rotie-fongeant-2017</td><td>2019-11-02 13:24:15</td><td>2019-11-02 12:24:15</td><td>NA</td><td>0</td><td>https://www.bottle-neck.fr/?post_type=product&amp;#038;p=5070</td><td>0</td><td>product</td><td>NA</td><td>0</td></tr>\n",
       "\t<tr><td>NA</td><td>0</td><td>0</td><td>0</td><td>0</td><td>0</td><td>taxable</td><td>NA</td><td>2</td><td>2018-08-08 11:23:43</td><td>⋯</td><td><span style=white-space:pre-wrap>pierre-jean-villa-condrieu-suspendu-2018  </span></td><td>2019-11-02 13:24:01</td><td>2019-11-02 12:24:01</td><td>NA</td><td>0</td><td>https://www.bottle-neck.fr/?post_type=product&amp;#038;p=5075</td><td>0</td><td>product</td><td>NA</td><td>0</td></tr>\n",
       "</tbody>\n",
       "</table>\n"
      ],
      "text/latex": [
       "A tibble: 2 × 28\n",
       "\\begin{tabular}{lllllllllllllllllllll}\n",
       " sku & virtual & downloadable & rating\\_count & average\\_rating & total\\_sales & tax\\_status & tax\\_class & post\\_author & post\\_date & ⋯ & post\\_name & post\\_modified & post\\_modified\\_gmt & post\\_content\\_filtered & post\\_parent & guid & menu\\_order & post\\_type & post\\_mime\\_type & comment\\_count\\\\\n",
       " <chr> & <dbl> & <dbl> & <dbl> & <dbl> & <dbl> & <chr> & <lgl> & <dbl> & <dttm> & ⋯ & <chr> & <dttm> & <dttm> & <lgl> & <dbl> & <chr> & <dbl> & <chr> & <chr> & <dbl>\\\\\n",
       "\\hline\n",
       "\t NA & 0 & 0 & 0 & 0 & 0 & taxable & NA & 2 & 2018-07-31 12:07:23 & ⋯ & pierre-jean-villa-cote-rotie-fongeant-2017 & 2019-11-02 13:24:15 & 2019-11-02 12:24:15 & NA & 0 & https://www.bottle-neck.fr/?post\\_type=product\\&\\#038;p=5070 & 0 & product & NA & 0\\\\\n",
       "\t NA & 0 & 0 & 0 & 0 & 0 & taxable & NA & 2 & 2018-08-08 11:23:43 & ⋯ & pierre-jean-villa-condrieu-suspendu-2018   & 2019-11-02 13:24:01 & 2019-11-02 12:24:01 & NA & 0 & https://www.bottle-neck.fr/?post\\_type=product\\&\\#038;p=5075 & 0 & product & NA & 0\\\\\n",
       "\\end{tabular}\n"
      ],
      "text/markdown": [
       "\n",
       "A tibble: 2 × 28\n",
       "\n",
       "| sku &lt;chr&gt; | virtual &lt;dbl&gt; | downloadable &lt;dbl&gt; | rating_count &lt;dbl&gt; | average_rating &lt;dbl&gt; | total_sales &lt;dbl&gt; | tax_status &lt;chr&gt; | tax_class &lt;lgl&gt; | post_author &lt;dbl&gt; | post_date &lt;dttm&gt; | ⋯ ⋯ | post_name &lt;chr&gt; | post_modified &lt;dttm&gt; | post_modified_gmt &lt;dttm&gt; | post_content_filtered &lt;lgl&gt; | post_parent &lt;dbl&gt; | guid &lt;chr&gt; | menu_order &lt;dbl&gt; | post_type &lt;chr&gt; | post_mime_type &lt;chr&gt; | comment_count &lt;dbl&gt; |\n",
       "|---|---|---|---|---|---|---|---|---|---|---|---|---|---|---|---|---|---|---|---|---|\n",
       "| NA | 0 | 0 | 0 | 0 | 0 | taxable | NA | 2 | 2018-07-31 12:07:23 | ⋯ | pierre-jean-villa-cote-rotie-fongeant-2017 | 2019-11-02 13:24:15 | 2019-11-02 12:24:15 | NA | 0 | https://www.bottle-neck.fr/?post_type=product&amp;#038;p=5070 | 0 | product | NA | 0 |\n",
       "| NA | 0 | 0 | 0 | 0 | 0 | taxable | NA | 2 | 2018-08-08 11:23:43 | ⋯ | pierre-jean-villa-condrieu-suspendu-2018   | 2019-11-02 13:24:01 | 2019-11-02 12:24:01 | NA | 0 | https://www.bottle-neck.fr/?post_type=product&amp;#038;p=5075 | 0 | product | NA | 0 |\n",
       "\n"
      ],
      "text/plain": [
       "  sku virtual downloadable rating_count average_rating total_sales tax_status\n",
       "1 NA  0       0            0            0              0           taxable   \n",
       "2 NA  0       0            0            0              0           taxable   \n",
       "  tax_class post_author post_date           ⋯\n",
       "1 NA        2           2018-07-31 12:07:23 ⋯\n",
       "2 NA        2           2018-08-08 11:23:43 ⋯\n",
       "  post_name                                  post_modified      \n",
       "1 pierre-jean-villa-cote-rotie-fongeant-2017 2019-11-02 13:24:15\n",
       "2 pierre-jean-villa-condrieu-suspendu-2018   2019-11-02 13:24:01\n",
       "  post_modified_gmt   post_content_filtered post_parent\n",
       "1 2019-11-02 12:24:15 NA                    0          \n",
       "2 2019-11-02 12:24:01 NA                    0          \n",
       "  guid                                                      menu_order\n",
       "1 https://www.bottle-neck.fr/?post_type=product&#038;p=5070 0         \n",
       "2 https://www.bottle-neck.fr/?post_type=product&#038;p=5075 0         \n",
       "  post_type post_mime_type comment_count\n",
       "1 product   NA             0            \n",
       "2 product   NA             0            "
      ]
     },
     "metadata": {},
     "output_type": "display_data"
    }
   ],
   "source": [
    "# On observe les lignes dont le post_name n'est pas nul\n",
    "observation = recherche_null[!is.na(recherche_null$post_name),]\n",
    "\n",
    "# On observe\n",
    "print(dim(observation))\n",
    "head(observation)"
   ]
  },
  {
   "cell_type": "code",
   "execution_count": 11,
   "id": "damaged-seller",
   "metadata": {},
   "outputs": [
    {
     "name": "stdout",
     "output_type": "stream",
     "text": [
      "[1] 1428   28\n",
      "tibble [1,428 × 28] (S3: tbl_df/tbl/data.frame)\n",
      " $ sku                  : chr [1:1428] \"bon-cadeau-25-euros\" \"15298\" \"15296\" \"15300\" ...\n",
      " $ virtual              : num [1:1428] 0 0 0 0 0 0 0 0 0 0 ...\n",
      " $ downloadable         : num [1:1428] 0 0 0 0 0 0 0 0 0 0 ...\n",
      " $ rating_count         : num [1:1428] 0 0 0 0 0 0 0 0 0 0 ...\n",
      " $ average_rating       : num [1:1428] 0 0 0 0 0 0 0 0 0 0 ...\n",
      " $ total_sales          : num [1:1428] 10 6 0 0 3 0 0 0 7 3 ...\n",
      " $ tax_status           : chr [1:1428] \"taxable\" \"taxable\" \"taxable\" \"taxable\" ...\n",
      " $ tax_class            : logi [1:1428] NA NA NA NA NA NA ...\n",
      " $ post_author          : num [1:1428] 1 2 2 2 2 2 2 2 2 2 ...\n",
      " $ post_date            : POSIXct[1:1428], format: \"2018-06-01 13:53:46\" \"2018-02-08 12:58:52\" ...\n",
      " $ post_date_gmt        : POSIXct[1:1428], format: \"2018-06-01 11:53:46\" \"2018-02-08 11:58:52\" ...\n",
      " $ post_content         : logi [1:1428] NA NA NA NA NA NA ...\n",
      " $ post_title           : chr [1:1428] \"Bon cadeau de 25€\" \"Pierre Jean Villa Saint-Joseph Préface 2018\" \"Pierre Jean Villa Saint-Joseph Rouge Tildé 2017\" \"Pierre Jean Villa Crozes-Hermitage Accroche Coeur 2018\" ...\n",
      " $ post_excerpt         : chr [1:1428] \"<span style=\\\"color: #a85253;\\\"><strong>Parlons peu, parlons vin.</strong>\\r\\n<strong>Parlons cadeau !</strong>\"| __truncated__ \"Il exhale un nez subtil, racé avec du poivre fin et de la tourbe. La bouche est une caresse grâce à des tanins \"| __truncated__ \"Les vieilles vignes lui apportent une rare profondeur. L’attaque affiche de l’élégance. La bouche est portée pa\"| __truncated__ \"Dentelle de fruit de jeunes syrah, aux tanins légers et épicés. Hyper digeste. Un délice.\" ...\n",
      " $ post_status          : chr [1:1428] \"publish\" \"publish\" \"publish\" \"publish\" ...\n",
      " $ comment_status       : chr [1:1428] \"closed\" \"closed\" \"closed\" \"closed\" ...\n",
      " $ ping_status          : chr [1:1428] \"closed\" \"closed\" \"closed\" \"closed\" ...\n",
      " $ post_password        : logi [1:1428] NA NA NA NA NA NA ...\n",
      " $ post_name            : chr [1:1428] \"bon-cadeau-de-25-euros\" \"pierre-jean-villa-saint-joseph-preface-2018\" \"pierre-jean-villa-saint-joseph-tilde-2017\" \"pierre-jean-villa-croze-hermitage-accroche-coeur-2018\" ...\n",
      " $ post_modified        : POSIXct[1:1428], format: \"2018-06-01 14:13:57\" \"2019-12-30 09:30:29\" ...\n",
      " $ post_modified_gmt    : POSIXct[1:1428], format: \"2018-06-01 12:13:57\" \"2019-12-30 08:30:29\" ...\n",
      " $ post_content_filtered: logi [1:1428] NA NA NA NA NA NA ...\n",
      " $ post_parent          : num [1:1428] 0 0 0 0 0 0 0 0 0 0 ...\n",
      " $ guid                 : chr [1:1428] \"https://www.bottle-neck.fr/?post_type=product&#038;p=4954\" \"https://www.bottle-neck.fr/?post_type=product&#038;p=3847\" \"https://www.bottle-neck.fr/?post_type=product&#038;p=3849\" \"https://www.bottle-neck.fr/?post_type=product&#038;p=3850\" ...\n",
      " $ menu_order           : num [1:1428] 0 0 0 0 0 0 0 0 0 0 ...\n",
      " $ post_type            : chr [1:1428] \"product\" \"product\" \"product\" \"product\" ...\n",
      " $ post_mime_type       : chr [1:1428] NA NA NA NA ...\n",
      " $ comment_count        : num [1:1428] 0 0 0 0 0 0 0 0 0 0 ...\n",
      "NULL\n"
     ]
    },
    {
     "data": {
      "text/html": [
       "<table class=\"dataframe\">\n",
       "<caption>A tibble: 6 × 28</caption>\n",
       "<thead>\n",
       "\t<tr><th scope=col>sku</th><th scope=col>virtual</th><th scope=col>downloadable</th><th scope=col>rating_count</th><th scope=col>average_rating</th><th scope=col>total_sales</th><th scope=col>tax_status</th><th scope=col>tax_class</th><th scope=col>post_author</th><th scope=col>post_date</th><th scope=col>⋯</th><th scope=col>post_name</th><th scope=col>post_modified</th><th scope=col>post_modified_gmt</th><th scope=col>post_content_filtered</th><th scope=col>post_parent</th><th scope=col>guid</th><th scope=col>menu_order</th><th scope=col>post_type</th><th scope=col>post_mime_type</th><th scope=col>comment_count</th></tr>\n",
       "\t<tr><th scope=col>&lt;chr&gt;</th><th scope=col>&lt;dbl&gt;</th><th scope=col>&lt;dbl&gt;</th><th scope=col>&lt;dbl&gt;</th><th scope=col>&lt;dbl&gt;</th><th scope=col>&lt;dbl&gt;</th><th scope=col>&lt;chr&gt;</th><th scope=col>&lt;lgl&gt;</th><th scope=col>&lt;dbl&gt;</th><th scope=col>&lt;dttm&gt;</th><th scope=col>⋯</th><th scope=col>&lt;chr&gt;</th><th scope=col>&lt;dttm&gt;</th><th scope=col>&lt;dttm&gt;</th><th scope=col>&lt;lgl&gt;</th><th scope=col>&lt;dbl&gt;</th><th scope=col>&lt;chr&gt;</th><th scope=col>&lt;dbl&gt;</th><th scope=col>&lt;chr&gt;</th><th scope=col>&lt;chr&gt;</th><th scope=col>&lt;dbl&gt;</th></tr>\n",
       "</thead>\n",
       "<tbody>\n",
       "\t<tr><td>bon-cadeau-25-euros</td><td>0</td><td>0</td><td>0</td><td>0</td><td>10</td><td>taxable</td><td>NA</td><td>1</td><td>2018-06-01 13:53:46</td><td>⋯</td><td><span style=white-space:pre-wrap>bon-cadeau-de-25-euros                               </span></td><td>2018-06-01 14:13:57</td><td>2018-06-01 12:13:57</td><td>NA</td><td>0</td><td>https://www.bottle-neck.fr/?post_type=product&amp;#038;p=4954</td><td>0</td><td>product</td><td>NA</td><td>0</td></tr>\n",
       "\t<tr><td><span style=white-space:pre-wrap>15298              </span></td><td>0</td><td>0</td><td>0</td><td>0</td><td> 6</td><td>taxable</td><td>NA</td><td>2</td><td>2018-02-08 12:58:52</td><td>⋯</td><td><span style=white-space:pre-wrap>pierre-jean-villa-saint-joseph-preface-2018          </span></td><td>2019-12-30 09:30:29</td><td>2019-12-30 08:30:29</td><td>NA</td><td>0</td><td>https://www.bottle-neck.fr/?post_type=product&amp;#038;p=3847</td><td>0</td><td>product</td><td>NA</td><td>0</td></tr>\n",
       "\t<tr><td><span style=white-space:pre-wrap>15296              </span></td><td>0</td><td>0</td><td>0</td><td>0</td><td> 0</td><td>taxable</td><td>NA</td><td>2</td><td>2018-02-08 13:49:41</td><td>⋯</td><td><span style=white-space:pre-wrap>pierre-jean-villa-saint-joseph-tilde-2017            </span></td><td>2019-12-21 09:00:17</td><td>2019-12-21 08:00:17</td><td>NA</td><td>0</td><td>https://www.bottle-neck.fr/?post_type=product&amp;#038;p=3849</td><td>0</td><td>product</td><td>NA</td><td>0</td></tr>\n",
       "\t<tr><td><span style=white-space:pre-wrap>15300              </span></td><td>0</td><td>0</td><td>0</td><td>0</td><td> 0</td><td>taxable</td><td>NA</td><td>2</td><td>2018-02-08 14:08:36</td><td>⋯</td><td>pierre-jean-villa-croze-hermitage-accroche-coeur-2018</td><td>2020-06-26 18:15:03</td><td>2020-06-26 16:15:03</td><td>NA</td><td>0</td><td>https://www.bottle-neck.fr/?post_type=product&amp;#038;p=3850</td><td>0</td><td>product</td><td>NA</td><td>0</td></tr>\n",
       "\t<tr><td><span style=white-space:pre-wrap>19814              </span></td><td>0</td><td>0</td><td>0</td><td>0</td><td> 3</td><td>taxable</td><td>NA</td><td>2</td><td>2018-02-09 14:01:05</td><td>⋯</td><td><span style=white-space:pre-wrap>pierre-jean-villa-igp-gamine-2018                    </span></td><td>2020-01-04 16:36:01</td><td>2020-01-04 15:36:01</td><td>NA</td><td>0</td><td>https://www.bottle-neck.fr/?post_type=product&amp;#038;p=4032</td><td>0</td><td>product</td><td>NA</td><td>0</td></tr>\n",
       "\t<tr><td><span style=white-space:pre-wrap>19815              </span></td><td>0</td><td>0</td><td>0</td><td>0</td><td> 0</td><td>taxable</td><td>NA</td><td>2</td><td>2018-02-12 09:04:37</td><td>⋯</td><td><span style=white-space:pre-wrap>pierre-jean-villa-cote-rotie-carmina-2017            </span></td><td>2020-01-04 16:36:10</td><td>2020-01-04 15:36:10</td><td>NA</td><td>0</td><td>https://www.bottle-neck.fr/?post_type=product&amp;#038;p=4039</td><td>0</td><td>product</td><td>NA</td><td>0</td></tr>\n",
       "</tbody>\n",
       "</table>\n"
      ],
      "text/latex": [
       "A tibble: 6 × 28\n",
       "\\begin{tabular}{lllllllllllllllllllll}\n",
       " sku & virtual & downloadable & rating\\_count & average\\_rating & total\\_sales & tax\\_status & tax\\_class & post\\_author & post\\_date & ⋯ & post\\_name & post\\_modified & post\\_modified\\_gmt & post\\_content\\_filtered & post\\_parent & guid & menu\\_order & post\\_type & post\\_mime\\_type & comment\\_count\\\\\n",
       " <chr> & <dbl> & <dbl> & <dbl> & <dbl> & <dbl> & <chr> & <lgl> & <dbl> & <dttm> & ⋯ & <chr> & <dttm> & <dttm> & <lgl> & <dbl> & <chr> & <dbl> & <chr> & <chr> & <dbl>\\\\\n",
       "\\hline\n",
       "\t bon-cadeau-25-euros & 0 & 0 & 0 & 0 & 10 & taxable & NA & 1 & 2018-06-01 13:53:46 & ⋯ & bon-cadeau-de-25-euros                                & 2018-06-01 14:13:57 & 2018-06-01 12:13:57 & NA & 0 & https://www.bottle-neck.fr/?post\\_type=product\\&\\#038;p=4954 & 0 & product & NA & 0\\\\\n",
       "\t 15298               & 0 & 0 & 0 & 0 &  6 & taxable & NA & 2 & 2018-02-08 12:58:52 & ⋯ & pierre-jean-villa-saint-joseph-preface-2018           & 2019-12-30 09:30:29 & 2019-12-30 08:30:29 & NA & 0 & https://www.bottle-neck.fr/?post\\_type=product\\&\\#038;p=3847 & 0 & product & NA & 0\\\\\n",
       "\t 15296               & 0 & 0 & 0 & 0 &  0 & taxable & NA & 2 & 2018-02-08 13:49:41 & ⋯ & pierre-jean-villa-saint-joseph-tilde-2017             & 2019-12-21 09:00:17 & 2019-12-21 08:00:17 & NA & 0 & https://www.bottle-neck.fr/?post\\_type=product\\&\\#038;p=3849 & 0 & product & NA & 0\\\\\n",
       "\t 15300               & 0 & 0 & 0 & 0 &  0 & taxable & NA & 2 & 2018-02-08 14:08:36 & ⋯ & pierre-jean-villa-croze-hermitage-accroche-coeur-2018 & 2020-06-26 18:15:03 & 2020-06-26 16:15:03 & NA & 0 & https://www.bottle-neck.fr/?post\\_type=product\\&\\#038;p=3850 & 0 & product & NA & 0\\\\\n",
       "\t 19814               & 0 & 0 & 0 & 0 &  3 & taxable & NA & 2 & 2018-02-09 14:01:05 & ⋯ & pierre-jean-villa-igp-gamine-2018                     & 2020-01-04 16:36:01 & 2020-01-04 15:36:01 & NA & 0 & https://www.bottle-neck.fr/?post\\_type=product\\&\\#038;p=4032 & 0 & product & NA & 0\\\\\n",
       "\t 19815               & 0 & 0 & 0 & 0 &  0 & taxable & NA & 2 & 2018-02-12 09:04:37 & ⋯ & pierre-jean-villa-cote-rotie-carmina-2017             & 2020-01-04 16:36:10 & 2020-01-04 15:36:10 & NA & 0 & https://www.bottle-neck.fr/?post\\_type=product\\&\\#038;p=4039 & 0 & product & NA & 0\\\\\n",
       "\\end{tabular}\n"
      ],
      "text/markdown": [
       "\n",
       "A tibble: 6 × 28\n",
       "\n",
       "| sku &lt;chr&gt; | virtual &lt;dbl&gt; | downloadable &lt;dbl&gt; | rating_count &lt;dbl&gt; | average_rating &lt;dbl&gt; | total_sales &lt;dbl&gt; | tax_status &lt;chr&gt; | tax_class &lt;lgl&gt; | post_author &lt;dbl&gt; | post_date &lt;dttm&gt; | ⋯ ⋯ | post_name &lt;chr&gt; | post_modified &lt;dttm&gt; | post_modified_gmt &lt;dttm&gt; | post_content_filtered &lt;lgl&gt; | post_parent &lt;dbl&gt; | guid &lt;chr&gt; | menu_order &lt;dbl&gt; | post_type &lt;chr&gt; | post_mime_type &lt;chr&gt; | comment_count &lt;dbl&gt; |\n",
       "|---|---|---|---|---|---|---|---|---|---|---|---|---|---|---|---|---|---|---|---|---|\n",
       "| bon-cadeau-25-euros | 0 | 0 | 0 | 0 | 10 | taxable | NA | 1 | 2018-06-01 13:53:46 | ⋯ | bon-cadeau-de-25-euros                                | 2018-06-01 14:13:57 | 2018-06-01 12:13:57 | NA | 0 | https://www.bottle-neck.fr/?post_type=product&amp;#038;p=4954 | 0 | product | NA | 0 |\n",
       "| 15298               | 0 | 0 | 0 | 0 |  6 | taxable | NA | 2 | 2018-02-08 12:58:52 | ⋯ | pierre-jean-villa-saint-joseph-preface-2018           | 2019-12-30 09:30:29 | 2019-12-30 08:30:29 | NA | 0 | https://www.bottle-neck.fr/?post_type=product&amp;#038;p=3847 | 0 | product | NA | 0 |\n",
       "| 15296               | 0 | 0 | 0 | 0 |  0 | taxable | NA | 2 | 2018-02-08 13:49:41 | ⋯ | pierre-jean-villa-saint-joseph-tilde-2017             | 2019-12-21 09:00:17 | 2019-12-21 08:00:17 | NA | 0 | https://www.bottle-neck.fr/?post_type=product&amp;#038;p=3849 | 0 | product | NA | 0 |\n",
       "| 15300               | 0 | 0 | 0 | 0 |  0 | taxable | NA | 2 | 2018-02-08 14:08:36 | ⋯ | pierre-jean-villa-croze-hermitage-accroche-coeur-2018 | 2020-06-26 18:15:03 | 2020-06-26 16:15:03 | NA | 0 | https://www.bottle-neck.fr/?post_type=product&amp;#038;p=3850 | 0 | product | NA | 0 |\n",
       "| 19814               | 0 | 0 | 0 | 0 |  3 | taxable | NA | 2 | 2018-02-09 14:01:05 | ⋯ | pierre-jean-villa-igp-gamine-2018                     | 2020-01-04 16:36:01 | 2020-01-04 15:36:01 | NA | 0 | https://www.bottle-neck.fr/?post_type=product&amp;#038;p=4032 | 0 | product | NA | 0 |\n",
       "| 19815               | 0 | 0 | 0 | 0 |  0 | taxable | NA | 2 | 2018-02-12 09:04:37 | ⋯ | pierre-jean-villa-cote-rotie-carmina-2017             | 2020-01-04 16:36:10 | 2020-01-04 15:36:10 | NA | 0 | https://www.bottle-neck.fr/?post_type=product&amp;#038;p=4039 | 0 | product | NA | 0 |\n",
       "\n"
      ],
      "text/plain": [
       "  sku                 virtual downloadable rating_count average_rating\n",
       "1 bon-cadeau-25-euros 0       0            0            0             \n",
       "2 15298               0       0            0            0             \n",
       "3 15296               0       0            0            0             \n",
       "4 15300               0       0            0            0             \n",
       "5 19814               0       0            0            0             \n",
       "6 19815               0       0            0            0             \n",
       "  total_sales tax_status tax_class post_author post_date           ⋯\n",
       "1 10          taxable    NA        1           2018-06-01 13:53:46 ⋯\n",
       "2  6          taxable    NA        2           2018-02-08 12:58:52 ⋯\n",
       "3  0          taxable    NA        2           2018-02-08 13:49:41 ⋯\n",
       "4  0          taxable    NA        2           2018-02-08 14:08:36 ⋯\n",
       "5  3          taxable    NA        2           2018-02-09 14:01:05 ⋯\n",
       "6  0          taxable    NA        2           2018-02-12 09:04:37 ⋯\n",
       "  post_name                                             post_modified      \n",
       "1 bon-cadeau-de-25-euros                                2018-06-01 14:13:57\n",
       "2 pierre-jean-villa-saint-joseph-preface-2018           2019-12-30 09:30:29\n",
       "3 pierre-jean-villa-saint-joseph-tilde-2017             2019-12-21 09:00:17\n",
       "4 pierre-jean-villa-croze-hermitage-accroche-coeur-2018 2020-06-26 18:15:03\n",
       "5 pierre-jean-villa-igp-gamine-2018                     2020-01-04 16:36:01\n",
       "6 pierre-jean-villa-cote-rotie-carmina-2017             2020-01-04 16:36:10\n",
       "  post_modified_gmt   post_content_filtered post_parent\n",
       "1 2018-06-01 12:13:57 NA                    0          \n",
       "2 2019-12-30 08:30:29 NA                    0          \n",
       "3 2019-12-21 08:00:17 NA                    0          \n",
       "4 2020-06-26 16:15:03 NA                    0          \n",
       "5 2020-01-04 15:36:01 NA                    0          \n",
       "6 2020-01-04 15:36:10 NA                    0          \n",
       "  guid                                                      menu_order\n",
       "1 https://www.bottle-neck.fr/?post_type=product&#038;p=4954 0         \n",
       "2 https://www.bottle-neck.fr/?post_type=product&#038;p=3847 0         \n",
       "3 https://www.bottle-neck.fr/?post_type=product&#038;p=3849 0         \n",
       "4 https://www.bottle-neck.fr/?post_type=product&#038;p=3850 0         \n",
       "5 https://www.bottle-neck.fr/?post_type=product&#038;p=4032 0         \n",
       "6 https://www.bottle-neck.fr/?post_type=product&#038;p=4039 0         \n",
       "  post_type post_mime_type comment_count\n",
       "1 product   NA             0            \n",
       "2 product   NA             0            \n",
       "3 product   NA             0            \n",
       "4 product   NA             0            \n",
       "5 product   NA             0            \n",
       "6 product   NA             0            "
      ]
     },
     "metadata": {},
     "output_type": "display_data"
    }
   ],
   "source": [
    "df_web_without_null = df_web[!is.na(df_web$sku),]\n",
    "\n",
    "# On observe\n",
    "print(dim(df_web_without_null))\n",
    "print(str(df_web_without_null))\n",
    "head(df_web_without_null)"
   ]
  },
  {
   "cell_type": "code",
   "execution_count": 12,
   "id": "superb-significance",
   "metadata": {},
   "outputs": [
    {
     "name": "stdout",
     "output_type": "stream",
     "text": [
      "[1] \"La clé est présente plusieurs fois dans le dataframe.\"\n",
      "[1] \"Elle ne peut donc pas être utilisée comme clé primaire.\"\n",
      "[1] \"Le dataframe est de la forme : (1428,28) (lignes, colonnes)\"\n"
     ]
    }
   ],
   "source": [
    "# On teste l'unicité de la clé primaire\n",
    "testerCle(df_web_without_null, c('sku'))"
   ]
  },
  {
   "cell_type": "code",
   "execution_count": 13,
   "id": "automated-trustee",
   "metadata": {},
   "outputs": [
    {
     "name": "stdout",
     "output_type": "stream",
     "text": [
      "[1] 714  28\n"
     ]
    },
    {
     "data": {
      "text/html": [
       "<table class=\"dataframe\">\n",
       "<caption>A tibble: 6 × 28</caption>\n",
       "<thead>\n",
       "\t<tr><th scope=col>sku</th><th scope=col>virtual</th><th scope=col>downloadable</th><th scope=col>rating_count</th><th scope=col>average_rating</th><th scope=col>total_sales</th><th scope=col>tax_status</th><th scope=col>tax_class</th><th scope=col>post_author</th><th scope=col>post_date</th><th scope=col>⋯</th><th scope=col>post_name</th><th scope=col>post_modified</th><th scope=col>post_modified_gmt</th><th scope=col>post_content_filtered</th><th scope=col>post_parent</th><th scope=col>guid</th><th scope=col>menu_order</th><th scope=col>post_type</th><th scope=col>post_mime_type</th><th scope=col>comment_count</th></tr>\n",
       "\t<tr><th scope=col>&lt;chr&gt;</th><th scope=col>&lt;dbl&gt;</th><th scope=col>&lt;dbl&gt;</th><th scope=col>&lt;dbl&gt;</th><th scope=col>&lt;dbl&gt;</th><th scope=col>&lt;dbl&gt;</th><th scope=col>&lt;chr&gt;</th><th scope=col>&lt;lgl&gt;</th><th scope=col>&lt;dbl&gt;</th><th scope=col>&lt;dttm&gt;</th><th scope=col>⋯</th><th scope=col>&lt;chr&gt;</th><th scope=col>&lt;dttm&gt;</th><th scope=col>&lt;dttm&gt;</th><th scope=col>&lt;lgl&gt;</th><th scope=col>&lt;dbl&gt;</th><th scope=col>&lt;chr&gt;</th><th scope=col>&lt;dbl&gt;</th><th scope=col>&lt;chr&gt;</th><th scope=col>&lt;chr&gt;</th><th scope=col>&lt;dbl&gt;</th></tr>\n",
       "</thead>\n",
       "<tbody>\n",
       "\t<tr><td>bon-cadeau-25-euros</td><td>0</td><td>0</td><td>0</td><td>0</td><td>10</td><td>taxable</td><td>NA</td><td>1</td><td>2018-06-01 13:53:46</td><td>⋯</td><td><span style=white-space:pre-wrap>bon-cadeau-de-25-euros                               </span></td><td>2018-06-01 14:13:57</td><td>2018-06-01 12:13:57</td><td>NA</td><td>0</td><td>https://www.bottle-neck.fr/?post_type=product&amp;#038;p=4954</td><td>0</td><td>product</td><td>NA</td><td>0</td></tr>\n",
       "\t<tr><td><span style=white-space:pre-wrap>15298              </span></td><td>0</td><td>0</td><td>0</td><td>0</td><td> 6</td><td>taxable</td><td>NA</td><td>2</td><td>2018-02-08 12:58:52</td><td>⋯</td><td><span style=white-space:pre-wrap>pierre-jean-villa-saint-joseph-preface-2018          </span></td><td>2019-12-30 09:30:29</td><td>2019-12-30 08:30:29</td><td>NA</td><td>0</td><td>https://www.bottle-neck.fr/?post_type=product&amp;#038;p=3847</td><td>0</td><td>product</td><td>NA</td><td>0</td></tr>\n",
       "\t<tr><td><span style=white-space:pre-wrap>15296              </span></td><td>0</td><td>0</td><td>0</td><td>0</td><td> 0</td><td>taxable</td><td>NA</td><td>2</td><td>2018-02-08 13:49:41</td><td>⋯</td><td><span style=white-space:pre-wrap>pierre-jean-villa-saint-joseph-tilde-2017            </span></td><td>2019-12-21 09:00:17</td><td>2019-12-21 08:00:17</td><td>NA</td><td>0</td><td>https://www.bottle-neck.fr/?post_type=product&amp;#038;p=3849</td><td>0</td><td>product</td><td>NA</td><td>0</td></tr>\n",
       "\t<tr><td><span style=white-space:pre-wrap>15300              </span></td><td>0</td><td>0</td><td>0</td><td>0</td><td> 0</td><td>taxable</td><td>NA</td><td>2</td><td>2018-02-08 14:08:36</td><td>⋯</td><td>pierre-jean-villa-croze-hermitage-accroche-coeur-2018</td><td>2020-06-26 18:15:03</td><td>2020-06-26 16:15:03</td><td>NA</td><td>0</td><td>https://www.bottle-neck.fr/?post_type=product&amp;#038;p=3850</td><td>0</td><td>product</td><td>NA</td><td>0</td></tr>\n",
       "\t<tr><td><span style=white-space:pre-wrap>19814              </span></td><td>0</td><td>0</td><td>0</td><td>0</td><td> 3</td><td>taxable</td><td>NA</td><td>2</td><td>2018-02-09 14:01:05</td><td>⋯</td><td><span style=white-space:pre-wrap>pierre-jean-villa-igp-gamine-2018                    </span></td><td>2020-01-04 16:36:01</td><td>2020-01-04 15:36:01</td><td>NA</td><td>0</td><td>https://www.bottle-neck.fr/?post_type=product&amp;#038;p=4032</td><td>0</td><td>product</td><td>NA</td><td>0</td></tr>\n",
       "\t<tr><td><span style=white-space:pre-wrap>19815              </span></td><td>0</td><td>0</td><td>0</td><td>0</td><td> 0</td><td>taxable</td><td>NA</td><td>2</td><td>2018-02-12 09:04:37</td><td>⋯</td><td><span style=white-space:pre-wrap>pierre-jean-villa-cote-rotie-carmina-2017            </span></td><td>2020-01-04 16:36:10</td><td>2020-01-04 15:36:10</td><td>NA</td><td>0</td><td>https://www.bottle-neck.fr/?post_type=product&amp;#038;p=4039</td><td>0</td><td>product</td><td>NA</td><td>0</td></tr>\n",
       "</tbody>\n",
       "</table>\n"
      ],
      "text/latex": [
       "A tibble: 6 × 28\n",
       "\\begin{tabular}{lllllllllllllllllllll}\n",
       " sku & virtual & downloadable & rating\\_count & average\\_rating & total\\_sales & tax\\_status & tax\\_class & post\\_author & post\\_date & ⋯ & post\\_name & post\\_modified & post\\_modified\\_gmt & post\\_content\\_filtered & post\\_parent & guid & menu\\_order & post\\_type & post\\_mime\\_type & comment\\_count\\\\\n",
       " <chr> & <dbl> & <dbl> & <dbl> & <dbl> & <dbl> & <chr> & <lgl> & <dbl> & <dttm> & ⋯ & <chr> & <dttm> & <dttm> & <lgl> & <dbl> & <chr> & <dbl> & <chr> & <chr> & <dbl>\\\\\n",
       "\\hline\n",
       "\t bon-cadeau-25-euros & 0 & 0 & 0 & 0 & 10 & taxable & NA & 1 & 2018-06-01 13:53:46 & ⋯ & bon-cadeau-de-25-euros                                & 2018-06-01 14:13:57 & 2018-06-01 12:13:57 & NA & 0 & https://www.bottle-neck.fr/?post\\_type=product\\&\\#038;p=4954 & 0 & product & NA & 0\\\\\n",
       "\t 15298               & 0 & 0 & 0 & 0 &  6 & taxable & NA & 2 & 2018-02-08 12:58:52 & ⋯ & pierre-jean-villa-saint-joseph-preface-2018           & 2019-12-30 09:30:29 & 2019-12-30 08:30:29 & NA & 0 & https://www.bottle-neck.fr/?post\\_type=product\\&\\#038;p=3847 & 0 & product & NA & 0\\\\\n",
       "\t 15296               & 0 & 0 & 0 & 0 &  0 & taxable & NA & 2 & 2018-02-08 13:49:41 & ⋯ & pierre-jean-villa-saint-joseph-tilde-2017             & 2019-12-21 09:00:17 & 2019-12-21 08:00:17 & NA & 0 & https://www.bottle-neck.fr/?post\\_type=product\\&\\#038;p=3849 & 0 & product & NA & 0\\\\\n",
       "\t 15300               & 0 & 0 & 0 & 0 &  0 & taxable & NA & 2 & 2018-02-08 14:08:36 & ⋯ & pierre-jean-villa-croze-hermitage-accroche-coeur-2018 & 2020-06-26 18:15:03 & 2020-06-26 16:15:03 & NA & 0 & https://www.bottle-neck.fr/?post\\_type=product\\&\\#038;p=3850 & 0 & product & NA & 0\\\\\n",
       "\t 19814               & 0 & 0 & 0 & 0 &  3 & taxable & NA & 2 & 2018-02-09 14:01:05 & ⋯ & pierre-jean-villa-igp-gamine-2018                     & 2020-01-04 16:36:01 & 2020-01-04 15:36:01 & NA & 0 & https://www.bottle-neck.fr/?post\\_type=product\\&\\#038;p=4032 & 0 & product & NA & 0\\\\\n",
       "\t 19815               & 0 & 0 & 0 & 0 &  0 & taxable & NA & 2 & 2018-02-12 09:04:37 & ⋯ & pierre-jean-villa-cote-rotie-carmina-2017             & 2020-01-04 16:36:10 & 2020-01-04 15:36:10 & NA & 0 & https://www.bottle-neck.fr/?post\\_type=product\\&\\#038;p=4039 & 0 & product & NA & 0\\\\\n",
       "\\end{tabular}\n"
      ],
      "text/markdown": [
       "\n",
       "A tibble: 6 × 28\n",
       "\n",
       "| sku &lt;chr&gt; | virtual &lt;dbl&gt; | downloadable &lt;dbl&gt; | rating_count &lt;dbl&gt; | average_rating &lt;dbl&gt; | total_sales &lt;dbl&gt; | tax_status &lt;chr&gt; | tax_class &lt;lgl&gt; | post_author &lt;dbl&gt; | post_date &lt;dttm&gt; | ⋯ ⋯ | post_name &lt;chr&gt; | post_modified &lt;dttm&gt; | post_modified_gmt &lt;dttm&gt; | post_content_filtered &lt;lgl&gt; | post_parent &lt;dbl&gt; | guid &lt;chr&gt; | menu_order &lt;dbl&gt; | post_type &lt;chr&gt; | post_mime_type &lt;chr&gt; | comment_count &lt;dbl&gt; |\n",
       "|---|---|---|---|---|---|---|---|---|---|---|---|---|---|---|---|---|---|---|---|---|\n",
       "| bon-cadeau-25-euros | 0 | 0 | 0 | 0 | 10 | taxable | NA | 1 | 2018-06-01 13:53:46 | ⋯ | bon-cadeau-de-25-euros                                | 2018-06-01 14:13:57 | 2018-06-01 12:13:57 | NA | 0 | https://www.bottle-neck.fr/?post_type=product&amp;#038;p=4954 | 0 | product | NA | 0 |\n",
       "| 15298               | 0 | 0 | 0 | 0 |  6 | taxable | NA | 2 | 2018-02-08 12:58:52 | ⋯ | pierre-jean-villa-saint-joseph-preface-2018           | 2019-12-30 09:30:29 | 2019-12-30 08:30:29 | NA | 0 | https://www.bottle-neck.fr/?post_type=product&amp;#038;p=3847 | 0 | product | NA | 0 |\n",
       "| 15296               | 0 | 0 | 0 | 0 |  0 | taxable | NA | 2 | 2018-02-08 13:49:41 | ⋯ | pierre-jean-villa-saint-joseph-tilde-2017             | 2019-12-21 09:00:17 | 2019-12-21 08:00:17 | NA | 0 | https://www.bottle-neck.fr/?post_type=product&amp;#038;p=3849 | 0 | product | NA | 0 |\n",
       "| 15300               | 0 | 0 | 0 | 0 |  0 | taxable | NA | 2 | 2018-02-08 14:08:36 | ⋯ | pierre-jean-villa-croze-hermitage-accroche-coeur-2018 | 2020-06-26 18:15:03 | 2020-06-26 16:15:03 | NA | 0 | https://www.bottle-neck.fr/?post_type=product&amp;#038;p=3850 | 0 | product | NA | 0 |\n",
       "| 19814               | 0 | 0 | 0 | 0 |  3 | taxable | NA | 2 | 2018-02-09 14:01:05 | ⋯ | pierre-jean-villa-igp-gamine-2018                     | 2020-01-04 16:36:01 | 2020-01-04 15:36:01 | NA | 0 | https://www.bottle-neck.fr/?post_type=product&amp;#038;p=4032 | 0 | product | NA | 0 |\n",
       "| 19815               | 0 | 0 | 0 | 0 |  0 | taxable | NA | 2 | 2018-02-12 09:04:37 | ⋯ | pierre-jean-villa-cote-rotie-carmina-2017             | 2020-01-04 16:36:10 | 2020-01-04 15:36:10 | NA | 0 | https://www.bottle-neck.fr/?post_type=product&amp;#038;p=4039 | 0 | product | NA | 0 |\n",
       "\n"
      ],
      "text/plain": [
       "  sku                 virtual downloadable rating_count average_rating\n",
       "1 bon-cadeau-25-euros 0       0            0            0             \n",
       "2 15298               0       0            0            0             \n",
       "3 15296               0       0            0            0             \n",
       "4 15300               0       0            0            0             \n",
       "5 19814               0       0            0            0             \n",
       "6 19815               0       0            0            0             \n",
       "  total_sales tax_status tax_class post_author post_date           ⋯\n",
       "1 10          taxable    NA        1           2018-06-01 13:53:46 ⋯\n",
       "2  6          taxable    NA        2           2018-02-08 12:58:52 ⋯\n",
       "3  0          taxable    NA        2           2018-02-08 13:49:41 ⋯\n",
       "4  0          taxable    NA        2           2018-02-08 14:08:36 ⋯\n",
       "5  3          taxable    NA        2           2018-02-09 14:01:05 ⋯\n",
       "6  0          taxable    NA        2           2018-02-12 09:04:37 ⋯\n",
       "  post_name                                             post_modified      \n",
       "1 bon-cadeau-de-25-euros                                2018-06-01 14:13:57\n",
       "2 pierre-jean-villa-saint-joseph-preface-2018           2019-12-30 09:30:29\n",
       "3 pierre-jean-villa-saint-joseph-tilde-2017             2019-12-21 09:00:17\n",
       "4 pierre-jean-villa-croze-hermitage-accroche-coeur-2018 2020-06-26 18:15:03\n",
       "5 pierre-jean-villa-igp-gamine-2018                     2020-01-04 16:36:01\n",
       "6 pierre-jean-villa-cote-rotie-carmina-2017             2020-01-04 16:36:10\n",
       "  post_modified_gmt   post_content_filtered post_parent\n",
       "1 2018-06-01 12:13:57 NA                    0          \n",
       "2 2019-12-30 08:30:29 NA                    0          \n",
       "3 2019-12-21 08:00:17 NA                    0          \n",
       "4 2020-06-26 16:15:03 NA                    0          \n",
       "5 2020-01-04 15:36:01 NA                    0          \n",
       "6 2020-01-04 15:36:10 NA                    0          \n",
       "  guid                                                      menu_order\n",
       "1 https://www.bottle-neck.fr/?post_type=product&#038;p=4954 0         \n",
       "2 https://www.bottle-neck.fr/?post_type=product&#038;p=3847 0         \n",
       "3 https://www.bottle-neck.fr/?post_type=product&#038;p=3849 0         \n",
       "4 https://www.bottle-neck.fr/?post_type=product&#038;p=3850 0         \n",
       "5 https://www.bottle-neck.fr/?post_type=product&#038;p=4032 0         \n",
       "6 https://www.bottle-neck.fr/?post_type=product&#038;p=4039 0         \n",
       "  post_type post_mime_type comment_count\n",
       "1 product   NA             0            \n",
       "2 product   NA             0            \n",
       "3 product   NA             0            \n",
       "4 product   NA             0            \n",
       "5 product   NA             0            \n",
       "6 product   NA             0            "
      ]
     },
     "metadata": {},
     "output_type": "display_data"
    }
   ],
   "source": [
    "# On ne conserve que les \"product\"\n",
    "df_product = df_web_without_null[df_web_without_null$post_type=='product',]\n",
    "\n",
    "# On observe\n",
    "print(dim(df_product))\n",
    "head(df_product)"
   ]
  },
  {
   "cell_type": "code",
   "execution_count": 14,
   "id": "excited-person",
   "metadata": {},
   "outputs": [
    {
     "name": "stdout",
     "output_type": "stream",
     "text": [
      "[1] \"La clé n'est pas présente plusieurs fois dans le dataframe.\"\n",
      "[1] \"Elle peut donc être utilisée comme clé primaire.\"\n",
      "[1] \"Le dataframe est de la forme : (714,28) (lignes, colonnes)\"\n"
     ]
    }
   ],
   "source": [
    "# On teste l'unicité de la clé primaire\n",
    "testerCle(df_product, c('sku'))"
   ]
  },
  {
   "cell_type": "markdown",
   "id": "available-cylinder",
   "metadata": {},
   "source": [
    "<div style=\"background-color: RGB(51,165,182);\" >\n",
    "<h2 style=\"margin: auto; padding: 20px; color:#fff; \">Partie 3 - Jointures</h2>\n",
    "</div>"
   ]
  },
  {
   "cell_type": "code",
   "execution_count": 15,
   "id": "statewide-leisure",
   "metadata": {},
   "outputs": [
    {
     "name": "stdout",
     "output_type": "stream",
     "text": [
      "[1] 825   6\n"
     ]
    },
    {
     "data": {
      "text/html": [
       "<table class=\"dataframe\">\n",
       "<caption>A data.frame: 6 × 6</caption>\n",
       "<thead>\n",
       "\t<tr><th></th><th scope=col>product_id</th><th scope=col>onsale_web</th><th scope=col>price</th><th scope=col>stock_quantity</th><th scope=col>stock_status</th><th scope=col>id_web</th></tr>\n",
       "\t<tr><th></th><th scope=col>&lt;dbl&gt;</th><th scope=col>&lt;dbl&gt;</th><th scope=col>&lt;dbl&gt;</th><th scope=col>&lt;dbl&gt;</th><th scope=col>&lt;chr&gt;</th><th scope=col>&lt;chr&gt;</th></tr>\n",
       "</thead>\n",
       "<tbody>\n",
       "\t<tr><th scope=row>1</th><td>3847</td><td>1</td><td>24.2</td><td>0</td><td>outofstock</td><td>15298</td></tr>\n",
       "\t<tr><th scope=row>2</th><td>3849</td><td>1</td><td>34.3</td><td>0</td><td>outofstock</td><td>15296</td></tr>\n",
       "\t<tr><th scope=row>3</th><td>3850</td><td>1</td><td>20.8</td><td>0</td><td>outofstock</td><td>15300</td></tr>\n",
       "\t<tr><th scope=row>4</th><td>4032</td><td>1</td><td>14.1</td><td>0</td><td>outofstock</td><td>19814</td></tr>\n",
       "\t<tr><th scope=row>5</th><td>4039</td><td>1</td><td>46.0</td><td>0</td><td>outofstock</td><td>19815</td></tr>\n",
       "\t<tr><th scope=row>6</th><td>4040</td><td>1</td><td>34.3</td><td>0</td><td>outofstock</td><td>15303</td></tr>\n",
       "</tbody>\n",
       "</table>\n"
      ],
      "text/latex": [
       "A data.frame: 6 × 6\n",
       "\\begin{tabular}{r|llllll}\n",
       "  & product\\_id & onsale\\_web & price & stock\\_quantity & stock\\_status & id\\_web\\\\\n",
       "  & <dbl> & <dbl> & <dbl> & <dbl> & <chr> & <chr>\\\\\n",
       "\\hline\n",
       "\t1 & 3847 & 1 & 24.2 & 0 & outofstock & 15298\\\\\n",
       "\t2 & 3849 & 1 & 34.3 & 0 & outofstock & 15296\\\\\n",
       "\t3 & 3850 & 1 & 20.8 & 0 & outofstock & 15300\\\\\n",
       "\t4 & 4032 & 1 & 14.1 & 0 & outofstock & 19814\\\\\n",
       "\t5 & 4039 & 1 & 46.0 & 0 & outofstock & 19815\\\\\n",
       "\t6 & 4040 & 1 & 34.3 & 0 & outofstock & 15303\\\\\n",
       "\\end{tabular}\n"
      ],
      "text/markdown": [
       "\n",
       "A data.frame: 6 × 6\n",
       "\n",
       "| <!--/--> | product_id &lt;dbl&gt; | onsale_web &lt;dbl&gt; | price &lt;dbl&gt; | stock_quantity &lt;dbl&gt; | stock_status &lt;chr&gt; | id_web &lt;chr&gt; |\n",
       "|---|---|---|---|---|---|---|\n",
       "| 1 | 3847 | 1 | 24.2 | 0 | outofstock | 15298 |\n",
       "| 2 | 3849 | 1 | 34.3 | 0 | outofstock | 15296 |\n",
       "| 3 | 3850 | 1 | 20.8 | 0 | outofstock | 15300 |\n",
       "| 4 | 4032 | 1 | 14.1 | 0 | outofstock | 19814 |\n",
       "| 5 | 4039 | 1 | 46.0 | 0 | outofstock | 19815 |\n",
       "| 6 | 4040 | 1 | 34.3 | 0 | outofstock | 15303 |\n",
       "\n"
      ],
      "text/plain": [
       "  product_id onsale_web price stock_quantity stock_status id_web\n",
       "1 3847       1          24.2  0              outofstock   15298 \n",
       "2 3849       1          34.3  0              outofstock   15296 \n",
       "3 3850       1          20.8  0              outofstock   15300 \n",
       "4 4032       1          14.1  0              outofstock   19814 \n",
       "5 4039       1          46.0  0              outofstock   19815 \n",
       "6 4040       1          34.3  0              outofstock   15303 "
      ]
     },
     "metadata": {},
     "output_type": "display_data"
    }
   ],
   "source": [
    "# On va appliquer une jointure \"outer\" entre df_erp et df_liaison\n",
    "df_erp_liaison <- merge(df_erp, df_liaison, by=\"product_id\", all=TRUE)\n",
    "\n",
    "# On observe\n",
    "print(dim(df_erp_liaison))\n",
    "head(df_erp_liaison)"
   ]
  },
  {
   "cell_type": "code",
   "execution_count": 16,
   "id": "polyphonic-cherry",
   "metadata": {},
   "outputs": [
    {
     "data": {
      "text/html": [
       "<table class=\"dataframe\">\n",
       "<caption>A tibble: 0 × 5</caption>\n",
       "<thead>\n",
       "\t<tr><th scope=col>product_id</th><th scope=col>onsale_web</th><th scope=col>price</th><th scope=col>stock_quantity</th><th scope=col>stock_status</th></tr>\n",
       "\t<tr><th scope=col>&lt;dbl&gt;</th><th scope=col>&lt;dbl&gt;</th><th scope=col>&lt;dbl&gt;</th><th scope=col>&lt;dbl&gt;</th><th scope=col>&lt;chr&gt;</th></tr>\n",
       "</thead>\n",
       "<tbody>\n",
       "</tbody>\n",
       "</table>\n"
      ],
      "text/latex": [
       "A tibble: 0 × 5\n",
       "\\begin{tabular}{lllll}\n",
       " product\\_id & onsale\\_web & price & stock\\_quantity & stock\\_status\\\\\n",
       " <dbl> & <dbl> & <dbl> & <dbl> & <chr>\\\\\n",
       "\\hline\n",
       "\\end{tabular}\n"
      ],
      "text/markdown": [
       "\n",
       "A tibble: 0 × 5\n",
       "\n",
       "| product_id &lt;dbl&gt; | onsale_web &lt;dbl&gt; | price &lt;dbl&gt; | stock_quantity &lt;dbl&gt; | stock_status &lt;chr&gt; |\n",
       "|---|---|---|---|---|\n",
       "\n"
      ],
      "text/plain": [
       "     product_id onsale_web price stock_quantity stock_status"
      ]
     },
     "metadata": {},
     "output_type": "display_data"
    }
   ],
   "source": [
    "# On regarde si des product_id de df_erp sont absents de df_liaison\n",
    "anti_join(df_erp, df_liaison, by=\"product_id\")"
   ]
  },
  {
   "cell_type": "code",
   "execution_count": 17,
   "id": "intense-drive",
   "metadata": {},
   "outputs": [
    {
     "data": {
      "text/html": [
       "<table class=\"dataframe\">\n",
       "<caption>A tibble: 0 × 2</caption>\n",
       "<thead>\n",
       "\t<tr><th scope=col>product_id</th><th scope=col>id_web</th></tr>\n",
       "\t<tr><th scope=col>&lt;dbl&gt;</th><th scope=col>&lt;chr&gt;</th></tr>\n",
       "</thead>\n",
       "<tbody>\n",
       "</tbody>\n",
       "</table>\n"
      ],
      "text/latex": [
       "A tibble: 0 × 2\n",
       "\\begin{tabular}{ll}\n",
       " product\\_id & id\\_web\\\\\n",
       " <dbl> & <chr>\\\\\n",
       "\\hline\n",
       "\\end{tabular}\n"
      ],
      "text/markdown": [
       "\n",
       "A tibble: 0 × 2\n",
       "\n",
       "| product_id &lt;dbl&gt; | id_web &lt;chr&gt; |\n",
       "|---|---|\n",
       "\n"
      ],
      "text/plain": [
       "     product_id id_web"
      ]
     },
     "metadata": {},
     "output_type": "display_data"
    }
   ],
   "source": [
    "# On regarde si des product_id de df_liaison sont absents de df_erp\n",
    "anti_join(df_liaison, df_erp, by=\"product_id\")"
   ]
  },
  {
   "cell_type": "code",
   "execution_count": 18,
   "id": "elect-scene",
   "metadata": {},
   "outputs": [
    {
     "name": "stdout",
     "output_type": "stream",
     "text": [
      "[1] 825  33\n"
     ]
    },
    {
     "data": {
      "text/html": [
       "<table class=\"dataframe\">\n",
       "<caption>A data.frame: 6 × 33</caption>\n",
       "<thead>\n",
       "\t<tr><th></th><th scope=col>id_web</th><th scope=col>product_id</th><th scope=col>onsale_web</th><th scope=col>price</th><th scope=col>stock_quantity</th><th scope=col>stock_status</th><th scope=col>virtual</th><th scope=col>downloadable</th><th scope=col>rating_count</th><th scope=col>average_rating</th><th scope=col>⋯</th><th scope=col>post_name</th><th scope=col>post_modified</th><th scope=col>post_modified_gmt</th><th scope=col>post_content_filtered</th><th scope=col>post_parent</th><th scope=col>guid</th><th scope=col>menu_order</th><th scope=col>post_type</th><th scope=col>post_mime_type</th><th scope=col>comment_count</th></tr>\n",
       "\t<tr><th></th><th scope=col>&lt;chr&gt;</th><th scope=col>&lt;dbl&gt;</th><th scope=col>&lt;dbl&gt;</th><th scope=col>&lt;dbl&gt;</th><th scope=col>&lt;dbl&gt;</th><th scope=col>&lt;chr&gt;</th><th scope=col>&lt;dbl&gt;</th><th scope=col>&lt;dbl&gt;</th><th scope=col>&lt;dbl&gt;</th><th scope=col>&lt;dbl&gt;</th><th scope=col>⋯</th><th scope=col>&lt;chr&gt;</th><th scope=col>&lt;dttm&gt;</th><th scope=col>&lt;dttm&gt;</th><th scope=col>&lt;lgl&gt;</th><th scope=col>&lt;dbl&gt;</th><th scope=col>&lt;chr&gt;</th><th scope=col>&lt;dbl&gt;</th><th scope=col>&lt;chr&gt;</th><th scope=col>&lt;chr&gt;</th><th scope=col>&lt;dbl&gt;</th></tr>\n",
       "</thead>\n",
       "<tbody>\n",
       "\t<tr><th scope=row>1</th><td>10014</td><td>5913</td><td>1</td><td>36.0</td><td>9</td><td><span style=white-space:pre-wrap>instock   </span></td><td>0</td><td>0</td><td>0</td><td>0</td><td>⋯</td><td><span style=white-space:pre-wrap>darnleys-london-dry-gin-original                             </span></td><td>2020-08-26 15:55:02</td><td>2020-08-26 13:55:02</td><td>NA</td><td>0</td><td>https://www.bottle-neck.fr/?post_type=product&amp;#038;p=5913</td><td>0</td><td>product</td><td>NA</td><td>0</td></tr>\n",
       "\t<tr><th scope=row>2</th><td>10459</td><td>4617</td><td>1</td><td>67.5</td><td>1</td><td><span style=white-space:pre-wrap>instock   </span></td><td>0</td><td>0</td><td>0</td><td>0</td><td>⋯</td><td><span style=white-space:pre-wrap>alphonse-mellot-sancerre-rouge-generation-xix-2011           </span></td><td>2020-08-24 14:05:02</td><td>2020-08-24 12:05:02</td><td>NA</td><td>0</td><td>https://www.bottle-neck.fr/?post_type=product&amp;#038;p=4617</td><td>0</td><td>product</td><td>NA</td><td>0</td></tr>\n",
       "\t<tr><th scope=row>3</th><td>10775</td><td>4709</td><td>1</td><td>44.0</td><td>0</td><td>outofstock</td><td>0</td><td>0</td><td>0</td><td>0</td><td>⋯</td><td><span style=white-space:pre-wrap>albert-mann-pinot-gris-vendanges-tardives-altenbourg-2011    </span></td><td>2018-12-22 10:30:02</td><td>2018-12-22 09:30:02</td><td>NA</td><td>0</td><td>https://www.bottle-neck.fr/?post_type=product&amp;#038;p=4709</td><td>0</td><td>product</td><td>NA</td><td>0</td></tr>\n",
       "\t<tr><th scope=row>4</th><td>10814</td><td>4656</td><td>1</td><td>43.0</td><td>3</td><td><span style=white-space:pre-wrap>instock   </span></td><td>0</td><td>0</td><td>0</td><td>0</td><td>⋯</td><td><span style=white-space:pre-wrap>thierry-germain-saumur-champigny-outre-terre-2013            </span></td><td>2020-08-05 14:35:02</td><td>2020-08-05 12:35:02</td><td>NA</td><td>0</td><td>https://www.bottle-neck.fr/?post_type=product&amp;#038;p=4656</td><td>0</td><td>product</td><td>NA</td><td>0</td></tr>\n",
       "\t<tr><th scope=row>5</th><td>11049</td><td>4619</td><td>1</td><td>59.0</td><td>5</td><td><span style=white-space:pre-wrap>instock   </span></td><td>0</td><td>0</td><td>0</td><td>0</td><td>⋯</td><td><span style=white-space:pre-wrap>alphonse-mellot-sancerre-rouge-en-grands-champs-2012         </span></td><td>2020-01-31 09:30:02</td><td>2020-01-31 08:30:02</td><td>NA</td><td>0</td><td>https://www.bottle-neck.fr/?post_type=product&amp;#038;p=4619</td><td>0</td><td>product</td><td>NA</td><td>0</td></tr>\n",
       "\t<tr><th scope=row>6</th><td>11225</td><td>4970</td><td>1</td><td>49.5</td><td>0</td><td>outofstock</td><td>0</td><td>0</td><td>0</td><td>0</td><td>⋯</td><td>champagne-larmandier-bernier-terre-de-vertus-premier-cru-2011</td><td>2019-05-17 10:10:03</td><td>2019-05-17 08:10:03</td><td>NA</td><td>0</td><td>https://www.bottle-neck.fr/?post_type=product&amp;#038;p=4970</td><td>0</td><td>product</td><td>NA</td><td>0</td></tr>\n",
       "</tbody>\n",
       "</table>\n"
      ],
      "text/latex": [
       "A data.frame: 6 × 33\n",
       "\\begin{tabular}{r|lllllllllllllllllllll}\n",
       "  & id\\_web & product\\_id & onsale\\_web & price & stock\\_quantity & stock\\_status & virtual & downloadable & rating\\_count & average\\_rating & ⋯ & post\\_name & post\\_modified & post\\_modified\\_gmt & post\\_content\\_filtered & post\\_parent & guid & menu\\_order & post\\_type & post\\_mime\\_type & comment\\_count\\\\\n",
       "  & <chr> & <dbl> & <dbl> & <dbl> & <dbl> & <chr> & <dbl> & <dbl> & <dbl> & <dbl> & ⋯ & <chr> & <dttm> & <dttm> & <lgl> & <dbl> & <chr> & <dbl> & <chr> & <chr> & <dbl>\\\\\n",
       "\\hline\n",
       "\t1 & 10014 & 5913 & 1 & 36.0 & 9 & instock    & 0 & 0 & 0 & 0 & ⋯ & darnleys-london-dry-gin-original                              & 2020-08-26 15:55:02 & 2020-08-26 13:55:02 & NA & 0 & https://www.bottle-neck.fr/?post\\_type=product\\&\\#038;p=5913 & 0 & product & NA & 0\\\\\n",
       "\t2 & 10459 & 4617 & 1 & 67.5 & 1 & instock    & 0 & 0 & 0 & 0 & ⋯ & alphonse-mellot-sancerre-rouge-generation-xix-2011            & 2020-08-24 14:05:02 & 2020-08-24 12:05:02 & NA & 0 & https://www.bottle-neck.fr/?post\\_type=product\\&\\#038;p=4617 & 0 & product & NA & 0\\\\\n",
       "\t3 & 10775 & 4709 & 1 & 44.0 & 0 & outofstock & 0 & 0 & 0 & 0 & ⋯ & albert-mann-pinot-gris-vendanges-tardives-altenbourg-2011     & 2018-12-22 10:30:02 & 2018-12-22 09:30:02 & NA & 0 & https://www.bottle-neck.fr/?post\\_type=product\\&\\#038;p=4709 & 0 & product & NA & 0\\\\\n",
       "\t4 & 10814 & 4656 & 1 & 43.0 & 3 & instock    & 0 & 0 & 0 & 0 & ⋯ & thierry-germain-saumur-champigny-outre-terre-2013             & 2020-08-05 14:35:02 & 2020-08-05 12:35:02 & NA & 0 & https://www.bottle-neck.fr/?post\\_type=product\\&\\#038;p=4656 & 0 & product & NA & 0\\\\\n",
       "\t5 & 11049 & 4619 & 1 & 59.0 & 5 & instock    & 0 & 0 & 0 & 0 & ⋯ & alphonse-mellot-sancerre-rouge-en-grands-champs-2012          & 2020-01-31 09:30:02 & 2020-01-31 08:30:02 & NA & 0 & https://www.bottle-neck.fr/?post\\_type=product\\&\\#038;p=4619 & 0 & product & NA & 0\\\\\n",
       "\t6 & 11225 & 4970 & 1 & 49.5 & 0 & outofstock & 0 & 0 & 0 & 0 & ⋯ & champagne-larmandier-bernier-terre-de-vertus-premier-cru-2011 & 2019-05-17 10:10:03 & 2019-05-17 08:10:03 & NA & 0 & https://www.bottle-neck.fr/?post\\_type=product\\&\\#038;p=4970 & 0 & product & NA & 0\\\\\n",
       "\\end{tabular}\n"
      ],
      "text/markdown": [
       "\n",
       "A data.frame: 6 × 33\n",
       "\n",
       "| <!--/--> | id_web &lt;chr&gt; | product_id &lt;dbl&gt; | onsale_web &lt;dbl&gt; | price &lt;dbl&gt; | stock_quantity &lt;dbl&gt; | stock_status &lt;chr&gt; | virtual &lt;dbl&gt; | downloadable &lt;dbl&gt; | rating_count &lt;dbl&gt; | average_rating &lt;dbl&gt; | ⋯ ⋯ | post_name &lt;chr&gt; | post_modified &lt;dttm&gt; | post_modified_gmt &lt;dttm&gt; | post_content_filtered &lt;lgl&gt; | post_parent &lt;dbl&gt; | guid &lt;chr&gt; | menu_order &lt;dbl&gt; | post_type &lt;chr&gt; | post_mime_type &lt;chr&gt; | comment_count &lt;dbl&gt; |\n",
       "|---|---|---|---|---|---|---|---|---|---|---|---|---|---|---|---|---|---|---|---|---|---|\n",
       "| 1 | 10014 | 5913 | 1 | 36.0 | 9 | instock    | 0 | 0 | 0 | 0 | ⋯ | darnleys-london-dry-gin-original                              | 2020-08-26 15:55:02 | 2020-08-26 13:55:02 | NA | 0 | https://www.bottle-neck.fr/?post_type=product&amp;#038;p=5913 | 0 | product | NA | 0 |\n",
       "| 2 | 10459 | 4617 | 1 | 67.5 | 1 | instock    | 0 | 0 | 0 | 0 | ⋯ | alphonse-mellot-sancerre-rouge-generation-xix-2011            | 2020-08-24 14:05:02 | 2020-08-24 12:05:02 | NA | 0 | https://www.bottle-neck.fr/?post_type=product&amp;#038;p=4617 | 0 | product | NA | 0 |\n",
       "| 3 | 10775 | 4709 | 1 | 44.0 | 0 | outofstock | 0 | 0 | 0 | 0 | ⋯ | albert-mann-pinot-gris-vendanges-tardives-altenbourg-2011     | 2018-12-22 10:30:02 | 2018-12-22 09:30:02 | NA | 0 | https://www.bottle-neck.fr/?post_type=product&amp;#038;p=4709 | 0 | product | NA | 0 |\n",
       "| 4 | 10814 | 4656 | 1 | 43.0 | 3 | instock    | 0 | 0 | 0 | 0 | ⋯ | thierry-germain-saumur-champigny-outre-terre-2013             | 2020-08-05 14:35:02 | 2020-08-05 12:35:02 | NA | 0 | https://www.bottle-neck.fr/?post_type=product&amp;#038;p=4656 | 0 | product | NA | 0 |\n",
       "| 5 | 11049 | 4619 | 1 | 59.0 | 5 | instock    | 0 | 0 | 0 | 0 | ⋯ | alphonse-mellot-sancerre-rouge-en-grands-champs-2012          | 2020-01-31 09:30:02 | 2020-01-31 08:30:02 | NA | 0 | https://www.bottle-neck.fr/?post_type=product&amp;#038;p=4619 | 0 | product | NA | 0 |\n",
       "| 6 | 11225 | 4970 | 1 | 49.5 | 0 | outofstock | 0 | 0 | 0 | 0 | ⋯ | champagne-larmandier-bernier-terre-de-vertus-premier-cru-2011 | 2019-05-17 10:10:03 | 2019-05-17 08:10:03 | NA | 0 | https://www.bottle-neck.fr/?post_type=product&amp;#038;p=4970 | 0 | product | NA | 0 |\n",
       "\n"
      ],
      "text/plain": [
       "  id_web product_id onsale_web price stock_quantity stock_status virtual\n",
       "1 10014  5913       1          36.0  9              instock      0      \n",
       "2 10459  4617       1          67.5  1              instock      0      \n",
       "3 10775  4709       1          44.0  0              outofstock   0      \n",
       "4 10814  4656       1          43.0  3              instock      0      \n",
       "5 11049  4619       1          59.0  5              instock      0      \n",
       "6 11225  4970       1          49.5  0              outofstock   0      \n",
       "  downloadable rating_count average_rating ⋯\n",
       "1 0            0            0              ⋯\n",
       "2 0            0            0              ⋯\n",
       "3 0            0            0              ⋯\n",
       "4 0            0            0              ⋯\n",
       "5 0            0            0              ⋯\n",
       "6 0            0            0              ⋯\n",
       "  post_name                                                    \n",
       "1 darnleys-london-dry-gin-original                             \n",
       "2 alphonse-mellot-sancerre-rouge-generation-xix-2011           \n",
       "3 albert-mann-pinot-gris-vendanges-tardives-altenbourg-2011    \n",
       "4 thierry-germain-saumur-champigny-outre-terre-2013            \n",
       "5 alphonse-mellot-sancerre-rouge-en-grands-champs-2012         \n",
       "6 champagne-larmandier-bernier-terre-de-vertus-premier-cru-2011\n",
       "  post_modified       post_modified_gmt   post_content_filtered post_parent\n",
       "1 2020-08-26 15:55:02 2020-08-26 13:55:02 NA                    0          \n",
       "2 2020-08-24 14:05:02 2020-08-24 12:05:02 NA                    0          \n",
       "3 2018-12-22 10:30:02 2018-12-22 09:30:02 NA                    0          \n",
       "4 2020-08-05 14:35:02 2020-08-05 12:35:02 NA                    0          \n",
       "5 2020-01-31 09:30:02 2020-01-31 08:30:02 NA                    0          \n",
       "6 2019-05-17 10:10:03 2019-05-17 08:10:03 NA                    0          \n",
       "  guid                                                      menu_order\n",
       "1 https://www.bottle-neck.fr/?post_type=product&#038;p=5913 0         \n",
       "2 https://www.bottle-neck.fr/?post_type=product&#038;p=4617 0         \n",
       "3 https://www.bottle-neck.fr/?post_type=product&#038;p=4709 0         \n",
       "4 https://www.bottle-neck.fr/?post_type=product&#038;p=4656 0         \n",
       "5 https://www.bottle-neck.fr/?post_type=product&#038;p=4619 0         \n",
       "6 https://www.bottle-neck.fr/?post_type=product&#038;p=4970 0         \n",
       "  post_type post_mime_type comment_count\n",
       "1 product   NA             0            \n",
       "2 product   NA             0            \n",
       "3 product   NA             0            \n",
       "4 product   NA             0            \n",
       "5 product   NA             0            \n",
       "6 product   NA             0            "
      ]
     },
     "metadata": {},
     "output_type": "display_data"
    }
   ],
   "source": [
    "# On effectue une jointure \"outer\" entre df_erp_liaison et df_product\n",
    "df_final <- merge(df_erp_liaison, df_product, by.x='id_web', by.y='sku', all=TRUE)\n",
    "\n",
    "# On observe\n",
    "print(dim(df_final))\n",
    "head(df_final)"
   ]
  },
  {
   "cell_type": "code",
   "execution_count": 19,
   "id": "mental-advancement",
   "metadata": {},
   "outputs": [
    {
     "name": "stdout",
     "output_type": "stream",
     "text": [
      "[1]  0 28\n"
     ]
    },
    {
     "name": "stderr",
     "output_type": "stream",
     "text": [
      "Warning message in cbind(parts$left, ellip_h, parts$right, deparse.level = 0L):\n",
      "“number of rows of result is not a multiple of vector length (arg 2)”\n",
      "Warning message in cbind(parts$left, ellip_h, parts$right, deparse.level = 0L):\n",
      "“number of rows of result is not a multiple of vector length (arg 2)”\n",
      "Warning message in cbind(parts$left, ellip_h, parts$right, deparse.level = 0L):\n",
      "“number of rows of result is not a multiple of vector length (arg 2)”\n",
      "Warning message in cbind(parts$left, ellip_h, parts$right, deparse.level = 0L):\n",
      "“number of rows of result is not a multiple of vector length (arg 2)”\n"
     ]
    },
    {
     "data": {
      "text/html": [
       "<table class=\"dataframe\">\n",
       "<caption>A tibble: 0 × 28</caption>\n",
       "<thead>\n",
       "\t<tr><th scope=col>sku</th><th scope=col>virtual</th><th scope=col>downloadable</th><th scope=col>rating_count</th><th scope=col>average_rating</th><th scope=col>total_sales</th><th scope=col>tax_status</th><th scope=col>tax_class</th><th scope=col>post_author</th><th scope=col>post_date</th><th scope=col>⋯</th><th scope=col>post_name</th><th scope=col>post_modified</th><th scope=col>post_modified_gmt</th><th scope=col>post_content_filtered</th><th scope=col>post_parent</th><th scope=col>guid</th><th scope=col>menu_order</th><th scope=col>post_type</th><th scope=col>post_mime_type</th><th scope=col>comment_count</th></tr>\n",
       "\t<tr><th scope=col>&lt;chr&gt;</th><th scope=col>&lt;dbl&gt;</th><th scope=col>&lt;dbl&gt;</th><th scope=col>&lt;dbl&gt;</th><th scope=col>&lt;dbl&gt;</th><th scope=col>&lt;dbl&gt;</th><th scope=col>&lt;chr&gt;</th><th scope=col>&lt;lgl&gt;</th><th scope=col>&lt;dbl&gt;</th><th scope=col>&lt;dttm&gt;</th><th scope=col>⋯</th><th scope=col>&lt;chr&gt;</th><th scope=col>&lt;dttm&gt;</th><th scope=col>&lt;dttm&gt;</th><th scope=col>&lt;lgl&gt;</th><th scope=col>&lt;dbl&gt;</th><th scope=col>&lt;chr&gt;</th><th scope=col>&lt;dbl&gt;</th><th scope=col>&lt;chr&gt;</th><th scope=col>&lt;chr&gt;</th><th scope=col>&lt;dbl&gt;</th></tr>\n",
       "</thead>\n",
       "<tbody>\n",
       "</tbody>\n",
       "</table>\n"
      ],
      "text/latex": [
       "A tibble: 0 × 28\n",
       "\\begin{tabular}{lllllllllllllllllllll}\n",
       " sku & virtual & downloadable & rating\\_count & average\\_rating & total\\_sales & tax\\_status & tax\\_class & post\\_author & post\\_date & ⋯ & post\\_name & post\\_modified & post\\_modified\\_gmt & post\\_content\\_filtered & post\\_parent & guid & menu\\_order & post\\_type & post\\_mime\\_type & comment\\_count\\\\\n",
       " <chr> & <dbl> & <dbl> & <dbl> & <dbl> & <dbl> & <chr> & <lgl> & <dbl> & <dttm> & ⋯ & <chr> & <dttm> & <dttm> & <lgl> & <dbl> & <chr> & <dbl> & <chr> & <chr> & <dbl>\\\\\n",
       "\\hline\n",
       "\\end{tabular}\n"
      ],
      "text/markdown": [
       "\n",
       "A tibble: 0 × 28\n",
       "\n",
       "| sku &lt;chr&gt; | virtual &lt;dbl&gt; | downloadable &lt;dbl&gt; | rating_count &lt;dbl&gt; | average_rating &lt;dbl&gt; | total_sales &lt;dbl&gt; | tax_status &lt;chr&gt; | tax_class &lt;lgl&gt; | post_author &lt;dbl&gt; | post_date &lt;dttm&gt; | ⋯ ⋯ | post_name &lt;chr&gt; | post_modified &lt;dttm&gt; | post_modified_gmt &lt;dttm&gt; | post_content_filtered &lt;lgl&gt; | post_parent &lt;dbl&gt; | guid &lt;chr&gt; | menu_order &lt;dbl&gt; | post_type &lt;chr&gt; | post_mime_type &lt;chr&gt; | comment_count &lt;dbl&gt; |\n",
       "|---|---|---|---|---|---|---|---|---|---|---|---|---|---|---|---|---|---|---|---|---|\n",
       "\n"
      ],
      "text/plain": [
       "     sku virtual downloadable rating_count average_rating total_sales\n",
       "     tax_status tax_class post_author post_date ⋯ post_name post_modified\n",
       "     post_modified_gmt post_content_filtered post_parent guid menu_order\n",
       "     post_type post_mime_type comment_count"
      ]
     },
     "metadata": {},
     "output_type": "display_data"
    }
   ],
   "source": [
    "# On regarde si des lignes de df_product n'ont pas matchées\n",
    "df_test_join <- anti_join(df_product, df_erp_liaison, by=c('sku' = 'id_web'))\n",
    "\n",
    "# On observe\n",
    "print(dim(df_test_join))\n",
    "head(df_test_join)"
   ]
  },
  {
   "cell_type": "code",
   "execution_count": 20,
   "id": "common-arizona",
   "metadata": {},
   "outputs": [
    {
     "name": "stdout",
     "output_type": "stream",
     "text": [
      "[1] 111   6\n"
     ]
    },
    {
     "data": {
      "text/html": [
       "<table class=\"dataframe\">\n",
       "<caption>A data.frame: 6 × 6</caption>\n",
       "<thead>\n",
       "\t<tr><th></th><th scope=col>product_id</th><th scope=col>onsale_web</th><th scope=col>price</th><th scope=col>stock_quantity</th><th scope=col>stock_status</th><th scope=col>id_web</th></tr>\n",
       "\t<tr><th></th><th scope=col>&lt;dbl&gt;</th><th scope=col>&lt;dbl&gt;</th><th scope=col>&lt;dbl&gt;</th><th scope=col>&lt;dbl&gt;</th><th scope=col>&lt;chr&gt;</th><th scope=col>&lt;chr&gt;</th></tr>\n",
       "</thead>\n",
       "<tbody>\n",
       "\t<tr><th scope=row>1</th><td>4055</td><td>0</td><td>86.1</td><td>0</td><td>outofstock</td><td>NA</td></tr>\n",
       "\t<tr><th scope=row>2</th><td>4090</td><td>0</td><td>73.0</td><td>0</td><td>outofstock</td><td>NA</td></tr>\n",
       "\t<tr><th scope=row>3</th><td>4092</td><td>0</td><td>47.0</td><td>0</td><td>outofstock</td><td>NA</td></tr>\n",
       "\t<tr><th scope=row>4</th><td>4195</td><td>0</td><td>14.1</td><td>0</td><td>outofstock</td><td>NA</td></tr>\n",
       "\t<tr><th scope=row>5</th><td>4209</td><td>0</td><td>73.5</td><td>0</td><td>outofstock</td><td>NA</td></tr>\n",
       "\t<tr><th scope=row>6</th><td>4233</td><td>0</td><td>20.0</td><td>0</td><td>outofstock</td><td>NA</td></tr>\n",
       "</tbody>\n",
       "</table>\n"
      ],
      "text/latex": [
       "A data.frame: 6 × 6\n",
       "\\begin{tabular}{r|llllll}\n",
       "  & product\\_id & onsale\\_web & price & stock\\_quantity & stock\\_status & id\\_web\\\\\n",
       "  & <dbl> & <dbl> & <dbl> & <dbl> & <chr> & <chr>\\\\\n",
       "\\hline\n",
       "\t1 & 4055 & 0 & 86.1 & 0 & outofstock & NA\\\\\n",
       "\t2 & 4090 & 0 & 73.0 & 0 & outofstock & NA\\\\\n",
       "\t3 & 4092 & 0 & 47.0 & 0 & outofstock & NA\\\\\n",
       "\t4 & 4195 & 0 & 14.1 & 0 & outofstock & NA\\\\\n",
       "\t5 & 4209 & 0 & 73.5 & 0 & outofstock & NA\\\\\n",
       "\t6 & 4233 & 0 & 20.0 & 0 & outofstock & NA\\\\\n",
       "\\end{tabular}\n"
      ],
      "text/markdown": [
       "\n",
       "A data.frame: 6 × 6\n",
       "\n",
       "| <!--/--> | product_id &lt;dbl&gt; | onsale_web &lt;dbl&gt; | price &lt;dbl&gt; | stock_quantity &lt;dbl&gt; | stock_status &lt;chr&gt; | id_web &lt;chr&gt; |\n",
       "|---|---|---|---|---|---|---|\n",
       "| 1 | 4055 | 0 | 86.1 | 0 | outofstock | NA |\n",
       "| 2 | 4090 | 0 | 73.0 | 0 | outofstock | NA |\n",
       "| 3 | 4092 | 0 | 47.0 | 0 | outofstock | NA |\n",
       "| 4 | 4195 | 0 | 14.1 | 0 | outofstock | NA |\n",
       "| 5 | 4209 | 0 | 73.5 | 0 | outofstock | NA |\n",
       "| 6 | 4233 | 0 | 20.0 | 0 | outofstock | NA |\n",
       "\n"
      ],
      "text/plain": [
       "  product_id onsale_web price stock_quantity stock_status id_web\n",
       "1 4055       0          86.1  0              outofstock   NA    \n",
       "2 4090       0          73.0  0              outofstock   NA    \n",
       "3 4092       0          47.0  0              outofstock   NA    \n",
       "4 4195       0          14.1  0              outofstock   NA    \n",
       "5 4209       0          73.5  0              outofstock   NA    \n",
       "6 4233       0          20.0  0              outofstock   NA    "
      ]
     },
     "metadata": {},
     "output_type": "display_data"
    }
   ],
   "source": [
    "# On regarde si des lignes de df_erp_liaison n'ont pas matchées\n",
    "df_test_join <- anti_join(df_erp_liaison, df_product, by=c('id_web' = 'sku'))\n",
    "\n",
    "# On observe\n",
    "print(dim(df_test_join))\n",
    "head(df_test_join)"
   ]
  },
  {
   "cell_type": "code",
   "execution_count": 21,
   "id": "related-porter",
   "metadata": {},
   "outputs": [
    {
     "name": "stdout",
     "output_type": "stream",
     "text": [
      "[1] 20  6\n"
     ]
    },
    {
     "data": {
      "text/html": [
       "<table class=\"dataframe\">\n",
       "<caption>A data.frame: 6 × 6</caption>\n",
       "<thead>\n",
       "\t<tr><th></th><th scope=col>product_id</th><th scope=col>onsale_web</th><th scope=col>price</th><th scope=col>stock_quantity</th><th scope=col>stock_status</th><th scope=col>id_web</th></tr>\n",
       "\t<tr><th></th><th scope=col>&lt;dbl&gt;</th><th scope=col>&lt;dbl&gt;</th><th scope=col>&lt;dbl&gt;</th><th scope=col>&lt;dbl&gt;</th><th scope=col>&lt;chr&gt;</th><th scope=col>&lt;chr&gt;</th></tr>\n",
       "</thead>\n",
       "<tbody>\n",
       "\t<tr><th scope=row>9</th><td>4289</td><td>0</td><td>22.8</td><td>0</td><td>outofstock</td><td>13771</td></tr>\n",
       "\t<tr><th scope=row>11</th><td>4568</td><td>0</td><td>21.5</td><td>0</td><td>outofstock</td><td>15065</td></tr>\n",
       "\t<tr><th scope=row>14</th><td>4584</td><td>0</td><td>32.3</td><td>0</td><td>outofstock</td><td>14785</td></tr>\n",
       "\t<tr><th scope=row>25</th><td>4741</td><td>0</td><td>12.4</td><td>0</td><td>outofstock</td><td>12601</td></tr>\n",
       "\t<tr><th scope=row>28</th><td>4864</td><td>0</td><td> 8.3</td><td>0</td><td>outofstock</td><td>15154</td></tr>\n",
       "\t<tr><th scope=row>29</th><td>4869</td><td>0</td><td>17.2</td><td>0</td><td>outofstock</td><td>14360</td></tr>\n",
       "</tbody>\n",
       "</table>\n"
      ],
      "text/latex": [
       "A data.frame: 6 × 6\n",
       "\\begin{tabular}{r|llllll}\n",
       "  & product\\_id & onsale\\_web & price & stock\\_quantity & stock\\_status & id\\_web\\\\\n",
       "  & <dbl> & <dbl> & <dbl> & <dbl> & <chr> & <chr>\\\\\n",
       "\\hline\n",
       "\t9 & 4289 & 0 & 22.8 & 0 & outofstock & 13771\\\\\n",
       "\t11 & 4568 & 0 & 21.5 & 0 & outofstock & 15065\\\\\n",
       "\t14 & 4584 & 0 & 32.3 & 0 & outofstock & 14785\\\\\n",
       "\t25 & 4741 & 0 & 12.4 & 0 & outofstock & 12601\\\\\n",
       "\t28 & 4864 & 0 &  8.3 & 0 & outofstock & 15154\\\\\n",
       "\t29 & 4869 & 0 & 17.2 & 0 & outofstock & 14360\\\\\n",
       "\\end{tabular}\n"
      ],
      "text/markdown": [
       "\n",
       "A data.frame: 6 × 6\n",
       "\n",
       "| <!--/--> | product_id &lt;dbl&gt; | onsale_web &lt;dbl&gt; | price &lt;dbl&gt; | stock_quantity &lt;dbl&gt; | stock_status &lt;chr&gt; | id_web &lt;chr&gt; |\n",
       "|---|---|---|---|---|---|---|\n",
       "| 9 | 4289 | 0 | 22.8 | 0 | outofstock | 13771 |\n",
       "| 11 | 4568 | 0 | 21.5 | 0 | outofstock | 15065 |\n",
       "| 14 | 4584 | 0 | 32.3 | 0 | outofstock | 14785 |\n",
       "| 25 | 4741 | 0 | 12.4 | 0 | outofstock | 12601 |\n",
       "| 28 | 4864 | 0 |  8.3 | 0 | outofstock | 15154 |\n",
       "| 29 | 4869 | 0 | 17.2 | 0 | outofstock | 14360 |\n",
       "\n"
      ],
      "text/plain": [
       "   product_id onsale_web price stock_quantity stock_status id_web\n",
       "9  4289       0          22.8  0              outofstock   13771 \n",
       "11 4568       0          21.5  0              outofstock   15065 \n",
       "14 4584       0          32.3  0              outofstock   14785 \n",
       "25 4741       0          12.4  0              outofstock   12601 \n",
       "28 4864       0           8.3  0              outofstock   15154 \n",
       "29 4869       0          17.2  0              outofstock   14360 "
      ]
     },
     "metadata": {},
     "output_type": "display_data"
    }
   ],
   "source": [
    "# On observe les lignes dont l'id_web n'est pas nul\n",
    "observation <- df_test_join[!is.na(df_test_join['id_web']),]\n",
    "\n",
    "# On observe\n",
    "print(dim(observation))\n",
    "head(observation)"
   ]
  },
  {
   "cell_type": "code",
   "execution_count": 22,
   "id": "indie-moore",
   "metadata": {},
   "outputs": [
    {
     "name": "stdout",
     "output_type": "stream",
     "text": [
      "[1] 714  33\n"
     ]
    },
    {
     "data": {
      "text/html": [
       "<table class=\"dataframe\">\n",
       "<caption>A data.frame: 6 × 33</caption>\n",
       "<thead>\n",
       "\t<tr><th></th><th scope=col>id_web</th><th scope=col>product_id</th><th scope=col>onsale_web</th><th scope=col>price</th><th scope=col>stock_quantity</th><th scope=col>stock_status</th><th scope=col>virtual</th><th scope=col>downloadable</th><th scope=col>rating_count</th><th scope=col>average_rating</th><th scope=col>⋯</th><th scope=col>post_name</th><th scope=col>post_modified</th><th scope=col>post_modified_gmt</th><th scope=col>post_content_filtered</th><th scope=col>post_parent</th><th scope=col>guid</th><th scope=col>menu_order</th><th scope=col>post_type</th><th scope=col>post_mime_type</th><th scope=col>comment_count</th></tr>\n",
       "\t<tr><th></th><th scope=col>&lt;chr&gt;</th><th scope=col>&lt;dbl&gt;</th><th scope=col>&lt;dbl&gt;</th><th scope=col>&lt;dbl&gt;</th><th scope=col>&lt;dbl&gt;</th><th scope=col>&lt;chr&gt;</th><th scope=col>&lt;dbl&gt;</th><th scope=col>&lt;dbl&gt;</th><th scope=col>&lt;dbl&gt;</th><th scope=col>&lt;dbl&gt;</th><th scope=col>⋯</th><th scope=col>&lt;chr&gt;</th><th scope=col>&lt;dttm&gt;</th><th scope=col>&lt;dttm&gt;</th><th scope=col>&lt;lgl&gt;</th><th scope=col>&lt;dbl&gt;</th><th scope=col>&lt;chr&gt;</th><th scope=col>&lt;dbl&gt;</th><th scope=col>&lt;chr&gt;</th><th scope=col>&lt;chr&gt;</th><th scope=col>&lt;dbl&gt;</th></tr>\n",
       "</thead>\n",
       "<tbody>\n",
       "\t<tr><th scope=row>1</th><td>10014</td><td>5913</td><td>1</td><td>36.0</td><td>9</td><td><span style=white-space:pre-wrap>instock   </span></td><td>0</td><td>0</td><td>0</td><td>0</td><td>⋯</td><td><span style=white-space:pre-wrap>darnleys-london-dry-gin-original                             </span></td><td>2020-08-26 15:55:02</td><td>2020-08-26 13:55:02</td><td>NA</td><td>0</td><td>https://www.bottle-neck.fr/?post_type=product&amp;#038;p=5913</td><td>0</td><td>product</td><td>NA</td><td>0</td></tr>\n",
       "\t<tr><th scope=row>2</th><td>10459</td><td>4617</td><td>1</td><td>67.5</td><td>1</td><td><span style=white-space:pre-wrap>instock   </span></td><td>0</td><td>0</td><td>0</td><td>0</td><td>⋯</td><td><span style=white-space:pre-wrap>alphonse-mellot-sancerre-rouge-generation-xix-2011           </span></td><td>2020-08-24 14:05:02</td><td>2020-08-24 12:05:02</td><td>NA</td><td>0</td><td>https://www.bottle-neck.fr/?post_type=product&amp;#038;p=4617</td><td>0</td><td>product</td><td>NA</td><td>0</td></tr>\n",
       "\t<tr><th scope=row>3</th><td>10775</td><td>4709</td><td>1</td><td>44.0</td><td>0</td><td>outofstock</td><td>0</td><td>0</td><td>0</td><td>0</td><td>⋯</td><td><span style=white-space:pre-wrap>albert-mann-pinot-gris-vendanges-tardives-altenbourg-2011    </span></td><td>2018-12-22 10:30:02</td><td>2018-12-22 09:30:02</td><td>NA</td><td>0</td><td>https://www.bottle-neck.fr/?post_type=product&amp;#038;p=4709</td><td>0</td><td>product</td><td>NA</td><td>0</td></tr>\n",
       "\t<tr><th scope=row>4</th><td>10814</td><td>4656</td><td>1</td><td>43.0</td><td>3</td><td><span style=white-space:pre-wrap>instock   </span></td><td>0</td><td>0</td><td>0</td><td>0</td><td>⋯</td><td><span style=white-space:pre-wrap>thierry-germain-saumur-champigny-outre-terre-2013            </span></td><td>2020-08-05 14:35:02</td><td>2020-08-05 12:35:02</td><td>NA</td><td>0</td><td>https://www.bottle-neck.fr/?post_type=product&amp;#038;p=4656</td><td>0</td><td>product</td><td>NA</td><td>0</td></tr>\n",
       "\t<tr><th scope=row>5</th><td>11049</td><td>4619</td><td>1</td><td>59.0</td><td>5</td><td><span style=white-space:pre-wrap>instock   </span></td><td>0</td><td>0</td><td>0</td><td>0</td><td>⋯</td><td><span style=white-space:pre-wrap>alphonse-mellot-sancerre-rouge-en-grands-champs-2012         </span></td><td>2020-01-31 09:30:02</td><td>2020-01-31 08:30:02</td><td>NA</td><td>0</td><td>https://www.bottle-neck.fr/?post_type=product&amp;#038;p=4619</td><td>0</td><td>product</td><td>NA</td><td>0</td></tr>\n",
       "\t<tr><th scope=row>6</th><td>11225</td><td>4970</td><td>1</td><td>49.5</td><td>0</td><td>outofstock</td><td>0</td><td>0</td><td>0</td><td>0</td><td>⋯</td><td>champagne-larmandier-bernier-terre-de-vertus-premier-cru-2011</td><td>2019-05-17 10:10:03</td><td>2019-05-17 08:10:03</td><td>NA</td><td>0</td><td>https://www.bottle-neck.fr/?post_type=product&amp;#038;p=4970</td><td>0</td><td>product</td><td>NA</td><td>0</td></tr>\n",
       "</tbody>\n",
       "</table>\n"
      ],
      "text/latex": [
       "A data.frame: 6 × 33\n",
       "\\begin{tabular}{r|lllllllllllllllllllll}\n",
       "  & id\\_web & product\\_id & onsale\\_web & price & stock\\_quantity & stock\\_status & virtual & downloadable & rating\\_count & average\\_rating & ⋯ & post\\_name & post\\_modified & post\\_modified\\_gmt & post\\_content\\_filtered & post\\_parent & guid & menu\\_order & post\\_type & post\\_mime\\_type & comment\\_count\\\\\n",
       "  & <chr> & <dbl> & <dbl> & <dbl> & <dbl> & <chr> & <dbl> & <dbl> & <dbl> & <dbl> & ⋯ & <chr> & <dttm> & <dttm> & <lgl> & <dbl> & <chr> & <dbl> & <chr> & <chr> & <dbl>\\\\\n",
       "\\hline\n",
       "\t1 & 10014 & 5913 & 1 & 36.0 & 9 & instock    & 0 & 0 & 0 & 0 & ⋯ & darnleys-london-dry-gin-original                              & 2020-08-26 15:55:02 & 2020-08-26 13:55:02 & NA & 0 & https://www.bottle-neck.fr/?post\\_type=product\\&\\#038;p=5913 & 0 & product & NA & 0\\\\\n",
       "\t2 & 10459 & 4617 & 1 & 67.5 & 1 & instock    & 0 & 0 & 0 & 0 & ⋯ & alphonse-mellot-sancerre-rouge-generation-xix-2011            & 2020-08-24 14:05:02 & 2020-08-24 12:05:02 & NA & 0 & https://www.bottle-neck.fr/?post\\_type=product\\&\\#038;p=4617 & 0 & product & NA & 0\\\\\n",
       "\t3 & 10775 & 4709 & 1 & 44.0 & 0 & outofstock & 0 & 0 & 0 & 0 & ⋯ & albert-mann-pinot-gris-vendanges-tardives-altenbourg-2011     & 2018-12-22 10:30:02 & 2018-12-22 09:30:02 & NA & 0 & https://www.bottle-neck.fr/?post\\_type=product\\&\\#038;p=4709 & 0 & product & NA & 0\\\\\n",
       "\t4 & 10814 & 4656 & 1 & 43.0 & 3 & instock    & 0 & 0 & 0 & 0 & ⋯ & thierry-germain-saumur-champigny-outre-terre-2013             & 2020-08-05 14:35:02 & 2020-08-05 12:35:02 & NA & 0 & https://www.bottle-neck.fr/?post\\_type=product\\&\\#038;p=4656 & 0 & product & NA & 0\\\\\n",
       "\t5 & 11049 & 4619 & 1 & 59.0 & 5 & instock    & 0 & 0 & 0 & 0 & ⋯ & alphonse-mellot-sancerre-rouge-en-grands-champs-2012          & 2020-01-31 09:30:02 & 2020-01-31 08:30:02 & NA & 0 & https://www.bottle-neck.fr/?post\\_type=product\\&\\#038;p=4619 & 0 & product & NA & 0\\\\\n",
       "\t6 & 11225 & 4970 & 1 & 49.5 & 0 & outofstock & 0 & 0 & 0 & 0 & ⋯ & champagne-larmandier-bernier-terre-de-vertus-premier-cru-2011 & 2019-05-17 10:10:03 & 2019-05-17 08:10:03 & NA & 0 & https://www.bottle-neck.fr/?post\\_type=product\\&\\#038;p=4970 & 0 & product & NA & 0\\\\\n",
       "\\end{tabular}\n"
      ],
      "text/markdown": [
       "\n",
       "A data.frame: 6 × 33\n",
       "\n",
       "| <!--/--> | id_web &lt;chr&gt; | product_id &lt;dbl&gt; | onsale_web &lt;dbl&gt; | price &lt;dbl&gt; | stock_quantity &lt;dbl&gt; | stock_status &lt;chr&gt; | virtual &lt;dbl&gt; | downloadable &lt;dbl&gt; | rating_count &lt;dbl&gt; | average_rating &lt;dbl&gt; | ⋯ ⋯ | post_name &lt;chr&gt; | post_modified &lt;dttm&gt; | post_modified_gmt &lt;dttm&gt; | post_content_filtered &lt;lgl&gt; | post_parent &lt;dbl&gt; | guid &lt;chr&gt; | menu_order &lt;dbl&gt; | post_type &lt;chr&gt; | post_mime_type &lt;chr&gt; | comment_count &lt;dbl&gt; |\n",
       "|---|---|---|---|---|---|---|---|---|---|---|---|---|---|---|---|---|---|---|---|---|---|\n",
       "| 1 | 10014 | 5913 | 1 | 36.0 | 9 | instock    | 0 | 0 | 0 | 0 | ⋯ | darnleys-london-dry-gin-original                              | 2020-08-26 15:55:02 | 2020-08-26 13:55:02 | NA | 0 | https://www.bottle-neck.fr/?post_type=product&amp;#038;p=5913 | 0 | product | NA | 0 |\n",
       "| 2 | 10459 | 4617 | 1 | 67.5 | 1 | instock    | 0 | 0 | 0 | 0 | ⋯ | alphonse-mellot-sancerre-rouge-generation-xix-2011            | 2020-08-24 14:05:02 | 2020-08-24 12:05:02 | NA | 0 | https://www.bottle-neck.fr/?post_type=product&amp;#038;p=4617 | 0 | product | NA | 0 |\n",
       "| 3 | 10775 | 4709 | 1 | 44.0 | 0 | outofstock | 0 | 0 | 0 | 0 | ⋯ | albert-mann-pinot-gris-vendanges-tardives-altenbourg-2011     | 2018-12-22 10:30:02 | 2018-12-22 09:30:02 | NA | 0 | https://www.bottle-neck.fr/?post_type=product&amp;#038;p=4709 | 0 | product | NA | 0 |\n",
       "| 4 | 10814 | 4656 | 1 | 43.0 | 3 | instock    | 0 | 0 | 0 | 0 | ⋯ | thierry-germain-saumur-champigny-outre-terre-2013             | 2020-08-05 14:35:02 | 2020-08-05 12:35:02 | NA | 0 | https://www.bottle-neck.fr/?post_type=product&amp;#038;p=4656 | 0 | product | NA | 0 |\n",
       "| 5 | 11049 | 4619 | 1 | 59.0 | 5 | instock    | 0 | 0 | 0 | 0 | ⋯ | alphonse-mellot-sancerre-rouge-en-grands-champs-2012          | 2020-01-31 09:30:02 | 2020-01-31 08:30:02 | NA | 0 | https://www.bottle-neck.fr/?post_type=product&amp;#038;p=4619 | 0 | product | NA | 0 |\n",
       "| 6 | 11225 | 4970 | 1 | 49.5 | 0 | outofstock | 0 | 0 | 0 | 0 | ⋯ | champagne-larmandier-bernier-terre-de-vertus-premier-cru-2011 | 2019-05-17 10:10:03 | 2019-05-17 08:10:03 | NA | 0 | https://www.bottle-neck.fr/?post_type=product&amp;#038;p=4970 | 0 | product | NA | 0 |\n",
       "\n"
      ],
      "text/plain": [
       "  id_web product_id onsale_web price stock_quantity stock_status virtual\n",
       "1 10014  5913       1          36.0  9              instock      0      \n",
       "2 10459  4617       1          67.5  1              instock      0      \n",
       "3 10775  4709       1          44.0  0              outofstock   0      \n",
       "4 10814  4656       1          43.0  3              instock      0      \n",
       "5 11049  4619       1          59.0  5              instock      0      \n",
       "6 11225  4970       1          49.5  0              outofstock   0      \n",
       "  downloadable rating_count average_rating ⋯\n",
       "1 0            0            0              ⋯\n",
       "2 0            0            0              ⋯\n",
       "3 0            0            0              ⋯\n",
       "4 0            0            0              ⋯\n",
       "5 0            0            0              ⋯\n",
       "6 0            0            0              ⋯\n",
       "  post_name                                                    \n",
       "1 darnleys-london-dry-gin-original                             \n",
       "2 alphonse-mellot-sancerre-rouge-generation-xix-2011           \n",
       "3 albert-mann-pinot-gris-vendanges-tardives-altenbourg-2011    \n",
       "4 thierry-germain-saumur-champigny-outre-terre-2013            \n",
       "5 alphonse-mellot-sancerre-rouge-en-grands-champs-2012         \n",
       "6 champagne-larmandier-bernier-terre-de-vertus-premier-cru-2011\n",
       "  post_modified       post_modified_gmt   post_content_filtered post_parent\n",
       "1 2020-08-26 15:55:02 2020-08-26 13:55:02 NA                    0          \n",
       "2 2020-08-24 14:05:02 2020-08-24 12:05:02 NA                    0          \n",
       "3 2018-12-22 10:30:02 2018-12-22 09:30:02 NA                    0          \n",
       "4 2020-08-05 14:35:02 2020-08-05 12:35:02 NA                    0          \n",
       "5 2020-01-31 09:30:02 2020-01-31 08:30:02 NA                    0          \n",
       "6 2019-05-17 10:10:03 2019-05-17 08:10:03 NA                    0          \n",
       "  guid                                                      menu_order\n",
       "1 https://www.bottle-neck.fr/?post_type=product&#038;p=5913 0         \n",
       "2 https://www.bottle-neck.fr/?post_type=product&#038;p=4617 0         \n",
       "3 https://www.bottle-neck.fr/?post_type=product&#038;p=4709 0         \n",
       "4 https://www.bottle-neck.fr/?post_type=product&#038;p=4656 0         \n",
       "5 https://www.bottle-neck.fr/?post_type=product&#038;p=4619 0         \n",
       "6 https://www.bottle-neck.fr/?post_type=product&#038;p=4970 0         \n",
       "  post_type post_mime_type comment_count\n",
       "1 product   NA             0            \n",
       "2 product   NA             0            \n",
       "3 product   NA             0            \n",
       "4 product   NA             0            \n",
       "5 product   NA             0            \n",
       "6 product   NA             0            "
      ]
     },
     "metadata": {},
     "output_type": "display_data"
    }
   ],
   "source": [
    "# On ne conserve que les lignes qui ont trouvé une correspondance\n",
    "df_final_ok <- merge(df_erp_liaison, df_product, by.x='id_web', by.y='sku')\n",
    "\n",
    "# On observe\n",
    "print(dim(df_final_ok))\n",
    "head(df_final_ok)"
   ]
  },
  {
   "cell_type": "markdown",
   "id": "domestic-belgium",
   "metadata": {},
   "source": [
    "<div style=\"background-color: RGB(51,165,182);\" >\n",
    "<h2 style=\"margin: auto; padding: 20px; color:#fff; \">Partie 4 - CA par produit et total</h2>\n",
    "</div>"
   ]
  },
  {
   "cell_type": "code",
   "execution_count": 23,
   "id": "official-palestinian",
   "metadata": {},
   "outputs": [
    {
     "name": "stdout",
     "output_type": "stream",
     "text": [
      "[1] 714   3\n"
     ]
    },
    {
     "data": {
      "text/html": [
       "<table class=\"dataframe\">\n",
       "<caption>A data.frame: 6 × 3</caption>\n",
       "<thead>\n",
       "\t<tr><th></th><th scope=col>price</th><th scope=col>total_sales</th><th scope=col>CA_per_product</th></tr>\n",
       "\t<tr><th></th><th scope=col>&lt;dbl&gt;</th><th scope=col>&lt;dbl&gt;</th><th scope=col>&lt;dbl&gt;</th></tr>\n",
       "</thead>\n",
       "<tbody>\n",
       "\t<tr><th scope=row>1</th><td>36.0</td><td>0</td><td>0</td></tr>\n",
       "\t<tr><th scope=row>2</th><td>67.5</td><td>0</td><td>0</td></tr>\n",
       "\t<tr><th scope=row>3</th><td>44.0</td><td>0</td><td>0</td></tr>\n",
       "\t<tr><th scope=row>4</th><td>43.0</td><td>0</td><td>0</td></tr>\n",
       "\t<tr><th scope=row>5</th><td>59.0</td><td>0</td><td>0</td></tr>\n",
       "\t<tr><th scope=row>6</th><td>49.5</td><td>0</td><td>0</td></tr>\n",
       "</tbody>\n",
       "</table>\n"
      ],
      "text/latex": [
       "A data.frame: 6 × 3\n",
       "\\begin{tabular}{r|lll}\n",
       "  & price & total\\_sales & CA\\_per\\_product\\\\\n",
       "  & <dbl> & <dbl> & <dbl>\\\\\n",
       "\\hline\n",
       "\t1 & 36.0 & 0 & 0\\\\\n",
       "\t2 & 67.5 & 0 & 0\\\\\n",
       "\t3 & 44.0 & 0 & 0\\\\\n",
       "\t4 & 43.0 & 0 & 0\\\\\n",
       "\t5 & 59.0 & 0 & 0\\\\\n",
       "\t6 & 49.5 & 0 & 0\\\\\n",
       "\\end{tabular}\n"
      ],
      "text/markdown": [
       "\n",
       "A data.frame: 6 × 3\n",
       "\n",
       "| <!--/--> | price &lt;dbl&gt; | total_sales &lt;dbl&gt; | CA_per_product &lt;dbl&gt; |\n",
       "|---|---|---|---|\n",
       "| 1 | 36.0 | 0 | 0 |\n",
       "| 2 | 67.5 | 0 | 0 |\n",
       "| 3 | 44.0 | 0 | 0 |\n",
       "| 4 | 43.0 | 0 | 0 |\n",
       "| 5 | 59.0 | 0 | 0 |\n",
       "| 6 | 49.5 | 0 | 0 |\n",
       "\n"
      ],
      "text/plain": [
       "  price total_sales CA_per_product\n",
       "1 36.0  0           0             \n",
       "2 67.5  0           0             \n",
       "3 44.0  0           0             \n",
       "4 43.0  0           0             \n",
       "5 59.0  0           0             \n",
       "6 49.5  0           0             "
      ]
     },
     "metadata": {},
     "output_type": "display_data"
    }
   ],
   "source": [
    "# On créé une colonne calculée\n",
    "df_final_ok['CA_per_product'] <- df_final_ok['price'] * df_final_ok['total_sales']\n",
    "\n",
    "# On observe\n",
    "colonnes <- c('price', 'total_sales', 'CA_per_product')\n",
    "observation <- df_final_ok[colonnes]\n",
    "print(dim(observation))\n",
    "head(observation)"
   ]
  },
  {
   "cell_type": "code",
   "execution_count": 24,
   "id": "actual-growth",
   "metadata": {},
   "outputs": [
    {
     "name": "stdout",
     "output_type": "stream",
     "text": [
      "[1] \"Le chiffre d'affaire total réalisé est de 70568.60 euros.\"\n"
     ]
    }
   ],
   "source": [
    "# On calcule la somme de la colonne CA_per_product\n",
    "total <- sprintf(\"%.2f\", sum(df_final_ok['CA_per_product']))\n",
    "\n",
    "# On affiche le résultat\n",
    "print(paste(\"Le chiffre d'affaire total réalisé est de\" , total , \"euros.\"))"
   ]
  },
  {
   "cell_type": "markdown",
   "id": "balanced-stick",
   "metadata": {},
   "source": [
    "<div style=\"background-color: RGB(51,165,182);\" >\n",
    "<h2 style=\"margin: auto; padding: 20px; color:#fff; \">Partie 5 - Analyse univariée</h2>\n",
    "</div>"
   ]
  },
  {
   "cell_type": "markdown",
   "id": "discrete-colon",
   "metadata": {},
   "source": [
    "<div style=\"border: 1px solid RGB(51,165,182);\" >\n",
    "<h3 style=\"margin: auto; padding: 20px; color: RGB(51,165,182); \">5.1 - Méthode du z score (supérieur à 2 standard deviation)<br/>\n",
    "<br/>\n",
    "Z score = (Observation - Mean)/standard deviation</h3>\n",
    "</div>"
   ]
  },
  {
   "cell_type": "code",
   "execution_count": 25,
   "id": "confirmed-student",
   "metadata": {
    "scrolled": false
   },
   "outputs": [
    {
     "name": "stdout",
     "output_type": "stream",
     "text": [
      "[1] \"Nombre d'outliers détectés =>  30\"\n"
     ]
    },
    {
     "data": {
      "text/html": [
       "<style>\n",
       ".list-inline {list-style: none; margin:0; padding: 0}\n",
       ".list-inline>li {display: inline-block}\n",
       ".list-inline>li:not(:last-child)::after {content: \"\\00b7\"; padding: 0 .5ex}\n",
       "</style>\n",
       "<ol class=list-inline><li>99</li><li>105</li><li>88.4</li><li>126.5</li><li>115</li><li>105</li><li>109.6</li><li>112</li><li>115</li><li>137</li><li>217.5</li><li>105.6</li><li>114</li><li>93</li><li>122</li><li>102.3</li><li>124.8</li><li>135</li><li>191.3</li><li>121</li><li>121</li><li>116.4</li><li>175</li><li>100</li><li>225</li><li>92</li><li>108.5</li><li>104</li><li>176</li><li>157</li></ol>\n"
      ],
      "text/latex": [
       "\\begin{enumerate*}\n",
       "\\item 99\n",
       "\\item 105\n",
       "\\item 88.4\n",
       "\\item 126.5\n",
       "\\item 115\n",
       "\\item 105\n",
       "\\item 109.6\n",
       "\\item 112\n",
       "\\item 115\n",
       "\\item 137\n",
       "\\item 217.5\n",
       "\\item 105.6\n",
       "\\item 114\n",
       "\\item 93\n",
       "\\item 122\n",
       "\\item 102.3\n",
       "\\item 124.8\n",
       "\\item 135\n",
       "\\item 191.3\n",
       "\\item 121\n",
       "\\item 121\n",
       "\\item 116.4\n",
       "\\item 175\n",
       "\\item 100\n",
       "\\item 225\n",
       "\\item 92\n",
       "\\item 108.5\n",
       "\\item 104\n",
       "\\item 176\n",
       "\\item 157\n",
       "\\end{enumerate*}\n"
      ],
      "text/markdown": [
       "1. 99\n",
       "2. 105\n",
       "3. 88.4\n",
       "4. 126.5\n",
       "5. 115\n",
       "6. 105\n",
       "7. 109.6\n",
       "8. 112\n",
       "9. 115\n",
       "10. 137\n",
       "11. 217.5\n",
       "12. 105.6\n",
       "13. 114\n",
       "14. 93\n",
       "15. 122\n",
       "16. 102.3\n",
       "17. 124.8\n",
       "18. 135\n",
       "19. 191.3\n",
       "20. 121\n",
       "21. 121\n",
       "22. 116.4\n",
       "23. 175\n",
       "24. 100\n",
       "25. 225\n",
       "26. 92\n",
       "27. 108.5\n",
       "28. 104\n",
       "29. 176\n",
       "30. 157\n",
       "\n",
       "\n"
      ],
      "text/plain": [
       " [1]  99.0 105.0  88.4 126.5 115.0 105.0 109.6 112.0 115.0 137.0 217.5 105.6\n",
       "[13] 114.0  93.0 122.0 102.3 124.8 135.0 191.3 121.0 121.0 116.4 175.0 100.0\n",
       "[25] 225.0  92.0 108.5 104.0 176.0 157.0"
      ]
     },
     "metadata": {},
     "output_type": "display_data"
    }
   ],
   "source": [
    "# On récupère la colonne price\n",
    "price <- df_final_ok['price']\n",
    "\n",
    "# On écrit une fonction qui va lister les prix considérés comme outliers\n",
    "outliers <- c()\n",
    "detectOutlier <- function(data){\n",
    "    threshold <- 2\n",
    "    mean <- sapply(data, mean)\n",
    "    std <- sapply(data, sd)\n",
    "    \n",
    "    for(j in 1:nrow(data)){\n",
    "        i = data[j,]\n",
    "        z_score <- (i - mean)/std\n",
    "        if(abs(z_score) > threshold){\n",
    "            outliers <- append(outliers, i)\n",
    "        }\n",
    "    }\n",
    "    return(outliers)\n",
    "}\n",
    "\n",
    "# On observe\n",
    "priceOutliers <- detectOutlier(price)\n",
    "print(paste(\"Nombre d'outliers détectés => \" , length(priceOutliers)))\n",
    "priceOutliers"
   ]
  },
  {
   "cell_type": "markdown",
   "id": "celtic-application",
   "metadata": {},
   "source": [
    "<div style=\"border: 1px solid RGB(51,165,182);\" >\n",
    "<h3 style=\"margin: auto; padding: 20px; color: RGB(51,165,182); \">5.2 - Méthode des interquartiles<br/>\n",
    "<br/>\n",
    "1,5 fois la distance interquartile avant le premier et après le troisième</h3>\n",
    "</div>"
   ]
  },
  {
   "cell_type": "code",
   "execution_count": 26,
   "id": "dirty-allocation",
   "metadata": {},
   "outputs": [],
   "source": [
    "# On ordonne les prix\n",
    "price = sort(price$price)"
   ]
  },
  {
   "cell_type": "code",
   "execution_count": 27,
   "id": "direct-links",
   "metadata": {
    "scrolled": false
   },
   "outputs": [
    {
     "name": "stdout",
     "output_type": "stream",
     "text": [
      "[1] \"Q1 =>  14.1\"\n",
      "[1] \"Q3 =>  42.175\"\n",
      "[1] \"IQR =>  28.075\"\n",
      "[1] \"Lower_bound =>  -28.0125\"\n",
      "[1] \"Upper_bound =>  84.2875\"\n",
      "[1] \"Nombre d'outliers détectés =>  32\"\n"
     ]
    },
    {
     "data": {
      "text/html": [
       "<table class=\"dataframe\">\n",
       "<caption>A data.frame: 32 × 1</caption>\n",
       "<thead>\n",
       "\t<tr><th></th><th scope=col>price</th></tr>\n",
       "\t<tr><th></th><th scope=col>&lt;dbl&gt;</th></tr>\n",
       "</thead>\n",
       "<tbody>\n",
       "\t<tr><th scope=row>13</th><td> 99.0</td></tr>\n",
       "\t<tr><th scope=row>14</th><td>105.0</td></tr>\n",
       "\t<tr><th scope=row>16</th><td> 88.4</td></tr>\n",
       "\t<tr><th scope=row>39</th><td>126.5</td></tr>\n",
       "\t<tr><th scope=row>46</th><td>115.0</td></tr>\n",
       "\t<tr><th scope=row>47</th><td>105.0</td></tr>\n",
       "\t<tr><th scope=row>48</th><td>109.6</td></tr>\n",
       "\t<tr><th scope=row>104</th><td> 85.6</td></tr>\n",
       "\t<tr><th scope=row>110</th><td> 86.8</td></tr>\n",
       "\t<tr><th scope=row>111</th><td>112.0</td></tr>\n",
       "\t<tr><th scope=row>118</th><td>115.0</td></tr>\n",
       "\t<tr><th scope=row>132</th><td>137.0</td></tr>\n",
       "\t<tr><th scope=row>162</th><td>217.5</td></tr>\n",
       "\t<tr><th scope=row>163</th><td>105.6</td></tr>\n",
       "\t<tr><th scope=row>187</th><td>114.0</td></tr>\n",
       "\t<tr><th scope=row>188</th><td> 93.0</td></tr>\n",
       "\t<tr><th scope=row>189</th><td>122.0</td></tr>\n",
       "\t<tr><th scope=row>193</th><td>102.3</td></tr>\n",
       "\t<tr><th scope=row>209</th><td>124.8</td></tr>\n",
       "\t<tr><th scope=row>210</th><td>135.0</td></tr>\n",
       "\t<tr><th scope=row>222</th><td>191.3</td></tr>\n",
       "\t<tr><th scope=row>233</th><td>121.0</td></tr>\n",
       "\t<tr><th scope=row>234</th><td>121.0</td></tr>\n",
       "\t<tr><th scope=row>243</th><td>116.4</td></tr>\n",
       "\t<tr><th scope=row>264</th><td>175.0</td></tr>\n",
       "\t<tr><th scope=row>320</th><td>100.0</td></tr>\n",
       "\t<tr><th scope=row>512</th><td>225.0</td></tr>\n",
       "\t<tr><th scope=row>676</th><td> 92.0</td></tr>\n",
       "\t<tr><th scope=row>683</th><td>108.5</td></tr>\n",
       "\t<tr><th scope=row>684</th><td>104.0</td></tr>\n",
       "\t<tr><th scope=row>685</th><td>176.0</td></tr>\n",
       "\t<tr><th scope=row>698</th><td>157.0</td></tr>\n",
       "</tbody>\n",
       "</table>\n"
      ],
      "text/latex": [
       "A data.frame: 32 × 1\n",
       "\\begin{tabular}{r|l}\n",
       "  & price\\\\\n",
       "  & <dbl>\\\\\n",
       "\\hline\n",
       "\t13 &  99.0\\\\\n",
       "\t14 & 105.0\\\\\n",
       "\t16 &  88.4\\\\\n",
       "\t39 & 126.5\\\\\n",
       "\t46 & 115.0\\\\\n",
       "\t47 & 105.0\\\\\n",
       "\t48 & 109.6\\\\\n",
       "\t104 &  85.6\\\\\n",
       "\t110 &  86.8\\\\\n",
       "\t111 & 112.0\\\\\n",
       "\t118 & 115.0\\\\\n",
       "\t132 & 137.0\\\\\n",
       "\t162 & 217.5\\\\\n",
       "\t163 & 105.6\\\\\n",
       "\t187 & 114.0\\\\\n",
       "\t188 &  93.0\\\\\n",
       "\t189 & 122.0\\\\\n",
       "\t193 & 102.3\\\\\n",
       "\t209 & 124.8\\\\\n",
       "\t210 & 135.0\\\\\n",
       "\t222 & 191.3\\\\\n",
       "\t233 & 121.0\\\\\n",
       "\t234 & 121.0\\\\\n",
       "\t243 & 116.4\\\\\n",
       "\t264 & 175.0\\\\\n",
       "\t320 & 100.0\\\\\n",
       "\t512 & 225.0\\\\\n",
       "\t676 &  92.0\\\\\n",
       "\t683 & 108.5\\\\\n",
       "\t684 & 104.0\\\\\n",
       "\t685 & 176.0\\\\\n",
       "\t698 & 157.0\\\\\n",
       "\\end{tabular}\n"
      ],
      "text/markdown": [
       "\n",
       "A data.frame: 32 × 1\n",
       "\n",
       "| <!--/--> | price &lt;dbl&gt; |\n",
       "|---|---|\n",
       "| 13 |  99.0 |\n",
       "| 14 | 105.0 |\n",
       "| 16 |  88.4 |\n",
       "| 39 | 126.5 |\n",
       "| 46 | 115.0 |\n",
       "| 47 | 105.0 |\n",
       "| 48 | 109.6 |\n",
       "| 104 |  85.6 |\n",
       "| 110 |  86.8 |\n",
       "| 111 | 112.0 |\n",
       "| 118 | 115.0 |\n",
       "| 132 | 137.0 |\n",
       "| 162 | 217.5 |\n",
       "| 163 | 105.6 |\n",
       "| 187 | 114.0 |\n",
       "| 188 |  93.0 |\n",
       "| 189 | 122.0 |\n",
       "| 193 | 102.3 |\n",
       "| 209 | 124.8 |\n",
       "| 210 | 135.0 |\n",
       "| 222 | 191.3 |\n",
       "| 233 | 121.0 |\n",
       "| 234 | 121.0 |\n",
       "| 243 | 116.4 |\n",
       "| 264 | 175.0 |\n",
       "| 320 | 100.0 |\n",
       "| 512 | 225.0 |\n",
       "| 676 |  92.0 |\n",
       "| 683 | 108.5 |\n",
       "| 684 | 104.0 |\n",
       "| 685 | 176.0 |\n",
       "| 698 | 157.0 |\n",
       "\n"
      ],
      "text/plain": [
       "    price\n",
       "13   99.0\n",
       "14  105.0\n",
       "16   88.4\n",
       "39  126.5\n",
       "46  115.0\n",
       "47  105.0\n",
       "48  109.6\n",
       "104  85.6\n",
       "110  86.8\n",
       "111 112.0\n",
       "118 115.0\n",
       "132 137.0\n",
       "162 217.5\n",
       "163 105.6\n",
       "187 114.0\n",
       "188  93.0\n",
       "189 122.0\n",
       "193 102.3\n",
       "209 124.8\n",
       "210 135.0\n",
       "222 191.3\n",
       "233 121.0\n",
       "234 121.0\n",
       "243 116.4\n",
       "264 175.0\n",
       "320 100.0\n",
       "512 225.0\n",
       "676  92.0\n",
       "683 108.5\n",
       "684 104.0\n",
       "685 176.0\n",
       "698 157.0"
      ]
     },
     "metadata": {},
     "output_type": "display_data"
    }
   ],
   "source": [
    "# On calcule l'interquartile\n",
    "q = quantile(price,c(.25,.75))\n",
    "q1 = q[1]\n",
    "q3 = q[2]\n",
    "iqr = q3 - q1\n",
    "print(paste(\"Q1 => \" , q1))\n",
    "print(paste(\"Q3 => \" , q3))\n",
    "print(paste(\"IQR => \" , iqr))\n",
    "      \n",
    "# On calcule les valeurs limite\n",
    "lower_bound = q1 -(1.5 * iqr)\n",
    "upper_bound = q3 +(1.5 * iqr)\n",
    "print(paste(\"Lower_bound => \" , lower_bound))\n",
    "print(paste(\"Upper_bound => \" , upper_bound))\n",
    "\n",
    "# On cherche les outliers\n",
    "result = df_final_ok[(df_final_ok['price'] > upper_bound) | (df_final_ok['price'] < lower_bound),]\n",
    "\n",
    "# On observe\n",
    "print(paste(\"Nombre d'outliers détectés => \" , nrow(result)))\n",
    "result['price']"
   ]
  },
  {
   "cell_type": "markdown",
   "id": "other-driver",
   "metadata": {},
   "source": [
    "<div style=\"border: 1px solid RGB(51,165,182);\" >\n",
    "<h3 style=\"margin: auto; padding: 20px; color: RGB(51,165,182); \">5.3 - Méthode graphique avec un scatter plot</h3>\n",
    "</div>"
   ]
  },
  {
   "cell_type": "code",
   "execution_count": 34,
   "id": "plastic-diary",
   "metadata": {},
   "outputs": [
    {
     "data": {
      "image/png": "[encoded data removed]",
      "text/plain": [
       "plot without title"
      ]
     },
     "metadata": {
      "image/png": {
       "height": 420,
       "width": 420
      }
     },
     "output_type": "display_data"
    }
   ],
   "source": [
    "# On se créé un vecteur booléen déterminant si un prix est un outlier ou pas\n",
    "condition = (df_final_ok['price'] < upper_bound) & (df_final_ok['price'] > lower_bound)\n",
    "\n",
    "# On affiche\n",
    "ggplot(df_final_ok, aes(x=1:nrow(df_final_ok), y=price, color=condition)) +\n",
    "  geom_point()"
   ]
  },
  {
   "cell_type": "markdown",
   "id": "median-groove",
   "metadata": {},
   "source": [
    "<div style=\"border: 1px solid RGB(51,165,182);\" >\n",
    "<h3 style=\"margin: auto; padding: 20px; color: RGB(51,165,182); \">5.4 - Méthode graphique avec boxplot (2 exemples)</h3>\n",
    "</div>"
   ]
  },
  {
   "cell_type": "code",
   "execution_count": 37,
   "id": "advised-latex",
   "metadata": {},
   "outputs": [
    {
     "data": {
      "image/png": "[encoded data removed]",
      "text/plain": [
       "plot without title"
      ]
     },
     "metadata": {
      "image/png": {
       "height": 420,
       "width": 420
      }
     },
     "output_type": "display_data"
    }
   ],
   "source": [
    " ggplot(df_final_ok, aes(x=price)) + \n",
    "  geom_boxplot() + coord_flip()"
   ]
  },
  {
   "cell_type": "code",
   "execution_count": 42,
   "id": "occupied-relay",
   "metadata": {},
   "outputs": [
    {
     "data": {
      "image/png": "[encoded data removed]",
      "text/plain": [
       "plot without title"
      ]
     },
     "metadata": {
      "image/png": {
       "height": 420,
       "width": 420
      }
     },
     "output_type": "display_data"
    }
   ],
   "source": [
    " ggplot(df_final_ok, aes(x=price)) + \n",
    "  geom_boxplot(fill='#5975a4') + theme_classic()"
   ]
  },
  {
   "cell_type": "code",
   "execution_count": null,
   "id": "rocky-objective",
   "metadata": {},
   "outputs": [],
   "source": []
  }
 ],
 "metadata": {
  "kernelspec": {
   "display_name": "R",
   "language": "R",
   "name": "ir"
  },
  "language_info": {
   "codemirror_mode": "r",
   "file_extension": ".r",
   "mimetype": "text/x-r-source",
   "name": "R",
   "pygments_lexer": "r",
   "version": "3.6.1"
  },
  "toc": {
   "base_numbering": 1,
   "nav_menu": {},
   "number_sections": true,
   "sideBar": true,
   "skip_h1_title": false,
   "title_cell": "Table of Contents",
   "title_sidebar": "Contents",
   "toc_cell": false,
   "toc_position": {},
   "toc_section_display": true,
   "toc_window_display": false
  }
 },
 "nbformat": 4,
 "nbformat_minor": 5
}
