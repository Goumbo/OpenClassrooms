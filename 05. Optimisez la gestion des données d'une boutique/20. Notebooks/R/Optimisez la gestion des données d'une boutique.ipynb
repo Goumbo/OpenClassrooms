{
 "cells": [
  {
   "cell_type": "markdown",
   "id": "unable-wrong",
   "metadata": {},
   "source": [
    "<div style=\"display: flex; background-color: RGB(255,114,0);\" >\n",
    "<h1 style=\"margin: auto; padding: 30px; \">PROJET 5 - Parcours Data Analyst</h1>\n",
    "</div>"
   ]
  },
  {
   "cell_type": "markdown",
   "id": "bacterial-single",
   "metadata": {},
   "source": [
    "<div style=\"background-color: RGB(51,165,182);\" >\n",
    "<h2 style=\"margin: auto; padding: 20px; color:#fff; \">Partie 1 - Librairies et fonctions</h2>\n",
    "</div>"
   ]
  },
  {
   "cell_type": "markdown",
   "id": "married-mechanics",
   "metadata": {},
   "source": [
    "<div style=\"border: 1px solid RGB(51,165,182);\" >\n",
    "<h3 style=\"margin: auto; padding: 20px; color: RGB(51,165,182); \">1.1 - Importation des librairies</h3>\n",
    "</div>"
   ]
  },
  {
   "cell_type": "code",
   "execution_count": 1,
   "id": "published-prior",
   "metadata": {},
   "outputs": [
    {
     "name": "stderr",
     "output_type": "stream",
     "text": [
      "Registered S3 methods overwritten by 'ggplot2':\n",
      "  method         from \n",
      "  [.quosures     rlang\n",
      "  c.quosures     rlang\n",
      "  print.quosures rlang\n"
     ]
    }
   ],
   "source": [
    ".libPaths( c( .libPaths(), \"~/R_packages\") )\n",
    "library(\"readxl\")\n",
    "library(\"dplyr\", warn.conflicts = FALSE) #traitement de données\n",
    "library(\"ggplot2\") # Graphes matplolib et seaborn"
   ]
  },
  {
   "cell_type": "markdown",
   "id": "specified-stephen",
   "metadata": {},
   "source": [
    "<div style=\"border: 1px solid RGB(51,165,182);\" >\n",
    "<h3 style=\"margin: auto; padding: 20px; color: RGB(51,165,182); \">1.2 - Déclaration des fonctions</h3>\n",
    "</div>"
   ]
  },
  {
   "cell_type": "code",
   "execution_count": 2,
   "id": "controversial-vessel",
   "metadata": {},
   "outputs": [],
   "source": [
    "#######################################################################\n",
    "# On écrit une fonction qui permettra de tester si une cle est fiable #\n",
    "#######################################################################\n",
    "testerCle <- function(df, colonnes){\n",
    "    # Fonction qui prend en arguments un dataframe et les colonnes qui composent la clé primaire à tester.\n",
    "    \n",
    "    # On compare la taille du dataframe avant et après dédoublonnage \n",
    "    if(nrow(df) == nrow(unique(df[colonnes]))){\n",
    "        print(\"La clé n'est pas présente plusieurs fois dans le dataframe.\")\n",
    "        print(\"Elle peut donc être utilisée comme clé primaire.\")\n",
    "    }else {\n",
    "        print(\"La clé est présente plusieurs fois dans le dataframe.\")\n",
    "        print(\"Elle ne peut donc pas être utilisée comme clé primaire.\")\n",
    "    }\n",
    "    \n",
    "    # On renvoie également le comptage\n",
    "    print(sprintf(\"Le dataframe est de la forme : (%s) (lignes, colonnes)\", paste0(dim(df), collapse=\",\")))\n",
    "}"
   ]
  },
  {
   "cell_type": "markdown",
   "id": "forward-rescue",
   "metadata": {},
   "source": [
    "<div style=\"background-color: RGB(51,165,182);\" >\n",
    "<h2 style=\"margin: auto; padding: 20px; color:#fff; \">Partie 2 - Importation et préparation des fichiers</h2>\n",
    "</div>"
   ]
  },
  {
   "cell_type": "code",
   "execution_count": 3,
   "id": "c9074dad",
   "metadata": {},
   "outputs": [
    {
     "name": "stdout",
     "output_type": "stream",
     "text": [
      "[1] 825   5\n",
      "Classes 'tbl_df', 'tbl' and 'data.frame':\t825 obs. of  5 variables:\n",
      " $ product_id    : num  3847 3849 3850 4032 4039 ...\n",
      " $ onsale_web    : num  1 1 1 1 1 1 1 1 1 1 ...\n",
      " $ price         : num  24.2 34.3 20.8 14.1 46 34.3 32.7 31.2 60 42.6 ...\n",
      " $ stock_quantity: num  0 0 0 0 0 0 15 34 12 66 ...\n",
      " $ stock_status  : chr  \"outofstock\" \"outofstock\" \"outofstock\" \"outofstock\" ...\n",
      "NULL\n"
     ]
    },
    {
     "data": {
      "text/html": [
       "<table>\n",
       "<thead><tr><th scope=col>product_id</th><th scope=col>onsale_web</th><th scope=col>price</th><th scope=col>stock_quantity</th><th scope=col>stock_status</th></tr></thead>\n",
       "<tbody>\n",
       "\t<tr><td>3847      </td><td>1         </td><td>24.2      </td><td>0         </td><td>outofstock</td></tr>\n",
       "\t<tr><td>3849      </td><td>1         </td><td>34.3      </td><td>0         </td><td>outofstock</td></tr>\n",
       "\t<tr><td>3850      </td><td>1         </td><td>20.8      </td><td>0         </td><td>outofstock</td></tr>\n",
       "\t<tr><td>4032      </td><td>1         </td><td>14.1      </td><td>0         </td><td>outofstock</td></tr>\n",
       "\t<tr><td>4039      </td><td>1         </td><td>46.0      </td><td>0         </td><td>outofstock</td></tr>\n",
       "\t<tr><td>4040      </td><td>1         </td><td>34.3      </td><td>0         </td><td>outofstock</td></tr>\n",
       "</tbody>\n",
       "</table>\n"
      ],
      "text/latex": [
       "\\begin{tabular}{r|lllll}\n",
       " product\\_id & onsale\\_web & price & stock\\_quantity & stock\\_status\\\\\n",
       "\\hline\n",
       "\t 3847       & 1          & 24.2       & 0          & outofstock\\\\\n",
       "\t 3849       & 1          & 34.3       & 0          & outofstock\\\\\n",
       "\t 3850       & 1          & 20.8       & 0          & outofstock\\\\\n",
       "\t 4032       & 1          & 14.1       & 0          & outofstock\\\\\n",
       "\t 4039       & 1          & 46.0       & 0          & outofstock\\\\\n",
       "\t 4040       & 1          & 34.3       & 0          & outofstock\\\\\n",
       "\\end{tabular}\n"
      ],
      "text/markdown": [
       "\n",
       "| product_id | onsale_web | price | stock_quantity | stock_status |\n",
       "|---|---|---|---|---|\n",
       "| 3847       | 1          | 24.2       | 0          | outofstock |\n",
       "| 3849       | 1          | 34.3       | 0          | outofstock |\n",
       "| 3850       | 1          | 20.8       | 0          | outofstock |\n",
       "| 4032       | 1          | 14.1       | 0          | outofstock |\n",
       "| 4039       | 1          | 46.0       | 0          | outofstock |\n",
       "| 4040       | 1          | 34.3       | 0          | outofstock |\n",
       "\n"
      ],
      "text/plain": [
       "  product_id onsale_web price stock_quantity stock_status\n",
       "1 3847       1          24.2  0              outofstock  \n",
       "2 3849       1          34.3  0              outofstock  \n",
       "3 3850       1          20.8  0              outofstock  \n",
       "4 4032       1          14.1  0              outofstock  \n",
       "5 4039       1          46.0  0              outofstock  \n",
       "6 4040       1          34.3  0              outofstock  "
      ]
     },
     "metadata": {},
     "output_type": "display_data"
    }
   ],
   "source": [
    "# On importe le fichier ERP\n",
    "NomRepertoire <- \"F:/35. Projet 05/01. Les données/\"\n",
    "NomFichier <- \"erp.xlsx\"\n",
    "df_erp <- read_excel(paste0(NomRepertoire, NomFichier))\n",
    "\n",
    "# On observe\n",
    "print(dim(df_erp)) # Affiche le Nombre de Lignes et de Colonnes\n",
    "print(str(df_erp)) # Affiche le type de données\n",
    "head(df_erp) #Affiche le dataframe par défaut 5\n"
   ]
  },
  {
   "cell_type": "code",
   "execution_count": 4,
   "id": "increased-sleeping",
   "metadata": {},
   "outputs": [
    {
     "name": "stdout",
     "output_type": "stream",
     "text": [
      "[1] \"La clé n'est pas présente plusieurs fois dans le dataframe.\"\n",
      "[1] \"Elle peut donc être utilisée comme clé primaire.\"\n",
      "[1] \"Le dataframe est de la forme : (825,5) (lignes, colonnes)\"\n"
     ]
    }
   ],
   "source": [
    "# On teste l'unicité de la clé primaire\n",
    "#testerCle(Erp,1)\n",
    "testerCle(df_erp, c('product_id')) # C colonne"
   ]
  },
  {
   "cell_type": "code",
   "execution_count": 5,
   "id": "generous-stock",
   "metadata": {},
   "outputs": [
    {
     "name": "stdout",
     "output_type": "stream",
     "text": [
      "[1] 825   2\n",
      "Classes 'tbl_df', 'tbl' and 'data.frame':\t825 obs. of  2 variables:\n",
      " $ product_id: num  3847 3849 3850 4032 4039 ...\n",
      " $ id_web    : chr  \"15298\" \"15296\" \"15300\" \"19814\" ...\n",
      "NULL\n"
     ]
    },
    {
     "data": {
      "text/html": [
       "<table>\n",
       "<thead><tr><th scope=col>product_id</th><th scope=col>id_web</th></tr></thead>\n",
       "<tbody>\n",
       "\t<tr><td>3847 </td><td>15298</td></tr>\n",
       "\t<tr><td>3849 </td><td>15296</td></tr>\n",
       "\t<tr><td>3850 </td><td>15300</td></tr>\n",
       "\t<tr><td>4032 </td><td>19814</td></tr>\n",
       "\t<tr><td>4039 </td><td>19815</td></tr>\n",
       "\t<tr><td>4040 </td><td>15303</td></tr>\n",
       "</tbody>\n",
       "</table>\n"
      ],
      "text/latex": [
       "\\begin{tabular}{r|ll}\n",
       " product\\_id & id\\_web\\\\\n",
       "\\hline\n",
       "\t 3847  & 15298\\\\\n",
       "\t 3849  & 15296\\\\\n",
       "\t 3850  & 15300\\\\\n",
       "\t 4032  & 19814\\\\\n",
       "\t 4039  & 19815\\\\\n",
       "\t 4040  & 15303\\\\\n",
       "\\end{tabular}\n"
      ],
      "text/markdown": [
       "\n",
       "| product_id | id_web |\n",
       "|---|---|\n",
       "| 3847  | 15298 |\n",
       "| 3849  | 15296 |\n",
       "| 3850  | 15300 |\n",
       "| 4032  | 19814 |\n",
       "| 4039  | 19815 |\n",
       "| 4040  | 15303 |\n",
       "\n"
      ],
      "text/plain": [
       "  product_id id_web\n",
       "1 3847       15298 \n",
       "2 3849       15296 \n",
       "3 3850       15300 \n",
       "4 4032       19814 \n",
       "5 4039       19815 \n",
       "6 4040       15303 "
      ]
     },
     "metadata": {},
     "output_type": "display_data"
    }
   ],
   "source": [
    "# On importe le fichier LIAISON\n",
    "NomFichier <- \"liaison.xlsx\"\n",
    "df_liaison <- read_excel(paste0(NomRepertoire, NomFichier))\n",
    "\n",
    "# On observe\n",
    "print(dim(df_liaison))\n",
    "print(str(df_liaison))\n",
    "head(df_liaison)"
   ]
  },
  {
   "cell_type": "code",
   "execution_count": 6,
   "id": "textile-synthesis",
   "metadata": {},
   "outputs": [
    {
     "name": "stdout",
     "output_type": "stream",
     "text": [
      "[1] \"La clé n'est pas présente plusieurs fois dans le dataframe.\"\n",
      "[1] \"Elle peut donc être utilisée comme clé primaire.\"\n",
      "[1] \"Le dataframe est de la forme : (825,2) (lignes, colonnes)\"\n"
     ]
    }
   ],
   "source": [
    "# On teste l'unicité de la clé primaire\n",
    "testerCle(df_liaison, c('product_id')) # C colonne"
   ]
  },
  {
   "cell_type": "code",
   "execution_count": 7,
   "id": "through-coupon",
   "metadata": {},
   "outputs": [
    {
     "name": "stdout",
     "output_type": "stream",
     "text": [
      "[1] 1513   28\n",
      "Classes 'tbl_df', 'tbl' and 'data.frame':\t1513 obs. of  28 variables:\n",
      " $ sku                  : chr  \"bon-cadeau-25-euros\" \"15298\" \"15296\" \"15300\" ...\n",
      " $ virtual              : num  0 0 0 0 0 0 0 0 0 0 ...\n",
      " $ downloadable         : num  0 0 0 0 0 0 0 0 0 0 ...\n",
      " $ rating_count         : num  0 0 0 0 0 0 0 0 0 0 ...\n",
      " $ average_rating       : num  0 0 0 0 0 0 0 0 0 0 ...\n",
      " $ total_sales          : num  10 6 0 0 3 0 0 0 7 3 ...\n",
      " $ tax_status           : chr  \"taxable\" \"taxable\" \"taxable\" \"taxable\" ...\n",
      " $ tax_class            : logi  NA NA NA NA NA NA ...\n",
      " $ post_author          : num  1 2 2 2 2 2 2 2 2 2 ...\n",
      " $ post_date            : POSIXct, format: \"2018-06-01 13:53:46\" \"2018-02-08 12:58:52\" ...\n",
      " $ post_date_gmt        : POSIXct, format: \"2018-06-01 11:53:46\" \"2018-02-08 11:58:52\" ...\n",
      " $ post_content         : logi  NA NA NA NA NA NA ...\n",
      " $ post_title           : chr  \"Bon cadeau de 25\\200\" \"Pierre Jean Villa Saint-Joseph Préface 2018\" \"Pierre Jean Villa Saint-Joseph Rouge Tildé 2017\" \"Pierre Jean Villa Crozes-Hermitage Accroche Coeur 2018\" ...\n",
      " $ post_excerpt         : chr  \"<span style=\\\"color: #a85253;\\\"><strong>Parlons peu, parlons vin.</strong>\\r\\n<strong>Parlons cadeau !</strong>\"| __truncated__ \"Il exhale un nez subtil, racé avec du poivre fin et de la tourbe. La bouche est une caresse grâce à des tanins \"| __truncated__ \"Les vieilles vignes lui apportent une rare profondeur. L’attaque affiche de l’élégance. La bouche est portée pa\"| __truncated__ \"Dentelle de fruit de jeunes syrah, aux tanins légers et épicés. Hyper digeste. Un délice.\" ...\n",
      " $ post_status          : chr  \"publish\" \"publish\" \"publish\" \"publish\" ...\n",
      " $ comment_status       : chr  \"closed\" \"closed\" \"closed\" \"closed\" ...\n",
      " $ ping_status          : chr  \"closed\" \"closed\" \"closed\" \"closed\" ...\n",
      " $ post_password        : logi  NA NA NA NA NA NA ...\n",
      " $ post_name            : chr  \"bon-cadeau-de-25-euros\" \"pierre-jean-villa-saint-joseph-preface-2018\" \"pierre-jean-villa-saint-joseph-tilde-2017\" \"pierre-jean-villa-croze-hermitage-accroche-coeur-2018\" ...\n",
      " $ post_modified        : POSIXct, format: \"2018-06-01 14:13:57\" \"2019-12-30 09:30:29\" ...\n",
      " $ post_modified_gmt    : POSIXct, format: \"2018-06-01 12:13:57\" \"2019-12-30 08:30:29\" ...\n",
      " $ post_content_filtered: logi  NA NA NA NA NA NA ...\n",
      " $ post_parent          : num  0 0 0 0 0 0 0 0 0 0 ...\n",
      " $ guid                 : chr  \"https://www.bottle-neck.fr/?post_type=product&#038;p=4954\" \"https://www.bottle-neck.fr/?post_type=product&#038;p=3847\" \"https://www.bottle-neck.fr/?post_type=product&#038;p=3849\" \"https://www.bottle-neck.fr/?post_type=product&#038;p=3850\" ...\n",
      " $ menu_order           : num  0 0 0 0 0 0 0 0 0 0 ...\n",
      " $ post_type            : chr  \"product\" \"product\" \"product\" \"product\" ...\n",
      " $ post_mime_type       : chr  NA NA NA NA ...\n",
      " $ comment_count        : num  0 0 0 0 0 0 0 0 0 0 ...\n",
      "NULL\n"
     ]
    },
    {
     "data": {
      "text/html": [
       "<table>\n",
       "<thead><tr><th scope=col>sku</th><th scope=col>virtual</th><th scope=col>downloadable</th><th scope=col>rating_count</th><th scope=col>average_rating</th><th scope=col>total_sales</th><th scope=col>tax_status</th><th scope=col>tax_class</th><th scope=col>post_author</th><th scope=col>post_date</th><th scope=col>...</th><th scope=col>post_name</th><th scope=col>post_modified</th><th scope=col>post_modified_gmt</th><th scope=col>post_content_filtered</th><th scope=col>post_parent</th><th scope=col>guid</th><th scope=col>menu_order</th><th scope=col>post_type</th><th scope=col>post_mime_type</th><th scope=col>comment_count</th></tr></thead>\n",
       "<tbody>\n",
       "\t<tr><td>bon-cadeau-25-euros                                                                          </td><td>0                                                                                            </td><td>0                                                                                            </td><td>0                                                                                            </td><td>0                                                                                            </td><td>10                                                                                           </td><td>taxable                                                                                      </td><td>NA                                                                                           </td><td>1                                                                                            </td><td>2018-06-01 13:53:46                                                                          </td><td>...                                                                                          </td><td><span style=white-space:pre-wrap>bon-cadeau-de-25-euros                               </span></td><td>2018-06-01 14:13:57                                                                          </td><td>2018-06-01 12:13:57                                                                          </td><td>NA                                                                                           </td><td>0                                                                                            </td><td>https://www.bottle-neck.fr/?post_type=product&amp;#038;p=4954                                </td><td>0                                                                                            </td><td>product                                                                                      </td><td>NA                                                                                           </td><td>0                                                                                            </td></tr>\n",
       "\t<tr><td><span style=white-space:pre-wrap>15298              </span>                                  </td><td>0                                                                                            </td><td>0                                                                                            </td><td>0                                                                                            </td><td>0                                                                                            </td><td> 6                                                                                           </td><td>taxable                                                                                      </td><td>NA                                                                                           </td><td>2                                                                                            </td><td>2018-02-08 12:58:52                                                                          </td><td>...                                                                                          </td><td><span style=white-space:pre-wrap>pierre-jean-villa-saint-joseph-preface-2018          </span></td><td>2019-12-30 09:30:29                                                                          </td><td>2019-12-30 08:30:29                                                                          </td><td>NA                                                                                           </td><td>0                                                                                            </td><td>https://www.bottle-neck.fr/?post_type=product&amp;#038;p=3847                                </td><td>0                                                                                            </td><td>product                                                                                      </td><td>NA                                                                                           </td><td>0                                                                                            </td></tr>\n",
       "\t<tr><td><span style=white-space:pre-wrap>15296              </span>                                  </td><td>0                                                                                            </td><td>0                                                                                            </td><td>0                                                                                            </td><td>0                                                                                            </td><td> 0                                                                                           </td><td>taxable                                                                                      </td><td>NA                                                                                           </td><td>2                                                                                            </td><td>2018-02-08 13:49:41                                                                          </td><td>...                                                                                          </td><td><span style=white-space:pre-wrap>pierre-jean-villa-saint-joseph-tilde-2017            </span></td><td>2019-12-21 09:00:17                                                                          </td><td>2019-12-21 08:00:17                                                                          </td><td>NA                                                                                           </td><td>0                                                                                            </td><td>https://www.bottle-neck.fr/?post_type=product&amp;#038;p=3849                                </td><td>0                                                                                            </td><td>product                                                                                      </td><td>NA                                                                                           </td><td>0                                                                                            </td></tr>\n",
       "\t<tr><td><span style=white-space:pre-wrap>15300              </span>  </td><td>0                                                            </td><td>0                                                            </td><td>0                                                            </td><td>0                                                            </td><td> 0                                                           </td><td>taxable                                                      </td><td>NA                                                           </td><td>2                                                            </td><td>2018-02-08 14:08:36                                          </td><td>...                                                          </td><td>pierre-jean-villa-croze-hermitage-accroche-coeur-2018        </td><td>2020-06-26 18:15:03                                          </td><td>2020-06-26 16:15:03                                          </td><td>NA                                                           </td><td>0                                                            </td><td>https://www.bottle-neck.fr/?post_type=product&amp;#038;p=3850</td><td>0                                                            </td><td>product                                                      </td><td>NA                                                           </td><td>0                                                            </td></tr>\n",
       "\t<tr><td><span style=white-space:pre-wrap>19814              </span>                                  </td><td>0                                                                                            </td><td>0                                                                                            </td><td>0                                                                                            </td><td>0                                                                                            </td><td> 3                                                                                           </td><td>taxable                                                                                      </td><td>NA                                                                                           </td><td>2                                                                                            </td><td>2018-02-09 14:01:05                                                                          </td><td>...                                                                                          </td><td><span style=white-space:pre-wrap>pierre-jean-villa-igp-gamine-2018                    </span></td><td>2020-01-04 16:36:01                                                                          </td><td>2020-01-04 15:36:01                                                                          </td><td>NA                                                                                           </td><td>0                                                                                            </td><td>https://www.bottle-neck.fr/?post_type=product&amp;#038;p=4032                                </td><td>0                                                                                            </td><td>product                                                                                      </td><td>NA                                                                                           </td><td>0                                                                                            </td></tr>\n",
       "\t<tr><td><span style=white-space:pre-wrap>19815              </span>                                  </td><td>0                                                                                            </td><td>0                                                                                            </td><td>0                                                                                            </td><td>0                                                                                            </td><td> 0                                                                                           </td><td>taxable                                                                                      </td><td>NA                                                                                           </td><td>2                                                                                            </td><td>2018-02-12 09:04:37                                                                          </td><td>...                                                                                          </td><td><span style=white-space:pre-wrap>pierre-jean-villa-cote-rotie-carmina-2017            </span></td><td>2020-01-04 16:36:10                                                                          </td><td>2020-01-04 15:36:10                                                                          </td><td>NA                                                                                           </td><td>0                                                                                            </td><td>https://www.bottle-neck.fr/?post_type=product&amp;#038;p=4039                                </td><td>0                                                                                            </td><td>product                                                                                      </td><td>NA                                                                                           </td><td>0                                                                                            </td></tr>\n",
       "</tbody>\n",
       "</table>\n"
      ],
      "text/latex": [
       "\\begin{tabular}{r|llllllllllllllllllllllllllll}\n",
       " sku & virtual & downloadable & rating\\_count & average\\_rating & total\\_sales & tax\\_status & tax\\_class & post\\_author & post\\_date & ... & post\\_name & post\\_modified & post\\_modified\\_gmt & post\\_content\\_filtered & post\\_parent & guid & menu\\_order & post\\_type & post\\_mime\\_type & comment\\_count\\\\\n",
       "\\hline\n",
       "\t bon-cadeau-25-euros                                             & 0                                                               & 0                                                               & 0                                                               & 0                                                               & 10                                                              & taxable                                                         & NA                                                              & 1                                                               & 2018-06-01 13:53:46                                             & ...                                                             & bon-cadeau-de-25-euros                                          & 2018-06-01 14:13:57                                             & 2018-06-01 12:13:57                                             & NA                                                              & 0                                                               & https://www.bottle-neck.fr/?post\\_type=product\\&\\#038;p=4954 & 0                                                               & product                                                         & NA                                                              & 0                                                              \\\\\n",
       "\t 15298                                                           & 0                                                               & 0                                                               & 0                                                               & 0                                                               &  6                                                              & taxable                                                         & NA                                                              & 2                                                               & 2018-02-08 12:58:52                                             & ...                                                             & pierre-jean-villa-saint-joseph-preface-2018                     & 2019-12-30 09:30:29                                             & 2019-12-30 08:30:29                                             & NA                                                              & 0                                                               & https://www.bottle-neck.fr/?post\\_type=product\\&\\#038;p=3847 & 0                                                               & product                                                         & NA                                                              & 0                                                              \\\\\n",
       "\t 15296                                                           & 0                                                               & 0                                                               & 0                                                               & 0                                                               &  0                                                              & taxable                                                         & NA                                                              & 2                                                               & 2018-02-08 13:49:41                                             & ...                                                             & pierre-jean-villa-saint-joseph-tilde-2017                       & 2019-12-21 09:00:17                                             & 2019-12-21 08:00:17                                             & NA                                                              & 0                                                               & https://www.bottle-neck.fr/?post\\_type=product\\&\\#038;p=3849 & 0                                                               & product                                                         & NA                                                              & 0                                                              \\\\\n",
       "\t 15300                                                           & 0                                                               & 0                                                               & 0                                                               & 0                                                               &  0                                                              & taxable                                                         & NA                                                              & 2                                                               & 2018-02-08 14:08:36                                             & ...                                                             & pierre-jean-villa-croze-hermitage-accroche-coeur-2018           & 2020-06-26 18:15:03                                             & 2020-06-26 16:15:03                                             & NA                                                              & 0                                                               & https://www.bottle-neck.fr/?post\\_type=product\\&\\#038;p=3850 & 0                                                               & product                                                         & NA                                                              & 0                                                              \\\\\n",
       "\t 19814                                                           & 0                                                               & 0                                                               & 0                                                               & 0                                                               &  3                                                              & taxable                                                         & NA                                                              & 2                                                               & 2018-02-09 14:01:05                                             & ...                                                             & pierre-jean-villa-igp-gamine-2018                               & 2020-01-04 16:36:01                                             & 2020-01-04 15:36:01                                             & NA                                                              & 0                                                               & https://www.bottle-neck.fr/?post\\_type=product\\&\\#038;p=4032 & 0                                                               & product                                                         & NA                                                              & 0                                                              \\\\\n",
       "\t 19815                                                           & 0                                                               & 0                                                               & 0                                                               & 0                                                               &  0                                                              & taxable                                                         & NA                                                              & 2                                                               & 2018-02-12 09:04:37                                             & ...                                                             & pierre-jean-villa-cote-rotie-carmina-2017                       & 2020-01-04 16:36:10                                             & 2020-01-04 15:36:10                                             & NA                                                              & 0                                                               & https://www.bottle-neck.fr/?post\\_type=product\\&\\#038;p=4039 & 0                                                               & product                                                         & NA                                                              & 0                                                              \\\\\n",
       "\\end{tabular}\n"
      ],
      "text/markdown": [
       "\n",
       "| sku | virtual | downloadable | rating_count | average_rating | total_sales | tax_status | tax_class | post_author | post_date | ... | post_name | post_modified | post_modified_gmt | post_content_filtered | post_parent | guid | menu_order | post_type | post_mime_type | comment_count |\n",
       "|---|---|---|---|---|---|---|---|---|---|---|---|---|---|---|---|---|---|---|---|---|\n",
       "| bon-cadeau-25-euros                                       | 0                                                         | 0                                                         | 0                                                         | 0                                                         | 10                                                        | taxable                                                   | NA                                                        | 1                                                         | 2018-06-01 13:53:46                                       | ...                                                       | bon-cadeau-de-25-euros                                    | 2018-06-01 14:13:57                                       | 2018-06-01 12:13:57                                       | NA                                                        | 0                                                         | https://www.bottle-neck.fr/?post_type=product&#038;p=4954 | 0                                                         | product                                                   | NA                                                        | 0                                                         |\n",
       "| 15298                                                     | 0                                                         | 0                                                         | 0                                                         | 0                                                         |  6                                                        | taxable                                                   | NA                                                        | 2                                                         | 2018-02-08 12:58:52                                       | ...                                                       | pierre-jean-villa-saint-joseph-preface-2018               | 2019-12-30 09:30:29                                       | 2019-12-30 08:30:29                                       | NA                                                        | 0                                                         | https://www.bottle-neck.fr/?post_type=product&#038;p=3847 | 0                                                         | product                                                   | NA                                                        | 0                                                         |\n",
       "| 15296                                                     | 0                                                         | 0                                                         | 0                                                         | 0                                                         |  0                                                        | taxable                                                   | NA                                                        | 2                                                         | 2018-02-08 13:49:41                                       | ...                                                       | pierre-jean-villa-saint-joseph-tilde-2017                 | 2019-12-21 09:00:17                                       | 2019-12-21 08:00:17                                       | NA                                                        | 0                                                         | https://www.bottle-neck.fr/?post_type=product&#038;p=3849 | 0                                                         | product                                                   | NA                                                        | 0                                                         |\n",
       "| 15300                                                     | 0                                                         | 0                                                         | 0                                                         | 0                                                         |  0                                                        | taxable                                                   | NA                                                        | 2                                                         | 2018-02-08 14:08:36                                       | ...                                                       | pierre-jean-villa-croze-hermitage-accroche-coeur-2018     | 2020-06-26 18:15:03                                       | 2020-06-26 16:15:03                                       | NA                                                        | 0                                                         | https://www.bottle-neck.fr/?post_type=product&#038;p=3850 | 0                                                         | product                                                   | NA                                                        | 0                                                         |\n",
       "| 19814                                                     | 0                                                         | 0                                                         | 0                                                         | 0                                                         |  3                                                        | taxable                                                   | NA                                                        | 2                                                         | 2018-02-09 14:01:05                                       | ...                                                       | pierre-jean-villa-igp-gamine-2018                         | 2020-01-04 16:36:01                                       | 2020-01-04 15:36:01                                       | NA                                                        | 0                                                         | https://www.bottle-neck.fr/?post_type=product&#038;p=4032 | 0                                                         | product                                                   | NA                                                        | 0                                                         |\n",
       "| 19815                                                     | 0                                                         | 0                                                         | 0                                                         | 0                                                         |  0                                                        | taxable                                                   | NA                                                        | 2                                                         | 2018-02-12 09:04:37                                       | ...                                                       | pierre-jean-villa-cote-rotie-carmina-2017                 | 2020-01-04 16:36:10                                       | 2020-01-04 15:36:10                                       | NA                                                        | 0                                                         | https://www.bottle-neck.fr/?post_type=product&#038;p=4039 | 0                                                         | product                                                   | NA                                                        | 0                                                         |\n",
       "\n"
      ],
      "text/plain": [
       "  sku                 virtual downloadable rating_count average_rating\n",
       "1 bon-cadeau-25-euros 0       0            0            0             \n",
       "2 15298               0       0            0            0             \n",
       "3 15296               0       0            0            0             \n",
       "4 15300               0       0            0            0             \n",
       "5 19814               0       0            0            0             \n",
       "6 19815               0       0            0            0             \n",
       "  total_sales tax_status tax_class post_author post_date           ...\n",
       "1 10          taxable    NA        1           2018-06-01 13:53:46 ...\n",
       "2  6          taxable    NA        2           2018-02-08 12:58:52 ...\n",
       "3  0          taxable    NA        2           2018-02-08 13:49:41 ...\n",
       "4  0          taxable    NA        2           2018-02-08 14:08:36 ...\n",
       "5  3          taxable    NA        2           2018-02-09 14:01:05 ...\n",
       "6  0          taxable    NA        2           2018-02-12 09:04:37 ...\n",
       "  post_name                                             post_modified      \n",
       "1 bon-cadeau-de-25-euros                                2018-06-01 14:13:57\n",
       "2 pierre-jean-villa-saint-joseph-preface-2018           2019-12-30 09:30:29\n",
       "3 pierre-jean-villa-saint-joseph-tilde-2017             2019-12-21 09:00:17\n",
       "4 pierre-jean-villa-croze-hermitage-accroche-coeur-2018 2020-06-26 18:15:03\n",
       "5 pierre-jean-villa-igp-gamine-2018                     2020-01-04 16:36:01\n",
       "6 pierre-jean-villa-cote-rotie-carmina-2017             2020-01-04 16:36:10\n",
       "  post_modified_gmt   post_content_filtered post_parent\n",
       "1 2018-06-01 12:13:57 NA                    0          \n",
       "2 2019-12-30 08:30:29 NA                    0          \n",
       "3 2019-12-21 08:00:17 NA                    0          \n",
       "4 2020-06-26 16:15:03 NA                    0          \n",
       "5 2020-01-04 15:36:01 NA                    0          \n",
       "6 2020-01-04 15:36:10 NA                    0          \n",
       "  guid                                                      menu_order\n",
       "1 https://www.bottle-neck.fr/?post_type=product&#038;p=4954 0         \n",
       "2 https://www.bottle-neck.fr/?post_type=product&#038;p=3847 0         \n",
       "3 https://www.bottle-neck.fr/?post_type=product&#038;p=3849 0         \n",
       "4 https://www.bottle-neck.fr/?post_type=product&#038;p=3850 0         \n",
       "5 https://www.bottle-neck.fr/?post_type=product&#038;p=4032 0         \n",
       "6 https://www.bottle-neck.fr/?post_type=product&#038;p=4039 0         \n",
       "  post_type post_mime_type comment_count\n",
       "1 product   NA             0            \n",
       "2 product   NA             0            \n",
       "3 product   NA             0            \n",
       "4 product   NA             0            \n",
       "5 product   NA             0            \n",
       "6 product   NA             0            "
      ]
     },
     "metadata": {},
     "output_type": "display_data"
    }
   ],
   "source": [
    "# On importe le fichier WEB\n",
    "NomFichier <- \"web.xlsx\"\n",
    "df_web <- read_excel(paste0(NomRepertoire, NomFichier))\n",
    "\n",
    "# On observe\n",
    "print(dim(df_web))\n",
    "print(str(df_web))\n",
    "head(df_web)"
   ]
  },
  {
   "cell_type": "code",
   "execution_count": 8,
   "id": "adjustable-botswana",
   "metadata": {},
   "outputs": [
    {
     "name": "stdout",
     "output_type": "stream",
     "text": [
      "[1] \"La clé est présente plusieurs fois dans le dataframe.\"\n",
      "[1] \"Elle ne peut donc pas être utilisée comme clé primaire.\"\n",
      "[1] \"Le dataframe est de la forme : (1513,28) (lignes, colonnes)\"\n"
     ]
    }
   ],
   "source": [
    "# On teste l'unicité de la clé primaire\n",
    "testerCle(df_web, c('sku')) # C colonne"
   ]
  },
  {
   "cell_type": "code",
   "execution_count": 9,
   "id": "endangered-operator",
   "metadata": {},
   "outputs": [
    {
     "name": "stdout",
     "output_type": "stream",
     "text": [
      "[1] 85 28\n",
      "Classes 'tbl_df', 'tbl' and 'data.frame':\t85 obs. of  28 variables:\n",
      " $ sku                  : chr  NA NA NA NA ...\n",
      " $ virtual              : num  0 0 0 0 0 0 0 0 0 0 ...\n",
      " $ downloadable         : num  0 0 0 0 0 0 0 0 0 0 ...\n",
      " $ rating_count         : num  0 0 0 0 0 0 0 0 0 0 ...\n",
      " $ average_rating       : num  NA NA NA NA NA NA NA NA NA NA ...\n",
      " $ total_sales          : num  NA NA NA NA NA NA NA NA NA NA ...\n",
      " $ tax_status           : chr  NA NA NA NA ...\n",
      " $ tax_class            : logi  NA NA NA NA NA NA ...\n",
      " $ post_author          : num  NA NA NA NA NA NA NA NA NA NA ...\n",
      " $ post_date            : POSIXct, format: NA NA ...\n",
      " $ post_date_gmt        : POSIXct, format: NA NA ...\n",
      " $ post_content         : logi  NA NA NA NA NA NA ...\n",
      " $ post_title           : chr  NA NA NA NA ...\n",
      " $ post_excerpt         : chr  NA NA NA NA ...\n",
      " $ post_status          : chr  NA NA NA NA ...\n",
      " $ comment_status       : chr  NA NA NA NA ...\n",
      " $ ping_status          : chr  NA NA NA NA ...\n",
      " $ post_password        : logi  NA NA NA NA NA NA ...\n",
      " $ post_name            : chr  NA NA NA NA ...\n",
      " $ post_modified        : POSIXct, format: NA NA ...\n",
      " $ post_modified_gmt    : POSIXct, format: NA NA ...\n",
      " $ post_content_filtered: logi  NA NA NA NA NA NA ...\n",
      " $ post_parent          : num  NA NA NA NA NA NA NA NA NA NA ...\n",
      " $ guid                 : chr  NA NA NA NA ...\n",
      " $ menu_order           : num  NA NA NA NA NA NA NA NA NA NA ...\n",
      " $ post_type            : chr  NA NA NA NA ...\n",
      " $ post_mime_type       : chr  NA NA NA NA ...\n",
      " $ comment_count        : num  NA NA NA NA NA NA NA NA NA NA ...\n",
      "NULL\n"
     ]
    },
    {
     "data": {
      "text/html": [
       "<table>\n",
       "<thead><tr><th scope=col>sku</th><th scope=col>virtual</th><th scope=col>downloadable</th><th scope=col>rating_count</th><th scope=col>average_rating</th><th scope=col>total_sales</th><th scope=col>tax_status</th><th scope=col>tax_class</th><th scope=col>post_author</th><th scope=col>post_date</th><th scope=col>...</th><th scope=col>post_name</th><th scope=col>post_modified</th><th scope=col>post_modified_gmt</th><th scope=col>post_content_filtered</th><th scope=col>post_parent</th><th scope=col>guid</th><th scope=col>menu_order</th><th scope=col>post_type</th><th scope=col>post_mime_type</th><th scope=col>comment_count</th></tr></thead>\n",
       "<tbody>\n",
       "\t<tr><td>NA </td><td>0  </td><td>0  </td><td>0  </td><td>NA </td><td>NA </td><td>NA </td><td>NA </td><td>NA </td><td>NA </td><td>...</td><td>NA </td><td>NA </td><td>NA </td><td>NA </td><td>NA </td><td>NA </td><td>NA </td><td>NA </td><td>NA </td><td>NA </td></tr>\n",
       "\t<tr><td>NA </td><td>0  </td><td>0  </td><td>0  </td><td>NA </td><td>NA </td><td>NA </td><td>NA </td><td>NA </td><td>NA </td><td>...</td><td>NA </td><td>NA </td><td>NA </td><td>NA </td><td>NA </td><td>NA </td><td>NA </td><td>NA </td><td>NA </td><td>NA </td></tr>\n",
       "\t<tr><td>NA </td><td>0  </td><td>0  </td><td>0  </td><td>NA </td><td>NA </td><td>NA </td><td>NA </td><td>NA </td><td>NA </td><td>...</td><td>NA </td><td>NA </td><td>NA </td><td>NA </td><td>NA </td><td>NA </td><td>NA </td><td>NA </td><td>NA </td><td>NA </td></tr>\n",
       "\t<tr><td>NA </td><td>0  </td><td>0  </td><td>0  </td><td>NA </td><td>NA </td><td>NA </td><td>NA </td><td>NA </td><td>NA </td><td>...</td><td>NA </td><td>NA </td><td>NA </td><td>NA </td><td>NA </td><td>NA </td><td>NA </td><td>NA </td><td>NA </td><td>NA </td></tr>\n",
       "\t<tr><td>NA </td><td>0  </td><td>0  </td><td>0  </td><td>NA </td><td>NA </td><td>NA </td><td>NA </td><td>NA </td><td>NA </td><td>...</td><td>NA </td><td>NA </td><td>NA </td><td>NA </td><td>NA </td><td>NA </td><td>NA </td><td>NA </td><td>NA </td><td>NA </td></tr>\n",
       "\t<tr><td>NA </td><td>0  </td><td>0  </td><td>0  </td><td>NA </td><td>NA </td><td>NA </td><td>NA </td><td>NA </td><td>NA </td><td>...</td><td>NA </td><td>NA </td><td>NA </td><td>NA </td><td>NA </td><td>NA </td><td>NA </td><td>NA </td><td>NA </td><td>NA </td></tr>\n",
       "</tbody>\n",
       "</table>\n"
      ],
      "text/latex": [
       "\\begin{tabular}{r|llllllllllllllllllllllllllll}\n",
       " sku & virtual & downloadable & rating\\_count & average\\_rating & total\\_sales & tax\\_status & tax\\_class & post\\_author & post\\_date & ... & post\\_name & post\\_modified & post\\_modified\\_gmt & post\\_content\\_filtered & post\\_parent & guid & menu\\_order & post\\_type & post\\_mime\\_type & comment\\_count\\\\\n",
       "\\hline\n",
       "\t NA  & 0   & 0   & 0   & NA  & NA  & NA  & NA  & NA  & NA  & ... & NA  & NA  & NA  & NA  & NA  & NA  & NA  & NA  & NA  & NA \\\\\n",
       "\t NA  & 0   & 0   & 0   & NA  & NA  & NA  & NA  & NA  & NA  & ... & NA  & NA  & NA  & NA  & NA  & NA  & NA  & NA  & NA  & NA \\\\\n",
       "\t NA  & 0   & 0   & 0   & NA  & NA  & NA  & NA  & NA  & NA  & ... & NA  & NA  & NA  & NA  & NA  & NA  & NA  & NA  & NA  & NA \\\\\n",
       "\t NA  & 0   & 0   & 0   & NA  & NA  & NA  & NA  & NA  & NA  & ... & NA  & NA  & NA  & NA  & NA  & NA  & NA  & NA  & NA  & NA \\\\\n",
       "\t NA  & 0   & 0   & 0   & NA  & NA  & NA  & NA  & NA  & NA  & ... & NA  & NA  & NA  & NA  & NA  & NA  & NA  & NA  & NA  & NA \\\\\n",
       "\t NA  & 0   & 0   & 0   & NA  & NA  & NA  & NA  & NA  & NA  & ... & NA  & NA  & NA  & NA  & NA  & NA  & NA  & NA  & NA  & NA \\\\\n",
       "\\end{tabular}\n"
      ],
      "text/markdown": [
       "\n",
       "| sku | virtual | downloadable | rating_count | average_rating | total_sales | tax_status | tax_class | post_author | post_date | ... | post_name | post_modified | post_modified_gmt | post_content_filtered | post_parent | guid | menu_order | post_type | post_mime_type | comment_count |\n",
       "|---|---|---|---|---|---|---|---|---|---|---|---|---|---|---|---|---|---|---|---|---|\n",
       "| NA  | 0   | 0   | 0   | NA  | NA  | NA  | NA  | NA  | NA  | ... | NA  | NA  | NA  | NA  | NA  | NA  | NA  | NA  | NA  | NA  |\n",
       "| NA  | 0   | 0   | 0   | NA  | NA  | NA  | NA  | NA  | NA  | ... | NA  | NA  | NA  | NA  | NA  | NA  | NA  | NA  | NA  | NA  |\n",
       "| NA  | 0   | 0   | 0   | NA  | NA  | NA  | NA  | NA  | NA  | ... | NA  | NA  | NA  | NA  | NA  | NA  | NA  | NA  | NA  | NA  |\n",
       "| NA  | 0   | 0   | 0   | NA  | NA  | NA  | NA  | NA  | NA  | ... | NA  | NA  | NA  | NA  | NA  | NA  | NA  | NA  | NA  | NA  |\n",
       "| NA  | 0   | 0   | 0   | NA  | NA  | NA  | NA  | NA  | NA  | ... | NA  | NA  | NA  | NA  | NA  | NA  | NA  | NA  | NA  | NA  |\n",
       "| NA  | 0   | 0   | 0   | NA  | NA  | NA  | NA  | NA  | NA  | ... | NA  | NA  | NA  | NA  | NA  | NA  | NA  | NA  | NA  | NA  |\n",
       "\n"
      ],
      "text/plain": [
       "  sku virtual downloadable rating_count average_rating total_sales tax_status\n",
       "1 NA  0       0            0            NA             NA          NA        \n",
       "2 NA  0       0            0            NA             NA          NA        \n",
       "3 NA  0       0            0            NA             NA          NA        \n",
       "4 NA  0       0            0            NA             NA          NA        \n",
       "5 NA  0       0            0            NA             NA          NA        \n",
       "6 NA  0       0            0            NA             NA          NA        \n",
       "  tax_class post_author post_date ... post_name post_modified post_modified_gmt\n",
       "1 NA        NA          <NA>      ... NA        <NA>          <NA>             \n",
       "2 NA        NA          <NA>      ... NA        <NA>          <NA>             \n",
       "3 NA        NA          <NA>      ... NA        <NA>          <NA>             \n",
       "4 NA        NA          <NA>      ... NA        <NA>          <NA>             \n",
       "5 NA        NA          <NA>      ... NA        <NA>          <NA>             \n",
       "6 NA        NA          <NA>      ... NA        <NA>          <NA>             \n",
       "  post_content_filtered post_parent guid menu_order post_type post_mime_type\n",
       "1 NA                    NA          NA   NA         NA        NA            \n",
       "2 NA                    NA          NA   NA         NA        NA            \n",
       "3 NA                    NA          NA   NA         NA        NA            \n",
       "4 NA                    NA          NA   NA         NA        NA            \n",
       "5 NA                    NA          NA   NA         NA        NA            \n",
       "6 NA                    NA          NA   NA         NA        NA            \n",
       "  comment_count\n",
       "1 NA           \n",
       "2 NA           \n",
       "3 NA           \n",
       "4 NA           \n",
       "5 NA           \n",
       "6 NA           "
      ]
     },
     "metadata": {},
     "output_type": "display_data"
    }
   ],
   "source": [
    "# On observe les valeurs nulles détectées dans la colonnes sku\n",
    "recherche_null <- df_web[is.na(df_web$sku),]\n",
    "# On observe\n",
    "print(dim(recherche_null))\n",
    "print(str(recherche_null))\n",
    "head(recherche_null)"
   ]
  },
  {
   "cell_type": "code",
   "execution_count": 10,
   "id": "enhanced-bishop",
   "metadata": {},
   "outputs": [
    {
     "name": "stdout",
     "output_type": "stream",
     "text": [
      "[1]  2 28\n"
     ]
    },
    {
     "data": {
      "text/html": [
       "<table>\n",
       "<thead><tr><th scope=col>sku</th><th scope=col>virtual</th><th scope=col>downloadable</th><th scope=col>rating_count</th><th scope=col>average_rating</th><th scope=col>total_sales</th><th scope=col>tax_status</th><th scope=col>tax_class</th><th scope=col>post_author</th><th scope=col>post_date</th><th scope=col>...</th><th scope=col>post_name</th><th scope=col>post_modified</th><th scope=col>post_modified_gmt</th><th scope=col>post_content_filtered</th><th scope=col>post_parent</th><th scope=col>guid</th><th scope=col>menu_order</th><th scope=col>post_type</th><th scope=col>post_mime_type</th><th scope=col>comment_count</th></tr></thead>\n",
       "<tbody>\n",
       "\t<tr><td>NA                                                           </td><td>0                                                            </td><td>0                                                            </td><td>0                                                            </td><td>0                                                            </td><td>0                                                            </td><td>taxable                                                      </td><td>NA                                                           </td><td>2                                                            </td><td>2018-07-31 12:07:23                                          </td><td>...                                                          </td><td>pierre-jean-villa-cote-rotie-fongeant-2017                   </td><td>2019-11-02 13:24:15                                          </td><td>2019-11-02 12:24:15                                          </td><td>NA                                                           </td><td>0                                                            </td><td>https://www.bottle-neck.fr/?post_type=product&amp;#038;p=5070</td><td>0                                                            </td><td>product                                                      </td><td>NA                                                           </td><td>0                                                            </td></tr>\n",
       "\t<tr><td>NA                                                                                </td><td>0                                                                                 </td><td>0                                                                                 </td><td>0                                                                                 </td><td>0                                                                                 </td><td>0                                                                                 </td><td>taxable                                                                           </td><td>NA                                                                                </td><td>2                                                                                 </td><td>2018-08-08 11:23:43                                                               </td><td>...                                                                               </td><td><span style=white-space:pre-wrap>pierre-jean-villa-condrieu-suspendu-2018  </span></td><td>2019-11-02 13:24:01                                                               </td><td>2019-11-02 12:24:01                                                               </td><td>NA                                                                                </td><td>0                                                                                 </td><td>https://www.bottle-neck.fr/?post_type=product&amp;#038;p=5075                     </td><td>0                                                                                 </td><td>product                                                                           </td><td>NA                                                                                </td><td>0                                                                                 </td></tr>\n",
       "</tbody>\n",
       "</table>\n"
      ],
      "text/latex": [
       "\\begin{tabular}{r|llllllllllllllllllllllllllll}\n",
       " sku & virtual & downloadable & rating\\_count & average\\_rating & total\\_sales & tax\\_status & tax\\_class & post\\_author & post\\_date & ... & post\\_name & post\\_modified & post\\_modified\\_gmt & post\\_content\\_filtered & post\\_parent & guid & menu\\_order & post\\_type & post\\_mime\\_type & comment\\_count\\\\\n",
       "\\hline\n",
       "\t NA                                                              & 0                                                               & 0                                                               & 0                                                               & 0                                                               & 0                                                               & taxable                                                         & NA                                                              & 2                                                               & 2018-07-31 12:07:23                                             & ...                                                             & pierre-jean-villa-cote-rotie-fongeant-2017                      & 2019-11-02 13:24:15                                             & 2019-11-02 12:24:15                                             & NA                                                              & 0                                                               & https://www.bottle-neck.fr/?post\\_type=product\\&\\#038;p=5070 & 0                                                               & product                                                         & NA                                                              & 0                                                              \\\\\n",
       "\t NA                                                              & 0                                                               & 0                                                               & 0                                                               & 0                                                               & 0                                                               & taxable                                                         & NA                                                              & 2                                                               & 2018-08-08 11:23:43                                             & ...                                                             & pierre-jean-villa-condrieu-suspendu-2018                        & 2019-11-02 13:24:01                                             & 2019-11-02 12:24:01                                             & NA                                                              & 0                                                               & https://www.bottle-neck.fr/?post\\_type=product\\&\\#038;p=5075 & 0                                                               & product                                                         & NA                                                              & 0                                                              \\\\\n",
       "\\end{tabular}\n"
      ],
      "text/markdown": [
       "\n",
       "| sku | virtual | downloadable | rating_count | average_rating | total_sales | tax_status | tax_class | post_author | post_date | ... | post_name | post_modified | post_modified_gmt | post_content_filtered | post_parent | guid | menu_order | post_type | post_mime_type | comment_count |\n",
       "|---|---|---|---|---|---|---|---|---|---|---|---|---|---|---|---|---|---|---|---|---|\n",
       "| NA                                                        | 0                                                         | 0                                                         | 0                                                         | 0                                                         | 0                                                         | taxable                                                   | NA                                                        | 2                                                         | 2018-07-31 12:07:23                                       | ...                                                       | pierre-jean-villa-cote-rotie-fongeant-2017                | 2019-11-02 13:24:15                                       | 2019-11-02 12:24:15                                       | NA                                                        | 0                                                         | https://www.bottle-neck.fr/?post_type=product&#038;p=5070 | 0                                                         | product                                                   | NA                                                        | 0                                                         |\n",
       "| NA                                                        | 0                                                         | 0                                                         | 0                                                         | 0                                                         | 0                                                         | taxable                                                   | NA                                                        | 2                                                         | 2018-08-08 11:23:43                                       | ...                                                       | pierre-jean-villa-condrieu-suspendu-2018                  | 2019-11-02 13:24:01                                       | 2019-11-02 12:24:01                                       | NA                                                        | 0                                                         | https://www.bottle-neck.fr/?post_type=product&#038;p=5075 | 0                                                         | product                                                   | NA                                                        | 0                                                         |\n",
       "\n"
      ],
      "text/plain": [
       "  sku virtual downloadable rating_count average_rating total_sales tax_status\n",
       "1 NA  0       0            0            0              0           taxable   \n",
       "2 NA  0       0            0            0              0           taxable   \n",
       "  tax_class post_author post_date           ...\n",
       "1 NA        2           2018-07-31 12:07:23 ...\n",
       "2 NA        2           2018-08-08 11:23:43 ...\n",
       "  post_name                                  post_modified      \n",
       "1 pierre-jean-villa-cote-rotie-fongeant-2017 2019-11-02 13:24:15\n",
       "2 pierre-jean-villa-condrieu-suspendu-2018   2019-11-02 13:24:01\n",
       "  post_modified_gmt   post_content_filtered post_parent\n",
       "1 2019-11-02 12:24:15 NA                    0          \n",
       "2 2019-11-02 12:24:01 NA                    0          \n",
       "  guid                                                      menu_order\n",
       "1 https://www.bottle-neck.fr/?post_type=product&#038;p=5070 0         \n",
       "2 https://www.bottle-neck.fr/?post_type=product&#038;p=5075 0         \n",
       "  post_type post_mime_type comment_count\n",
       "1 product   NA             0            \n",
       "2 product   NA             0            "
      ]
     },
     "metadata": {},
     "output_type": "display_data"
    }
   ],
   "source": [
    "# On observe les lignes dont le post_name n'est pas nul\n",
    "observation <- recherche_null[!is.na(recherche_null$post_name),]\n",
    "\n",
    "# On observe\n",
    "print(dim(observation))\n",
    "head(observation)"
   ]
  },
  {
   "cell_type": "code",
   "execution_count": 11,
   "id": "damaged-seller",
   "metadata": {},
   "outputs": [
    {
     "name": "stdout",
     "output_type": "stream",
     "text": [
      "[1] 1428   28\n"
     ]
    },
    {
     "data": {
      "text/html": [
       "<table>\n",
       "<thead><tr><th scope=col>sku</th><th scope=col>virtual</th><th scope=col>downloadable</th><th scope=col>rating_count</th><th scope=col>average_rating</th><th scope=col>total_sales</th><th scope=col>tax_status</th><th scope=col>tax_class</th><th scope=col>post_author</th><th scope=col>post_date</th><th scope=col>...</th><th scope=col>post_name</th><th scope=col>post_modified</th><th scope=col>post_modified_gmt</th><th scope=col>post_content_filtered</th><th scope=col>post_parent</th><th scope=col>guid</th><th scope=col>menu_order</th><th scope=col>post_type</th><th scope=col>post_mime_type</th><th scope=col>comment_count</th></tr></thead>\n",
       "<tbody>\n",
       "\t<tr><td>bon-cadeau-25-euros                                                                          </td><td>0                                                                                            </td><td>0                                                                                            </td><td>0                                                                                            </td><td>0                                                                                            </td><td>10                                                                                           </td><td>taxable                                                                                      </td><td>NA                                                                                           </td><td>1                                                                                            </td><td>2018-06-01 13:53:46                                                                          </td><td>...                                                                                          </td><td><span style=white-space:pre-wrap>bon-cadeau-de-25-euros                               </span></td><td>2018-06-01 14:13:57                                                                          </td><td>2018-06-01 12:13:57                                                                          </td><td>NA                                                                                           </td><td>0                                                                                            </td><td>https://www.bottle-neck.fr/?post_type=product&amp;#038;p=4954                                </td><td>0                                                                                            </td><td>product                                                                                      </td><td>NA                                                                                           </td><td>0                                                                                            </td></tr>\n",
       "\t<tr><td><span style=white-space:pre-wrap>15298              </span>                                  </td><td>0                                                                                            </td><td>0                                                                                            </td><td>0                                                                                            </td><td>0                                                                                            </td><td> 6                                                                                           </td><td>taxable                                                                                      </td><td>NA                                                                                           </td><td>2                                                                                            </td><td>2018-02-08 12:58:52                                                                          </td><td>...                                                                                          </td><td><span style=white-space:pre-wrap>pierre-jean-villa-saint-joseph-preface-2018          </span></td><td>2019-12-30 09:30:29                                                                          </td><td>2019-12-30 08:30:29                                                                          </td><td>NA                                                                                           </td><td>0                                                                                            </td><td>https://www.bottle-neck.fr/?post_type=product&amp;#038;p=3847                                </td><td>0                                                                                            </td><td>product                                                                                      </td><td>NA                                                                                           </td><td>0                                                                                            </td></tr>\n",
       "\t<tr><td><span style=white-space:pre-wrap>15296              </span>                                  </td><td>0                                                                                            </td><td>0                                                                                            </td><td>0                                                                                            </td><td>0                                                                                            </td><td> 0                                                                                           </td><td>taxable                                                                                      </td><td>NA                                                                                           </td><td>2                                                                                            </td><td>2018-02-08 13:49:41                                                                          </td><td>...                                                                                          </td><td><span style=white-space:pre-wrap>pierre-jean-villa-saint-joseph-tilde-2017            </span></td><td>2019-12-21 09:00:17                                                                          </td><td>2019-12-21 08:00:17                                                                          </td><td>NA                                                                                           </td><td>0                                                                                            </td><td>https://www.bottle-neck.fr/?post_type=product&amp;#038;p=3849                                </td><td>0                                                                                            </td><td>product                                                                                      </td><td>NA                                                                                           </td><td>0                                                                                            </td></tr>\n",
       "\t<tr><td><span style=white-space:pre-wrap>15300              </span>  </td><td>0                                                            </td><td>0                                                            </td><td>0                                                            </td><td>0                                                            </td><td> 0                                                           </td><td>taxable                                                      </td><td>NA                                                           </td><td>2                                                            </td><td>2018-02-08 14:08:36                                          </td><td>...                                                          </td><td>pierre-jean-villa-croze-hermitage-accroche-coeur-2018        </td><td>2020-06-26 18:15:03                                          </td><td>2020-06-26 16:15:03                                          </td><td>NA                                                           </td><td>0                                                            </td><td>https://www.bottle-neck.fr/?post_type=product&amp;#038;p=3850</td><td>0                                                            </td><td>product                                                      </td><td>NA                                                           </td><td>0                                                            </td></tr>\n",
       "\t<tr><td><span style=white-space:pre-wrap>19814              </span>                                  </td><td>0                                                                                            </td><td>0                                                                                            </td><td>0                                                                                            </td><td>0                                                                                            </td><td> 3                                                                                           </td><td>taxable                                                                                      </td><td>NA                                                                                           </td><td>2                                                                                            </td><td>2018-02-09 14:01:05                                                                          </td><td>...                                                                                          </td><td><span style=white-space:pre-wrap>pierre-jean-villa-igp-gamine-2018                    </span></td><td>2020-01-04 16:36:01                                                                          </td><td>2020-01-04 15:36:01                                                                          </td><td>NA                                                                                           </td><td>0                                                                                            </td><td>https://www.bottle-neck.fr/?post_type=product&amp;#038;p=4032                                </td><td>0                                                                                            </td><td>product                                                                                      </td><td>NA                                                                                           </td><td>0                                                                                            </td></tr>\n",
       "\t<tr><td><span style=white-space:pre-wrap>19815              </span>                                  </td><td>0                                                                                            </td><td>0                                                                                            </td><td>0                                                                                            </td><td>0                                                                                            </td><td> 0                                                                                           </td><td>taxable                                                                                      </td><td>NA                                                                                           </td><td>2                                                                                            </td><td>2018-02-12 09:04:37                                                                          </td><td>...                                                                                          </td><td><span style=white-space:pre-wrap>pierre-jean-villa-cote-rotie-carmina-2017            </span></td><td>2020-01-04 16:36:10                                                                          </td><td>2020-01-04 15:36:10                                                                          </td><td>NA                                                                                           </td><td>0                                                                                            </td><td>https://www.bottle-neck.fr/?post_type=product&amp;#038;p=4039                                </td><td>0                                                                                            </td><td>product                                                                                      </td><td>NA                                                                                           </td><td>0                                                                                            </td></tr>\n",
       "</tbody>\n",
       "</table>\n"
      ],
      "text/latex": [
       "\\begin{tabular}{r|llllllllllllllllllllllllllll}\n",
       " sku & virtual & downloadable & rating\\_count & average\\_rating & total\\_sales & tax\\_status & tax\\_class & post\\_author & post\\_date & ... & post\\_name & post\\_modified & post\\_modified\\_gmt & post\\_content\\_filtered & post\\_parent & guid & menu\\_order & post\\_type & post\\_mime\\_type & comment\\_count\\\\\n",
       "\\hline\n",
       "\t bon-cadeau-25-euros                                             & 0                                                               & 0                                                               & 0                                                               & 0                                                               & 10                                                              & taxable                                                         & NA                                                              & 1                                                               & 2018-06-01 13:53:46                                             & ...                                                             & bon-cadeau-de-25-euros                                          & 2018-06-01 14:13:57                                             & 2018-06-01 12:13:57                                             & NA                                                              & 0                                                               & https://www.bottle-neck.fr/?post\\_type=product\\&\\#038;p=4954 & 0                                                               & product                                                         & NA                                                              & 0                                                              \\\\\n",
       "\t 15298                                                           & 0                                                               & 0                                                               & 0                                                               & 0                                                               &  6                                                              & taxable                                                         & NA                                                              & 2                                                               & 2018-02-08 12:58:52                                             & ...                                                             & pierre-jean-villa-saint-joseph-preface-2018                     & 2019-12-30 09:30:29                                             & 2019-12-30 08:30:29                                             & NA                                                              & 0                                                               & https://www.bottle-neck.fr/?post\\_type=product\\&\\#038;p=3847 & 0                                                               & product                                                         & NA                                                              & 0                                                              \\\\\n",
       "\t 15296                                                           & 0                                                               & 0                                                               & 0                                                               & 0                                                               &  0                                                              & taxable                                                         & NA                                                              & 2                                                               & 2018-02-08 13:49:41                                             & ...                                                             & pierre-jean-villa-saint-joseph-tilde-2017                       & 2019-12-21 09:00:17                                             & 2019-12-21 08:00:17                                             & NA                                                              & 0                                                               & https://www.bottle-neck.fr/?post\\_type=product\\&\\#038;p=3849 & 0                                                               & product                                                         & NA                                                              & 0                                                              \\\\\n",
       "\t 15300                                                           & 0                                                               & 0                                                               & 0                                                               & 0                                                               &  0                                                              & taxable                                                         & NA                                                              & 2                                                               & 2018-02-08 14:08:36                                             & ...                                                             & pierre-jean-villa-croze-hermitage-accroche-coeur-2018           & 2020-06-26 18:15:03                                             & 2020-06-26 16:15:03                                             & NA                                                              & 0                                                               & https://www.bottle-neck.fr/?post\\_type=product\\&\\#038;p=3850 & 0                                                               & product                                                         & NA                                                              & 0                                                              \\\\\n",
       "\t 19814                                                           & 0                                                               & 0                                                               & 0                                                               & 0                                                               &  3                                                              & taxable                                                         & NA                                                              & 2                                                               & 2018-02-09 14:01:05                                             & ...                                                             & pierre-jean-villa-igp-gamine-2018                               & 2020-01-04 16:36:01                                             & 2020-01-04 15:36:01                                             & NA                                                              & 0                                                               & https://www.bottle-neck.fr/?post\\_type=product\\&\\#038;p=4032 & 0                                                               & product                                                         & NA                                                              & 0                                                              \\\\\n",
       "\t 19815                                                           & 0                                                               & 0                                                               & 0                                                               & 0                                                               &  0                                                              & taxable                                                         & NA                                                              & 2                                                               & 2018-02-12 09:04:37                                             & ...                                                             & pierre-jean-villa-cote-rotie-carmina-2017                       & 2020-01-04 16:36:10                                             & 2020-01-04 15:36:10                                             & NA                                                              & 0                                                               & https://www.bottle-neck.fr/?post\\_type=product\\&\\#038;p=4039 & 0                                                               & product                                                         & NA                                                              & 0                                                              \\\\\n",
       "\\end{tabular}\n"
      ],
      "text/markdown": [
       "\n",
       "| sku | virtual | downloadable | rating_count | average_rating | total_sales | tax_status | tax_class | post_author | post_date | ... | post_name | post_modified | post_modified_gmt | post_content_filtered | post_parent | guid | menu_order | post_type | post_mime_type | comment_count |\n",
       "|---|---|---|---|---|---|---|---|---|---|---|---|---|---|---|---|---|---|---|---|---|\n",
       "| bon-cadeau-25-euros                                       | 0                                                         | 0                                                         | 0                                                         | 0                                                         | 10                                                        | taxable                                                   | NA                                                        | 1                                                         | 2018-06-01 13:53:46                                       | ...                                                       | bon-cadeau-de-25-euros                                    | 2018-06-01 14:13:57                                       | 2018-06-01 12:13:57                                       | NA                                                        | 0                                                         | https://www.bottle-neck.fr/?post_type=product&#038;p=4954 | 0                                                         | product                                                   | NA                                                        | 0                                                         |\n",
       "| 15298                                                     | 0                                                         | 0                                                         | 0                                                         | 0                                                         |  6                                                        | taxable                                                   | NA                                                        | 2                                                         | 2018-02-08 12:58:52                                       | ...                                                       | pierre-jean-villa-saint-joseph-preface-2018               | 2019-12-30 09:30:29                                       | 2019-12-30 08:30:29                                       | NA                                                        | 0                                                         | https://www.bottle-neck.fr/?post_type=product&#038;p=3847 | 0                                                         | product                                                   | NA                                                        | 0                                                         |\n",
       "| 15296                                                     | 0                                                         | 0                                                         | 0                                                         | 0                                                         |  0                                                        | taxable                                                   | NA                                                        | 2                                                         | 2018-02-08 13:49:41                                       | ...                                                       | pierre-jean-villa-saint-joseph-tilde-2017                 | 2019-12-21 09:00:17                                       | 2019-12-21 08:00:17                                       | NA                                                        | 0                                                         | https://www.bottle-neck.fr/?post_type=product&#038;p=3849 | 0                                                         | product                                                   | NA                                                        | 0                                                         |\n",
       "| 15300                                                     | 0                                                         | 0                                                         | 0                                                         | 0                                                         |  0                                                        | taxable                                                   | NA                                                        | 2                                                         | 2018-02-08 14:08:36                                       | ...                                                       | pierre-jean-villa-croze-hermitage-accroche-coeur-2018     | 2020-06-26 18:15:03                                       | 2020-06-26 16:15:03                                       | NA                                                        | 0                                                         | https://www.bottle-neck.fr/?post_type=product&#038;p=3850 | 0                                                         | product                                                   | NA                                                        | 0                                                         |\n",
       "| 19814                                                     | 0                                                         | 0                                                         | 0                                                         | 0                                                         |  3                                                        | taxable                                                   | NA                                                        | 2                                                         | 2018-02-09 14:01:05                                       | ...                                                       | pierre-jean-villa-igp-gamine-2018                         | 2020-01-04 16:36:01                                       | 2020-01-04 15:36:01                                       | NA                                                        | 0                                                         | https://www.bottle-neck.fr/?post_type=product&#038;p=4032 | 0                                                         | product                                                   | NA                                                        | 0                                                         |\n",
       "| 19815                                                     | 0                                                         | 0                                                         | 0                                                         | 0                                                         |  0                                                        | taxable                                                   | NA                                                        | 2                                                         | 2018-02-12 09:04:37                                       | ...                                                       | pierre-jean-villa-cote-rotie-carmina-2017                 | 2020-01-04 16:36:10                                       | 2020-01-04 15:36:10                                       | NA                                                        | 0                                                         | https://www.bottle-neck.fr/?post_type=product&#038;p=4039 | 0                                                         | product                                                   | NA                                                        | 0                                                         |\n",
       "\n"
      ],
      "text/plain": [
       "  sku                 virtual downloadable rating_count average_rating\n",
       "1 bon-cadeau-25-euros 0       0            0            0             \n",
       "2 15298               0       0            0            0             \n",
       "3 15296               0       0            0            0             \n",
       "4 15300               0       0            0            0             \n",
       "5 19814               0       0            0            0             \n",
       "6 19815               0       0            0            0             \n",
       "  total_sales tax_status tax_class post_author post_date           ...\n",
       "1 10          taxable    NA        1           2018-06-01 13:53:46 ...\n",
       "2  6          taxable    NA        2           2018-02-08 12:58:52 ...\n",
       "3  0          taxable    NA        2           2018-02-08 13:49:41 ...\n",
       "4  0          taxable    NA        2           2018-02-08 14:08:36 ...\n",
       "5  3          taxable    NA        2           2018-02-09 14:01:05 ...\n",
       "6  0          taxable    NA        2           2018-02-12 09:04:37 ...\n",
       "  post_name                                             post_modified      \n",
       "1 bon-cadeau-de-25-euros                                2018-06-01 14:13:57\n",
       "2 pierre-jean-villa-saint-joseph-preface-2018           2019-12-30 09:30:29\n",
       "3 pierre-jean-villa-saint-joseph-tilde-2017             2019-12-21 09:00:17\n",
       "4 pierre-jean-villa-croze-hermitage-accroche-coeur-2018 2020-06-26 18:15:03\n",
       "5 pierre-jean-villa-igp-gamine-2018                     2020-01-04 16:36:01\n",
       "6 pierre-jean-villa-cote-rotie-carmina-2017             2020-01-04 16:36:10\n",
       "  post_modified_gmt   post_content_filtered post_parent\n",
       "1 2018-06-01 12:13:57 NA                    0          \n",
       "2 2019-12-30 08:30:29 NA                    0          \n",
       "3 2019-12-21 08:00:17 NA                    0          \n",
       "4 2020-06-26 16:15:03 NA                    0          \n",
       "5 2020-01-04 15:36:01 NA                    0          \n",
       "6 2020-01-04 15:36:10 NA                    0          \n",
       "  guid                                                      menu_order\n",
       "1 https://www.bottle-neck.fr/?post_type=product&#038;p=4954 0         \n",
       "2 https://www.bottle-neck.fr/?post_type=product&#038;p=3847 0         \n",
       "3 https://www.bottle-neck.fr/?post_type=product&#038;p=3849 0         \n",
       "4 https://www.bottle-neck.fr/?post_type=product&#038;p=3850 0         \n",
       "5 https://www.bottle-neck.fr/?post_type=product&#038;p=4032 0         \n",
       "6 https://www.bottle-neck.fr/?post_type=product&#038;p=4039 0         \n",
       "  post_type post_mime_type comment_count\n",
       "1 product   NA             0            \n",
       "2 product   NA             0            \n",
       "3 product   NA             0            \n",
       "4 product   NA             0            \n",
       "5 product   NA             0            \n",
       "6 product   NA             0            "
      ]
     },
     "metadata": {},
     "output_type": "display_data"
    }
   ],
   "source": [
    "#Suppression des Nan\n",
    "df_web <- df_web[!is.na(df_web$sku),]\n",
    "# On observe\n",
    "print(dim(df_web))\n",
    "head(df_web)"
   ]
  },
  {
   "cell_type": "code",
   "execution_count": 12,
   "id": "superb-significance",
   "metadata": {},
   "outputs": [
    {
     "name": "stdout",
     "output_type": "stream",
     "text": [
      "[1] \"La clé est présente plusieurs fois dans le dataframe.\"\n",
      "[1] \"Elle ne peut donc pas être utilisée comme clé primaire.\"\n",
      "[1] \"Le dataframe est de la forme : (1428,28) (lignes, colonnes)\"\n"
     ]
    }
   ],
   "source": [
    "# On teste l'unicité de la clé primaire\n",
    "testerCle(df_web, c('sku'))"
   ]
  },
  {
   "cell_type": "code",
   "execution_count": 13,
   "id": "automated-trustee",
   "metadata": {},
   "outputs": [
    {
     "name": "stdout",
     "output_type": "stream",
     "text": [
      "[1] 714  28\n"
     ]
    },
    {
     "data": {
      "text/html": [
       "<table>\n",
       "<thead><tr><th scope=col>sku</th><th scope=col>virtual</th><th scope=col>downloadable</th><th scope=col>rating_count</th><th scope=col>average_rating</th><th scope=col>total_sales</th><th scope=col>tax_status</th><th scope=col>tax_class</th><th scope=col>post_author</th><th scope=col>post_date</th><th scope=col>...</th><th scope=col>post_name</th><th scope=col>post_modified</th><th scope=col>post_modified_gmt</th><th scope=col>post_content_filtered</th><th scope=col>post_parent</th><th scope=col>guid</th><th scope=col>menu_order</th><th scope=col>post_type</th><th scope=col>post_mime_type</th><th scope=col>comment_count</th></tr></thead>\n",
       "<tbody>\n",
       "\t<tr><td>bon-cadeau-25-euros                                                                          </td><td>0                                                                                            </td><td>0                                                                                            </td><td>0                                                                                            </td><td>0                                                                                            </td><td>10                                                                                           </td><td>taxable                                                                                      </td><td>NA                                                                                           </td><td>1                                                                                            </td><td>2018-06-01 13:53:46                                                                          </td><td>...                                                                                          </td><td><span style=white-space:pre-wrap>bon-cadeau-de-25-euros                               </span></td><td>2018-06-01 14:13:57                                                                          </td><td>2018-06-01 12:13:57                                                                          </td><td>NA                                                                                           </td><td>0                                                                                            </td><td>https://www.bottle-neck.fr/?post_type=product&amp;#038;p=4954                                </td><td>0                                                                                            </td><td>product                                                                                      </td><td>NA                                                                                           </td><td>0                                                                                            </td></tr>\n",
       "\t<tr><td><span style=white-space:pre-wrap>15298              </span>                                  </td><td>0                                                                                            </td><td>0                                                                                            </td><td>0                                                                                            </td><td>0                                                                                            </td><td> 6                                                                                           </td><td>taxable                                                                                      </td><td>NA                                                                                           </td><td>2                                                                                            </td><td>2018-02-08 12:58:52                                                                          </td><td>...                                                                                          </td><td><span style=white-space:pre-wrap>pierre-jean-villa-saint-joseph-preface-2018          </span></td><td>2019-12-30 09:30:29                                                                          </td><td>2019-12-30 08:30:29                                                                          </td><td>NA                                                                                           </td><td>0                                                                                            </td><td>https://www.bottle-neck.fr/?post_type=product&amp;#038;p=3847                                </td><td>0                                                                                            </td><td>product                                                                                      </td><td>NA                                                                                           </td><td>0                                                                                            </td></tr>\n",
       "\t<tr><td><span style=white-space:pre-wrap>15296              </span>                                  </td><td>0                                                                                            </td><td>0                                                                                            </td><td>0                                                                                            </td><td>0                                                                                            </td><td> 0                                                                                           </td><td>taxable                                                                                      </td><td>NA                                                                                           </td><td>2                                                                                            </td><td>2018-02-08 13:49:41                                                                          </td><td>...                                                                                          </td><td><span style=white-space:pre-wrap>pierre-jean-villa-saint-joseph-tilde-2017            </span></td><td>2019-12-21 09:00:17                                                                          </td><td>2019-12-21 08:00:17                                                                          </td><td>NA                                                                                           </td><td>0                                                                                            </td><td>https://www.bottle-neck.fr/?post_type=product&amp;#038;p=3849                                </td><td>0                                                                                            </td><td>product                                                                                      </td><td>NA                                                                                           </td><td>0                                                                                            </td></tr>\n",
       "\t<tr><td><span style=white-space:pre-wrap>15300              </span>  </td><td>0                                                            </td><td>0                                                            </td><td>0                                                            </td><td>0                                                            </td><td> 0                                                           </td><td>taxable                                                      </td><td>NA                                                           </td><td>2                                                            </td><td>2018-02-08 14:08:36                                          </td><td>...                                                          </td><td>pierre-jean-villa-croze-hermitage-accroche-coeur-2018        </td><td>2020-06-26 18:15:03                                          </td><td>2020-06-26 16:15:03                                          </td><td>NA                                                           </td><td>0                                                            </td><td>https://www.bottle-neck.fr/?post_type=product&amp;#038;p=3850</td><td>0                                                            </td><td>product                                                      </td><td>NA                                                           </td><td>0                                                            </td></tr>\n",
       "\t<tr><td><span style=white-space:pre-wrap>19814              </span>                                  </td><td>0                                                                                            </td><td>0                                                                                            </td><td>0                                                                                            </td><td>0                                                                                            </td><td> 3                                                                                           </td><td>taxable                                                                                      </td><td>NA                                                                                           </td><td>2                                                                                            </td><td>2018-02-09 14:01:05                                                                          </td><td>...                                                                                          </td><td><span style=white-space:pre-wrap>pierre-jean-villa-igp-gamine-2018                    </span></td><td>2020-01-04 16:36:01                                                                          </td><td>2020-01-04 15:36:01                                                                          </td><td>NA                                                                                           </td><td>0                                                                                            </td><td>https://www.bottle-neck.fr/?post_type=product&amp;#038;p=4032                                </td><td>0                                                                                            </td><td>product                                                                                      </td><td>NA                                                                                           </td><td>0                                                                                            </td></tr>\n",
       "\t<tr><td><span style=white-space:pre-wrap>19815              </span>                                  </td><td>0                                                                                            </td><td>0                                                                                            </td><td>0                                                                                            </td><td>0                                                                                            </td><td> 0                                                                                           </td><td>taxable                                                                                      </td><td>NA                                                                                           </td><td>2                                                                                            </td><td>2018-02-12 09:04:37                                                                          </td><td>...                                                                                          </td><td><span style=white-space:pre-wrap>pierre-jean-villa-cote-rotie-carmina-2017            </span></td><td>2020-01-04 16:36:10                                                                          </td><td>2020-01-04 15:36:10                                                                          </td><td>NA                                                                                           </td><td>0                                                                                            </td><td>https://www.bottle-neck.fr/?post_type=product&amp;#038;p=4039                                </td><td>0                                                                                            </td><td>product                                                                                      </td><td>NA                                                                                           </td><td>0                                                                                            </td></tr>\n",
       "</tbody>\n",
       "</table>\n"
      ],
      "text/latex": [
       "\\begin{tabular}{r|llllllllllllllllllllllllllll}\n",
       " sku & virtual & downloadable & rating\\_count & average\\_rating & total\\_sales & tax\\_status & tax\\_class & post\\_author & post\\_date & ... & post\\_name & post\\_modified & post\\_modified\\_gmt & post\\_content\\_filtered & post\\_parent & guid & menu\\_order & post\\_type & post\\_mime\\_type & comment\\_count\\\\\n",
       "\\hline\n",
       "\t bon-cadeau-25-euros                                             & 0                                                               & 0                                                               & 0                                                               & 0                                                               & 10                                                              & taxable                                                         & NA                                                              & 1                                                               & 2018-06-01 13:53:46                                             & ...                                                             & bon-cadeau-de-25-euros                                          & 2018-06-01 14:13:57                                             & 2018-06-01 12:13:57                                             & NA                                                              & 0                                                               & https://www.bottle-neck.fr/?post\\_type=product\\&\\#038;p=4954 & 0                                                               & product                                                         & NA                                                              & 0                                                              \\\\\n",
       "\t 15298                                                           & 0                                                               & 0                                                               & 0                                                               & 0                                                               &  6                                                              & taxable                                                         & NA                                                              & 2                                                               & 2018-02-08 12:58:52                                             & ...                                                             & pierre-jean-villa-saint-joseph-preface-2018                     & 2019-12-30 09:30:29                                             & 2019-12-30 08:30:29                                             & NA                                                              & 0                                                               & https://www.bottle-neck.fr/?post\\_type=product\\&\\#038;p=3847 & 0                                                               & product                                                         & NA                                                              & 0                                                              \\\\\n",
       "\t 15296                                                           & 0                                                               & 0                                                               & 0                                                               & 0                                                               &  0                                                              & taxable                                                         & NA                                                              & 2                                                               & 2018-02-08 13:49:41                                             & ...                                                             & pierre-jean-villa-saint-joseph-tilde-2017                       & 2019-12-21 09:00:17                                             & 2019-12-21 08:00:17                                             & NA                                                              & 0                                                               & https://www.bottle-neck.fr/?post\\_type=product\\&\\#038;p=3849 & 0                                                               & product                                                         & NA                                                              & 0                                                              \\\\\n",
       "\t 15300                                                           & 0                                                               & 0                                                               & 0                                                               & 0                                                               &  0                                                              & taxable                                                         & NA                                                              & 2                                                               & 2018-02-08 14:08:36                                             & ...                                                             & pierre-jean-villa-croze-hermitage-accroche-coeur-2018           & 2020-06-26 18:15:03                                             & 2020-06-26 16:15:03                                             & NA                                                              & 0                                                               & https://www.bottle-neck.fr/?post\\_type=product\\&\\#038;p=3850 & 0                                                               & product                                                         & NA                                                              & 0                                                              \\\\\n",
       "\t 19814                                                           & 0                                                               & 0                                                               & 0                                                               & 0                                                               &  3                                                              & taxable                                                         & NA                                                              & 2                                                               & 2018-02-09 14:01:05                                             & ...                                                             & pierre-jean-villa-igp-gamine-2018                               & 2020-01-04 16:36:01                                             & 2020-01-04 15:36:01                                             & NA                                                              & 0                                                               & https://www.bottle-neck.fr/?post\\_type=product\\&\\#038;p=4032 & 0                                                               & product                                                         & NA                                                              & 0                                                              \\\\\n",
       "\t 19815                                                           & 0                                                               & 0                                                               & 0                                                               & 0                                                               &  0                                                              & taxable                                                         & NA                                                              & 2                                                               & 2018-02-12 09:04:37                                             & ...                                                             & pierre-jean-villa-cote-rotie-carmina-2017                       & 2020-01-04 16:36:10                                             & 2020-01-04 15:36:10                                             & NA                                                              & 0                                                               & https://www.bottle-neck.fr/?post\\_type=product\\&\\#038;p=4039 & 0                                                               & product                                                         & NA                                                              & 0                                                              \\\\\n",
       "\\end{tabular}\n"
      ],
      "text/markdown": [
       "\n",
       "| sku | virtual | downloadable | rating_count | average_rating | total_sales | tax_status | tax_class | post_author | post_date | ... | post_name | post_modified | post_modified_gmt | post_content_filtered | post_parent | guid | menu_order | post_type | post_mime_type | comment_count |\n",
       "|---|---|---|---|---|---|---|---|---|---|---|---|---|---|---|---|---|---|---|---|---|\n",
       "| bon-cadeau-25-euros                                       | 0                                                         | 0                                                         | 0                                                         | 0                                                         | 10                                                        | taxable                                                   | NA                                                        | 1                                                         | 2018-06-01 13:53:46                                       | ...                                                       | bon-cadeau-de-25-euros                                    | 2018-06-01 14:13:57                                       | 2018-06-01 12:13:57                                       | NA                                                        | 0                                                         | https://www.bottle-neck.fr/?post_type=product&#038;p=4954 | 0                                                         | product                                                   | NA                                                        | 0                                                         |\n",
       "| 15298                                                     | 0                                                         | 0                                                         | 0                                                         | 0                                                         |  6                                                        | taxable                                                   | NA                                                        | 2                                                         | 2018-02-08 12:58:52                                       | ...                                                       | pierre-jean-villa-saint-joseph-preface-2018               | 2019-12-30 09:30:29                                       | 2019-12-30 08:30:29                                       | NA                                                        | 0                                                         | https://www.bottle-neck.fr/?post_type=product&#038;p=3847 | 0                                                         | product                                                   | NA                                                        | 0                                                         |\n",
       "| 15296                                                     | 0                                                         | 0                                                         | 0                                                         | 0                                                         |  0                                                        | taxable                                                   | NA                                                        | 2                                                         | 2018-02-08 13:49:41                                       | ...                                                       | pierre-jean-villa-saint-joseph-tilde-2017                 | 2019-12-21 09:00:17                                       | 2019-12-21 08:00:17                                       | NA                                                        | 0                                                         | https://www.bottle-neck.fr/?post_type=product&#038;p=3849 | 0                                                         | product                                                   | NA                                                        | 0                                                         |\n",
       "| 15300                                                     | 0                                                         | 0                                                         | 0                                                         | 0                                                         |  0                                                        | taxable                                                   | NA                                                        | 2                                                         | 2018-02-08 14:08:36                                       | ...                                                       | pierre-jean-villa-croze-hermitage-accroche-coeur-2018     | 2020-06-26 18:15:03                                       | 2020-06-26 16:15:03                                       | NA                                                        | 0                                                         | https://www.bottle-neck.fr/?post_type=product&#038;p=3850 | 0                                                         | product                                                   | NA                                                        | 0                                                         |\n",
       "| 19814                                                     | 0                                                         | 0                                                         | 0                                                         | 0                                                         |  3                                                        | taxable                                                   | NA                                                        | 2                                                         | 2018-02-09 14:01:05                                       | ...                                                       | pierre-jean-villa-igp-gamine-2018                         | 2020-01-04 16:36:01                                       | 2020-01-04 15:36:01                                       | NA                                                        | 0                                                         | https://www.bottle-neck.fr/?post_type=product&#038;p=4032 | 0                                                         | product                                                   | NA                                                        | 0                                                         |\n",
       "| 19815                                                     | 0                                                         | 0                                                         | 0                                                         | 0                                                         |  0                                                        | taxable                                                   | NA                                                        | 2                                                         | 2018-02-12 09:04:37                                       | ...                                                       | pierre-jean-villa-cote-rotie-carmina-2017                 | 2020-01-04 16:36:10                                       | 2020-01-04 15:36:10                                       | NA                                                        | 0                                                         | https://www.bottle-neck.fr/?post_type=product&#038;p=4039 | 0                                                         | product                                                   | NA                                                        | 0                                                         |\n",
       "\n"
      ],
      "text/plain": [
       "  sku                 virtual downloadable rating_count average_rating\n",
       "1 bon-cadeau-25-euros 0       0            0            0             \n",
       "2 15298               0       0            0            0             \n",
       "3 15296               0       0            0            0             \n",
       "4 15300               0       0            0            0             \n",
       "5 19814               0       0            0            0             \n",
       "6 19815               0       0            0            0             \n",
       "  total_sales tax_status tax_class post_author post_date           ...\n",
       "1 10          taxable    NA        1           2018-06-01 13:53:46 ...\n",
       "2  6          taxable    NA        2           2018-02-08 12:58:52 ...\n",
       "3  0          taxable    NA        2           2018-02-08 13:49:41 ...\n",
       "4  0          taxable    NA        2           2018-02-08 14:08:36 ...\n",
       "5  3          taxable    NA        2           2018-02-09 14:01:05 ...\n",
       "6  0          taxable    NA        2           2018-02-12 09:04:37 ...\n",
       "  post_name                                             post_modified      \n",
       "1 bon-cadeau-de-25-euros                                2018-06-01 14:13:57\n",
       "2 pierre-jean-villa-saint-joseph-preface-2018           2019-12-30 09:30:29\n",
       "3 pierre-jean-villa-saint-joseph-tilde-2017             2019-12-21 09:00:17\n",
       "4 pierre-jean-villa-croze-hermitage-accroche-coeur-2018 2020-06-26 18:15:03\n",
       "5 pierre-jean-villa-igp-gamine-2018                     2020-01-04 16:36:01\n",
       "6 pierre-jean-villa-cote-rotie-carmina-2017             2020-01-04 16:36:10\n",
       "  post_modified_gmt   post_content_filtered post_parent\n",
       "1 2018-06-01 12:13:57 NA                    0          \n",
       "2 2019-12-30 08:30:29 NA                    0          \n",
       "3 2019-12-21 08:00:17 NA                    0          \n",
       "4 2020-06-26 16:15:03 NA                    0          \n",
       "5 2020-01-04 15:36:01 NA                    0          \n",
       "6 2020-01-04 15:36:10 NA                    0          \n",
       "  guid                                                      menu_order\n",
       "1 https://www.bottle-neck.fr/?post_type=product&#038;p=4954 0         \n",
       "2 https://www.bottle-neck.fr/?post_type=product&#038;p=3847 0         \n",
       "3 https://www.bottle-neck.fr/?post_type=product&#038;p=3849 0         \n",
       "4 https://www.bottle-neck.fr/?post_type=product&#038;p=3850 0         \n",
       "5 https://www.bottle-neck.fr/?post_type=product&#038;p=4032 0         \n",
       "6 https://www.bottle-neck.fr/?post_type=product&#038;p=4039 0         \n",
       "  post_type post_mime_type comment_count\n",
       "1 product   NA             0            \n",
       "2 product   NA             0            \n",
       "3 product   NA             0            \n",
       "4 product   NA             0            \n",
       "5 product   NA             0            \n",
       "6 product   NA             0            "
      ]
     },
     "metadata": {},
     "output_type": "display_data"
    }
   ],
   "source": [
    "# On ne conserve que les \"product\"\n",
    "df_product <- df_web[(df_web$post_type==\"product\"),]\n",
    "# On observe\n",
    "print(dim(df_product))\n",
    "head(df_product)"
   ]
  },
  {
   "cell_type": "code",
   "execution_count": 14,
   "id": "excited-person",
   "metadata": {},
   "outputs": [
    {
     "name": "stdout",
     "output_type": "stream",
     "text": [
      "[1] \"La clé n'est pas présente plusieurs fois dans le dataframe.\"\n",
      "[1] \"Elle peut donc être utilisée comme clé primaire.\"\n",
      "[1] \"Le dataframe est de la forme : (714,28) (lignes, colonnes)\"\n"
     ]
    }
   ],
   "source": [
    "# On teste l'unicité de la clé primaire\n",
    "testerCle(df_product, c('sku'))"
   ]
  },
  {
   "cell_type": "markdown",
   "id": "available-cylinder",
   "metadata": {},
   "source": [
    "<div style=\"background-color: RGB(51,165,182);\" >\n",
    "<h2 style=\"margin: auto; padding: 20px; color:#fff; \">Partie 3 - Jointures</h2>\n",
    "</div>"
   ]
  },
  {
   "cell_type": "code",
   "execution_count": 15,
   "id": "statewide-leisure",
   "metadata": {},
   "outputs": [
    {
     "name": "stdout",
     "output_type": "stream",
     "text": [
      "[1] 825   6\n"
     ]
    },
    {
     "data": {
      "text/html": [
       "<table>\n",
       "<thead><tr><th scope=col>product_id</th><th scope=col>onsale_web</th><th scope=col>price</th><th scope=col>stock_quantity</th><th scope=col>stock_status</th><th scope=col>id_web</th></tr></thead>\n",
       "<tbody>\n",
       "\t<tr><td>3847      </td><td>1         </td><td>24.2      </td><td>0         </td><td>outofstock</td><td>15298     </td></tr>\n",
       "\t<tr><td>3849      </td><td>1         </td><td>34.3      </td><td>0         </td><td>outofstock</td><td>15296     </td></tr>\n",
       "\t<tr><td>3850      </td><td>1         </td><td>20.8      </td><td>0         </td><td>outofstock</td><td>15300     </td></tr>\n",
       "\t<tr><td>4032      </td><td>1         </td><td>14.1      </td><td>0         </td><td>outofstock</td><td>19814     </td></tr>\n",
       "\t<tr><td>4039      </td><td>1         </td><td>46.0      </td><td>0         </td><td>outofstock</td><td>19815     </td></tr>\n",
       "\t<tr><td>4040      </td><td>1         </td><td>34.3      </td><td>0         </td><td>outofstock</td><td>15303     </td></tr>\n",
       "</tbody>\n",
       "</table>\n"
      ],
      "text/latex": [
       "\\begin{tabular}{r|llllll}\n",
       " product\\_id & onsale\\_web & price & stock\\_quantity & stock\\_status & id\\_web\\\\\n",
       "\\hline\n",
       "\t 3847       & 1          & 24.2       & 0          & outofstock & 15298     \\\\\n",
       "\t 3849       & 1          & 34.3       & 0          & outofstock & 15296     \\\\\n",
       "\t 3850       & 1          & 20.8       & 0          & outofstock & 15300     \\\\\n",
       "\t 4032       & 1          & 14.1       & 0          & outofstock & 19814     \\\\\n",
       "\t 4039       & 1          & 46.0       & 0          & outofstock & 19815     \\\\\n",
       "\t 4040       & 1          & 34.3       & 0          & outofstock & 15303     \\\\\n",
       "\\end{tabular}\n"
      ],
      "text/markdown": [
       "\n",
       "| product_id | onsale_web | price | stock_quantity | stock_status | id_web |\n",
       "|---|---|---|---|---|---|\n",
       "| 3847       | 1          | 24.2       | 0          | outofstock | 15298      |\n",
       "| 3849       | 1          | 34.3       | 0          | outofstock | 15296      |\n",
       "| 3850       | 1          | 20.8       | 0          | outofstock | 15300      |\n",
       "| 4032       | 1          | 14.1       | 0          | outofstock | 19814      |\n",
       "| 4039       | 1          | 46.0       | 0          | outofstock | 19815      |\n",
       "| 4040       | 1          | 34.3       | 0          | outofstock | 15303      |\n",
       "\n"
      ],
      "text/plain": [
       "  product_id onsale_web price stock_quantity stock_status id_web\n",
       "1 3847       1          24.2  0              outofstock   15298 \n",
       "2 3849       1          34.3  0              outofstock   15296 \n",
       "3 3850       1          20.8  0              outofstock   15300 \n",
       "4 4032       1          14.1  0              outofstock   19814 \n",
       "5 4039       1          46.0  0              outofstock   19815 \n",
       "6 4040       1          34.3  0              outofstock   15303 "
      ]
     },
     "metadata": {},
     "output_type": "display_data"
    }
   ],
   "source": [
    "# On va appliquer une jointure \"outer\" entre df_erp et df_liaison\n",
    "df_erp_liaison = merge(x = df_erp, y = df_liaison, by = \"product_id\", all=TRUE)\n",
    "\n",
    "# On observe\n",
    "print(dim(df_erp_liaison))\n",
    "head(df_erp_liaison)"
   ]
  },
  {
   "cell_type": "code",
   "execution_count": 16,
   "id": "polyphonic-cherry",
   "metadata": {},
   "outputs": [
    {
     "data": {
      "text/html": [
       "<table>\n",
       "<thead><tr><th scope=col>product_id</th><th scope=col>onsale_web</th><th scope=col>price</th><th scope=col>stock_quantity</th><th scope=col>stock_status</th><th scope=col>id_web</th></tr></thead>\n",
       "<tbody>\n",
       "</tbody>\n",
       "</table>\n"
      ],
      "text/latex": [
       "\\begin{tabular}{r|llllll}\n",
       " product\\_id & onsale\\_web & price & stock\\_quantity & stock\\_status & id\\_web\\\\\n",
       "\\hline\n",
       "\\end{tabular}\n"
      ],
      "text/markdown": [
       "\n",
       "| product_id | onsale_web | price | stock_quantity | stock_status | id_web |\n",
       "|---|---|---|---|---|---|\n",
       "\n"
      ],
      "text/plain": [
       "     product_id onsale_web price stock_quantity stock_status id_web"
      ]
     },
     "metadata": {},
     "output_type": "display_data"
    }
   ],
   "source": [
    "# On regarde si des product_id de df_erp sont absents de df_liaison\n",
    "anti_join(df_erp_liaison, df_liaison, by=\"product_id\")"
   ]
  },
  {
   "cell_type": "code",
   "execution_count": 17,
   "id": "intense-drive",
   "metadata": {},
   "outputs": [
    {
     "data": {
      "text/html": [
       "<table>\n",
       "<thead><tr><th scope=col>product_id</th><th scope=col>onsale_web</th><th scope=col>price</th><th scope=col>stock_quantity</th><th scope=col>stock_status</th><th scope=col>id_web</th></tr></thead>\n",
       "<tbody>\n",
       "</tbody>\n",
       "</table>\n"
      ],
      "text/latex": [
       "\\begin{tabular}{r|llllll}\n",
       " product\\_id & onsale\\_web & price & stock\\_quantity & stock\\_status & id\\_web\\\\\n",
       "\\hline\n",
       "\\end{tabular}\n"
      ],
      "text/markdown": [
       "\n",
       "| product_id | onsale_web | price | stock_quantity | stock_status | id_web |\n",
       "|---|---|---|---|---|---|\n",
       "\n"
      ],
      "text/plain": [
       "     product_id onsale_web price stock_quantity stock_status id_web"
      ]
     },
     "metadata": {},
     "output_type": "display_data"
    }
   ],
   "source": [
    "# On regarde si des product_id de df_liaison sont absents de df_erp\n",
    "anti_join(df_erp_liaison, df_erp, by=\"product_id\")"
   ]
  },
  {
   "cell_type": "code",
   "execution_count": 18,
   "id": "elect-scene",
   "metadata": {},
   "outputs": [
    {
     "name": "stdout",
     "output_type": "stream",
     "text": [
      "[1] 825  33\n"
     ]
    },
    {
     "data": {
      "text/html": [
       "<table>\n",
       "<thead><tr><th scope=col>sku</th><th scope=col>virtual</th><th scope=col>downloadable</th><th scope=col>rating_count</th><th scope=col>average_rating</th><th scope=col>total_sales</th><th scope=col>tax_status</th><th scope=col>tax_class</th><th scope=col>post_author</th><th scope=col>post_date</th><th scope=col>...</th><th scope=col>guid</th><th scope=col>menu_order</th><th scope=col>post_type</th><th scope=col>post_mime_type</th><th scope=col>comment_count</th><th scope=col>product_id</th><th scope=col>onsale_web</th><th scope=col>price</th><th scope=col>stock_quantity</th><th scope=col>stock_status</th></tr></thead>\n",
       "<tbody>\n",
       "\t<tr><td>10014                                                        </td><td>0                                                            </td><td>0                                                            </td><td>0                                                            </td><td>0                                                            </td><td>0                                                            </td><td>taxable                                                      </td><td>NA                                                           </td><td>2                                                            </td><td>2019-04-04 15:45:23                                          </td><td>...                                                          </td><td>https://www.bottle-neck.fr/?post_type=product&amp;#038;p=5913</td><td>0                                                            </td><td>product                                                      </td><td>NA                                                           </td><td>0                                                            </td><td>5913                                                         </td><td>1                                                            </td><td>36.0                                                         </td><td>9                                                            </td><td><span style=white-space:pre-wrap>instock   </span>           </td></tr>\n",
       "\t<tr><td>10459                                                        </td><td>0                                                            </td><td>0                                                            </td><td>0                                                            </td><td>0                                                            </td><td>0                                                            </td><td>taxable                                                      </td><td>NA                                                           </td><td>2                                                            </td><td>2018-04-13 15:58:19                                          </td><td>...                                                          </td><td>https://www.bottle-neck.fr/?post_type=product&amp;#038;p=4617</td><td>0                                                            </td><td>product                                                      </td><td>NA                                                           </td><td>0                                                            </td><td>4617                                                         </td><td>1                                                            </td><td>67.5                                                         </td><td>1                                                            </td><td><span style=white-space:pre-wrap>instock   </span>           </td></tr>\n",
       "\t<tr><td>10775                                                        </td><td>0                                                            </td><td>0                                                            </td><td>0                                                            </td><td>0                                                            </td><td>0                                                            </td><td>taxable                                                      </td><td>NA                                                           </td><td>2                                                            </td><td>2018-04-17 21:28:52                                          </td><td>...                                                          </td><td>https://www.bottle-neck.fr/?post_type=product&amp;#038;p=4709</td><td>0                                                            </td><td>product                                                      </td><td>NA                                                           </td><td>0                                                            </td><td>4709                                                         </td><td>1                                                            </td><td>44.0                                                         </td><td>0                                                            </td><td>outofstock                                                   </td></tr>\n",
       "\t<tr><td>10814                                                        </td><td>0                                                            </td><td>0                                                            </td><td>0                                                            </td><td>0                                                            </td><td>0                                                            </td><td>taxable                                                      </td><td>NA                                                           </td><td>2                                                            </td><td>2018-04-17 10:12:40                                          </td><td>...                                                          </td><td>https://www.bottle-neck.fr/?post_type=product&amp;#038;p=4656</td><td>0                                                            </td><td>product                                                      </td><td>NA                                                           </td><td>0                                                            </td><td>4656                                                         </td><td>1                                                            </td><td>43.0                                                         </td><td>3                                                            </td><td><span style=white-space:pre-wrap>instock   </span>           </td></tr>\n",
       "\t<tr><td>11049                                                        </td><td>0                                                            </td><td>0                                                            </td><td>0                                                            </td><td>0                                                            </td><td>0                                                            </td><td>taxable                                                      </td><td>NA                                                           </td><td>2                                                            </td><td>2018-04-13 16:07:49                                          </td><td>...                                                          </td><td>https://www.bottle-neck.fr/?post_type=product&amp;#038;p=4619</td><td>0                                                            </td><td>product                                                      </td><td>NA                                                           </td><td>0                                                            </td><td>4619                                                         </td><td>1                                                            </td><td>59.0                                                         </td><td>5                                                            </td><td><span style=white-space:pre-wrap>instock   </span>           </td></tr>\n",
       "\t<tr><td>11225                                                        </td><td>0                                                            </td><td>0                                                            </td><td>0                                                            </td><td>0                                                            </td><td>0                                                            </td><td>taxable                                                      </td><td>NA                                                           </td><td>2                                                            </td><td>2018-06-06 16:47:38                                          </td><td>...                                                          </td><td>https://www.bottle-neck.fr/?post_type=product&amp;#038;p=4970</td><td>0                                                            </td><td>product                                                      </td><td>NA                                                           </td><td>0                                                            </td><td>4970                                                         </td><td>1                                                            </td><td>49.5                                                         </td><td>0                                                            </td><td>outofstock                                                   </td></tr>\n",
       "</tbody>\n",
       "</table>\n"
      ],
      "text/latex": [
       "\\begin{tabular}{r|lllllllllllllllllllllllllllllllll}\n",
       " sku & virtual & downloadable & rating\\_count & average\\_rating & total\\_sales & tax\\_status & tax\\_class & post\\_author & post\\_date & ... & guid & menu\\_order & post\\_type & post\\_mime\\_type & comment\\_count & product\\_id & onsale\\_web & price & stock\\_quantity & stock\\_status\\\\\n",
       "\\hline\n",
       "\t 10014                                                           & 0                                                               & 0                                                               & 0                                                               & 0                                                               & 0                                                               & taxable                                                         & NA                                                              & 2                                                               & 2019-04-04 15:45:23                                             & ...                                                             & https://www.bottle-neck.fr/?post\\_type=product\\&\\#038;p=5913 & 0                                                               & product                                                         & NA                                                              & 0                                                               & 5913                                                            & 1                                                               & 36.0                                                            & 9                                                               & instock                                                        \\\\\n",
       "\t 10459                                                           & 0                                                               & 0                                                               & 0                                                               & 0                                                               & 0                                                               & taxable                                                         & NA                                                              & 2                                                               & 2018-04-13 15:58:19                                             & ...                                                             & https://www.bottle-neck.fr/?post\\_type=product\\&\\#038;p=4617 & 0                                                               & product                                                         & NA                                                              & 0                                                               & 4617                                                            & 1                                                               & 67.5                                                            & 1                                                               & instock                                                        \\\\\n",
       "\t 10775                                                           & 0                                                               & 0                                                               & 0                                                               & 0                                                               & 0                                                               & taxable                                                         & NA                                                              & 2                                                               & 2018-04-17 21:28:52                                             & ...                                                             & https://www.bottle-neck.fr/?post\\_type=product\\&\\#038;p=4709 & 0                                                               & product                                                         & NA                                                              & 0                                                               & 4709                                                            & 1                                                               & 44.0                                                            & 0                                                               & outofstock                                                     \\\\\n",
       "\t 10814                                                           & 0                                                               & 0                                                               & 0                                                               & 0                                                               & 0                                                               & taxable                                                         & NA                                                              & 2                                                               & 2018-04-17 10:12:40                                             & ...                                                             & https://www.bottle-neck.fr/?post\\_type=product\\&\\#038;p=4656 & 0                                                               & product                                                         & NA                                                              & 0                                                               & 4656                                                            & 1                                                               & 43.0                                                            & 3                                                               & instock                                                        \\\\\n",
       "\t 11049                                                           & 0                                                               & 0                                                               & 0                                                               & 0                                                               & 0                                                               & taxable                                                         & NA                                                              & 2                                                               & 2018-04-13 16:07:49                                             & ...                                                             & https://www.bottle-neck.fr/?post\\_type=product\\&\\#038;p=4619 & 0                                                               & product                                                         & NA                                                              & 0                                                               & 4619                                                            & 1                                                               & 59.0                                                            & 5                                                               & instock                                                        \\\\\n",
       "\t 11225                                                           & 0                                                               & 0                                                               & 0                                                               & 0                                                               & 0                                                               & taxable                                                         & NA                                                              & 2                                                               & 2018-06-06 16:47:38                                             & ...                                                             & https://www.bottle-neck.fr/?post\\_type=product\\&\\#038;p=4970 & 0                                                               & product                                                         & NA                                                              & 0                                                               & 4970                                                            & 1                                                               & 49.5                                                            & 0                                                               & outofstock                                                     \\\\\n",
       "\\end{tabular}\n"
      ],
      "text/markdown": [
       "\n",
       "| sku | virtual | downloadable | rating_count | average_rating | total_sales | tax_status | tax_class | post_author | post_date | ... | guid | menu_order | post_type | post_mime_type | comment_count | product_id | onsale_web | price | stock_quantity | stock_status |\n",
       "|---|---|---|---|---|---|---|---|---|---|---|---|---|---|---|---|---|---|---|---|---|\n",
       "| 10014                                                     | 0                                                         | 0                                                         | 0                                                         | 0                                                         | 0                                                         | taxable                                                   | NA                                                        | 2                                                         | 2019-04-04 15:45:23                                       | ...                                                       | https://www.bottle-neck.fr/?post_type=product&#038;p=5913 | 0                                                         | product                                                   | NA                                                        | 0                                                         | 5913                                                      | 1                                                         | 36.0                                                      | 9                                                         | instock                                                   |\n",
       "| 10459                                                     | 0                                                         | 0                                                         | 0                                                         | 0                                                         | 0                                                         | taxable                                                   | NA                                                        | 2                                                         | 2018-04-13 15:58:19                                       | ...                                                       | https://www.bottle-neck.fr/?post_type=product&#038;p=4617 | 0                                                         | product                                                   | NA                                                        | 0                                                         | 4617                                                      | 1                                                         | 67.5                                                      | 1                                                         | instock                                                   |\n",
       "| 10775                                                     | 0                                                         | 0                                                         | 0                                                         | 0                                                         | 0                                                         | taxable                                                   | NA                                                        | 2                                                         | 2018-04-17 21:28:52                                       | ...                                                       | https://www.bottle-neck.fr/?post_type=product&#038;p=4709 | 0                                                         | product                                                   | NA                                                        | 0                                                         | 4709                                                      | 1                                                         | 44.0                                                      | 0                                                         | outofstock                                                |\n",
       "| 10814                                                     | 0                                                         | 0                                                         | 0                                                         | 0                                                         | 0                                                         | taxable                                                   | NA                                                        | 2                                                         | 2018-04-17 10:12:40                                       | ...                                                       | https://www.bottle-neck.fr/?post_type=product&#038;p=4656 | 0                                                         | product                                                   | NA                                                        | 0                                                         | 4656                                                      | 1                                                         | 43.0                                                      | 3                                                         | instock                                                   |\n",
       "| 11049                                                     | 0                                                         | 0                                                         | 0                                                         | 0                                                         | 0                                                         | taxable                                                   | NA                                                        | 2                                                         | 2018-04-13 16:07:49                                       | ...                                                       | https://www.bottle-neck.fr/?post_type=product&#038;p=4619 | 0                                                         | product                                                   | NA                                                        | 0                                                         | 4619                                                      | 1                                                         | 59.0                                                      | 5                                                         | instock                                                   |\n",
       "| 11225                                                     | 0                                                         | 0                                                         | 0                                                         | 0                                                         | 0                                                         | taxable                                                   | NA                                                        | 2                                                         | 2018-06-06 16:47:38                                       | ...                                                       | https://www.bottle-neck.fr/?post_type=product&#038;p=4970 | 0                                                         | product                                                   | NA                                                        | 0                                                         | 4970                                                      | 1                                                         | 49.5                                                      | 0                                                         | outofstock                                                |\n",
       "\n"
      ],
      "text/plain": [
       "  sku   virtual downloadable rating_count average_rating total_sales tax_status\n",
       "1 10014 0       0            0            0              0           taxable   \n",
       "2 10459 0       0            0            0              0           taxable   \n",
       "3 10775 0       0            0            0              0           taxable   \n",
       "4 10814 0       0            0            0              0           taxable   \n",
       "5 11049 0       0            0            0              0           taxable   \n",
       "6 11225 0       0            0            0              0           taxable   \n",
       "  tax_class post_author post_date           ...\n",
       "1 NA        2           2019-04-04 15:45:23 ...\n",
       "2 NA        2           2018-04-13 15:58:19 ...\n",
       "3 NA        2           2018-04-17 21:28:52 ...\n",
       "4 NA        2           2018-04-17 10:12:40 ...\n",
       "5 NA        2           2018-04-13 16:07:49 ...\n",
       "6 NA        2           2018-06-06 16:47:38 ...\n",
       "  guid                                                      menu_order\n",
       "1 https://www.bottle-neck.fr/?post_type=product&#038;p=5913 0         \n",
       "2 https://www.bottle-neck.fr/?post_type=product&#038;p=4617 0         \n",
       "3 https://www.bottle-neck.fr/?post_type=product&#038;p=4709 0         \n",
       "4 https://www.bottle-neck.fr/?post_type=product&#038;p=4656 0         \n",
       "5 https://www.bottle-neck.fr/?post_type=product&#038;p=4619 0         \n",
       "6 https://www.bottle-neck.fr/?post_type=product&#038;p=4970 0         \n",
       "  post_type post_mime_type comment_count product_id onsale_web price\n",
       "1 product   NA             0             5913       1          36.0 \n",
       "2 product   NA             0             4617       1          67.5 \n",
       "3 product   NA             0             4709       1          44.0 \n",
       "4 product   NA             0             4656       1          43.0 \n",
       "5 product   NA             0             4619       1          59.0 \n",
       "6 product   NA             0             4970       1          49.5 \n",
       "  stock_quantity stock_status\n",
       "1 9              instock     \n",
       "2 1              instock     \n",
       "3 0              outofstock  \n",
       "4 3              instock     \n",
       "5 5              instock     \n",
       "6 0              outofstock  "
      ]
     },
     "metadata": {},
     "output_type": "display_data"
    }
   ],
   "source": [
    "# On effectue une jointure \"outer\" entre df_erp_liaison et df_product\n",
    "df_nouvel_erp <- merge(x = df_product, y = df_erp_liaison, by.x = \"sku\", by.y = \"id_web\", all=TRUE)\n",
    "\n",
    "# On observe\n",
    "print(dim(df_nouvel_erp))\n",
    "head(df_nouvel_erp)"
   ]
  },
  {
   "cell_type": "code",
   "execution_count": 19,
   "id": "mental-advancement",
   "metadata": {},
   "outputs": [
    {
     "name": "stdout",
     "output_type": "stream",
     "text": [
      "[1]  0 28\n"
     ]
    },
    {
     "name": "stderr",
     "output_type": "stream",
     "text": [
      "Warning message in cbind(parts$left, ellip_h, parts$right, deparse.level = 0L):\n",
      "\"number of rows of result is not a multiple of vector length (arg 2)\"Warning message in cbind(parts$left, ellip_h, parts$right, deparse.level = 0L):\n",
      "\"number of rows of result is not a multiple of vector length (arg 2)\"Warning message in cbind(parts$left, ellip_h, parts$right, deparse.level = 0L):\n",
      "\"number of rows of result is not a multiple of vector length (arg 2)\"Warning message in cbind(parts$left, ellip_h, parts$right, deparse.level = 0L):\n",
      "\"number of rows of result is not a multiple of vector length (arg 2)\""
     ]
    },
    {
     "data": {
      "text/html": [
       "<table>\n",
       "<thead><tr><th scope=col>sku</th><th scope=col>virtual</th><th scope=col>downloadable</th><th scope=col>rating_count</th><th scope=col>average_rating</th><th scope=col>total_sales</th><th scope=col>tax_status</th><th scope=col>tax_class</th><th scope=col>post_author</th><th scope=col>post_date</th><th scope=col>...</th><th scope=col>post_name</th><th scope=col>post_modified</th><th scope=col>post_modified_gmt</th><th scope=col>post_content_filtered</th><th scope=col>post_parent</th><th scope=col>guid</th><th scope=col>menu_order</th><th scope=col>post_type</th><th scope=col>post_mime_type</th><th scope=col>comment_count</th></tr></thead>\n",
       "<tbody>\n",
       "</tbody>\n",
       "</table>\n"
      ],
      "text/latex": [
       "\\begin{tabular}{r|llllllllllllllllllllllllllll}\n",
       " sku & virtual & downloadable & rating\\_count & average\\_rating & total\\_sales & tax\\_status & tax\\_class & post\\_author & post\\_date & ... & post\\_name & post\\_modified & post\\_modified\\_gmt & post\\_content\\_filtered & post\\_parent & guid & menu\\_order & post\\_type & post\\_mime\\_type & comment\\_count\\\\\n",
       "\\hline\n",
       "\\end{tabular}\n"
      ],
      "text/markdown": [
       "\n",
       "| sku | virtual | downloadable | rating_count | average_rating | total_sales | tax_status | tax_class | post_author | post_date | ... | post_name | post_modified | post_modified_gmt | post_content_filtered | post_parent | guid | menu_order | post_type | post_mime_type | comment_count |\n",
       "|---|---|---|---|---|---|---|---|---|---|---|---|---|---|---|---|---|---|---|---|---|\n",
       "\n"
      ],
      "text/plain": [
       "     sku virtual downloadable rating_count average_rating total_sales\n",
       "     tax_status tax_class post_author post_date ... post_name post_modified\n",
       "     post_modified_gmt post_content_filtered post_parent guid menu_order\n",
       "     post_type post_mime_type comment_count"
      ]
     },
     "metadata": {},
     "output_type": "display_data"
    }
   ],
   "source": [
    "# On regarde si des lignes de df_product n'ont pas matchées\n",
    "df_verif <- anti_join(df_product, df_nouvel_erp, by= \"sku\")\n",
    "\n",
    "# On observe\n",
    "print(dim(df_verif))\n",
    "head(df_verif)"
   ]
  },
  {
   "cell_type": "code",
   "execution_count": 20,
   "id": "common-arizona",
   "metadata": {
    "scrolled": true
   },
   "outputs": [
    {
     "name": "stdout",
     "output_type": "stream",
     "text": [
      "[1] 111   6\n"
     ]
    },
    {
     "data": {
      "text/html": [
       "<table>\n",
       "<thead><tr><th scope=col>product_id</th><th scope=col>onsale_web</th><th scope=col>price</th><th scope=col>stock_quantity</th><th scope=col>stock_status</th><th scope=col>id_web</th></tr></thead>\n",
       "<tbody>\n",
       "\t<tr><td>4055      </td><td>0         </td><td>86.1      </td><td>0         </td><td>outofstock</td><td>NA        </td></tr>\n",
       "\t<tr><td>4090      </td><td>0         </td><td>73.0      </td><td>0         </td><td>outofstock</td><td>NA        </td></tr>\n",
       "\t<tr><td>4092      </td><td>0         </td><td>47.0      </td><td>0         </td><td>outofstock</td><td>NA        </td></tr>\n",
       "\t<tr><td>4195      </td><td>0         </td><td>14.1      </td><td>0         </td><td>outofstock</td><td>NA        </td></tr>\n",
       "\t<tr><td>4209      </td><td>0         </td><td>73.5      </td><td>0         </td><td>outofstock</td><td>NA        </td></tr>\n",
       "\t<tr><td>4233      </td><td>0         </td><td>20.0      </td><td>0         </td><td>outofstock</td><td>NA        </td></tr>\n",
       "</tbody>\n",
       "</table>\n"
      ],
      "text/latex": [
       "\\begin{tabular}{r|llllll}\n",
       " product\\_id & onsale\\_web & price & stock\\_quantity & stock\\_status & id\\_web\\\\\n",
       "\\hline\n",
       "\t 4055       & 0          & 86.1       & 0          & outofstock & NA        \\\\\n",
       "\t 4090       & 0          & 73.0       & 0          & outofstock & NA        \\\\\n",
       "\t 4092       & 0          & 47.0       & 0          & outofstock & NA        \\\\\n",
       "\t 4195       & 0          & 14.1       & 0          & outofstock & NA        \\\\\n",
       "\t 4209       & 0          & 73.5       & 0          & outofstock & NA        \\\\\n",
       "\t 4233       & 0          & 20.0       & 0          & outofstock & NA        \\\\\n",
       "\\end{tabular}\n"
      ],
      "text/markdown": [
       "\n",
       "| product_id | onsale_web | price | stock_quantity | stock_status | id_web |\n",
       "|---|---|---|---|---|---|\n",
       "| 4055       | 0          | 86.1       | 0          | outofstock | NA         |\n",
       "| 4090       | 0          | 73.0       | 0          | outofstock | NA         |\n",
       "| 4092       | 0          | 47.0       | 0          | outofstock | NA         |\n",
       "| 4195       | 0          | 14.1       | 0          | outofstock | NA         |\n",
       "| 4209       | 0          | 73.5       | 0          | outofstock | NA         |\n",
       "| 4233       | 0          | 20.0       | 0          | outofstock | NA         |\n",
       "\n"
      ],
      "text/plain": [
       "  product_id onsale_web price stock_quantity stock_status id_web\n",
       "1 4055       0          86.1  0              outofstock   NA    \n",
       "2 4090       0          73.0  0              outofstock   NA    \n",
       "3 4092       0          47.0  0              outofstock   NA    \n",
       "4 4195       0          14.1  0              outofstock   NA    \n",
       "5 4209       0          73.5  0              outofstock   NA    \n",
       "6 4233       0          20.0  0              outofstock   NA    "
      ]
     },
     "metadata": {},
     "output_type": "display_data"
    }
   ],
   "source": [
    "# On regarde si des lignes de df_erp_liaison n'ont pas matchées\n",
    "df_verif2 <- anti_join(df_erp_liaison, df_product, by=c(\"id_web\"=\"sku\"))\n",
    "\n",
    "# On observe\n",
    "print(dim(df_verif2))\n",
    "head(df_verif2)"
   ]
  },
  {
   "cell_type": "code",
   "execution_count": 21,
   "id": "related-porter",
   "metadata": {
    "scrolled": true
   },
   "outputs": [
    {
     "name": "stdout",
     "output_type": "stream",
     "text": [
      "[1] 20  6\n"
     ]
    },
    {
     "data": {
      "text/html": [
       "<table>\n",
       "<thead><tr><th></th><th scope=col>product_id</th><th scope=col>onsale_web</th><th scope=col>price</th><th scope=col>stock_quantity</th><th scope=col>stock_status</th><th scope=col>id_web</th></tr></thead>\n",
       "<tbody>\n",
       "\t<tr><th scope=row>9</th><td>4289      </td><td>0         </td><td>22.8      </td><td>0         </td><td>outofstock</td><td>13771     </td></tr>\n",
       "\t<tr><th scope=row>11</th><td>4568      </td><td>0         </td><td>21.5      </td><td>0         </td><td>outofstock</td><td>15065     </td></tr>\n",
       "\t<tr><th scope=row>14</th><td>4584      </td><td>0         </td><td>32.3      </td><td>0         </td><td>outofstock</td><td>14785     </td></tr>\n",
       "\t<tr><th scope=row>25</th><td>4741      </td><td>0         </td><td>12.4      </td><td>0         </td><td>outofstock</td><td>12601     </td></tr>\n",
       "\t<tr><th scope=row>28</th><td>4864      </td><td>0         </td><td> 8.3      </td><td>0         </td><td>outofstock</td><td>15154     </td></tr>\n",
       "\t<tr><th scope=row>29</th><td>4869      </td><td>0         </td><td>17.2      </td><td>0         </td><td>outofstock</td><td>14360     </td></tr>\n",
       "</tbody>\n",
       "</table>\n"
      ],
      "text/latex": [
       "\\begin{tabular}{r|llllll}\n",
       "  & product\\_id & onsale\\_web & price & stock\\_quantity & stock\\_status & id\\_web\\\\\n",
       "\\hline\n",
       "\t9 & 4289       & 0          & 22.8       & 0          & outofstock & 13771     \\\\\n",
       "\t11 & 4568       & 0          & 21.5       & 0          & outofstock & 15065     \\\\\n",
       "\t14 & 4584       & 0          & 32.3       & 0          & outofstock & 14785     \\\\\n",
       "\t25 & 4741       & 0          & 12.4       & 0          & outofstock & 12601     \\\\\n",
       "\t28 & 4864       & 0          &  8.3       & 0          & outofstock & 15154     \\\\\n",
       "\t29 & 4869       & 0          & 17.2       & 0          & outofstock & 14360     \\\\\n",
       "\\end{tabular}\n"
      ],
      "text/markdown": [
       "\n",
       "| <!--/--> | product_id | onsale_web | price | stock_quantity | stock_status | id_web |\n",
       "|---|---|---|---|---|---|---|\n",
       "| 9 | 4289       | 0          | 22.8       | 0          | outofstock | 13771      |\n",
       "| 11 | 4568       | 0          | 21.5       | 0          | outofstock | 15065      |\n",
       "| 14 | 4584       | 0          | 32.3       | 0          | outofstock | 14785      |\n",
       "| 25 | 4741       | 0          | 12.4       | 0          | outofstock | 12601      |\n",
       "| 28 | 4864       | 0          |  8.3       | 0          | outofstock | 15154      |\n",
       "| 29 | 4869       | 0          | 17.2       | 0          | outofstock | 14360      |\n",
       "\n"
      ],
      "text/plain": [
       "   product_id onsale_web price stock_quantity stock_status id_web\n",
       "9  4289       0          22.8  0              outofstock   13771 \n",
       "11 4568       0          21.5  0              outofstock   15065 \n",
       "14 4584       0          32.3  0              outofstock   14785 \n",
       "25 4741       0          12.4  0              outofstock   12601 \n",
       "28 4864       0           8.3  0              outofstock   15154 \n",
       "29 4869       0          17.2  0              outofstock   14360 "
      ]
     },
     "metadata": {},
     "output_type": "display_data"
    }
   ],
   "source": [
    "# On observe les lignes dont l'id_web n'est pas nul\n",
    "df_verif3 <- df_verif2[!is.na(df_verif2$id_web),]\n",
    "\n",
    "# On observe\n",
    "print(dim(df_verif3))\n",
    "head(df_verif3)"
   ]
  },
  {
   "cell_type": "code",
   "execution_count": 22,
   "id": "33e023b7",
   "metadata": {},
   "outputs": [
    {
     "name": "stdout",
     "output_type": "stream",
     "text": [
      "[1] 714  33\n"
     ]
    },
    {
     "data": {
      "text/html": [
       "<table>\n",
       "<thead><tr><th scope=col>sku</th><th scope=col>virtual</th><th scope=col>downloadable</th><th scope=col>rating_count</th><th scope=col>average_rating</th><th scope=col>total_sales</th><th scope=col>tax_status</th><th scope=col>tax_class</th><th scope=col>post_author</th><th scope=col>post_date</th><th scope=col>...</th><th scope=col>guid</th><th scope=col>menu_order</th><th scope=col>post_type</th><th scope=col>post_mime_type</th><th scope=col>comment_count</th><th scope=col>product_id</th><th scope=col>onsale_web</th><th scope=col>price</th><th scope=col>stock_quantity</th><th scope=col>stock_status</th></tr></thead>\n",
       "<tbody>\n",
       "\t<tr><td>10014                                                        </td><td>0                                                            </td><td>0                                                            </td><td>0                                                            </td><td>0                                                            </td><td>0                                                            </td><td>taxable                                                      </td><td>NA                                                           </td><td>2                                                            </td><td>2019-04-04 15:45:23                                          </td><td>...                                                          </td><td>https://www.bottle-neck.fr/?post_type=product&amp;#038;p=5913</td><td>0                                                            </td><td>product                                                      </td><td>NA                                                           </td><td>0                                                            </td><td>5913                                                         </td><td>1                                                            </td><td>36.0                                                         </td><td>9                                                            </td><td><span style=white-space:pre-wrap>instock   </span>           </td></tr>\n",
       "\t<tr><td>10459                                                        </td><td>0                                                            </td><td>0                                                            </td><td>0                                                            </td><td>0                                                            </td><td>0                                                            </td><td>taxable                                                      </td><td>NA                                                           </td><td>2                                                            </td><td>2018-04-13 15:58:19                                          </td><td>...                                                          </td><td>https://www.bottle-neck.fr/?post_type=product&amp;#038;p=4617</td><td>0                                                            </td><td>product                                                      </td><td>NA                                                           </td><td>0                                                            </td><td>4617                                                         </td><td>1                                                            </td><td>67.5                                                         </td><td>1                                                            </td><td><span style=white-space:pre-wrap>instock   </span>           </td></tr>\n",
       "\t<tr><td>10775                                                        </td><td>0                                                            </td><td>0                                                            </td><td>0                                                            </td><td>0                                                            </td><td>0                                                            </td><td>taxable                                                      </td><td>NA                                                           </td><td>2                                                            </td><td>2018-04-17 21:28:52                                          </td><td>...                                                          </td><td>https://www.bottle-neck.fr/?post_type=product&amp;#038;p=4709</td><td>0                                                            </td><td>product                                                      </td><td>NA                                                           </td><td>0                                                            </td><td>4709                                                         </td><td>1                                                            </td><td>44.0                                                         </td><td>0                                                            </td><td>outofstock                                                   </td></tr>\n",
       "\t<tr><td>10814                                                        </td><td>0                                                            </td><td>0                                                            </td><td>0                                                            </td><td>0                                                            </td><td>0                                                            </td><td>taxable                                                      </td><td>NA                                                           </td><td>2                                                            </td><td>2018-04-17 10:12:40                                          </td><td>...                                                          </td><td>https://www.bottle-neck.fr/?post_type=product&amp;#038;p=4656</td><td>0                                                            </td><td>product                                                      </td><td>NA                                                           </td><td>0                                                            </td><td>4656                                                         </td><td>1                                                            </td><td>43.0                                                         </td><td>3                                                            </td><td><span style=white-space:pre-wrap>instock   </span>           </td></tr>\n",
       "\t<tr><td>11049                                                        </td><td>0                                                            </td><td>0                                                            </td><td>0                                                            </td><td>0                                                            </td><td>0                                                            </td><td>taxable                                                      </td><td>NA                                                           </td><td>2                                                            </td><td>2018-04-13 16:07:49                                          </td><td>...                                                          </td><td>https://www.bottle-neck.fr/?post_type=product&amp;#038;p=4619</td><td>0                                                            </td><td>product                                                      </td><td>NA                                                           </td><td>0                                                            </td><td>4619                                                         </td><td>1                                                            </td><td>59.0                                                         </td><td>5                                                            </td><td><span style=white-space:pre-wrap>instock   </span>           </td></tr>\n",
       "\t<tr><td>11225                                                        </td><td>0                                                            </td><td>0                                                            </td><td>0                                                            </td><td>0                                                            </td><td>0                                                            </td><td>taxable                                                      </td><td>NA                                                           </td><td>2                                                            </td><td>2018-06-06 16:47:38                                          </td><td>...                                                          </td><td>https://www.bottle-neck.fr/?post_type=product&amp;#038;p=4970</td><td>0                                                            </td><td>product                                                      </td><td>NA                                                           </td><td>0                                                            </td><td>4970                                                         </td><td>1                                                            </td><td>49.5                                                         </td><td>0                                                            </td><td>outofstock                                                   </td></tr>\n",
       "</tbody>\n",
       "</table>\n"
      ],
      "text/latex": [
       "\\begin{tabular}{r|lllllllllllllllllllllllllllllllll}\n",
       " sku & virtual & downloadable & rating\\_count & average\\_rating & total\\_sales & tax\\_status & tax\\_class & post\\_author & post\\_date & ... & guid & menu\\_order & post\\_type & post\\_mime\\_type & comment\\_count & product\\_id & onsale\\_web & price & stock\\_quantity & stock\\_status\\\\\n",
       "\\hline\n",
       "\t 10014                                                           & 0                                                               & 0                                                               & 0                                                               & 0                                                               & 0                                                               & taxable                                                         & NA                                                              & 2                                                               & 2019-04-04 15:45:23                                             & ...                                                             & https://www.bottle-neck.fr/?post\\_type=product\\&\\#038;p=5913 & 0                                                               & product                                                         & NA                                                              & 0                                                               & 5913                                                            & 1                                                               & 36.0                                                            & 9                                                               & instock                                                        \\\\\n",
       "\t 10459                                                           & 0                                                               & 0                                                               & 0                                                               & 0                                                               & 0                                                               & taxable                                                         & NA                                                              & 2                                                               & 2018-04-13 15:58:19                                             & ...                                                             & https://www.bottle-neck.fr/?post\\_type=product\\&\\#038;p=4617 & 0                                                               & product                                                         & NA                                                              & 0                                                               & 4617                                                            & 1                                                               & 67.5                                                            & 1                                                               & instock                                                        \\\\\n",
       "\t 10775                                                           & 0                                                               & 0                                                               & 0                                                               & 0                                                               & 0                                                               & taxable                                                         & NA                                                              & 2                                                               & 2018-04-17 21:28:52                                             & ...                                                             & https://www.bottle-neck.fr/?post\\_type=product\\&\\#038;p=4709 & 0                                                               & product                                                         & NA                                                              & 0                                                               & 4709                                                            & 1                                                               & 44.0                                                            & 0                                                               & outofstock                                                     \\\\\n",
       "\t 10814                                                           & 0                                                               & 0                                                               & 0                                                               & 0                                                               & 0                                                               & taxable                                                         & NA                                                              & 2                                                               & 2018-04-17 10:12:40                                             & ...                                                             & https://www.bottle-neck.fr/?post\\_type=product\\&\\#038;p=4656 & 0                                                               & product                                                         & NA                                                              & 0                                                               & 4656                                                            & 1                                                               & 43.0                                                            & 3                                                               & instock                                                        \\\\\n",
       "\t 11049                                                           & 0                                                               & 0                                                               & 0                                                               & 0                                                               & 0                                                               & taxable                                                         & NA                                                              & 2                                                               & 2018-04-13 16:07:49                                             & ...                                                             & https://www.bottle-neck.fr/?post\\_type=product\\&\\#038;p=4619 & 0                                                               & product                                                         & NA                                                              & 0                                                               & 4619                                                            & 1                                                               & 59.0                                                            & 5                                                               & instock                                                        \\\\\n",
       "\t 11225                                                           & 0                                                               & 0                                                               & 0                                                               & 0                                                               & 0                                                               & taxable                                                         & NA                                                              & 2                                                               & 2018-06-06 16:47:38                                             & ...                                                             & https://www.bottle-neck.fr/?post\\_type=product\\&\\#038;p=4970 & 0                                                               & product                                                         & NA                                                              & 0                                                               & 4970                                                            & 1                                                               & 49.5                                                            & 0                                                               & outofstock                                                     \\\\\n",
       "\\end{tabular}\n"
      ],
      "text/markdown": [
       "\n",
       "| sku | virtual | downloadable | rating_count | average_rating | total_sales | tax_status | tax_class | post_author | post_date | ... | guid | menu_order | post_type | post_mime_type | comment_count | product_id | onsale_web | price | stock_quantity | stock_status |\n",
       "|---|---|---|---|---|---|---|---|---|---|---|---|---|---|---|---|---|---|---|---|---|\n",
       "| 10014                                                     | 0                                                         | 0                                                         | 0                                                         | 0                                                         | 0                                                         | taxable                                                   | NA                                                        | 2                                                         | 2019-04-04 15:45:23                                       | ...                                                       | https://www.bottle-neck.fr/?post_type=product&#038;p=5913 | 0                                                         | product                                                   | NA                                                        | 0                                                         | 5913                                                      | 1                                                         | 36.0                                                      | 9                                                         | instock                                                   |\n",
       "| 10459                                                     | 0                                                         | 0                                                         | 0                                                         | 0                                                         | 0                                                         | taxable                                                   | NA                                                        | 2                                                         | 2018-04-13 15:58:19                                       | ...                                                       | https://www.bottle-neck.fr/?post_type=product&#038;p=4617 | 0                                                         | product                                                   | NA                                                        | 0                                                         | 4617                                                      | 1                                                         | 67.5                                                      | 1                                                         | instock                                                   |\n",
       "| 10775                                                     | 0                                                         | 0                                                         | 0                                                         | 0                                                         | 0                                                         | taxable                                                   | NA                                                        | 2                                                         | 2018-04-17 21:28:52                                       | ...                                                       | https://www.bottle-neck.fr/?post_type=product&#038;p=4709 | 0                                                         | product                                                   | NA                                                        | 0                                                         | 4709                                                      | 1                                                         | 44.0                                                      | 0                                                         | outofstock                                                |\n",
       "| 10814                                                     | 0                                                         | 0                                                         | 0                                                         | 0                                                         | 0                                                         | taxable                                                   | NA                                                        | 2                                                         | 2018-04-17 10:12:40                                       | ...                                                       | https://www.bottle-neck.fr/?post_type=product&#038;p=4656 | 0                                                         | product                                                   | NA                                                        | 0                                                         | 4656                                                      | 1                                                         | 43.0                                                      | 3                                                         | instock                                                   |\n",
       "| 11049                                                     | 0                                                         | 0                                                         | 0                                                         | 0                                                         | 0                                                         | taxable                                                   | NA                                                        | 2                                                         | 2018-04-13 16:07:49                                       | ...                                                       | https://www.bottle-neck.fr/?post_type=product&#038;p=4619 | 0                                                         | product                                                   | NA                                                        | 0                                                         | 4619                                                      | 1                                                         | 59.0                                                      | 5                                                         | instock                                                   |\n",
       "| 11225                                                     | 0                                                         | 0                                                         | 0                                                         | 0                                                         | 0                                                         | taxable                                                   | NA                                                        | 2                                                         | 2018-06-06 16:47:38                                       | ...                                                       | https://www.bottle-neck.fr/?post_type=product&#038;p=4970 | 0                                                         | product                                                   | NA                                                        | 0                                                         | 4970                                                      | 1                                                         | 49.5                                                      | 0                                                         | outofstock                                                |\n",
       "\n"
      ],
      "text/plain": [
       "  sku   virtual downloadable rating_count average_rating total_sales tax_status\n",
       "1 10014 0       0            0            0              0           taxable   \n",
       "2 10459 0       0            0            0              0           taxable   \n",
       "3 10775 0       0            0            0              0           taxable   \n",
       "4 10814 0       0            0            0              0           taxable   \n",
       "5 11049 0       0            0            0              0           taxable   \n",
       "6 11225 0       0            0            0              0           taxable   \n",
       "  tax_class post_author post_date           ...\n",
       "1 NA        2           2019-04-04 15:45:23 ...\n",
       "2 NA        2           2018-04-13 15:58:19 ...\n",
       "3 NA        2           2018-04-17 21:28:52 ...\n",
       "4 NA        2           2018-04-17 10:12:40 ...\n",
       "5 NA        2           2018-04-13 16:07:49 ...\n",
       "6 NA        2           2018-06-06 16:47:38 ...\n",
       "  guid                                                      menu_order\n",
       "1 https://www.bottle-neck.fr/?post_type=product&#038;p=5913 0         \n",
       "2 https://www.bottle-neck.fr/?post_type=product&#038;p=4617 0         \n",
       "3 https://www.bottle-neck.fr/?post_type=product&#038;p=4709 0         \n",
       "4 https://www.bottle-neck.fr/?post_type=product&#038;p=4656 0         \n",
       "5 https://www.bottle-neck.fr/?post_type=product&#038;p=4619 0         \n",
       "6 https://www.bottle-neck.fr/?post_type=product&#038;p=4970 0         \n",
       "  post_type post_mime_type comment_count product_id onsale_web price\n",
       "1 product   NA             0             5913       1          36.0 \n",
       "2 product   NA             0             4617       1          67.5 \n",
       "3 product   NA             0             4709       1          44.0 \n",
       "4 product   NA             0             4656       1          43.0 \n",
       "5 product   NA             0             4619       1          59.0 \n",
       "6 product   NA             0             4970       1          49.5 \n",
       "  stock_quantity stock_status\n",
       "1 9              instock     \n",
       "2 1              instock     \n",
       "3 0              outofstock  \n",
       "4 3              instock     \n",
       "5 5              instock     \n",
       "6 0              outofstock  "
      ]
     },
     "metadata": {},
     "output_type": "display_data"
    }
   ],
   "source": [
    "# On ne conserve que les lignes qui ont trouvé une correspondance\n",
    "df_donnees <- df_nouvel_erp[ ! (df_nouvel_erp$product_id  %in% c(df_verif2$product_id, df_verif3$product_id)), ]\n",
    "\n",
    "# On observe\n",
    "print(dim(df_donnees))\n",
    "head(df_donnees)"
   ]
  },
  {
   "cell_type": "markdown",
   "id": "domestic-belgium",
   "metadata": {},
   "source": [
    "<div style=\"background-color: RGB(51,165,182);\" >\n",
    "<h2 style=\"margin: auto; padding: 20px; color:#fff; \">Partie 4 - CA par produit et total</h2>\n",
    "</div>"
   ]
  },
  {
   "cell_type": "code",
   "execution_count": 23,
   "id": "official-palestinian",
   "metadata": {},
   "outputs": [
    {
     "name": "stdout",
     "output_type": "stream",
     "text": [
      "[1] 714   3\n"
     ]
    },
    {
     "data": {
      "text/html": [
       "<table>\n",
       "<thead><tr><th scope=col>price</th><th scope=col>total_sales</th><th scope=col>CA</th></tr></thead>\n",
       "<tbody>\n",
       "\t<tr><td>36.0</td><td>0   </td><td>0   </td></tr>\n",
       "\t<tr><td>67.5</td><td>0   </td><td>0   </td></tr>\n",
       "\t<tr><td>44.0</td><td>0   </td><td>0   </td></tr>\n",
       "\t<tr><td>43.0</td><td>0   </td><td>0   </td></tr>\n",
       "\t<tr><td>59.0</td><td>0   </td><td>0   </td></tr>\n",
       "\t<tr><td>49.5</td><td>0   </td><td>0   </td></tr>\n",
       "</tbody>\n",
       "</table>\n"
      ],
      "text/latex": [
       "\\begin{tabular}{r|lll}\n",
       " price & total\\_sales & CA\\\\\n",
       "\\hline\n",
       "\t 36.0 & 0    & 0   \\\\\n",
       "\t 67.5 & 0    & 0   \\\\\n",
       "\t 44.0 & 0    & 0   \\\\\n",
       "\t 43.0 & 0    & 0   \\\\\n",
       "\t 59.0 & 0    & 0   \\\\\n",
       "\t 49.5 & 0    & 0   \\\\\n",
       "\\end{tabular}\n"
      ],
      "text/markdown": [
       "\n",
       "| price | total_sales | CA |\n",
       "|---|---|---|\n",
       "| 36.0 | 0    | 0    |\n",
       "| 67.5 | 0    | 0    |\n",
       "| 44.0 | 0    | 0    |\n",
       "| 43.0 | 0    | 0    |\n",
       "| 59.0 | 0    | 0    |\n",
       "| 49.5 | 0    | 0    |\n",
       "\n"
      ],
      "text/plain": [
       "  price total_sales CA\n",
       "1 36.0  0           0 \n",
       "2 67.5  0           0 \n",
       "3 44.0  0           0 \n",
       "4 43.0  0           0 \n",
       "5 59.0  0           0 \n",
       "6 49.5  0           0 "
      ]
     },
     "metadata": {},
     "output_type": "display_data"
    }
   ],
   "source": [
    "# On créé une colonne calculée\n",
    "df_donnees$CA = df_donnees$price * df_donnees$total_sales\n",
    "\n",
    "# On observe\n",
    "print(dim(df_donnees[,c(\"price\",\"total_sales\",\"CA\")]))\n",
    "head(df_donnees[,c(\"price\",\"total_sales\",\"CA\")])"
   ]
  },
  {
   "cell_type": "code",
   "execution_count": 24,
   "id": "actual-growth",
   "metadata": {},
   "outputs": [
    {
     "name": "stdout",
     "output_type": "stream",
     "text": [
      "[1] \"Le chiffre d'affaire total réalisé est de 70568.6 euros.\"\n"
     ]
    }
   ],
   "source": [
    "# On calcule la somme de la colonne CA_per_product\n",
    "CA_total <- sum(df_donnees$CA)\n",
    "\n",
    "# On affiche le résultat\n",
    "print(paste(\"Le chiffre d'affaire total réalisé est de\", CA_total, \"euros.\"))"
   ]
  },
  {
   "cell_type": "markdown",
   "id": "balanced-stick",
   "metadata": {},
   "source": [
    "<div style=\"background-color: RGB(51,165,182);\" >\n",
    "<h2 style=\"margin: auto; padding: 20px; color:#fff; \">Partie 5 - Analyse univariée</h2>\n",
    "</div>"
   ]
  },
  {
   "cell_type": "markdown",
   "id": "discrete-colon",
   "metadata": {},
   "source": [
    "<div style=\"border: 1px solid RGB(51,165,182);\" >\n",
    "<h3 style=\"margin: auto; padding: 20px; color: RGB(51,165,182); \">5.1 - Méthode du z score (supérieur à 2 standard deviation)<br/>\n",
    "<br/>\n",
    "Z score = (Observation - Mean)/standard deviation</h3>\n",
    "</div>"
   ]
  },
  {
   "cell_type": "code",
   "execution_count": 25,
   "id": "confirmed-student",
   "metadata": {},
   "outputs": [
    {
     "name": "stdout",
     "output_type": "stream",
     "text": [
      "Le nombre d'outliers détectés est de 30"
     ]
    },
    {
     "data": {
      "text/html": [
       "<ol class=list-inline>\n",
       "\t<li>99</li>\n",
       "\t<li>105</li>\n",
       "\t<li>88.4</li>\n",
       "\t<li>126.5</li>\n",
       "\t<li>115</li>\n",
       "\t<li>105</li>\n",
       "\t<li>109.6</li>\n",
       "\t<li>112</li>\n",
       "\t<li>115</li>\n",
       "\t<li>137</li>\n",
       "\t<li>217.5</li>\n",
       "\t<li>105.6</li>\n",
       "\t<li>114</li>\n",
       "\t<li>93</li>\n",
       "\t<li>122</li>\n",
       "\t<li>102.3</li>\n",
       "\t<li>124.8</li>\n",
       "\t<li>135</li>\n",
       "\t<li>191.3</li>\n",
       "\t<li>121</li>\n",
       "\t<li>121</li>\n",
       "\t<li>116.4</li>\n",
       "\t<li>175</li>\n",
       "\t<li>100</li>\n",
       "\t<li>225</li>\n",
       "\t<li>92</li>\n",
       "\t<li>108.5</li>\n",
       "\t<li>104</li>\n",
       "\t<li>176</li>\n",
       "\t<li>157</li>\n",
       "</ol>\n"
      ],
      "text/latex": [
       "\\begin{enumerate*}\n",
       "\\item 99\n",
       "\\item 105\n",
       "\\item 88.4\n",
       "\\item 126.5\n",
       "\\item 115\n",
       "\\item 105\n",
       "\\item 109.6\n",
       "\\item 112\n",
       "\\item 115\n",
       "\\item 137\n",
       "\\item 217.5\n",
       "\\item 105.6\n",
       "\\item 114\n",
       "\\item 93\n",
       "\\item 122\n",
       "\\item 102.3\n",
       "\\item 124.8\n",
       "\\item 135\n",
       "\\item 191.3\n",
       "\\item 121\n",
       "\\item 121\n",
       "\\item 116.4\n",
       "\\item 175\n",
       "\\item 100\n",
       "\\item 225\n",
       "\\item 92\n",
       "\\item 108.5\n",
       "\\item 104\n",
       "\\item 176\n",
       "\\item 157\n",
       "\\end{enumerate*}\n"
      ],
      "text/markdown": [
       "1. 99\n",
       "2. 105\n",
       "3. 88.4\n",
       "4. 126.5\n",
       "5. 115\n",
       "6. 105\n",
       "7. 109.6\n",
       "8. 112\n",
       "9. 115\n",
       "10. 137\n",
       "11. 217.5\n",
       "12. 105.6\n",
       "13. 114\n",
       "14. 93\n",
       "15. 122\n",
       "16. 102.3\n",
       "17. 124.8\n",
       "18. 135\n",
       "19. 191.3\n",
       "20. 121\n",
       "21. 121\n",
       "22. 116.4\n",
       "23. 175\n",
       "24. 100\n",
       "25. 225\n",
       "26. 92\n",
       "27. 108.5\n",
       "28. 104\n",
       "29. 176\n",
       "30. 157\n",
       "\n",
       "\n"
      ],
      "text/plain": [
       " [1]  99.0 105.0  88.4 126.5 115.0 105.0 109.6 112.0 115.0 137.0 217.5 105.6\n",
       "[13] 114.0  93.0 122.0 102.3 124.8 135.0 191.3 121.0 121.0 116.4 175.0 100.0\n",
       "[25] 225.0  92.0 108.5 104.0 176.0 157.0"
      ]
     },
     "metadata": {},
     "output_type": "display_data"
    }
   ],
   "source": [
    "# On récupère la colonne price\n",
    "df_prix <- df_donnees$price\n",
    "# On écrit une fonction qui va lister les prix considérés comme outliers\n",
    "df_prix <- round((df_prix-mean(df_prix))/sd(df_prix),3)\n",
    "df_donnees$zscore = df_prix \n",
    "outlier <- df_donnees$price [df_donnees$zscore >= 2]\n",
    "\n",
    "# On observe\n",
    "cat(\"Le nombre d'outliers détectés est de\", length(outlier))\n",
    "head(outlier, length(outlier))\n"
   ]
  },
  {
   "cell_type": "markdown",
   "id": "celtic-application",
   "metadata": {},
   "source": [
    "<div style=\"border: 1px solid RGB(51,165,182);\" >\n",
    "<h3 style=\"margin: auto; padding: 20px; color: RGB(51,165,182); \">5.2 - Méthode des interquartiles<br/>\n",
    "<br/>\n",
    "1,5 fois la distance interquartile avant le premier et après le troisième</h3>\n",
    "</div>"
   ]
  },
  {
   "cell_type": "code",
   "execution_count": 26,
   "id": "dirty-allocation",
   "metadata": {},
   "outputs": [],
   "source": [
    "# On ordonne les prix\n",
    "df_prix <- df_donnees$price\n"
   ]
  },
  {
   "cell_type": "code",
   "execution_count": 27,
   "id": "direct-links",
   "metadata": {},
   "outputs": [
    {
     "name": "stdout",
     "output_type": "stream",
     "text": [
      " 1er Quartile : 14.1 \n",
      " 3ème Quartile : 42.18 \n",
      " Interquartille : 28.08 \n",
      " Moustache Supérieure : 84.3 \n",
      " Moustache Inférieure : -28.02 \n",
      "\n",
      "Le nombre d'outliers détectés est de 32"
     ]
    },
    {
     "data": {
      "text/html": [
       "<ol class=list-inline>\n",
       "\t<li>99</li>\n",
       "\t<li>105</li>\n",
       "\t<li>88.4</li>\n",
       "\t<li>126.5</li>\n",
       "\t<li>115</li>\n",
       "\t<li>105</li>\n",
       "\t<li>109.6</li>\n",
       "\t<li>85.6</li>\n",
       "\t<li>86.8</li>\n",
       "\t<li>112</li>\n",
       "\t<li>115</li>\n",
       "\t<li>137</li>\n",
       "\t<li>217.5</li>\n",
       "\t<li>105.6</li>\n",
       "\t<li>114</li>\n",
       "\t<li>93</li>\n",
       "\t<li>122</li>\n",
       "\t<li>102.3</li>\n",
       "\t<li>124.8</li>\n",
       "\t<li>135</li>\n",
       "\t<li>191.3</li>\n",
       "\t<li>121</li>\n",
       "\t<li>121</li>\n",
       "\t<li>116.4</li>\n",
       "\t<li>175</li>\n",
       "\t<li>100</li>\n",
       "\t<li>225</li>\n",
       "\t<li>92</li>\n",
       "\t<li>108.5</li>\n",
       "\t<li>104</li>\n",
       "\t<li>176</li>\n",
       "\t<li>157</li>\n",
       "</ol>\n"
      ],
      "text/latex": [
       "\\begin{enumerate*}\n",
       "\\item 99\n",
       "\\item 105\n",
       "\\item 88.4\n",
       "\\item 126.5\n",
       "\\item 115\n",
       "\\item 105\n",
       "\\item 109.6\n",
       "\\item 85.6\n",
       "\\item 86.8\n",
       "\\item 112\n",
       "\\item 115\n",
       "\\item 137\n",
       "\\item 217.5\n",
       "\\item 105.6\n",
       "\\item 114\n",
       "\\item 93\n",
       "\\item 122\n",
       "\\item 102.3\n",
       "\\item 124.8\n",
       "\\item 135\n",
       "\\item 191.3\n",
       "\\item 121\n",
       "\\item 121\n",
       "\\item 116.4\n",
       "\\item 175\n",
       "\\item 100\n",
       "\\item 225\n",
       "\\item 92\n",
       "\\item 108.5\n",
       "\\item 104\n",
       "\\item 176\n",
       "\\item 157\n",
       "\\end{enumerate*}\n"
      ],
      "text/markdown": [
       "1. 99\n",
       "2. 105\n",
       "3. 88.4\n",
       "4. 126.5\n",
       "5. 115\n",
       "6. 105\n",
       "7. 109.6\n",
       "8. 85.6\n",
       "9. 86.8\n",
       "10. 112\n",
       "11. 115\n",
       "12. 137\n",
       "13. 217.5\n",
       "14. 105.6\n",
       "15. 114\n",
       "16. 93\n",
       "17. 122\n",
       "18. 102.3\n",
       "19. 124.8\n",
       "20. 135\n",
       "21. 191.3\n",
       "22. 121\n",
       "23. 121\n",
       "24. 116.4\n",
       "25. 175\n",
       "26. 100\n",
       "27. 225\n",
       "28. 92\n",
       "29. 108.5\n",
       "30. 104\n",
       "31. 176\n",
       "32. 157\n",
       "\n",
       "\n"
      ],
      "text/plain": [
       " [1]  99.0 105.0  88.4 126.5 115.0 105.0 109.6  85.6  86.8 112.0 115.0 137.0\n",
       "[13] 217.5 105.6 114.0  93.0 122.0 102.3 124.8 135.0 191.3 121.0 121.0 116.4\n",
       "[25] 175.0 100.0 225.0  92.0 108.5 104.0 176.0 157.0"
      ]
     },
     "metadata": {},
     "output_type": "display_data"
    }
   ],
   "source": [
    "# On calcule l'interquartile\n",
    "Q1 <- round(quantile(df_prix, probs = c(0.25)),2)\n",
    "Q3 <- round(quantile(df_prix, probs = c(0.75)),2)\n",
    "IQR <- round(IQR(df_prix),2)\n",
    "# On calcule les valeurs limite\n",
    "Upper_bound <- round(Q3 + 1.5*IQR,2)\n",
    "Lower_bound <- round(Q1 - 1.5*IQR, 2)\n",
    "# On cherche les outliers\n",
    "outlier <- df_donnees$price [df_donnees$price >= Upper_bound]\n",
    "# On observe\n",
    "cat(\" 1er Quartile :\", Q1, \"\\n\" , \"3ème Quartile :\", Q3, \"\\n\" , \"Interquartille :\", IQR, \"\\n\", \"Moustache Supérieure :\", Upper_bound, \"\\n\", \"Moustache Inférieure :\", Lower_bound, \"\\n\")\n",
    "cat(\"\\n\")\n",
    "cat(\"Le nombre d'outliers détectés est de\", length(outlier))\n",
    "head(outlier, length(outlier))"
   ]
  },
  {
   "cell_type": "markdown",
   "id": "other-driver",
   "metadata": {},
   "source": [
    "<div style=\"border: 1px solid RGB(51,165,182);\" >\n",
    "<h3 style=\"margin: auto; padding: 20px; color: RGB(51,165,182); \">5.3 - Méthode graphique avec un scatter plot</h3>\n",
    "</div>"
   ]
  },
  {
   "cell_type": "code",
   "execution_count": 38,
   "id": "f7a501ba-57ef-4eac-9952-acf4cc877f9d",
   "metadata": {},
   "outputs": [
    {
     "data": {
      "image/png": "[encoded data removed]",
      "text/plain": [
       "plot without title"
      ]
     },
     "metadata": {},
     "output_type": "display_data"
    }
   ],
   "source": [
    "# On se créé un vecteur booléen déterminant si un prix est un outlier ou pas\n",
    "df_donnees$outlier <- ifelse (df_donnees$price >= Upper_bound , TRUE, FALSE)\n",
    "\n",
    "# Définis la taille du graphique (en pouces)\n",
    "options(repr.plot.width = 12, repr.plot.height = 6)\n",
    "\n",
    "# Définis la couleur de fond et la taille des points\n",
    "ggplot(df_donnees, aes(x = 1:nrow(df_donnees), y = price, color = outlier)) +\n",
    "  geom_point(size = 2) +  # Taille des points (ajuste selon tes besoins)\n",
    "  scale_color_manual(values = c(\"FALSE\" = \"purple\", \"TRUE\" = \"orange\")) +  # Couleurs pour les outliers\n",
    "  theme(\n",
    "    panel.background = element_rect(fill = \"#fff6d9\"),  # Fond du graphique\n",
    "    panel.grid.major = element_line(color = \"#fff6d9\"),   # Grille légère\n",
    "    plot.title = element_text(color = \"#861e00\", size = 14, face = \"bold\", hjust = 0.5),  # Titre principal\n",
    "    axis.title = element_text(color = \"#861e00\", size = 12, face = \"bold\"),  # Taille des titres\n",
    "    axis.text = element_text(color = \"#861e00\", size = 12, face = \"bold\"),   # Taille des axes\n",
    "    legend.title = element_text(color = \"#861e00\", face = \"bold\")    \n",
    "  ) +\n",
    "  labs(\n",
    "    title = \"Détection des Anomalies dans les prix\",\n",
    "    x = \"Index des observations\",\n",
    "    y = \"Prix\",\n",
    "    color = \"Outlier\"  # Légende\n",
    "  )"
   ]
  },
  {
   "cell_type": "markdown",
   "id": "median-groove",
   "metadata": {},
   "source": [
    "<div style=\"border: 1px solid RGB(51,165,182);\" >\n",
    "<h3 style=\"margin: auto; padding: 20px; color: RGB(51,165,182); \">5.4 - Méthode graphique avec boxplot (2 exemples)</h3>\n",
    "</div>"
   ]
  },
  {
   "cell_type": "code",
   "execution_count": 53,
   "id": "7a226bad-68f6-40a9-8410-4e35eae2357a",
   "metadata": {},
   "outputs": [
    {
     "data": {
      "image/png": "[encoded data removed]",
      "text/plain": [
       "plot without title"
      ]
     },
     "metadata": {},
     "output_type": "display_data"
    }
   ],
   "source": [
    "# Définis la taille du graphique dans Jupyter\n",
    "options(repr.plot.width = 10, repr.plot.height = 6)\n",
    "\n",
    "# Crée le boxplot avec les mêmes styles\n",
    "ggplot(df_donnees, aes(y = price)) +\n",
    "  geom_boxplot(\n",
    "    fill = \"#ffbd47\",  # Couleur des boîtes (bleu clair, comme dans ton premier graphique)\n",
    "    color = \"#861e00\",   # Bordure noire pour les boîtes\n",
    "    alpha = 0.7       # Légère transparence\n",
    "  ) +\n",
    "  theme(\n",
    "    panel.background = element_rect(fill = \"#fff6d9\"),  # Fond du graphique\n",
    "    panel.grid.major = element_line(color = \"#fff6d9\"),   # Grille légère\n",
    "    plot.title = element_text(\n",
    "      color = \"#861e00\",\n",
    "      size = 14,\n",
    "      face = \"bold\",\n",
    "      hjust = 0.5  # Titre centré\n",
    "    ),\n",
    "    axis.title.y = element_text(\n",
    "      color = \"#861e00\",\n",
    "      size = 12,\n",
    "      face = \"bold\"\n",
    "    ),\n",
    "    axis.text.y = element_text(size = 10)  # Taille du texte de l'axe Y\n",
    "  ) +\n",
    "  labs(\n",
    "    title = \"Distribution des prix (boxplot)\",\n",
    "    y = \"Prix\"  # Titre de l'axe Y\n",
    "  )"
   ]
  },
  {
   "cell_type": "code",
   "execution_count": 54,
   "id": "occupied-relay",
   "metadata": {},
   "outputs": [
    {
     "data": {
      "image/png": "[encoded data removed]",
      "text/plain": [
       "plot without title"
      ]
     },
     "metadata": {},
     "output_type": "display_data"
    }
   ],
   "source": [
    "# Définis la taille du graphique dans Jupyter\n",
    "options(repr.plot.width = 10, repr.plot.height = 6)\n",
    "\n",
    "# Crée le boxplot avec les mêmes styles\n",
    "ggplot(df_donnees, aes(y = price)) +\n",
    "  geom_boxplot(\n",
    "    fill = \"#ffbd47\",  # Couleur des boîtes (bleu clair, comme dans ton premier graphique)\n",
    "    color = \"#861e00\",   # Bordure noire pour les boîtes\n",
    "    alpha = 0.7       # Légère transparence\n",
    "  ) +\n",
    "coord_flip() +\n",
    "  theme(\n",
    "    panel.background = element_rect(fill = \"#fff6d9\"),  # Fond du graphique\n",
    "    panel.grid.major = element_line(color = \"#fff6d9\"),   # Grille légère\n",
    "    plot.title = element_text(\n",
    "      color = \"#861e00\",\n",
    "      size = 14,\n",
    "      face = \"bold\",\n",
    "      hjust = 0.5  # Titre centré\n",
    "    ),\n",
    "    axis.title.y = element_text(\n",
    "      color = \"#861e00\",\n",
    "      size = 12,\n",
    "      face = \"bold\"\n",
    "    ),\n",
    "    axis.text.y = element_text(size = 10)  # Taille du texte de l'axe Y\n",
    "  ) +\n",
    "  labs(\n",
    "    title = \"Distribution des prix (boxplot)\",\n",
    "    y = \"Prix\"  # Titre de l'axe Y\n",
    "  )"
   ]
  },
  {
   "cell_type": "code",
   "execution_count": null,
   "id": "rocky-objective",
   "metadata": {},
   "outputs": [],
   "source": []
  }
 ],
 "metadata": {
  "kernelspec": {
   "display_name": "R",
   "language": "R",
   "name": "ir"
  },
  "language_info": {
   "codemirror_mode": "r",
   "file_extension": ".r",
   "mimetype": "text/x-r-source",
   "name": "R",
   "pygments_lexer": "r",
   "version": "3.6.1"
  },
  "toc": {
   "base_numbering": 1,
   "nav_menu": {},
   "number_sections": true,
   "sideBar": true,
   "skip_h1_title": false,
   "title_cell": "Table of Contents",
   "title_sidebar": "Contents",
   "toc_cell": false,
   "toc_position": {},
   "toc_section_display": true,
   "toc_window_display": false
  }
 },
 "nbformat": 4,
 "nbformat_minor": 5
}
