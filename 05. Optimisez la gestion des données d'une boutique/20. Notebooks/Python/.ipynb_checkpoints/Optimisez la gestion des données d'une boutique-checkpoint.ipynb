{
 "cells": [
  {
   "cell_type": "markdown",
   "id": "0747251b",
   "metadata": {
    "slideshow": {
     "slide_type": "slide"
    }
   },
   "source": [
    "# <a name=\"Librairies\"></a> Importation des bibliothèques à utiliser\n",
    "\n",
    "[Table des matières](#Table_des_matières)\n"
   ]
  },
  {
   "cell_type": "code",
   "execution_count": 1,
   "id": "989a6c6c",
   "metadata": {},
   "outputs": [],
   "source": [
    "import numpy as numpy\n",
    "import pandas as panda\n",
    "import matplotlib.pyplot as plot\n",
    "import seaborn as sns\n",
    "\n",
    "# Pour éviter d'avoir les messages warning\n",
    "import warnings \n",
    "warnings.filterwarnings('ignore')"
   ]
  },
  {
   "cell_type": "markdown",
   "id": "1a3b390a",
   "metadata": {
    "slideshow": {
     "slide_type": "slide"
    }
   },
   "source": [
    "# Partie 1 - Importation et Nettoyage des Données\n",
    "> ##  <a name=\"Fichier01\"></a> Le Fichier ERP. (erp.xlsx)\n",
    "\n",
    "> - Product_id: référence produit\n",
    "> - onsale_web: en vente sur le site web\n",
    "> - price: prix\n",
    "> - stock_quantité : quantité en stock\n",
    "> - stock_status : le statut du stock (instock or outofstock)\n",
    "\n",
    "[Table des matières](#Table_des_matières)\n"
   ]
  },
  {
   "cell_type": "markdown",
   "id": "82f4b9f9",
   "metadata": {
    "slideshow": {
     "slide_type": "slide"
    }
   },
   "source": [
    "> #### Lecture Fichier et Affichage des 8 premières données"
   ]
  },
  {
   "cell_type": "code",
   "execution_count": 2,
   "id": "4989bac1",
   "metadata": {
    "scrolled": true
   },
   "outputs": [
    {
     "data": {
      "text/html": [
       "<div>\n",
       "<style scoped>\n",
       "    .dataframe tbody tr th:only-of-type {\n",
       "        vertical-align: middle;\n",
       "    }\n",
       "\n",
       "    .dataframe tbody tr th {\n",
       "        vertical-align: top;\n",
       "    }\n",
       "\n",
       "    .dataframe thead th {\n",
       "        text-align: right;\n",
       "    }\n",
       "</style>\n",
       "<table border=\"1\" class=\"dataframe\">\n",
       "  <thead>\n",
       "    <tr style=\"text-align: right;\">\n",
       "      <th></th>\n",
       "      <th>product_id</th>\n",
       "      <th>onsale_web</th>\n",
       "      <th>price</th>\n",
       "      <th>stock_quantity</th>\n",
       "      <th>stock_status</th>\n",
       "    </tr>\n",
       "  </thead>\n",
       "  <tbody>\n",
       "    <tr>\n",
       "      <th>0</th>\n",
       "      <td>3847</td>\n",
       "      <td>1</td>\n",
       "      <td>24.2</td>\n",
       "      <td>0</td>\n",
       "      <td>outofstock</td>\n",
       "    </tr>\n",
       "    <tr>\n",
       "      <th>1</th>\n",
       "      <td>3849</td>\n",
       "      <td>1</td>\n",
       "      <td>34.3</td>\n",
       "      <td>0</td>\n",
       "      <td>outofstock</td>\n",
       "    </tr>\n",
       "    <tr>\n",
       "      <th>2</th>\n",
       "      <td>3850</td>\n",
       "      <td>1</td>\n",
       "      <td>20.8</td>\n",
       "      <td>0</td>\n",
       "      <td>outofstock</td>\n",
       "    </tr>\n",
       "    <tr>\n",
       "      <th>3</th>\n",
       "      <td>4032</td>\n",
       "      <td>1</td>\n",
       "      <td>14.1</td>\n",
       "      <td>0</td>\n",
       "      <td>outofstock</td>\n",
       "    </tr>\n",
       "    <tr>\n",
       "      <th>4</th>\n",
       "      <td>4039</td>\n",
       "      <td>1</td>\n",
       "      <td>46.0</td>\n",
       "      <td>0</td>\n",
       "      <td>outofstock</td>\n",
       "    </tr>\n",
       "    <tr>\n",
       "      <th>5</th>\n",
       "      <td>4040</td>\n",
       "      <td>1</td>\n",
       "      <td>34.3</td>\n",
       "      <td>0</td>\n",
       "      <td>outofstock</td>\n",
       "    </tr>\n",
       "    <tr>\n",
       "      <th>6</th>\n",
       "      <td>4041</td>\n",
       "      <td>1</td>\n",
       "      <td>32.7</td>\n",
       "      <td>15</td>\n",
       "      <td>instock</td>\n",
       "    </tr>\n",
       "    <tr>\n",
       "      <th>7</th>\n",
       "      <td>4042</td>\n",
       "      <td>1</td>\n",
       "      <td>31.2</td>\n",
       "      <td>34</td>\n",
       "      <td>instock</td>\n",
       "    </tr>\n",
       "  </tbody>\n",
       "</table>\n",
       "</div>"
      ],
      "text/plain": [
       "   product_id  onsale_web  price  stock_quantity stock_status\n",
       "0        3847           1   24.2               0   outofstock\n",
       "1        3849           1   34.3               0   outofstock\n",
       "2        3850           1   20.8               0   outofstock\n",
       "3        4032           1   14.1               0   outofstock\n",
       "4        4039           1   46.0               0   outofstock\n",
       "5        4040           1   34.3               0   outofstock\n",
       "6        4041           1   32.7              15      instock\n",
       "7        4042           1   31.2              34      instock"
      ]
     },
     "execution_count": 2,
     "metadata": {},
     "output_type": "execute_result"
    }
   ],
   "source": [
    "# Variable du répertoire d'installation\n",
    "repertoireFichierImportation = \"F:/35. Projet 05/01. Les données/\"\n",
    "# variable pour le nom du fichier à impoter\n",
    "nomFicherImportation = \"erp.xlsx\"\n",
    "# Importer les données du fichiers dans le Dataframe aideAlimentaire\n",
    "fichierErp = panda.read_excel(\n",
    "    repertoireFichierImportation + nomFicherImportation)\n",
    "# Afficher les 8 premières lignes\n",
    "fichierErp.head(8)"
   ]
  },
  {
   "cell_type": "markdown",
   "id": "0837c29f",
   "metadata": {
    "slideshow": {
     "slide_type": "slide"
    }
   },
   "source": [
    "> #### Types de données et Nombre de Lignes et de Colonnes du fichier"
   ]
  },
  {
   "cell_type": "code",
   "execution_count": 3,
   "id": "3330eb34",
   "metadata": {
    "scrolled": false
   },
   "outputs": [
    {
     "name": "stdout",
     "output_type": "stream",
     "text": [
      "<class 'pandas.core.frame.DataFrame'>\n",
      "RangeIndex: 825 entries, 0 to 824\n",
      "Data columns (total 5 columns):\n",
      " #   Column          Non-Null Count  Dtype  \n",
      "---  ------          --------------  -----  \n",
      " 0   product_id      825 non-null    int64  \n",
      " 1   onsale_web      825 non-null    int64  \n",
      " 2   price           825 non-null    float64\n",
      " 3   stock_quantity  825 non-null    int64  \n",
      " 4   stock_status    825 non-null    object \n",
      "dtypes: float64(1), int64(3), object(1)\n",
      "memory usage: 32.4+ KB\n",
      "\n",
      "Le fichier contient 825 Lignes et 5 Colonnes\n"
     ]
    }
   ],
   "source": [
    "#Afficher les infos du Dataframe\n",
    "fichierErp.info(verbose=True)\n",
    "# Afficher le nombre de lignes et de colonnes\n",
    "print(\"\") #permet de passer une ligne\n",
    "print(\"Le fichier contient\", fichierErp.shape[0], \"Lignes et\",fichierErp.shape[1], \"Colonnes\" )"
   ]
  },
  {
   "cell_type": "markdown",
   "id": "f29e3fb8",
   "metadata": {
    "slideshow": {
     "slide_type": "slide"
    }
   },
   "source": [
    "> #### Nb de Doublons et filtre sur les ventes en ligne uniquement"
   ]
  },
  {
   "cell_type": "code",
   "execution_count": 4,
   "id": "dbe2c4d6",
   "metadata": {
    "scrolled": true
   },
   "outputs": [
    {
     "name": "stdout",
     "output_type": "stream",
     "text": [
      "Le nombre de doublon dans la colonne (product_id) est de 0\n",
      "\n",
      "Le fichier contient 717 Lignes et 5 Colonnes\n"
     ]
    }
   ],
   "source": [
    "# Trouver le nombre des doublons en filtrant sur la colonnes product_id\n",
    "doublon = fichierErp.duplicated(['product_id']).sum()\n",
    "print(\"Le nombre de doublon dans la colonne (product_id) est de\", doublon)\n",
    "print(\"\")\n",
    "# Filtrer sur les ventes web uniquement\n",
    "fichierErp = fichierErp.loc[(fichierErp['onsale_web'] != 0), :]\n",
    "print(\"Le fichier contient\",\n",
    "      fichierErp.shape[0], \"Lignes et\", fichierErp.shape[1], \"Colonnes\")"
   ]
  },
  {
   "cell_type": "markdown",
   "id": "d1801b64",
   "metadata": {
    "slideshow": {
     "slide_type": "slide"
    }
   },
   "source": [
    "> ## <a name=\"Fichier02\"></a> Le Fichier Web. (web.xlsx)\n",
    "\n",
    ">> - sku : Identifiants produit à renommer en id_web. Apparait en double pour chaque article\n",
    ">> - virtual : remplit uniquement de 0 --> à Supprimer\n",
    ">> - downloadable : remplit uniquement de 0 --> à Supprimer\n",
    ">> - rating_count : remplit uniquement de 0 --> à Supprimer\n",
    ">> - average_rating : remplit uniquement de 0 --> à Supprimer\n",
    ">> - total_sales : Nombre de Vente\n",
    ">> - tax_status : égale à taxable quand post_mime = Product\n",
    ">> - tax_class : remplit uniquement de 0 --> à Supprimer\n",
    ">> - post_author : égale à 2 partout sauf pour le bon cadeau : A Supprimer\n",
    ">> - post_date : Date de la vente à supprimer\n",
    ">> - post_date_gmt : heure GMT à supprimer\n",
    ">> - post_content : remplit uniquement de 0 --> à Supprimer\n",
    ">> - post_title : Nom de l'article\n",
    ">> - post_excerpt : commentaire sur l'article\n",
    ">> - post_status : uniquement en statut publish : à Suppimer\n",
    ">> - comment_status : uniquement en statut closed : à Supprimer\n",
    ">> - ping_status : : uniquement en statut closed : à Supprimer\n",
    ">> - post_password : remplit uniquement de 0 --> à Supprimer\n",
    ">> - post_name : Quasi pareil que post-tittle -- > voir utilité pour le garder\n",
    ">> - post_modified : modification fiche article -- > Voir utilité pour le garder\n",
    ">> - post_modified_gmt : heure GMT :  a supprimer\n",
    ">> - post_content_filtered : remplit uniquement de 0 --> à Supprimer\n",
    ">> - post_parent : remplit uniquement de 0 --> à Supprimer\n",
    ">> - guid : adresse web de l'article et adresse web de l'image de l'article : A Supprimer\n",
    ">> - menu_order : remplit uniquement de 0 --> à Supprimer\n",
    ">> - post_type : permet de signaler une pièce jointe si = attachement\n",
    ">> - post_mime_type : Si pièce jointe alors type de pièce jointe : uniquement image/jpg : A Supprimer\n",
    ">> - comment_count: remplit uniquement de 0 --> à Supprimer\n",
    "\n",
    "[Table des matières](#Table_des_matières)\n"
   ]
  },
  {
   "cell_type": "markdown",
   "id": "894cc459",
   "metadata": {
    "slideshow": {
     "slide_type": "slide"
    }
   },
   "source": [
    "> #### Lecture Fichier et Affichage des 8 premières données"
   ]
  },
  {
   "cell_type": "code",
   "execution_count": 5,
   "id": "96edfe21",
   "metadata": {},
   "outputs": [
    {
     "name": "stdout",
     "output_type": "stream",
     "text": [
      "Le fichier contient 1513 Lignes et 28 Colonnes\n"
     ]
    }
   ],
   "source": [
    "# variable pour le nom du fichier à impoter\n",
    "nomFicherImportation = \"web.xlsx\"\n",
    "# Importer les données du fichiers\n",
    "fichierWeb = panda.read_excel(\n",
    "    repertoireFichierImportation + nomFicherImportation)\n",
    "# Afficher le dataframe\n",
    "fichierWeb.head(3)\n",
    "print(\"Le fichier contient\",\n",
    "      fichierWeb.shape[0], \"Lignes et\", fichierWeb.shape[1], \"Colonnes\")"
   ]
  },
  {
   "cell_type": "markdown",
   "id": "08340a5e",
   "metadata": {
    "slideshow": {
     "slide_type": "slide"
    }
   },
   "source": [
    "> #### Modification des données"
   ]
  },
  {
   "cell_type": "code",
   "execution_count": 6,
   "id": "cdfbb6dc",
   "metadata": {},
   "outputs": [
    {
     "data": {
      "text/html": [
       "<div>\n",
       "<style scoped>\n",
       "    .dataframe tbody tr th:only-of-type {\n",
       "        vertical-align: middle;\n",
       "    }\n",
       "\n",
       "    .dataframe tbody tr th {\n",
       "        vertical-align: top;\n",
       "    }\n",
       "\n",
       "    .dataframe thead th {\n",
       "        text-align: right;\n",
       "    }\n",
       "</style>\n",
       "<table border=\"1\" class=\"dataframe\">\n",
       "  <thead>\n",
       "    <tr style=\"text-align: right;\">\n",
       "      <th></th>\n",
       "      <th>id_web</th>\n",
       "      <th>total_sales</th>\n",
       "      <th>tax_status</th>\n",
       "      <th>post_title</th>\n",
       "      <th>post_excerpt</th>\n",
       "      <th>post_name</th>\n",
       "      <th>post_type</th>\n",
       "    </tr>\n",
       "  </thead>\n",
       "  <tbody>\n",
       "    <tr>\n",
       "      <th>0</th>\n",
       "      <td>bon-cadeau-25-euros</td>\n",
       "      <td>10.0</td>\n",
       "      <td>taxable</td>\n",
       "      <td>Bon cadeau de 25€</td>\n",
       "      <td>&lt;span style=\"color: #a85253;\"&gt;&lt;strong&gt;Parlons ...</td>\n",
       "      <td>bon-cadeau-de-25-euros</td>\n",
       "      <td>product</td>\n",
       "    </tr>\n",
       "    <tr>\n",
       "      <th>1</th>\n",
       "      <td>15298</td>\n",
       "      <td>6.0</td>\n",
       "      <td>taxable</td>\n",
       "      <td>Pierre Jean Villa Saint-Joseph Préface 2018</td>\n",
       "      <td>Il exhale un nez subtil, racé avec du poivre f...</td>\n",
       "      <td>pierre-jean-villa-saint-joseph-preface-2018</td>\n",
       "      <td>product</td>\n",
       "    </tr>\n",
       "    <tr>\n",
       "      <th>2</th>\n",
       "      <td>15296</td>\n",
       "      <td>0.0</td>\n",
       "      <td>taxable</td>\n",
       "      <td>Pierre Jean Villa Saint-Joseph Rouge Tildé 2017</td>\n",
       "      <td>Les vieilles vignes lui apportent une rare pro...</td>\n",
       "      <td>pierre-jean-villa-saint-joseph-tilde-2017</td>\n",
       "      <td>product</td>\n",
       "    </tr>\n",
       "    <tr>\n",
       "      <th>3</th>\n",
       "      <td>15300</td>\n",
       "      <td>0.0</td>\n",
       "      <td>taxable</td>\n",
       "      <td>Pierre Jean Villa Crozes-Hermitage Accroche Co...</td>\n",
       "      <td>Dentelle de fruit de jeunes syrah, aux tanins ...</td>\n",
       "      <td>pierre-jean-villa-croze-hermitage-accroche-coe...</td>\n",
       "      <td>product</td>\n",
       "    </tr>\n",
       "    <tr>\n",
       "      <th>4</th>\n",
       "      <td>19814</td>\n",
       "      <td>3.0</td>\n",
       "      <td>taxable</td>\n",
       "      <td>Pierre Jean Villa IGP Collines Rhodaniennes Ga...</td>\n",
       "      <td>Gamine représente tout le fruité et la gourman...</td>\n",
       "      <td>pierre-jean-villa-igp-gamine-2018</td>\n",
       "      <td>product</td>\n",
       "    </tr>\n",
       "  </tbody>\n",
       "</table>\n",
       "</div>"
      ],
      "text/plain": [
       "                id_web  total_sales tax_status  \\\n",
       "0  bon-cadeau-25-euros         10.0    taxable   \n",
       "1                15298          6.0    taxable   \n",
       "2                15296          0.0    taxable   \n",
       "3                15300          0.0    taxable   \n",
       "4                19814          3.0    taxable   \n",
       "\n",
       "                                          post_title  \\\n",
       "0                                  Bon cadeau de 25€   \n",
       "1        Pierre Jean Villa Saint-Joseph Préface 2018   \n",
       "2    Pierre Jean Villa Saint-Joseph Rouge Tildé 2017   \n",
       "3  Pierre Jean Villa Crozes-Hermitage Accroche Co...   \n",
       "4  Pierre Jean Villa IGP Collines Rhodaniennes Ga...   \n",
       "\n",
       "                                        post_excerpt  \\\n",
       "0  <span style=\"color: #a85253;\"><strong>Parlons ...   \n",
       "1  Il exhale un nez subtil, racé avec du poivre f...   \n",
       "2  Les vieilles vignes lui apportent une rare pro...   \n",
       "3  Dentelle de fruit de jeunes syrah, aux tanins ...   \n",
       "4  Gamine représente tout le fruité et la gourman...   \n",
       "\n",
       "                                           post_name post_type  \n",
       "0                             bon-cadeau-de-25-euros   product  \n",
       "1        pierre-jean-villa-saint-joseph-preface-2018   product  \n",
       "2          pierre-jean-villa-saint-joseph-tilde-2017   product  \n",
       "3  pierre-jean-villa-croze-hermitage-accroche-coe...   product  \n",
       "4                  pierre-jean-villa-igp-gamine-2018   product  "
      ]
     },
     "execution_count": 6,
     "metadata": {},
     "output_type": "execute_result"
    }
   ],
   "source": [
    "# Remplacer le nom de la colonne SKU par id_web\n",
    "fichierWeb = fichierWeb.rename(columns={'sku': 'id_web'})\n",
    "# Suppression des colonnes vides (qui ne contiennent pas de données)\n",
    "listeColonneASupprimer = ['virtual', 'downloadable', 'rating_count', 'average_rating', 'tax_class', 'post_content', 'post_status',\n",
    "                          'comment_status', 'ping_status', 'post_password', 'post_content_filtered', 'post_parent', 'menu_order',\n",
    "                          'comment_count', 'post_date_gmt', 'post_modified_gmt', 'post_author', 'guid', 'post_mime_type', 'post_date',\n",
    "                          'post_modified']\n",
    "fichierWeb = fichierWeb.drop(listeColonneASupprimer, axis=1)\n",
    "fichierWeb.head(5)"
   ]
  },
  {
   "cell_type": "markdown",
   "id": "1e9e166f",
   "metadata": {
    "slideshow": {
     "slide_type": "slide"
    }
   },
   "source": [
    "> #### Types de données et Nombre de Lignes et de Colonnes du fichier"
   ]
  },
  {
   "cell_type": "code",
   "execution_count": 7,
   "id": "08a66131",
   "metadata": {},
   "outputs": [
    {
     "name": "stdout",
     "output_type": "stream",
     "text": [
      "<class 'pandas.core.frame.DataFrame'>\n",
      "RangeIndex: 1513 entries, 0 to 1512\n",
      "Data columns (total 7 columns):\n",
      " #   Column        Non-Null Count  Dtype  \n",
      "---  ------        --------------  -----  \n",
      " 0   id_web        1428 non-null   object \n",
      " 1   total_sales   1430 non-null   float64\n",
      " 2   tax_status    716 non-null    object \n",
      " 3   post_title    1430 non-null   object \n",
      " 4   post_excerpt  716 non-null    object \n",
      " 5   post_name     1430 non-null   object \n",
      " 6   post_type     1430 non-null   object \n",
      "dtypes: float64(1), object(6)\n",
      "memory usage: 82.9+ KB\n",
      "\n",
      "Le fichier contient 1513 Lignes et 7 Colonnes\n"
     ]
    }
   ],
   "source": [
    "# Information sur le dataFrame,notamment le type d'index et les colonnes,les valeurs non nulles et l'utilisation de la mémoire.\n",
    "fichierWeb.info(verbose=True)\n",
    "# Afficher le nombre de lignes et de colonnes\n",
    "print(\"\") #permet de passer une ligne\n",
    "print(\"Le fichier contient\", fichierWeb.shape[0], \"Lignes et\",fichierWeb.shape[1], \"Colonnes\" )"
   ]
  },
  {
   "cell_type": "markdown",
   "id": "22957137",
   "metadata": {
    "slideshow": {
     "slide_type": "slide"
    }
   },
   "source": [
    "> #### Nb de Doublons et Nb de Valeurs Manquantes "
   ]
  },
  {
   "cell_type": "code",
   "execution_count": 8,
   "id": "b43a3fa3",
   "metadata": {},
   "outputs": [
    {
     "name": "stdout",
     "output_type": "stream",
     "text": [
      "Le nombre de doublon dans cette table est de 798\n",
      "\n",
      "Le nombre de valeur manquante par colonne dans cette table est de\n"
     ]
    },
    {
     "data": {
      "text/plain": [
       "id_web           85\n",
       "total_sales      83\n",
       "tax_status      797\n",
       "post_title       83\n",
       "post_excerpt    797\n",
       "post_name        83\n",
       "post_type        83\n",
       "dtype: int64"
      ]
     },
     "execution_count": 8,
     "metadata": {},
     "output_type": "execute_result"
    }
   ],
   "source": [
    "# Trouver le nombre des doublons en filtrant sur les 2 premières colonnes\n",
    "doublon = fichierWeb.duplicated(['id_web']).sum()\n",
    "print(\"Le nombre de doublon dans cette table est de\" , doublon)\n",
    "print(\"\")\n",
    "# Trouver le nombre de Valeur manquante\n",
    "print(\"Le nombre de valeur manquante par colonne dans cette table est de\")\n",
    "fichierWeb.isna().sum()"
   ]
  },
  {
   "cell_type": "code",
   "execution_count": 9,
   "id": "93167b3d",
   "metadata": {
    "slideshow": {
     "slide_type": "slide"
    }
   },
   "outputs": [
    {
     "data": {
      "text/html": [
       "<div>\n",
       "<style scoped>\n",
       "    .dataframe tbody tr th:only-of-type {\n",
       "        vertical-align: middle;\n",
       "    }\n",
       "\n",
       "    .dataframe tbody tr th {\n",
       "        vertical-align: top;\n",
       "    }\n",
       "\n",
       "    .dataframe thead th {\n",
       "        text-align: right;\n",
       "    }\n",
       "</style>\n",
       "<table border=\"1\" class=\"dataframe\">\n",
       "  <thead>\n",
       "    <tr style=\"text-align: right;\">\n",
       "      <th></th>\n",
       "      <th>id_web</th>\n",
       "      <th>total_sales</th>\n",
       "      <th>tax_status</th>\n",
       "      <th>post_title</th>\n",
       "      <th>post_excerpt</th>\n",
       "      <th>post_name</th>\n",
       "      <th>post_type</th>\n",
       "    </tr>\n",
       "  </thead>\n",
       "  <tbody>\n",
       "    <tr>\n",
       "      <th>610</th>\n",
       "      <td>15325</td>\n",
       "      <td>4.0</td>\n",
       "      <td>taxable</td>\n",
       "      <td>Agnès Levet Côte Rôtie Améthyste 2017</td>\n",
       "      <td>&lt;span style=\"float: none;background-color: tra...</td>\n",
       "      <td>agnes-levet-amethyste-2017</td>\n",
       "      <td>product</td>\n",
       "    </tr>\n",
       "    <tr>\n",
       "      <th>1381</th>\n",
       "      <td>15325</td>\n",
       "      <td>4.0</td>\n",
       "      <td>NaN</td>\n",
       "      <td>Agnès Levet Côte Rôtie Améthyste 2017</td>\n",
       "      <td>NaN</td>\n",
       "      <td>agnes-levet-amethyste-2017</td>\n",
       "      <td>attachment</td>\n",
       "    </tr>\n",
       "    <tr>\n",
       "      <th>611</th>\n",
       "      <td>15328</td>\n",
       "      <td>3.0</td>\n",
       "      <td>taxable</td>\n",
       "      <td>Agnès Levet Côte Rôtie Maestria 2017</td>\n",
       "      <td>&lt;span style=\"float: none; background-color: tr...</td>\n",
       "      <td>agnes-levet-cote-rotie-maestria-2017</td>\n",
       "      <td>product</td>\n",
       "    </tr>\n",
       "    <tr>\n",
       "      <th>1382</th>\n",
       "      <td>15328</td>\n",
       "      <td>3.0</td>\n",
       "      <td>NaN</td>\n",
       "      <td>Agnès Levet Côte Rôtie Maestria 2017</td>\n",
       "      <td>NaN</td>\n",
       "      <td>agnes-levet-cote-rotie-maestria-2017</td>\n",
       "      <td>attachment</td>\n",
       "    </tr>\n",
       "    <tr>\n",
       "      <th>612</th>\n",
       "      <td>15329</td>\n",
       "      <td>3.0</td>\n",
       "      <td>taxable</td>\n",
       "      <td>Agnès Levet Côte Rôtie Péroline 2017</td>\n",
       "      <td>&lt;span style=\"float: none; background-color: tr...</td>\n",
       "      <td>agnes-levet-cote-rotie-peroline-2017</td>\n",
       "      <td>product</td>\n",
       "    </tr>\n",
       "    <tr>\n",
       "      <th>1383</th>\n",
       "      <td>15329</td>\n",
       "      <td>3.0</td>\n",
       "      <td>NaN</td>\n",
       "      <td>Agnès Levet Côte Rôtie Péroline 2017</td>\n",
       "      <td>NaN</td>\n",
       "      <td>agnes-levet-cote-rotie-peroline-2017</td>\n",
       "      <td>attachment</td>\n",
       "    </tr>\n",
       "    <tr>\n",
       "      <th>1191</th>\n",
       "      <td>15530</td>\n",
       "      <td>10.0</td>\n",
       "      <td>NaN</td>\n",
       "      <td>Alain Graillot Crozes-Hermitage Blanc 2018</td>\n",
       "      <td>NaN</td>\n",
       "      <td>alain-graillot-crozes-hermitage-blanc-2018</td>\n",
       "      <td>attachment</td>\n",
       "    </tr>\n",
       "    <tr>\n",
       "      <th>412</th>\n",
       "      <td>15530</td>\n",
       "      <td>10.0</td>\n",
       "      <td>taxable</td>\n",
       "      <td>Alain Graillot Crozes-Hermitage Blanc 2018</td>\n",
       "      <td>Issu de faible rendements comme pour l’ensembl...</td>\n",
       "      <td>alain-graillot-crozes-hermitage-blanc-2018</td>\n",
       "      <td>product</td>\n",
       "    </tr>\n",
       "    <tr>\n",
       "      <th>411</th>\n",
       "      <td>15531</td>\n",
       "      <td>6.0</td>\n",
       "      <td>taxable</td>\n",
       "      <td>Alain Graillot Crozes-Hermitage Rouge 2017</td>\n",
       "      <td>Cette très belle et très séduisante cuvée Croz...</td>\n",
       "      <td>alain-graillot-crozes-hermitage-rouge-2017</td>\n",
       "      <td>product</td>\n",
       "    </tr>\n",
       "    <tr>\n",
       "      <th>1190</th>\n",
       "      <td>15531</td>\n",
       "      <td>6.0</td>\n",
       "      <td>NaN</td>\n",
       "      <td>Alain Graillot Crozes-Hermitage Rouge 2017</td>\n",
       "      <td>NaN</td>\n",
       "      <td>alain-graillot-crozes-hermitage-rouge-2017</td>\n",
       "      <td>attachment</td>\n",
       "    </tr>\n",
       "  </tbody>\n",
       "</table>\n",
       "</div>"
      ],
      "text/plain": [
       "     id_web  total_sales tax_status  \\\n",
       "610   15325          4.0    taxable   \n",
       "1381  15325          4.0        NaN   \n",
       "611   15328          3.0    taxable   \n",
       "1382  15328          3.0        NaN   \n",
       "612   15329          3.0    taxable   \n",
       "1383  15329          3.0        NaN   \n",
       "1191  15530         10.0        NaN   \n",
       "412   15530         10.0    taxable   \n",
       "411   15531          6.0    taxable   \n",
       "1190  15531          6.0        NaN   \n",
       "\n",
       "                                      post_title  \\\n",
       "610        Agnès Levet Côte Rôtie Améthyste 2017   \n",
       "1381       Agnès Levet Côte Rôtie Améthyste 2017   \n",
       "611         Agnès Levet Côte Rôtie Maestria 2017   \n",
       "1382        Agnès Levet Côte Rôtie Maestria 2017   \n",
       "612         Agnès Levet Côte Rôtie Péroline 2017   \n",
       "1383        Agnès Levet Côte Rôtie Péroline 2017   \n",
       "1191  Alain Graillot Crozes-Hermitage Blanc 2018   \n",
       "412   Alain Graillot Crozes-Hermitage Blanc 2018   \n",
       "411   Alain Graillot Crozes-Hermitage Rouge 2017   \n",
       "1190  Alain Graillot Crozes-Hermitage Rouge 2017   \n",
       "\n",
       "                                           post_excerpt  \\\n",
       "610   <span style=\"float: none;background-color: tra...   \n",
       "1381                                                NaN   \n",
       "611   <span style=\"float: none; background-color: tr...   \n",
       "1382                                                NaN   \n",
       "612   <span style=\"float: none; background-color: tr...   \n",
       "1383                                                NaN   \n",
       "1191                                                NaN   \n",
       "412   Issu de faible rendements comme pour l’ensembl...   \n",
       "411   Cette très belle et très séduisante cuvée Croz...   \n",
       "1190                                                NaN   \n",
       "\n",
       "                                       post_name   post_type  \n",
       "610                   agnes-levet-amethyste-2017     product  \n",
       "1381                  agnes-levet-amethyste-2017  attachment  \n",
       "611         agnes-levet-cote-rotie-maestria-2017     product  \n",
       "1382        agnes-levet-cote-rotie-maestria-2017  attachment  \n",
       "612         agnes-levet-cote-rotie-peroline-2017     product  \n",
       "1383        agnes-levet-cote-rotie-peroline-2017  attachment  \n",
       "1191  alain-graillot-crozes-hermitage-blanc-2018  attachment  \n",
       "412   alain-graillot-crozes-hermitage-blanc-2018     product  \n",
       "411   alain-graillot-crozes-hermitage-rouge-2017     product  \n",
       "1190  alain-graillot-crozes-hermitage-rouge-2017  attachment  "
      ]
     },
     "execution_count": 9,
     "metadata": {},
     "output_type": "execute_result"
    }
   ],
   "source": [
    "#trier les données\n",
    "fichierWeb.sort_values(by=[\"post_title\"], ascending=True).head(10)"
   ]
  },
  {
   "cell_type": "code",
   "execution_count": 10,
   "id": "3d9fd24e",
   "metadata": {
    "slideshow": {
     "slide_type": "slide"
    }
   },
   "outputs": [
    {
     "data": {
      "text/html": [
       "<div>\n",
       "<style scoped>\n",
       "    .dataframe tbody tr th:only-of-type {\n",
       "        vertical-align: middle;\n",
       "    }\n",
       "\n",
       "    .dataframe tbody tr th {\n",
       "        vertical-align: top;\n",
       "    }\n",
       "\n",
       "    .dataframe thead th {\n",
       "        text-align: right;\n",
       "    }\n",
       "</style>\n",
       "<table border=\"1\" class=\"dataframe\">\n",
       "  <thead>\n",
       "    <tr style=\"text-align: right;\">\n",
       "      <th></th>\n",
       "      <th>id_web</th>\n",
       "      <th>total_sales</th>\n",
       "      <th>tax_status</th>\n",
       "      <th>post_title</th>\n",
       "      <th>post_excerpt</th>\n",
       "      <th>post_name</th>\n",
       "      <th>post_type</th>\n",
       "    </tr>\n",
       "  </thead>\n",
       "  <tbody>\n",
       "    <tr>\n",
       "      <th>610</th>\n",
       "      <td>15325</td>\n",
       "      <td>4.0</td>\n",
       "      <td>taxable</td>\n",
       "      <td>Agnès Levet Côte Rôtie Améthyste 2017</td>\n",
       "      <td>&lt;span style=\"float: none;background-color: tra...</td>\n",
       "      <td>agnes-levet-amethyste-2017</td>\n",
       "      <td>product</td>\n",
       "    </tr>\n",
       "    <tr>\n",
       "      <th>611</th>\n",
       "      <td>15328</td>\n",
       "      <td>3.0</td>\n",
       "      <td>taxable</td>\n",
       "      <td>Agnès Levet Côte Rôtie Maestria 2017</td>\n",
       "      <td>&lt;span style=\"float: none; background-color: tr...</td>\n",
       "      <td>agnes-levet-cote-rotie-maestria-2017</td>\n",
       "      <td>product</td>\n",
       "    </tr>\n",
       "    <tr>\n",
       "      <th>612</th>\n",
       "      <td>15329</td>\n",
       "      <td>3.0</td>\n",
       "      <td>taxable</td>\n",
       "      <td>Agnès Levet Côte Rôtie Péroline 2017</td>\n",
       "      <td>&lt;span style=\"float: none; background-color: tr...</td>\n",
       "      <td>agnes-levet-cote-rotie-peroline-2017</td>\n",
       "      <td>product</td>\n",
       "    </tr>\n",
       "    <tr>\n",
       "      <th>412</th>\n",
       "      <td>15530</td>\n",
       "      <td>10.0</td>\n",
       "      <td>taxable</td>\n",
       "      <td>Alain Graillot Crozes-Hermitage Blanc 2018</td>\n",
       "      <td>Issu de faible rendements comme pour l’ensembl...</td>\n",
       "      <td>alain-graillot-crozes-hermitage-blanc-2018</td>\n",
       "      <td>product</td>\n",
       "    </tr>\n",
       "    <tr>\n",
       "      <th>411</th>\n",
       "      <td>15531</td>\n",
       "      <td>6.0</td>\n",
       "      <td>taxable</td>\n",
       "      <td>Alain Graillot Crozes-Hermitage Rouge 2017</td>\n",
       "      <td>Cette très belle et très séduisante cuvée Croz...</td>\n",
       "      <td>alain-graillot-crozes-hermitage-rouge-2017</td>\n",
       "      <td>product</td>\n",
       "    </tr>\n",
       "    <tr>\n",
       "      <th>410</th>\n",
       "      <td>15533</td>\n",
       "      <td>24.0</td>\n",
       "      <td>taxable</td>\n",
       "      <td>Alain Graillot Crozes-Hermitage Rouge La Guira...</td>\n",
       "      <td>3 bouteilles maximum par client\\n\\nUne belle p...</td>\n",
       "      <td>alain-graillot-crozes-hermitage-rouge-la-guira...</td>\n",
       "      <td>product</td>\n",
       "    </tr>\n",
       "    <tr>\n",
       "      <th>538</th>\n",
       "      <td>14855</td>\n",
       "      <td>6.0</td>\n",
       "      <td>taxable</td>\n",
       "      <td>Albert Boxler Chasselas 2016</td>\n",
       "      <td>Cépage réputé modeste, mais cela donne entre l...</td>\n",
       "      <td>albert-boxler-chasselas-2016</td>\n",
       "      <td>product</td>\n",
       "    </tr>\n",
       "    <tr>\n",
       "      <th>539</th>\n",
       "      <td>14856</td>\n",
       "      <td>3.0</td>\n",
       "      <td>taxable</td>\n",
       "      <td>Albert Boxler Crémant d'Alsace Brut 2014</td>\n",
       "      <td>Un superbe crémant doté d'une bulle fine et ch...</td>\n",
       "      <td>albert-boxler-cremant-2014</td>\n",
       "      <td>product</td>\n",
       "    </tr>\n",
       "    <tr>\n",
       "      <th>540</th>\n",
       "      <td>15923</td>\n",
       "      <td>0.0</td>\n",
       "      <td>taxable</td>\n",
       "      <td>Albert Boxler Pinot Gris Grand Cru Sommerberg ...</td>\n",
       "      <td>Le Pinot Gris Grand Cru Sommerberg W 2016, du ...</td>\n",
       "      <td>albert-boxler-pinot-gris-sommerberg-w-2016</td>\n",
       "      <td>product</td>\n",
       "    </tr>\n",
       "    <tr>\n",
       "      <th>542</th>\n",
       "      <td>14844</td>\n",
       "      <td>3.0</td>\n",
       "      <td>taxable</td>\n",
       "      <td>Albert Boxler Pinot Gris Réserve 2016</td>\n",
       "      <td>Ce Pinot Gris Réserve provient d’un savant ass...</td>\n",
       "      <td>albert-boxler-pinot-gris-reserve-2016</td>\n",
       "      <td>product</td>\n",
       "    </tr>\n",
       "  </tbody>\n",
       "</table>\n",
       "</div>"
      ],
      "text/plain": [
       "    id_web  total_sales tax_status  \\\n",
       "610  15325          4.0    taxable   \n",
       "611  15328          3.0    taxable   \n",
       "612  15329          3.0    taxable   \n",
       "412  15530         10.0    taxable   \n",
       "411  15531          6.0    taxable   \n",
       "410  15533         24.0    taxable   \n",
       "538  14855          6.0    taxable   \n",
       "539  14856          3.0    taxable   \n",
       "540  15923          0.0    taxable   \n",
       "542  14844          3.0    taxable   \n",
       "\n",
       "                                            post_title  \\\n",
       "610              Agnès Levet Côte Rôtie Améthyste 2017   \n",
       "611               Agnès Levet Côte Rôtie Maestria 2017   \n",
       "612               Agnès Levet Côte Rôtie Péroline 2017   \n",
       "412         Alain Graillot Crozes-Hermitage Blanc 2018   \n",
       "411         Alain Graillot Crozes-Hermitage Rouge 2017   \n",
       "410  Alain Graillot Crozes-Hermitage Rouge La Guira...   \n",
       "538                       Albert Boxler Chasselas 2016   \n",
       "539           Albert Boxler Crémant d'Alsace Brut 2014   \n",
       "540  Albert Boxler Pinot Gris Grand Cru Sommerberg ...   \n",
       "542              Albert Boxler Pinot Gris Réserve 2016   \n",
       "\n",
       "                                          post_excerpt  \\\n",
       "610  <span style=\"float: none;background-color: tra...   \n",
       "611  <span style=\"float: none; background-color: tr...   \n",
       "612  <span style=\"float: none; background-color: tr...   \n",
       "412  Issu de faible rendements comme pour l’ensembl...   \n",
       "411  Cette très belle et très séduisante cuvée Croz...   \n",
       "410  3 bouteilles maximum par client\\n\\nUne belle p...   \n",
       "538  Cépage réputé modeste, mais cela donne entre l...   \n",
       "539  Un superbe crémant doté d'une bulle fine et ch...   \n",
       "540  Le Pinot Gris Grand Cru Sommerberg W 2016, du ...   \n",
       "542  Ce Pinot Gris Réserve provient d’un savant ass...   \n",
       "\n",
       "                                             post_name post_type  \n",
       "610                         agnes-levet-amethyste-2017   product  \n",
       "611               agnes-levet-cote-rotie-maestria-2017   product  \n",
       "612               agnes-levet-cote-rotie-peroline-2017   product  \n",
       "412         alain-graillot-crozes-hermitage-blanc-2018   product  \n",
       "411         alain-graillot-crozes-hermitage-rouge-2017   product  \n",
       "410  alain-graillot-crozes-hermitage-rouge-la-guira...   product  \n",
       "538                       albert-boxler-chasselas-2016   product  \n",
       "539                         albert-boxler-cremant-2014   product  \n",
       "540         albert-boxler-pinot-gris-sommerberg-w-2016   product  \n",
       "542              albert-boxler-pinot-gris-reserve-2016   product  "
      ]
     },
     "execution_count": 10,
     "metadata": {},
     "output_type": "execute_result"
    }
   ],
   "source": [
    "# Filtrer sur les données ou Post_type = product\n",
    "fichierWeb = fichierWeb.loc[(fichierWeb['post_type'] == \"product\" ),:]\n",
    "fichierWeb.sort_values(by=[\"post_title\"], ascending=True).head(10)"
   ]
  },
  {
   "cell_type": "code",
   "execution_count": 11,
   "id": "079ffb58",
   "metadata": {
    "slideshow": {
     "slide_type": "slide"
    }
   },
   "outputs": [
    {
     "name": "stdout",
     "output_type": "stream",
     "text": [
      "Le nombre de doublon dans cette table est de 1\n",
      "\n",
      "Le nombre de valeur manquante par colonne dans cette table est de\n",
      "Le fichier contient 716 Lignes et 7 Colonnes\n"
     ]
    }
   ],
   "source": [
    "# Trouver le nombre des doublons en filtrant sur les 2 premières colonnes\n",
    "doublon = fichierWeb.duplicated(['id_web']).sum()\n",
    "print(\"Le nombre de doublon dans cette table est de\" , doublon)\n",
    "print(\"\")\n",
    "# Trouver le nombre de Valeur manquante\n",
    "print(\"Le nombre de valeur manquante par colonne dans cette table est de\")\n",
    "fichierWeb.isna().sum()\n",
    "print(\"Le fichier contient\", fichierWeb.shape[0], \"Lignes et\",fichierWeb.shape[1], \"Colonnes\" )"
   ]
  },
  {
   "cell_type": "markdown",
   "id": "01a06e66",
   "metadata": {
    "slideshow": {
     "slide_type": "slide"
    }
   },
   "source": [
    "> #### Suppression des valeurs (Not a Number)"
   ]
  },
  {
   "cell_type": "code",
   "execution_count": 12,
   "id": "5199e859",
   "metadata": {
    "scrolled": false
   },
   "outputs": [
    {
     "data": {
      "text/html": [
       "<div>\n",
       "<style scoped>\n",
       "    .dataframe tbody tr th:only-of-type {\n",
       "        vertical-align: middle;\n",
       "    }\n",
       "\n",
       "    .dataframe tbody tr th {\n",
       "        vertical-align: top;\n",
       "    }\n",
       "\n",
       "    .dataframe thead th {\n",
       "        text-align: right;\n",
       "    }\n",
       "</style>\n",
       "<table border=\"1\" class=\"dataframe\">\n",
       "  <thead>\n",
       "    <tr style=\"text-align: right;\">\n",
       "      <th></th>\n",
       "      <th>id_web</th>\n",
       "      <th>total_sales</th>\n",
       "      <th>tax_status</th>\n",
       "      <th>post_title</th>\n",
       "      <th>post_excerpt</th>\n",
       "      <th>post_name</th>\n",
       "      <th>post_type</th>\n",
       "    </tr>\n",
       "  </thead>\n",
       "  <tbody>\n",
       "    <tr>\n",
       "      <th>470</th>\n",
       "      <td>NaN</td>\n",
       "      <td>0.0</td>\n",
       "      <td>taxable</td>\n",
       "      <td>Pierre Jean Villa Côte Rôtie Fongeant 2017</td>\n",
       "      <td>Fongeant 2017 explose sur un fruit brillant, p...</td>\n",
       "      <td>pierre-jean-villa-cote-rotie-fongeant-2017</td>\n",
       "      <td>product</td>\n",
       "    </tr>\n",
       "    <tr>\n",
       "      <th>471</th>\n",
       "      <td>NaN</td>\n",
       "      <td>0.0</td>\n",
       "      <td>taxable</td>\n",
       "      <td>Pierre Jean Villa Condrieu Jardin Suspendu 2018</td>\n",
       "      <td>&lt;span id=\"u1194-83\"&gt;Le nez séduit par ses parf...</td>\n",
       "      <td>pierre-jean-villa-condrieu-suspendu-2018</td>\n",
       "      <td>product</td>\n",
       "    </tr>\n",
       "  </tbody>\n",
       "</table>\n",
       "</div>"
      ],
      "text/plain": [
       "    id_web  total_sales tax_status  \\\n",
       "470    NaN          0.0    taxable   \n",
       "471    NaN          0.0    taxable   \n",
       "\n",
       "                                          post_title  \\\n",
       "470       Pierre Jean Villa Côte Rôtie Fongeant 2017   \n",
       "471  Pierre Jean Villa Condrieu Jardin Suspendu 2018   \n",
       "\n",
       "                                          post_excerpt  \\\n",
       "470  Fongeant 2017 explose sur un fruit brillant, p...   \n",
       "471  <span id=\"u1194-83\">Le nez séduit par ses parf...   \n",
       "\n",
       "                                      post_name post_type  \n",
       "470  pierre-jean-villa-cote-rotie-fongeant-2017   product  \n",
       "471    pierre-jean-villa-condrieu-suspendu-2018   product  "
      ]
     },
     "execution_count": 12,
     "metadata": {},
     "output_type": "execute_result"
    }
   ],
   "source": [
    "# Affichier les lignes qui ont des Nan\n",
    "listeNan = fichierWeb[fichierWeb.isna().any(axis=1)]\n",
    "listeNan.head()"
   ]
  },
  {
   "cell_type": "code",
   "execution_count": 13,
   "id": "4814f5bd",
   "metadata": {},
   "outputs": [
    {
     "name": "stdout",
     "output_type": "stream",
     "text": [
      "Le fichier contient 714 Lignes et 7 Colonnes\n"
     ]
    }
   ],
   "source": [
    "# Supprimer les lignes dont l'id_web' est manquant\n",
    "fichierWeb = fichierWeb.dropna(axis=0, how='any', subset=['id_web'])\n",
    "print(\"Le fichier contient\", fichierWeb.shape[0], \"Lignes et\",fichierWeb.shape[1], \"Colonnes\" )"
   ]
  },
  {
   "cell_type": "code",
   "execution_count": 14,
   "id": "6d30996d",
   "metadata": {
    "scrolled": true,
    "slideshow": {
     "slide_type": "slide"
    }
   },
   "outputs": [
    {
     "name": "stdout",
     "output_type": "stream",
     "text": [
      "Le nombre de doublon dans la colonne (post_title) est de 713 et le nombre de doublon dans la colonne (post_type) est de 713 suppression des ces deux colonnes\n",
      "\n",
      "Le fichier contient 714 Lignes et 5 Colonnes\n"
     ]
    }
   ],
   "source": [
    "#Suppression de la colonne taxable\n",
    "doublonTs = fichierWeb.duplicated(['tax_status']).sum()\n",
    "doublonPt = fichierWeb.duplicated(['post_type']).sum()\n",
    "print(\"Le nombre de doublon dans la colonne (post_title) est de\" , doublonTs,\n",
    "      \"et le nombre de doublon dans la colonne (post_type) est de\", doublonPt, \n",
    "      \"suppression des ces deux colonnes\")\n",
    "print(\"\")\n",
    "fichierWeb = fichierWeb.drop(columns=['tax_status', 'post_type'])\n",
    "print(\"Le fichier contient\", fichierWeb.shape[0], \"Lignes et\",fichierWeb.shape[1], \"Colonnes\" )"
   ]
  },
  {
   "cell_type": "code",
   "execution_count": 15,
   "id": "0984d535",
   "metadata": {
    "slideshow": {
     "slide_type": "slide"
    }
   },
   "outputs": [
    {
     "name": "stdout",
     "output_type": "stream",
     "text": [
      "<class 'pandas.core.frame.DataFrame'>\n",
      "Int64Index: 714 entries, 0 to 798\n",
      "Data columns (total 5 columns):\n",
      " #   Column        Non-Null Count  Dtype  \n",
      "---  ------        --------------  -----  \n",
      " 0   id_web        714 non-null    object \n",
      " 1   total_sales   714 non-null    float64\n",
      " 2   post_title    714 non-null    object \n",
      " 3   post_excerpt  714 non-null    object \n",
      " 4   post_name     714 non-null    object \n",
      "dtypes: float64(1), object(4)\n",
      "memory usage: 33.5+ KB\n"
     ]
    }
   ],
   "source": [
    "fichierWeb.info()"
   ]
  },
  {
   "cell_type": "code",
   "execution_count": 16,
   "id": "e9d25543",
   "metadata": {
    "slideshow": {
     "slide_type": "slide"
    }
   },
   "outputs": [
    {
     "data": {
      "text/html": [
       "<div>\n",
       "<style scoped>\n",
       "    .dataframe tbody tr th:only-of-type {\n",
       "        vertical-align: middle;\n",
       "    }\n",
       "\n",
       "    .dataframe tbody tr th {\n",
       "        vertical-align: top;\n",
       "    }\n",
       "\n",
       "    .dataframe thead th {\n",
       "        text-align: right;\n",
       "    }\n",
       "</style>\n",
       "<table border=\"1\" class=\"dataframe\">\n",
       "  <thead>\n",
       "    <tr style=\"text-align: right;\">\n",
       "      <th></th>\n",
       "      <th>id_web</th>\n",
       "      <th>total_sales</th>\n",
       "      <th>post_title</th>\n",
       "      <th>post_excerpt</th>\n",
       "      <th>post_name</th>\n",
       "    </tr>\n",
       "  </thead>\n",
       "  <tbody>\n",
       "    <tr>\n",
       "      <th>0</th>\n",
       "      <td>bon-cadeau-25-euros</td>\n",
       "      <td>10.0</td>\n",
       "      <td>Bon cadeau de 25€</td>\n",
       "      <td>&lt;span style=\"color: #a85253;\"&gt;&lt;strong&gt;Parlons ...</td>\n",
       "      <td>bon-cadeau-de-25-euros</td>\n",
       "    </tr>\n",
       "    <tr>\n",
       "      <th>1</th>\n",
       "      <td>15298</td>\n",
       "      <td>6.0</td>\n",
       "      <td>Pierre Jean Villa Saint-Joseph Préface 2018</td>\n",
       "      <td>Il exhale un nez subtil, racé avec du poivre f...</td>\n",
       "      <td>pierre-jean-villa-saint-joseph-preface-2018</td>\n",
       "    </tr>\n",
       "    <tr>\n",
       "      <th>2</th>\n",
       "      <td>15296</td>\n",
       "      <td>0.0</td>\n",
       "      <td>Pierre Jean Villa Saint-Joseph Rouge Tildé 2017</td>\n",
       "      <td>Les vieilles vignes lui apportent une rare pro...</td>\n",
       "      <td>pierre-jean-villa-saint-joseph-tilde-2017</td>\n",
       "    </tr>\n",
       "    <tr>\n",
       "      <th>3</th>\n",
       "      <td>15300</td>\n",
       "      <td>0.0</td>\n",
       "      <td>Pierre Jean Villa Crozes-Hermitage Accroche Co...</td>\n",
       "      <td>Dentelle de fruit de jeunes syrah, aux tanins ...</td>\n",
       "      <td>pierre-jean-villa-croze-hermitage-accroche-coe...</td>\n",
       "    </tr>\n",
       "    <tr>\n",
       "      <th>4</th>\n",
       "      <td>19814</td>\n",
       "      <td>3.0</td>\n",
       "      <td>Pierre Jean Villa IGP Collines Rhodaniennes Ga...</td>\n",
       "      <td>Gamine représente tout le fruité et la gourman...</td>\n",
       "      <td>pierre-jean-villa-igp-gamine-2018</td>\n",
       "    </tr>\n",
       "  </tbody>\n",
       "</table>\n",
       "</div>"
      ],
      "text/plain": [
       "                id_web  total_sales  \\\n",
       "0  bon-cadeau-25-euros         10.0   \n",
       "1                15298          6.0   \n",
       "2                15296          0.0   \n",
       "3                15300          0.0   \n",
       "4                19814          3.0   \n",
       "\n",
       "                                          post_title  \\\n",
       "0                                  Bon cadeau de 25€   \n",
       "1        Pierre Jean Villa Saint-Joseph Préface 2018   \n",
       "2    Pierre Jean Villa Saint-Joseph Rouge Tildé 2017   \n",
       "3  Pierre Jean Villa Crozes-Hermitage Accroche Co...   \n",
       "4  Pierre Jean Villa IGP Collines Rhodaniennes Ga...   \n",
       "\n",
       "                                        post_excerpt  \\\n",
       "0  <span style=\"color: #a85253;\"><strong>Parlons ...   \n",
       "1  Il exhale un nez subtil, racé avec du poivre f...   \n",
       "2  Les vieilles vignes lui apportent une rare pro...   \n",
       "3  Dentelle de fruit de jeunes syrah, aux tanins ...   \n",
       "4  Gamine représente tout le fruité et la gourman...   \n",
       "\n",
       "                                           post_name  \n",
       "0                             bon-cadeau-de-25-euros  \n",
       "1        pierre-jean-villa-saint-joseph-preface-2018  \n",
       "2          pierre-jean-villa-saint-joseph-tilde-2017  \n",
       "3  pierre-jean-villa-croze-hermitage-accroche-coe...  \n",
       "4                  pierre-jean-villa-igp-gamine-2018  "
      ]
     },
     "execution_count": 16,
     "metadata": {},
     "output_type": "execute_result"
    }
   ],
   "source": [
    "fichierWeb.head()"
   ]
  },
  {
   "cell_type": "markdown",
   "id": "2e14b8cc",
   "metadata": {
    "slideshow": {
     "slide_type": "slide"
    }
   },
   "source": [
    "> ## <a name=\"Fichier03\"></a> Le Fichier Liaision. (liaison.xlsx)\n",
    "\n",
    ">> - product_id\n",
    ">> - id_web\n",
    "\n",
    "[Table des matières](#Table_des_matières)"
   ]
  },
  {
   "cell_type": "markdown",
   "id": "cfa3c9dc",
   "metadata": {
    "slideshow": {
     "slide_type": "slide"
    }
   },
   "source": [
    "> #### Lecture Fichier et Affichage des 8 premières données"
   ]
  },
  {
   "cell_type": "code",
   "execution_count": 17,
   "id": "1095b310",
   "metadata": {},
   "outputs": [
    {
     "data": {
      "text/html": [
       "<div>\n",
       "<style scoped>\n",
       "    .dataframe tbody tr th:only-of-type {\n",
       "        vertical-align: middle;\n",
       "    }\n",
       "\n",
       "    .dataframe tbody tr th {\n",
       "        vertical-align: top;\n",
       "    }\n",
       "\n",
       "    .dataframe thead th {\n",
       "        text-align: right;\n",
       "    }\n",
       "</style>\n",
       "<table border=\"1\" class=\"dataframe\">\n",
       "  <thead>\n",
       "    <tr style=\"text-align: right;\">\n",
       "      <th></th>\n",
       "      <th>product_id</th>\n",
       "      <th>id_web</th>\n",
       "    </tr>\n",
       "  </thead>\n",
       "  <tbody>\n",
       "    <tr>\n",
       "      <th>0</th>\n",
       "      <td>3847</td>\n",
       "      <td>15298</td>\n",
       "    </tr>\n",
       "    <tr>\n",
       "      <th>1</th>\n",
       "      <td>3849</td>\n",
       "      <td>15296</td>\n",
       "    </tr>\n",
       "    <tr>\n",
       "      <th>2</th>\n",
       "      <td>3850</td>\n",
       "      <td>15300</td>\n",
       "    </tr>\n",
       "    <tr>\n",
       "      <th>3</th>\n",
       "      <td>4032</td>\n",
       "      <td>19814</td>\n",
       "    </tr>\n",
       "    <tr>\n",
       "      <th>4</th>\n",
       "      <td>4039</td>\n",
       "      <td>19815</td>\n",
       "    </tr>\n",
       "    <tr>\n",
       "      <th>5</th>\n",
       "      <td>4040</td>\n",
       "      <td>15303</td>\n",
       "    </tr>\n",
       "    <tr>\n",
       "      <th>6</th>\n",
       "      <td>4041</td>\n",
       "      <td>14975</td>\n",
       "    </tr>\n",
       "    <tr>\n",
       "      <th>7</th>\n",
       "      <td>4042</td>\n",
       "      <td>16042</td>\n",
       "    </tr>\n",
       "  </tbody>\n",
       "</table>\n",
       "</div>"
      ],
      "text/plain": [
       "   product_id id_web\n",
       "0        3847  15298\n",
       "1        3849  15296\n",
       "2        3850  15300\n",
       "3        4032  19814\n",
       "4        4039  19815\n",
       "5        4040  15303\n",
       "6        4041  14975\n",
       "7        4042  16042"
      ]
     },
     "execution_count": 17,
     "metadata": {},
     "output_type": "execute_result"
    }
   ],
   "source": [
    "#variable pour le nom du fichier à impoter\n",
    "nomFicherImportation = \"liaison.xlsx\"\n",
    "# Importer les données du fichiers ()\n",
    "fichierLiaison = panda.read_excel(repertoireFichierImportation + nomFicherImportation)\n",
    "# Afficher le dataframe\n",
    "fichierLiaison.head(8) "
   ]
  },
  {
   "cell_type": "markdown",
   "id": "63c07911",
   "metadata": {
    "slideshow": {
     "slide_type": "slide"
    }
   },
   "source": [
    "> #### Types de données et Nombre de Lignes et de Colonnes du fichier"
   ]
  },
  {
   "cell_type": "code",
   "execution_count": 18,
   "id": "afa2ea0c",
   "metadata": {},
   "outputs": [
    {
     "name": "stdout",
     "output_type": "stream",
     "text": [
      "<class 'pandas.core.frame.DataFrame'>\n",
      "RangeIndex: 825 entries, 0 to 824\n",
      "Data columns (total 2 columns):\n",
      " #   Column      Non-Null Count  Dtype \n",
      "---  ------      --------------  ----- \n",
      " 0   product_id  825 non-null    int64 \n",
      " 1   id_web      734 non-null    object\n",
      "dtypes: int64(1), object(1)\n",
      "memory usage: 13.0+ KB\n",
      "\n",
      "Le fichier contient 825 Lignes et 2 Colonnes\n"
     ]
    }
   ],
   "source": [
    "# Information sur le dataFrame,notamment le type d'index et les colonnes,les valeurs non nulles et l'utilisation de la mémoire.\n",
    "fichierLiaison.info(verbose=True)\n",
    "# Afficher le nombre de lignes et de colonnes\n",
    "print(\"\") #permet de passer une ligne\n",
    "print(\"Le fichier contient\", fichierLiaison.shape[0], \"Lignes et\",fichierLiaison.shape[1], \"Colonnes\" )"
   ]
  },
  {
   "cell_type": "markdown",
   "id": "7a735ee7",
   "metadata": {
    "slideshow": {
     "slide_type": "slide"
    }
   },
   "source": [
    "> #### Modifications des données"
   ]
  },
  {
   "cell_type": "code",
   "execution_count": 19,
   "id": "7849c4f1",
   "metadata": {},
   "outputs": [],
   "source": [
    "# Changer le type  de données de la colonne product_id\n",
    "fichierLiaison['product_id']= fichierLiaison['product_id'].astype(object)"
   ]
  },
  {
   "cell_type": "markdown",
   "id": "c0c58e38",
   "metadata": {
    "slideshow": {
     "slide_type": "slide"
    }
   },
   "source": [
    "> #### Nb de Doublons et Nb de Valeurs Manquantes "
   ]
  },
  {
   "cell_type": "code",
   "execution_count": 20,
   "id": "d9a72e1e",
   "metadata": {},
   "outputs": [
    {
     "name": "stdout",
     "output_type": "stream",
     "text": [
      "Le nombre de doublon dans dans la colonne (product_id) est de 0 \n",
      "et le nombre de doublon dans la colonne (id_wev) est de 90\n",
      "\n",
      "Le nombre de valeur manquante par colonne dans cette table est de\n"
     ]
    },
    {
     "data": {
      "text/plain": [
       "product_id     0\n",
       "id_web        91\n",
       "dtype: int64"
      ]
     },
     "execution_count": 20,
     "metadata": {},
     "output_type": "execute_result"
    }
   ],
   "source": [
    "# Trouver le nombre des doublons en filtrant sur les 2 premières colonnes\n",
    "doublonP = fichierLiaison.duplicated(['product_id']).sum()\n",
    "doublonId = fichierLiaison.duplicated(['id_web']).sum()\n",
    "print(\"Le nombre de doublon dans dans la colonne (product_id) est de\" , doublonP, \"\\n\"\n",
    "      \"et le nombre de doublon dans la colonne (id_wev) est de\", doublonId)\n",
    "print(\"\")\n",
    "# Trouver le nombre de Valeur manquante\n",
    "print(\"Le nombre de valeur manquante par colonne dans cette table est de\")\n",
    "fichierLiaison.isna().sum()\n"
   ]
  },
  {
   "cell_type": "code",
   "execution_count": 21,
   "id": "71122b0b",
   "metadata": {
    "slideshow": {
     "slide_type": "-"
    }
   },
   "outputs": [
    {
     "name": "stdout",
     "output_type": "stream",
     "text": [
      "Le fichier contient 734 Lignes et 2 Colonnes\n"
     ]
    }
   ],
   "source": [
    "# Supprimer les 91 valeurs manquantes car inexploitable\n",
    "fichierLiaison.dropna(axis=0, how=\"any\", inplace=True)\n",
    "print(\"Le fichier contient\", fichierLiaison.shape[0], \"Lignes et\",fichierLiaison.shape[1], \"Colonnes\" )"
   ]
  },
  {
   "cell_type": "markdown",
   "id": "f24e93ee",
   "metadata": {
    "slideshow": {
     "slide_type": "slide"
    }
   },
   "source": [
    "# Partie 2 - Fusion des jeux des données\n",
    "> ##  <a name=\"Fusion\"></a> Le nouveau Dataframe.\n",
    "\n",
    "df_web_clean = df_web.drop(df_web[df_web.post_type != 'product'].index)\n",
    "df_web_clean['product_id'] = df_web_clean['guid'].apply(lambda x : int(x[-4:]))\n",
    "\n",
    "La première ligne ne sert pas le propos, mais c'est plus exhaustif comme ça\n",
    "\n",
    "\n",
    "[Table des matières](#Table_des_matières)"
   ]
  },
  {
   "cell_type": "code",
   "execution_count": 22,
   "id": "c2c1286d",
   "metadata": {
    "scrolled": false,
    "slideshow": {
     "slide_type": "slide"
    }
   },
   "outputs": [
    {
     "data": {
      "text/html": [
       "<div>\n",
       "<style scoped>\n",
       "    .dataframe tbody tr th:only-of-type {\n",
       "        vertical-align: middle;\n",
       "    }\n",
       "\n",
       "    .dataframe tbody tr th {\n",
       "        vertical-align: top;\n",
       "    }\n",
       "\n",
       "    .dataframe thead th {\n",
       "        text-align: right;\n",
       "    }\n",
       "</style>\n",
       "<table border=\"1\" class=\"dataframe\">\n",
       "  <thead>\n",
       "    <tr style=\"text-align: right;\">\n",
       "      <th></th>\n",
       "      <th>product_id</th>\n",
       "      <th>id_web</th>\n",
       "      <th>onsale_web</th>\n",
       "      <th>price</th>\n",
       "      <th>stock_quantity</th>\n",
       "      <th>stock_status</th>\n",
       "      <th>total_sales</th>\n",
       "      <th>post_title</th>\n",
       "      <th>post_excerpt</th>\n",
       "      <th>post_name</th>\n",
       "    </tr>\n",
       "  </thead>\n",
       "  <tbody>\n",
       "    <tr>\n",
       "      <th>0</th>\n",
       "      <td>3847.0</td>\n",
       "      <td>15298</td>\n",
       "      <td>1.0</td>\n",
       "      <td>24.2</td>\n",
       "      <td>0.0</td>\n",
       "      <td>outofstock</td>\n",
       "      <td>6.0</td>\n",
       "      <td>Pierre Jean Villa Saint-Joseph Préface 2018</td>\n",
       "      <td>Il exhale un nez subtil, racé avec du poivre f...</td>\n",
       "      <td>pierre-jean-villa-saint-joseph-preface-2018</td>\n",
       "    </tr>\n",
       "    <tr>\n",
       "      <th>1</th>\n",
       "      <td>3849.0</td>\n",
       "      <td>15296</td>\n",
       "      <td>1.0</td>\n",
       "      <td>34.3</td>\n",
       "      <td>0.0</td>\n",
       "      <td>outofstock</td>\n",
       "      <td>0.0</td>\n",
       "      <td>Pierre Jean Villa Saint-Joseph Rouge Tildé 2017</td>\n",
       "      <td>Les vieilles vignes lui apportent une rare pro...</td>\n",
       "      <td>pierre-jean-villa-saint-joseph-tilde-2017</td>\n",
       "    </tr>\n",
       "    <tr>\n",
       "      <th>2</th>\n",
       "      <td>3850.0</td>\n",
       "      <td>15300</td>\n",
       "      <td>1.0</td>\n",
       "      <td>20.8</td>\n",
       "      <td>0.0</td>\n",
       "      <td>outofstock</td>\n",
       "      <td>0.0</td>\n",
       "      <td>Pierre Jean Villa Crozes-Hermitage Accroche Co...</td>\n",
       "      <td>Dentelle de fruit de jeunes syrah, aux tanins ...</td>\n",
       "      <td>pierre-jean-villa-croze-hermitage-accroche-coe...</td>\n",
       "    </tr>\n",
       "    <tr>\n",
       "      <th>3</th>\n",
       "      <td>4032.0</td>\n",
       "      <td>19814</td>\n",
       "      <td>1.0</td>\n",
       "      <td>14.1</td>\n",
       "      <td>0.0</td>\n",
       "      <td>outofstock</td>\n",
       "      <td>3.0</td>\n",
       "      <td>Pierre Jean Villa IGP Collines Rhodaniennes Ga...</td>\n",
       "      <td>Gamine représente tout le fruité et la gourman...</td>\n",
       "      <td>pierre-jean-villa-igp-gamine-2018</td>\n",
       "    </tr>\n",
       "    <tr>\n",
       "      <th>4</th>\n",
       "      <td>4039.0</td>\n",
       "      <td>19815</td>\n",
       "      <td>1.0</td>\n",
       "      <td>46.0</td>\n",
       "      <td>0.0</td>\n",
       "      <td>outofstock</td>\n",
       "      <td>0.0</td>\n",
       "      <td>Pierre Jean Villa Côte Rôtie Carmina 2017</td>\n",
       "      <td>Le côte rôtie Carmina monte en puissance mais ...</td>\n",
       "      <td>pierre-jean-villa-cote-rotie-carmina-2017</td>\n",
       "    </tr>\n",
       "  </tbody>\n",
       "</table>\n",
       "</div>"
      ],
      "text/plain": [
       "  product_id id_web  onsale_web  price  stock_quantity stock_status  \\\n",
       "0     3847.0  15298         1.0   24.2             0.0   outofstock   \n",
       "1     3849.0  15296         1.0   34.3             0.0   outofstock   \n",
       "2     3850.0  15300         1.0   20.8             0.0   outofstock   \n",
       "3     4032.0  19814         1.0   14.1             0.0   outofstock   \n",
       "4     4039.0  19815         1.0   46.0             0.0   outofstock   \n",
       "\n",
       "   total_sales                                         post_title  \\\n",
       "0          6.0        Pierre Jean Villa Saint-Joseph Préface 2018   \n",
       "1          0.0    Pierre Jean Villa Saint-Joseph Rouge Tildé 2017   \n",
       "2          0.0  Pierre Jean Villa Crozes-Hermitage Accroche Co...   \n",
       "3          3.0  Pierre Jean Villa IGP Collines Rhodaniennes Ga...   \n",
       "4          0.0          Pierre Jean Villa Côte Rôtie Carmina 2017   \n",
       "\n",
       "                                        post_excerpt  \\\n",
       "0  Il exhale un nez subtil, racé avec du poivre f...   \n",
       "1  Les vieilles vignes lui apportent une rare pro...   \n",
       "2  Dentelle de fruit de jeunes syrah, aux tanins ...   \n",
       "3  Gamine représente tout le fruité et la gourman...   \n",
       "4  Le côte rôtie Carmina monte en puissance mais ...   \n",
       "\n",
       "                                           post_name  \n",
       "0        pierre-jean-villa-saint-joseph-preface-2018  \n",
       "1          pierre-jean-villa-saint-joseph-tilde-2017  \n",
       "2  pierre-jean-villa-croze-hermitage-accroche-coe...  \n",
       "3                  pierre-jean-villa-igp-gamine-2018  \n",
       "4          pierre-jean-villa-cote-rotie-carmina-2017  "
      ]
     },
     "execution_count": 22,
     "metadata": {},
     "output_type": "execute_result"
    }
   ],
   "source": [
    "# Jointure entre le fichier liaison et le fichier ERP\n",
    "fichiers = panda.merge(fichierLiaison, fichierErp, on='product_id', how = 'outer')\n",
    "nouvelERP = panda.merge(fichiers, fichierWeb, on='id_web', how = 'outer')\n",
    "nouvelERP.head(5)"
   ]
  },
  {
   "cell_type": "code",
   "execution_count": 23,
   "id": "550aed46",
   "metadata": {
    "scrolled": true,
    "slideshow": {
     "slide_type": "slide"
    }
   },
   "outputs": [
    {
     "name": "stdout",
     "output_type": "stream",
     "text": [
      "<class 'pandas.core.frame.DataFrame'>\n",
      "Int64Index: 737 entries, 0 to 736\n",
      "Data columns (total 10 columns):\n",
      " #   Column          Non-Null Count  Dtype  \n",
      "---  ------          --------------  -----  \n",
      " 0   product_id      737 non-null    object \n",
      " 1   id_web          734 non-null    object \n",
      " 2   onsale_web      717 non-null    float64\n",
      " 3   price           717 non-null    float64\n",
      " 4   stock_quantity  717 non-null    float64\n",
      " 5   stock_status    717 non-null    object \n",
      " 6   total_sales     714 non-null    float64\n",
      " 7   post_title      714 non-null    object \n",
      " 8   post_excerpt    714 non-null    object \n",
      " 9   post_name       714 non-null    object \n",
      "dtypes: float64(4), object(6)\n",
      "memory usage: 63.3+ KB\n",
      "\n",
      "Le fichier contient 737 Lignes et 10 Colonnes\n"
     ]
    }
   ],
   "source": [
    "# Information sur e dataFrame,notamment le type d'index et les colonnes,les valeurs non nulles et l'utilisation de la mémoire.\n",
    "nouvelERP.info(verbose=True)\n",
    "# Afficher le nombre de lignes et de colonnes\n",
    "print(\"\") #permet de passer une ligne\n",
    "print(\"Le fichier contient\", nouvelERP.shape[0], \"Lignes et\",nouvelERP.shape[1], \"Colonnes\" )"
   ]
  },
  {
   "cell_type": "code",
   "execution_count": 24,
   "id": "bd0a2176",
   "metadata": {
    "slideshow": {
     "slide_type": "slide"
    }
   },
   "outputs": [
    {
     "data": {
      "text/html": [
       "<div>\n",
       "<style scoped>\n",
       "    .dataframe tbody tr th:only-of-type {\n",
       "        vertical-align: middle;\n",
       "    }\n",
       "\n",
       "    .dataframe tbody tr th {\n",
       "        vertical-align: top;\n",
       "    }\n",
       "\n",
       "    .dataframe thead th {\n",
       "        text-align: right;\n",
       "    }\n",
       "</style>\n",
       "<table border=\"1\" class=\"dataframe\">\n",
       "  <thead>\n",
       "    <tr style=\"text-align: right;\">\n",
       "      <th></th>\n",
       "      <th>product_id</th>\n",
       "      <th>id_web</th>\n",
       "      <th>onsale_web</th>\n",
       "      <th>price</th>\n",
       "      <th>stock_quantity</th>\n",
       "      <th>stock_status</th>\n",
       "      <th>total_sales</th>\n",
       "      <th>post_title</th>\n",
       "      <th>post_excerpt</th>\n",
       "      <th>post_name</th>\n",
       "    </tr>\n",
       "  </thead>\n",
       "  <tbody>\n",
       "    <tr>\n",
       "      <th>0</th>\n",
       "      <td>3847.0</td>\n",
       "      <td>15298</td>\n",
       "      <td>1.0</td>\n",
       "      <td>24.2</td>\n",
       "      <td>0.0</td>\n",
       "      <td>outofstock</td>\n",
       "      <td>6.0</td>\n",
       "      <td>Pierre Jean Villa Saint-Joseph Préface 2018</td>\n",
       "      <td>Il exhale un nez subtil, racé avec du poivre f...</td>\n",
       "      <td>pierre-jean-villa-saint-joseph-preface-2018</td>\n",
       "    </tr>\n",
       "    <tr>\n",
       "      <th>504</th>\n",
       "      <td>5547.0</td>\n",
       "      <td>13959</td>\n",
       "      <td>1.0</td>\n",
       "      <td>24.6</td>\n",
       "      <td>32.0</td>\n",
       "      <td>instock</td>\n",
       "      <td>1.0</td>\n",
       "      <td>Thierry Germain Saumur-Champigny Terres Chaude...</td>\n",
       "      <td>La robe est d’une couleur rubis intense. Brill...</td>\n",
       "      <td>thierry-germain-saumur-champigny-terres-chaude...</td>\n",
       "    </tr>\n",
       "    <tr>\n",
       "      <th>483</th>\n",
       "      <td>5480.0</td>\n",
       "      <td>16306</td>\n",
       "      <td>1.0</td>\n",
       "      <td>10.4</td>\n",
       "      <td>37.0</td>\n",
       "      <td>instock</td>\n",
       "      <td>1.0</td>\n",
       "      <td>Domaine Bulliat Chiroubles Cuvée Félix 2019</td>\n",
       "      <td>Un très joli Chiroubles, souple, élégant et tr...</td>\n",
       "      <td>domaine-bulliat-chiroubles-2019</td>\n",
       "    </tr>\n",
       "    <tr>\n",
       "      <th>484</th>\n",
       "      <td>5481.0</td>\n",
       "      <td>15138</td>\n",
       "      <td>1.0</td>\n",
       "      <td>11.5</td>\n",
       "      <td>46.0</td>\n",
       "      <td>instock</td>\n",
       "      <td>0.0</td>\n",
       "      <td>Domaine Bulliat Moulin-à-Vent 2017</td>\n",
       "      <td>Vin Beaujolais riche, puissant et racé! Les ta...</td>\n",
       "      <td>domaine-bulliat-moulin-a-vent-2017</td>\n",
       "    </tr>\n",
       "    <tr>\n",
       "      <th>485</th>\n",
       "      <td>5483.0</td>\n",
       "      <td>15753</td>\n",
       "      <td>1.0</td>\n",
       "      <td>17.9</td>\n",
       "      <td>22.0</td>\n",
       "      <td>instock</td>\n",
       "      <td>0.0</td>\n",
       "      <td>David-Beaupère Juliénas La Bottière Vieilles V...</td>\n",
       "      <td>Belle robe framboise brillante assez soutenue....</td>\n",
       "      <td>david-beaupere-julienas-bottiere-2018</td>\n",
       "    </tr>\n",
       "    <tr>\n",
       "      <th>...</th>\n",
       "      <td>...</td>\n",
       "      <td>...</td>\n",
       "      <td>...</td>\n",
       "      <td>...</td>\n",
       "      <td>...</td>\n",
       "      <td>...</td>\n",
       "      <td>...</td>\n",
       "      <td>...</td>\n",
       "      <td>...</td>\n",
       "      <td>...</td>\n",
       "    </tr>\n",
       "    <tr>\n",
       "      <th>493</th>\n",
       "      <td>5505.0</td>\n",
       "      <td>14648</td>\n",
       "      <td>NaN</td>\n",
       "      <td>NaN</td>\n",
       "      <td>NaN</td>\n",
       "      <td>NaN</td>\n",
       "      <td>NaN</td>\n",
       "      <td>NaN</td>\n",
       "      <td>NaN</td>\n",
       "      <td>NaN</td>\n",
       "    </tr>\n",
       "    <tr>\n",
       "      <th>510</th>\n",
       "      <td>5559.0</td>\n",
       "      <td>14715</td>\n",
       "      <td>NaN</td>\n",
       "      <td>NaN</td>\n",
       "      <td>NaN</td>\n",
       "      <td>NaN</td>\n",
       "      <td>NaN</td>\n",
       "      <td>NaN</td>\n",
       "      <td>NaN</td>\n",
       "      <td>NaN</td>\n",
       "    </tr>\n",
       "    <tr>\n",
       "      <th>516</th>\n",
       "      <td>5570.0</td>\n",
       "      <td>14730</td>\n",
       "      <td>NaN</td>\n",
       "      <td>NaN</td>\n",
       "      <td>NaN</td>\n",
       "      <td>NaN</td>\n",
       "      <td>NaN</td>\n",
       "      <td>NaN</td>\n",
       "      <td>NaN</td>\n",
       "      <td>NaN</td>\n",
       "    </tr>\n",
       "    <tr>\n",
       "      <th>581</th>\n",
       "      <td>5800.0</td>\n",
       "      <td>14689</td>\n",
       "      <td>NaN</td>\n",
       "      <td>NaN</td>\n",
       "      <td>NaN</td>\n",
       "      <td>NaN</td>\n",
       "      <td>NaN</td>\n",
       "      <td>NaN</td>\n",
       "      <td>NaN</td>\n",
       "      <td>NaN</td>\n",
       "    </tr>\n",
       "    <tr>\n",
       "      <th>625</th>\n",
       "      <td>5953.0</td>\n",
       "      <td>14379</td>\n",
       "      <td>NaN</td>\n",
       "      <td>NaN</td>\n",
       "      <td>NaN</td>\n",
       "      <td>NaN</td>\n",
       "      <td>NaN</td>\n",
       "      <td>NaN</td>\n",
       "      <td>NaN</td>\n",
       "      <td>NaN</td>\n",
       "    </tr>\n",
       "  </tbody>\n",
       "</table>\n",
       "<p>732 rows × 10 columns</p>\n",
       "</div>"
      ],
      "text/plain": [
       "    product_id id_web  onsale_web  price  stock_quantity stock_status  \\\n",
       "0       3847.0  15298         1.0   24.2             0.0   outofstock   \n",
       "504     5547.0  13959         1.0   24.6            32.0      instock   \n",
       "483     5480.0  16306         1.0   10.4            37.0      instock   \n",
       "484     5481.0  15138         1.0   11.5            46.0      instock   \n",
       "485     5483.0  15753         1.0   17.9            22.0      instock   \n",
       "..         ...    ...         ...    ...             ...          ...   \n",
       "493     5505.0  14648         NaN    NaN             NaN          NaN   \n",
       "510     5559.0  14715         NaN    NaN             NaN          NaN   \n",
       "516     5570.0  14730         NaN    NaN             NaN          NaN   \n",
       "581     5800.0  14689         NaN    NaN             NaN          NaN   \n",
       "625     5953.0  14379         NaN    NaN             NaN          NaN   \n",
       "\n",
       "     total_sales                                         post_title  \\\n",
       "0            6.0        Pierre Jean Villa Saint-Joseph Préface 2018   \n",
       "504          1.0  Thierry Germain Saumur-Champigny Terres Chaude...   \n",
       "483          1.0        Domaine Bulliat Chiroubles Cuvée Félix 2019   \n",
       "484          0.0                 Domaine Bulliat Moulin-à-Vent 2017   \n",
       "485          0.0  David-Beaupère Juliénas La Bottière Vieilles V...   \n",
       "..           ...                                                ...   \n",
       "493          NaN                                                NaN   \n",
       "510          NaN                                                NaN   \n",
       "516          NaN                                                NaN   \n",
       "581          NaN                                                NaN   \n",
       "625          NaN                                                NaN   \n",
       "\n",
       "                                          post_excerpt  \\\n",
       "0    Il exhale un nez subtil, racé avec du poivre f...   \n",
       "504  La robe est d’une couleur rubis intense. Brill...   \n",
       "483  Un très joli Chiroubles, souple, élégant et tr...   \n",
       "484  Vin Beaujolais riche, puissant et racé! Les ta...   \n",
       "485  Belle robe framboise brillante assez soutenue....   \n",
       "..                                                 ...   \n",
       "493                                                NaN   \n",
       "510                                                NaN   \n",
       "516                                                NaN   \n",
       "581                                                NaN   \n",
       "625                                                NaN   \n",
       "\n",
       "                                             post_name  \n",
       "0          pierre-jean-villa-saint-joseph-preface-2018  \n",
       "504  thierry-germain-saumur-champigny-terres-chaude...  \n",
       "483                    domaine-bulliat-chiroubles-2019  \n",
       "484                 domaine-bulliat-moulin-a-vent-2017  \n",
       "485              david-beaupere-julienas-bottiere-2018  \n",
       "..                                                 ...  \n",
       "493                                                NaN  \n",
       "510                                                NaN  \n",
       "516                                                NaN  \n",
       "581                                                NaN  \n",
       "625                                                NaN  \n",
       "\n",
       "[732 rows x 10 columns]"
      ]
     },
     "execution_count": 24,
     "metadata": {},
     "output_type": "execute_result"
    }
   ],
   "source": [
    "nouvelERP.sort_values(by=[\"onsale_web\"], ascending=False).head(-5)\n"
   ]
  },
  {
   "cell_type": "code",
   "execution_count": 25,
   "id": "ce5c3654",
   "metadata": {
    "slideshow": {
     "slide_type": "slide"
    }
   },
   "outputs": [
    {
     "name": "stdout",
     "output_type": "stream",
     "text": [
      "Le fichier contient 717 Lignes et 10 Colonnes\n"
     ]
    }
   ],
   "source": [
    "# Filtrer sur les données ou Onsaleweb = 1 pour supprimer les Nan\n",
    "nouvelERP = nouvelERP.loc[(nouvelERP['onsale_web'] == 1 ),:]\n",
    "print(\"Le fichier contient\", nouvelERP.shape[0], \"Lignes et\",nouvelERP.shape[1], \"Colonnes\" )"
   ]
  },
  {
   "cell_type": "code",
   "execution_count": 26,
   "id": "4b2da8b0",
   "metadata": {},
   "outputs": [
    {
     "name": "stdout",
     "output_type": "stream",
     "text": [
      "Le nombre de valeur manquante par colonne dans cette table est de\n"
     ]
    },
    {
     "data": {
      "text/plain": [
       "product_id        0\n",
       "id_web            3\n",
       "onsale_web        0\n",
       "price             0\n",
       "stock_quantity    0\n",
       "stock_status      0\n",
       "total_sales       3\n",
       "post_title        3\n",
       "post_excerpt      3\n",
       "post_name         3\n",
       "dtype: int64"
      ]
     },
     "execution_count": 26,
     "metadata": {},
     "output_type": "execute_result"
    }
   ],
   "source": [
    "# Trouver le nombre de Valeur manquante\n",
    "print(\"Le nombre de valeur manquante par colonne dans cette table est de\")\n",
    "nouvelERP.isna().sum()"
   ]
  },
  {
   "cell_type": "code",
   "execution_count": 27,
   "id": "9c007102",
   "metadata": {
    "slideshow": {
     "slide_type": "slide"
    }
   },
   "outputs": [
    {
     "data": {
      "text/html": [
       "<div>\n",
       "<style scoped>\n",
       "    .dataframe tbody tr th:only-of-type {\n",
       "        vertical-align: middle;\n",
       "    }\n",
       "\n",
       "    .dataframe tbody tr th {\n",
       "        vertical-align: top;\n",
       "    }\n",
       "\n",
       "    .dataframe thead th {\n",
       "        text-align: right;\n",
       "    }\n",
       "</style>\n",
       "<table border=\"1\" class=\"dataframe\">\n",
       "  <thead>\n",
       "    <tr style=\"text-align: right;\">\n",
       "      <th></th>\n",
       "      <th>product_id</th>\n",
       "      <th>id_web</th>\n",
       "      <th>onsale_web</th>\n",
       "      <th>price</th>\n",
       "      <th>stock_quantity</th>\n",
       "      <th>stock_status</th>\n",
       "      <th>total_sales</th>\n",
       "      <th>post_title</th>\n",
       "      <th>post_excerpt</th>\n",
       "      <th>post_name</th>\n",
       "    </tr>\n",
       "  </thead>\n",
       "  <tbody>\n",
       "    <tr>\n",
       "      <th>734</th>\n",
       "      <td>4594.0</td>\n",
       "      <td>NaN</td>\n",
       "      <td>1.0</td>\n",
       "      <td>144.0</td>\n",
       "      <td>0.0</td>\n",
       "      <td>outofstock</td>\n",
       "      <td>NaN</td>\n",
       "      <td>NaN</td>\n",
       "      <td>NaN</td>\n",
       "      <td>NaN</td>\n",
       "    </tr>\n",
       "    <tr>\n",
       "      <th>735</th>\n",
       "      <td>5070.0</td>\n",
       "      <td>NaN</td>\n",
       "      <td>1.0</td>\n",
       "      <td>84.7</td>\n",
       "      <td>0.0</td>\n",
       "      <td>outofstock</td>\n",
       "      <td>NaN</td>\n",
       "      <td>NaN</td>\n",
       "      <td>NaN</td>\n",
       "      <td>NaN</td>\n",
       "    </tr>\n",
       "    <tr>\n",
       "      <th>736</th>\n",
       "      <td>5075.0</td>\n",
       "      <td>NaN</td>\n",
       "      <td>1.0</td>\n",
       "      <td>43.3</td>\n",
       "      <td>0.0</td>\n",
       "      <td>outofstock</td>\n",
       "      <td>NaN</td>\n",
       "      <td>NaN</td>\n",
       "      <td>NaN</td>\n",
       "      <td>NaN</td>\n",
       "    </tr>\n",
       "  </tbody>\n",
       "</table>\n",
       "</div>"
      ],
      "text/plain": [
       "    product_id id_web  onsale_web  price  stock_quantity stock_status  \\\n",
       "734     4594.0    NaN         1.0  144.0             0.0   outofstock   \n",
       "735     5070.0    NaN         1.0   84.7             0.0   outofstock   \n",
       "736     5075.0    NaN         1.0   43.3             0.0   outofstock   \n",
       "\n",
       "     total_sales post_title post_excerpt post_name  \n",
       "734          NaN        NaN          NaN       NaN  \n",
       "735          NaN        NaN          NaN       NaN  \n",
       "736          NaN        NaN          NaN       NaN  "
      ]
     },
     "execution_count": 27,
     "metadata": {},
     "output_type": "execute_result"
    }
   ],
   "source": [
    "# Affichier les lignes qui ont des Nan\n",
    "listeNan = nouvelERP[nouvelERP['id_web'].isna()]\n",
    "listeNan"
   ]
  },
  {
   "cell_type": "code",
   "execution_count": 28,
   "id": "b625ad62",
   "metadata": {},
   "outputs": [
    {
     "name": "stdout",
     "output_type": "stream",
     "text": [
      "Le fichier contient 714 Lignes et 10 Colonnes\n"
     ]
    }
   ],
   "source": [
    "# Supprimer les 3 valeurs manquantes car inexploitable\n",
    "nouvelERP.dropna(axis=0, how=\"any\", inplace=True)\n",
    "print(\"Le fichier contient\", nouvelERP.shape[0], \"Lignes et\",nouvelERP.shape[1], \"Colonnes\" )"
   ]
  },
  {
   "cell_type": "markdown",
   "id": "5c7c3f71",
   "metadata": {
    "slideshow": {
     "slide_type": "slide"
    }
   },
   "source": [
    "# Partie 3 - Analyse des données\n",
    "> ##  <a name=\"Question01\"></a> Chiffre d'Affaire par Produit\n",
    "[Table des matières](#Table_des_matières)"
   ]
  },
  {
   "cell_type": "code",
   "execution_count": 29,
   "id": "bd10c231",
   "metadata": {
    "slideshow": {
     "slide_type": "slide"
    }
   },
   "outputs": [
    {
     "data": {
      "text/html": [
       "<div>\n",
       "<style scoped>\n",
       "    .dataframe tbody tr th:only-of-type {\n",
       "        vertical-align: middle;\n",
       "    }\n",
       "\n",
       "    .dataframe tbody tr th {\n",
       "        vertical-align: top;\n",
       "    }\n",
       "\n",
       "    .dataframe thead th {\n",
       "        text-align: right;\n",
       "    }\n",
       "</style>\n",
       "<table border=\"1\" class=\"dataframe\">\n",
       "  <thead>\n",
       "    <tr style=\"text-align: right;\">\n",
       "      <th></th>\n",
       "      <th>product_id</th>\n",
       "      <th>id_web</th>\n",
       "      <th>onsale_web</th>\n",
       "      <th>price</th>\n",
       "      <th>stock_quantity</th>\n",
       "      <th>stock_status</th>\n",
       "      <th>total_sales</th>\n",
       "      <th>post_title</th>\n",
       "      <th>post_excerpt</th>\n",
       "      <th>post_name</th>\n",
       "      <th>chiffre_affaire</th>\n",
       "    </tr>\n",
       "  </thead>\n",
       "  <tbody>\n",
       "    <tr>\n",
       "      <th>0</th>\n",
       "      <td>3847.0</td>\n",
       "      <td>15298</td>\n",
       "      <td>1.0</td>\n",
       "      <td>24.2</td>\n",
       "      <td>0.0</td>\n",
       "      <td>outofstock</td>\n",
       "      <td>6.0</td>\n",
       "      <td>Pierre Jean Villa Saint-Joseph Préface 2018</td>\n",
       "      <td>Il exhale un nez subtil, racé avec du poivre f...</td>\n",
       "      <td>pierre-jean-villa-saint-joseph-preface-2018</td>\n",
       "      <td>145.2</td>\n",
       "    </tr>\n",
       "    <tr>\n",
       "      <th>1</th>\n",
       "      <td>3849.0</td>\n",
       "      <td>15296</td>\n",
       "      <td>1.0</td>\n",
       "      <td>34.3</td>\n",
       "      <td>0.0</td>\n",
       "      <td>outofstock</td>\n",
       "      <td>0.0</td>\n",
       "      <td>Pierre Jean Villa Saint-Joseph Rouge Tildé 2017</td>\n",
       "      <td>Les vieilles vignes lui apportent une rare pro...</td>\n",
       "      <td>pierre-jean-villa-saint-joseph-tilde-2017</td>\n",
       "      <td>0.0</td>\n",
       "    </tr>\n",
       "    <tr>\n",
       "      <th>2</th>\n",
       "      <td>3850.0</td>\n",
       "      <td>15300</td>\n",
       "      <td>1.0</td>\n",
       "      <td>20.8</td>\n",
       "      <td>0.0</td>\n",
       "      <td>outofstock</td>\n",
       "      <td>0.0</td>\n",
       "      <td>Pierre Jean Villa Crozes-Hermitage Accroche Co...</td>\n",
       "      <td>Dentelle de fruit de jeunes syrah, aux tanins ...</td>\n",
       "      <td>pierre-jean-villa-croze-hermitage-accroche-coe...</td>\n",
       "      <td>0.0</td>\n",
       "    </tr>\n",
       "    <tr>\n",
       "      <th>3</th>\n",
       "      <td>4032.0</td>\n",
       "      <td>19814</td>\n",
       "      <td>1.0</td>\n",
       "      <td>14.1</td>\n",
       "      <td>0.0</td>\n",
       "      <td>outofstock</td>\n",
       "      <td>3.0</td>\n",
       "      <td>Pierre Jean Villa IGP Collines Rhodaniennes Ga...</td>\n",
       "      <td>Gamine représente tout le fruité et la gourman...</td>\n",
       "      <td>pierre-jean-villa-igp-gamine-2018</td>\n",
       "      <td>42.3</td>\n",
       "    </tr>\n",
       "    <tr>\n",
       "      <th>4</th>\n",
       "      <td>4039.0</td>\n",
       "      <td>19815</td>\n",
       "      <td>1.0</td>\n",
       "      <td>46.0</td>\n",
       "      <td>0.0</td>\n",
       "      <td>outofstock</td>\n",
       "      <td>0.0</td>\n",
       "      <td>Pierre Jean Villa Côte Rôtie Carmina 2017</td>\n",
       "      <td>Le côte rôtie Carmina monte en puissance mais ...</td>\n",
       "      <td>pierre-jean-villa-cote-rotie-carmina-2017</td>\n",
       "      <td>0.0</td>\n",
       "    </tr>\n",
       "    <tr>\n",
       "      <th>5</th>\n",
       "      <td>4040.0</td>\n",
       "      <td>15303</td>\n",
       "      <td>1.0</td>\n",
       "      <td>34.3</td>\n",
       "      <td>0.0</td>\n",
       "      <td>outofstock</td>\n",
       "      <td>0.0</td>\n",
       "      <td>Pierre Jean Villa Saint-Joseph Saut De l'Ange ...</td>\n",
       "      <td>Roussanne finement exotique, atypique par sa v...</td>\n",
       "      <td>pierre-jean-villa-saint-joseph-saut-ange-2018</td>\n",
       "      <td>0.0</td>\n",
       "    </tr>\n",
       "    <tr>\n",
       "      <th>6</th>\n",
       "      <td>4041.0</td>\n",
       "      <td>14975</td>\n",
       "      <td>1.0</td>\n",
       "      <td>32.7</td>\n",
       "      <td>15.0</td>\n",
       "      <td>instock</td>\n",
       "      <td>0.0</td>\n",
       "      <td>Pierre Gaillard Condrieu 2018</td>\n",
       "      <td>Un joli nez de fruits exotiques comme le litch...</td>\n",
       "      <td>pierre-gaillard-condrieu-2018</td>\n",
       "      <td>0.0</td>\n",
       "    </tr>\n",
       "    <tr>\n",
       "      <th>7</th>\n",
       "      <td>4042.0</td>\n",
       "      <td>16042</td>\n",
       "      <td>1.0</td>\n",
       "      <td>31.2</td>\n",
       "      <td>34.0</td>\n",
       "      <td>instock</td>\n",
       "      <td>7.0</td>\n",
       "      <td>Pierre Gaillard Cornas 2017</td>\n",
       "      <td>Une jolie robe grenat avec des reflets violacé...</td>\n",
       "      <td>pierre-gaillard-cornas-2017</td>\n",
       "      <td>218.4</td>\n",
       "    </tr>\n",
       "  </tbody>\n",
       "</table>\n",
       "</div>"
      ],
      "text/plain": [
       "  product_id id_web  onsale_web  price  stock_quantity stock_status  \\\n",
       "0     3847.0  15298         1.0   24.2             0.0   outofstock   \n",
       "1     3849.0  15296         1.0   34.3             0.0   outofstock   \n",
       "2     3850.0  15300         1.0   20.8             0.0   outofstock   \n",
       "3     4032.0  19814         1.0   14.1             0.0   outofstock   \n",
       "4     4039.0  19815         1.0   46.0             0.0   outofstock   \n",
       "5     4040.0  15303         1.0   34.3             0.0   outofstock   \n",
       "6     4041.0  14975         1.0   32.7            15.0      instock   \n",
       "7     4042.0  16042         1.0   31.2            34.0      instock   \n",
       "\n",
       "   total_sales                                         post_title  \\\n",
       "0          6.0        Pierre Jean Villa Saint-Joseph Préface 2018   \n",
       "1          0.0    Pierre Jean Villa Saint-Joseph Rouge Tildé 2017   \n",
       "2          0.0  Pierre Jean Villa Crozes-Hermitage Accroche Co...   \n",
       "3          3.0  Pierre Jean Villa IGP Collines Rhodaniennes Ga...   \n",
       "4          0.0          Pierre Jean Villa Côte Rôtie Carmina 2017   \n",
       "5          0.0  Pierre Jean Villa Saint-Joseph Saut De l'Ange ...   \n",
       "6          0.0                      Pierre Gaillard Condrieu 2018   \n",
       "7          7.0                        Pierre Gaillard Cornas 2017   \n",
       "\n",
       "                                        post_excerpt  \\\n",
       "0  Il exhale un nez subtil, racé avec du poivre f...   \n",
       "1  Les vieilles vignes lui apportent une rare pro...   \n",
       "2  Dentelle de fruit de jeunes syrah, aux tanins ...   \n",
       "3  Gamine représente tout le fruité et la gourman...   \n",
       "4  Le côte rôtie Carmina monte en puissance mais ...   \n",
       "5  Roussanne finement exotique, atypique par sa v...   \n",
       "6  Un joli nez de fruits exotiques comme le litch...   \n",
       "7  Une jolie robe grenat avec des reflets violacé...   \n",
       "\n",
       "                                           post_name  chiffre_affaire  \n",
       "0        pierre-jean-villa-saint-joseph-preface-2018            145.2  \n",
       "1          pierre-jean-villa-saint-joseph-tilde-2017              0.0  \n",
       "2  pierre-jean-villa-croze-hermitage-accroche-coe...              0.0  \n",
       "3                  pierre-jean-villa-igp-gamine-2018             42.3  \n",
       "4          pierre-jean-villa-cote-rotie-carmina-2017              0.0  \n",
       "5      pierre-jean-villa-saint-joseph-saut-ange-2018              0.0  \n",
       "6                      pierre-gaillard-condrieu-2018              0.0  \n",
       "7                        pierre-gaillard-cornas-2017            218.4  "
      ]
     },
     "execution_count": 29,
     "metadata": {},
     "output_type": "execute_result"
    }
   ],
   "source": [
    "# Créer une colonne CA\n",
    "nouvelERP['chiffre_affaire']= (nouvelERP['price'] * nouvelERP['total_sales'])\n",
    "nouvelERP.head(8)"
   ]
  },
  {
   "cell_type": "code",
   "execution_count": 30,
   "id": "1c079893",
   "metadata": {
    "slideshow": {
     "slide_type": "slide"
    }
   },
   "outputs": [
    {
     "data": {
      "image/png": "[encoded data removed]",
      "text/plain": [
       "<Figure size 1600x800 with 1 Axes>"
      ]
     },
     "metadata": {},
     "output_type": "display_data"
    }
   ],
   "source": [
    "# Graphique en nuage de point plot.figure()\n",
    "plot.figure(figsize = (16, 8)).patch.set_facecolor('#fff6d9')\n",
    "plot.gca().set_facecolor('#fff6d9') # Couleur de fond\n",
    "plot.gca().tick_params(colors='#861e00') # changement couleur des axes x et y\n",
    "plot.gca().spines[:].set_visible(False) # Masquage du cadre noir\n",
    "plot.scatter(x = nouvelERP['price'], y = nouvelERP['chiffre_affaire'], color = '#b22600', marker = '*') # Selectionner les données par axe\n",
    "plot.ylim(0, 5000) # Echelle de Y\n",
    "plot.xlim(0, 250) # Echelle de X\n",
    "plot.title(\"Chiffre d'affaire par prix du produit\", color = '#861e00', fontweight = 'bold') # titre du graphique\n",
    "plot.xlabel('Prix', color = '#861e00', fontweight = 'bold') #Titre axe des X\n",
    "plot.ylabel(\"Chiffre d'affaire\", color = '#861e00', fontweight = 'bold') #Titre axe des Y\n",
    "plot.show(); "
   ]
  },
  {
   "cell_type": "markdown",
   "id": "9900a4a8",
   "metadata": {
    "slideshow": {
     "slide_type": "slide"
    }
   },
   "source": [
    "> ##  <a name=\"Question02\"></a> Chiffre d'Affaire Total\n",
    "[Table des matières](#Table_des_matières)"
   ]
  },
  {
   "cell_type": "code",
   "execution_count": 31,
   "id": "a972213f",
   "metadata": {
    "scrolled": true
   },
   "outputs": [
    {
     "name": "stdout",
     "output_type": "stream",
     "text": [
      "le chiffre d'affaire total est de 70.569 K€\n"
     ]
    }
   ],
   "source": [
    "# Calculer la somme de la colonne chiffre_affaire\n",
    "chiffreAffaireTotal = numpy.round(nouvelERP['chiffre_affaire'].sum()/1000,3)\n",
    "print(\"le chiffre d'affaire total est de\", chiffreAffaireTotal, \"K€\" )"
   ]
  },
  {
   "cell_type": "markdown",
   "id": "856b90f4",
   "metadata": {
    "slideshow": {
     "slide_type": "slide"
    }
   },
   "source": [
    "# <a name=\"Analyse\"> Partie 4 - Analyse Univariée\n",
    "[Table des matières](#Table_des_matières)"
   ]
  },
  {
   "cell_type": "markdown",
   "id": "3126262c",
   "metadata": {
    "slideshow": {
     "slide_type": "slide"
    }
   },
   "source": [
    ">> ### <a name=\"AU01\"></a>  Methode Z-Score\n",
    "\n",
    "Selon la formule (x-µ)/σ où\n",
    "\n",
    "    x=valeur de la cellule\n",
    "    µ=moyenne\n",
    "    σ=écart type.\n",
    "\n",
    "Méthode pour calculer les valeurs aberrantes ou atypiques :\n",
    "Pour des données supposées normalement distribuées, 95% de celles-ci se situent dans 2 écarts types, et 99.7% dans 3."
   ]
  },
  {
   "cell_type": "code",
   "execution_count": 32,
   "id": "7a621cf4",
   "metadata": {
    "slideshow": {
     "slide_type": "slide"
    }
   },
   "outputs": [
    {
     "data": {
      "text/plain": [
       "count    714.000000\n",
       "mean      32.493137\n",
       "std       27.810525\n",
       "min        5.200000\n",
       "25%       14.100000\n",
       "50%       23.550000\n",
       "75%       42.175000\n",
       "max      225.000000\n",
       "Name: price, dtype: float64"
      ]
     },
     "execution_count": 32,
     "metadata": {},
     "output_type": "execute_result"
    }
   ],
   "source": [
    "nouvelERP['price'].describe()"
   ]
  },
  {
   "cell_type": "code",
   "execution_count": 33,
   "id": "cbd6f43e",
   "metadata": {},
   "outputs": [
    {
     "name": "stdout",
     "output_type": "stream",
     "text": [
      "Le prix moyen est de 32.49€ et l'écart type est de 27.79\n"
     ]
    }
   ],
   "source": [
    "prixMoyen = numpy.round(numpy.mean(nouvelERP['price']),2)\n",
    "ecartType = numpy.round(numpy.std(nouvelERP['price']),2)\n",
    "print(\"Le prix moyen est de\", \"{:.2f}€\".format(prixMoyen), \"et l'écart type est de\", ecartType)"
   ]
  },
  {
   "cell_type": "code",
   "execution_count": 34,
   "id": "80f47ea2",
   "metadata": {
    "slideshow": {
     "slide_type": "slide"
    }
   },
   "outputs": [
    {
     "data": {
      "text/html": [
       "<div>\n",
       "<style scoped>\n",
       "    .dataframe tbody tr th:only-of-type {\n",
       "        vertical-align: middle;\n",
       "    }\n",
       "\n",
       "    .dataframe tbody tr th {\n",
       "        vertical-align: top;\n",
       "    }\n",
       "\n",
       "    .dataframe thead th {\n",
       "        text-align: right;\n",
       "    }\n",
       "</style>\n",
       "<table border=\"1\" class=\"dataframe\">\n",
       "  <thead>\n",
       "    <tr style=\"text-align: right;\">\n",
       "      <th></th>\n",
       "      <th>product_id</th>\n",
       "      <th>id_web</th>\n",
       "      <th>onsale_web</th>\n",
       "      <th>price</th>\n",
       "      <th>stock_quantity</th>\n",
       "      <th>stock_status</th>\n",
       "      <th>total_sales</th>\n",
       "      <th>post_title</th>\n",
       "      <th>post_excerpt</th>\n",
       "      <th>post_name</th>\n",
       "      <th>chiffre_affaire</th>\n",
       "      <th>z-score</th>\n",
       "    </tr>\n",
       "  </thead>\n",
       "  <tbody>\n",
       "    <tr>\n",
       "      <th>200</th>\n",
       "      <td>4352.0</td>\n",
       "      <td>15940</td>\n",
       "      <td>1.0</td>\n",
       "      <td>225.0</td>\n",
       "      <td>0.0</td>\n",
       "      <td>outofstock</td>\n",
       "      <td>5.0</td>\n",
       "      <td>Champagne Egly-Ouriet Grand Cru Millésimé 2008</td>\n",
       "      <td>Issu d’un assemblage de 70% de Pinot Noir du g...</td>\n",
       "      <td>champagne-egly-ouriet-grand-cru-millesime-2008</td>\n",
       "      <td>1125.0</td>\n",
       "      <td>6.927312</td>\n",
       "    </tr>\n",
       "    <tr>\n",
       "      <th>434</th>\n",
       "      <td>5001.0</td>\n",
       "      <td>14581</td>\n",
       "      <td>1.0</td>\n",
       "      <td>217.5</td>\n",
       "      <td>20.0</td>\n",
       "      <td>instock</td>\n",
       "      <td>0.0</td>\n",
       "      <td>David Duband Charmes-Chambertin Grand Cru 2014</td>\n",
       "      <td>Robe cerise chatoyante. Un nez de fruits rouge...</td>\n",
       "      <td>david-duband-charmes-chambertin-grand-cru-2014</td>\n",
       "      <td>0.0</td>\n",
       "      <td>6.657431</td>\n",
       "    </tr>\n",
       "    <tr>\n",
       "      <th>601</th>\n",
       "      <td>5892.0</td>\n",
       "      <td>14983</td>\n",
       "      <td>1.0</td>\n",
       "      <td>191.3</td>\n",
       "      <td>10.0</td>\n",
       "      <td>instock</td>\n",
       "      <td>3.0</td>\n",
       "      <td>Coteaux Champenois Egly-Ouriet Ambonnay Rouge ...</td>\n",
       "      <td>Cet Ambonnay évoque les grands Pinots Noirs de...</td>\n",
       "      <td>coteaux-champenois-egly-ouriet-ambonnay-rouge-...</td>\n",
       "      <td>573.9</td>\n",
       "      <td>5.714646</td>\n",
       "    </tr>\n",
       "    <tr>\n",
       "      <th>219</th>\n",
       "      <td>4402.0</td>\n",
       "      <td>3510</td>\n",
       "      <td>1.0</td>\n",
       "      <td>176.0</td>\n",
       "      <td>8.0</td>\n",
       "      <td>instock</td>\n",
       "      <td>13.0</td>\n",
       "      <td>Cognac Frapin VIP XO</td>\n",
       "      <td>La cuvée VIP XO à été enrichie d’eaux-de-vie t...</td>\n",
       "      <td>cognac-frapin-vip-xo</td>\n",
       "      <td>2288.0</td>\n",
       "      <td>5.164088</td>\n",
       "    </tr>\n",
       "    <tr>\n",
       "      <th>566</th>\n",
       "      <td>5767.0</td>\n",
       "      <td>15185</td>\n",
       "      <td>1.0</td>\n",
       "      <td>175.0</td>\n",
       "      <td>12.0</td>\n",
       "      <td>instock</td>\n",
       "      <td>0.0</td>\n",
       "      <td>Camille Giroud Clos de Vougeot 2016</td>\n",
       "      <td>&lt;div&gt;Ce vin provient de vignes âgées de 50 ans...</td>\n",
       "      <td>camille-giroud-clos-de-vougeot-2016</td>\n",
       "      <td>0.0</td>\n",
       "      <td>5.128104</td>\n",
       "    </tr>\n",
       "  </tbody>\n",
       "</table>\n",
       "</div>"
      ],
      "text/plain": [
       "    product_id id_web  onsale_web  price  stock_quantity stock_status  \\\n",
       "200     4352.0  15940         1.0  225.0             0.0   outofstock   \n",
       "434     5001.0  14581         1.0  217.5            20.0      instock   \n",
       "601     5892.0  14983         1.0  191.3            10.0      instock   \n",
       "219     4402.0   3510         1.0  176.0             8.0      instock   \n",
       "566     5767.0  15185         1.0  175.0            12.0      instock   \n",
       "\n",
       "     total_sales                                         post_title  \\\n",
       "200          5.0     Champagne Egly-Ouriet Grand Cru Millésimé 2008   \n",
       "434          0.0     David Duband Charmes-Chambertin Grand Cru 2014   \n",
       "601          3.0  Coteaux Champenois Egly-Ouriet Ambonnay Rouge ...   \n",
       "219         13.0                               Cognac Frapin VIP XO   \n",
       "566          0.0                Camille Giroud Clos de Vougeot 2016   \n",
       "\n",
       "                                          post_excerpt  \\\n",
       "200  Issu d’un assemblage de 70% de Pinot Noir du g...   \n",
       "434  Robe cerise chatoyante. Un nez de fruits rouge...   \n",
       "601  Cet Ambonnay évoque les grands Pinots Noirs de...   \n",
       "219  La cuvée VIP XO à été enrichie d’eaux-de-vie t...   \n",
       "566  <div>Ce vin provient de vignes âgées de 50 ans...   \n",
       "\n",
       "                                             post_name  chiffre_affaire  \\\n",
       "200     champagne-egly-ouriet-grand-cru-millesime-2008           1125.0   \n",
       "434     david-duband-charmes-chambertin-grand-cru-2014              0.0   \n",
       "601  coteaux-champenois-egly-ouriet-ambonnay-rouge-...            573.9   \n",
       "219                               cognac-frapin-vip-xo           2288.0   \n",
       "566                camille-giroud-clos-de-vougeot-2016              0.0   \n",
       "\n",
       "      z-score  \n",
       "200  6.927312  \n",
       "434  6.657431  \n",
       "601  5.714646  \n",
       "219  5.164088  \n",
       "566  5.128104  "
      ]
     },
     "execution_count": 34,
     "metadata": {},
     "output_type": "execute_result"
    }
   ],
   "source": [
    "# Calcul du Z-score\n",
    "nouvelERP['z-score'] = (nouvelERP['price'] - prixMoyen) / ecartType\n",
    "nouvelERP.sort_values(by=[\"z-score\"], ascending=False).head(5)"
   ]
  },
  {
   "cell_type": "code",
   "execution_count": 35,
   "id": "9e2ef1a4",
   "metadata": {
    "slideshow": {
     "slide_type": "slide"
    }
   },
   "outputs": [
    {
     "name": "stdout",
     "output_type": "stream",
     "text": [
      "Le fichier contient 30 Lignes et 12 Colonnes\n"
     ]
    }
   ],
   "source": [
    "# Filtrer sur les données qui ont un Z-Score > 2\n",
    "anomalieZscore = nouvelERP.loc[(nouvelERP['z-score'] > 2 ),:]\n",
    "print(\"Le fichier contient\", anomalieZscore.shape[0], \"Lignes et\",anomalieZscore.shape[1], \"Colonnes\" )"
   ]
  },
  {
   "cell_type": "code",
   "execution_count": 36,
   "id": "d9b79bad",
   "metadata": {},
   "outputs": [],
   "source": [
    "# Suppression des colonnes vides (qui ne contiennent pas de données)\n",
    "listeColonneASupprimer = ['onsale_web', 'stock_quantity', 'stock_status', 'post_excerpt', 'post_name'] \n",
    "anomalieZscore = anomalieZscore.drop(listeColonneASupprimer,axis = 1)"
   ]
  },
  {
   "cell_type": "code",
   "execution_count": 37,
   "id": "5265c007",
   "metadata": {},
   "outputs": [
    {
     "name": "stdout",
     "output_type": "stream",
     "text": [
      "Il y a 30  anomalies dans la liste des prix\n"
     ]
    }
   ],
   "source": [
    "# Afficher les anomalies\n",
    "anomalieZscore = anomalieZscore.sort_values(by=[\"z-score\"], ascending=False)\n",
    "listeAnomalies = anomalieZscore['price']\n",
    "print(\"Il y a\", len(listeAnomalies), \" anomalies dans la liste des prix\")\n"
   ]
  },
  {
   "cell_type": "code",
   "execution_count": 38,
   "id": "4a08400e",
   "metadata": {
    "slideshow": {
     "slide_type": "slide"
    }
   },
   "outputs": [
    {
     "data": {
      "text/plain": [
       "200    225.0\n",
       "434    217.5\n",
       "601    191.3\n",
       "219    176.0\n",
       "566    175.0\n",
       "222    157.0\n",
       "387    137.0\n",
       "661    135.0\n",
       "202    126.5\n",
       "524    124.8\n",
       "617    122.0\n",
       "676    121.0\n",
       "673    121.0\n",
       "667    116.4\n",
       "675    115.0\n",
       "672    115.0\n",
       "618    114.0\n",
       "447    112.0\n",
       "229    109.6\n",
       "220    108.5\n",
       "666    105.6\n",
       "440    105.0\n",
       "439    105.0\n",
       "223    104.0\n",
       "386    102.3\n",
       "63     100.0\n",
       "674     99.0\n",
       "616     93.0\n",
       "514     92.0\n",
       "65      88.4\n",
       "Name: price, dtype: float64"
      ]
     },
     "execution_count": 38,
     "metadata": {},
     "output_type": "execute_result"
    }
   ],
   "source": [
    "# Affichage de la liste des prix en anomalie\n",
    "listeAnomalies"
   ]
  },
  {
   "cell_type": "code",
   "execution_count": 39,
   "id": "1b8afecf",
   "metadata": {
    "slideshow": {
     "slide_type": "slide"
    }
   },
   "outputs": [
    {
     "name": "stdout",
     "output_type": "stream",
     "text": [
      "le chiffre d'affaire total est de ces anomalies est de 6.88 K€ soit 9.75% du CA\n"
     ]
    }
   ],
   "source": [
    "#chiffre d'affaire des ces anomalies\n",
    "chiffreAffaireAnomalieZcore= numpy.round(anomalieZscore['chiffre_affaire'].sum()/1000,2)\n",
    "partAnomaliesCATotal = numpy.round(chiffreAffaireAnomalieZcore / chiffreAffaireTotal,4)\n",
    "print(\"le chiffre d'affaire total est de ces anomalies est de\", chiffreAffaireAnomalieZcore, \"K€\", \"soit\", \"{:.2%}\".format(partAnomaliesCATotal), \"du CA\" ) "
   ]
  },
  {
   "attachments": {
    "image.png": {
     "image/png": "[encoded data removed]"
    }
   },
   "cell_type": "markdown",
   "id": "b97ed251",
   "metadata": {
    "slideshow": {
     "slide_type": "slide"
    }
   },
   "source": [
    ">> ### <a name=\"AU02\"></a> Methode Interquartile\n",
    "[Table des matières](#Table_des_matières)\n",
    "![image.png](attachment:image.png)"
   ]
  },
  {
   "cell_type": "code",
   "execution_count": 40,
   "id": "ffd46774",
   "metadata": {
    "slideshow": {
     "slide_type": "slide"
    }
   },
   "outputs": [
    {
     "data": {
      "text/plain": [
       "count    714.000000\n",
       "mean      32.493137\n",
       "std       27.810525\n",
       "min        5.200000\n",
       "25%       14.100000\n",
       "50%       23.550000\n",
       "75%       42.175000\n",
       "max      225.000000\n",
       "Name: price, dtype: float64"
      ]
     },
     "execution_count": 40,
     "metadata": {},
     "output_type": "execute_result"
    }
   ],
   "source": [
    "nouvelERP['price'].describe()"
   ]
  },
  {
   "cell_type": "code",
   "execution_count": 41,
   "id": "ab5fb0b0",
   "metadata": {
    "scrolled": true,
    "slideshow": {
     "slide_type": "slide"
    }
   },
   "outputs": [
    {
     "name": "stdout",
     "output_type": "stream",
     "text": [
      "Le 1er quartile est de 14.1 € et le Le 3ème quartile est de 42.18 €\n",
      "\n",
      "l'écart Interquartille est de 28.08 € et la médiane est de 23.55 €\n",
      "\n",
      "La valeur de la moustache supérieure est de 84.3 €\n",
      "\n",
      "La valeur de la moustache Inférieure est de -28.02 €\n",
      "\n",
      "il y a 32 prix qui sont au délà du 3ème quartile\n"
     ]
    }
   ],
   "source": [
    "# calculer les quartiles\n",
    "Quartile25pourcent = numpy.round(numpy.quantile(nouvelERP['price'],0.25),2)\n",
    "Quartile75pourcent = numpy.round(numpy.quantile(nouvelERP['price'],0.75),2)\n",
    "EcartInterquartille = Quartile75pourcent - Quartile25pourcent\n",
    "print(\"Le 1er quartile est de\", Quartile25pourcent, \"€ et le Le 3ème quartile est de\", Quartile75pourcent, \"€\\n\" )\n",
    "print(\"l'écart Interquartille est de\", EcartInterquartille, \"€ et la médiane est de\", nouvelERP['price'].median(), \"€\\n\" )\n",
    "# Calculer la fin de la moustache de droite\n",
    "moustacheSup = numpy.round(Quartile75pourcent + 1.5 * (Quartile75pourcent- Quartile25pourcent ),2)\n",
    "moustacheInf = numpy.round(Quartile25pourcent - 1.5 * (Quartile75pourcent- Quartile25pourcent ),2)\n",
    "print(\"La valeur de la moustache supérieure est de\", moustacheSup, \"€\\n\" )\n",
    "print(\"La valeur de la moustache Inférieure est de\", moustacheInf,\"€\\n\" )\n",
    "# Nombre de valeurs en anomalie\n",
    "anomalies = nouvelERP.loc[nouvelERP['price'] >= moustacheSup ]\n",
    "prixSansAnomalies = nouvelERP.loc[nouvelERP['price'] < moustacheSup ]\n",
    "print(\"il y a\", len(anomalies), \"prix qui sont au délà du 3ème quartile\") #A corriger au délà de la moustache ?\n"
   ]
  },
  {
   "cell_type": "code",
   "execution_count": 42,
   "id": "d420c9c4",
   "metadata": {
    "slideshow": {
     "slide_type": "slide"
    }
   },
   "outputs": [],
   "source": [
    "# Suppression des colonnes inutiles\n",
    "listeColonneASupprimer = ['onsale_web', 'stock_quantity', 'stock_status', 'post_excerpt', 'post_name'] \n",
    "anomalies = anomalies.drop(listeColonneASupprimer,axis = 1)"
   ]
  },
  {
   "cell_type": "code",
   "execution_count": 43,
   "id": "0b1e9577",
   "metadata": {},
   "outputs": [
    {
     "name": "stdout",
     "output_type": "stream",
     "text": [
      "Il y a 32 anomalies dans la liste des prix\n"
     ]
    }
   ],
   "source": [
    "anomalies = anomalies.sort_values(by=[\"price\"], ascending=False)\n",
    "listeAnomalies2 = anomalies['price']\n",
    "print(\"Il y a\", len(listeAnomalies2), \"anomalies dans la liste des prix\")"
   ]
  },
  {
   "cell_type": "code",
   "execution_count": 44,
   "id": "d5290126",
   "metadata": {
    "slideshow": {
     "slide_type": "slide"
    }
   },
   "outputs": [
    {
     "data": {
      "text/plain": [
       "200    225.0\n",
       "434    217.5\n",
       "601    191.3\n",
       "219    176.0\n",
       "566    175.0\n",
       "222    157.0\n",
       "387    137.0\n",
       "661    135.0\n",
       "202    126.5\n",
       "524    124.8\n",
       "617    122.0\n",
       "673    121.0\n",
       "676    121.0\n",
       "667    116.4\n",
       "672    115.0\n",
       "675    115.0\n",
       "618    114.0\n",
       "447    112.0\n",
       "229    109.6\n",
       "220    108.5\n",
       "666    105.6\n",
       "439    105.0\n",
       "440    105.0\n",
       "223    104.0\n",
       "386    102.3\n",
       "63     100.0\n",
       "674     99.0\n",
       "616     93.0\n",
       "514     92.0\n",
       "65      88.4\n",
       "448     86.8\n",
       "206     85.6\n",
       "Name: price, dtype: float64"
      ]
     },
     "execution_count": 44,
     "metadata": {},
     "output_type": "execute_result"
    }
   ],
   "source": [
    "listeAnomalies2"
   ]
  },
  {
   "cell_type": "code",
   "execution_count": 45,
   "id": "475a82ec",
   "metadata": {
    "slideshow": {
     "slide_type": "slide"
    }
   },
   "outputs": [
    {
     "name": "stdout",
     "output_type": "stream",
     "text": [
      "le chiffre d'affaire total est de ces anomalies est de 6.97 K€ soit 9.88% du CA\n"
     ]
    }
   ],
   "source": [
    "#chiffre d'affaire des ces anomalies\n",
    "chiffreAffaireAnomalie= numpy.round(anomalies['chiffre_affaire'].sum()/1000,2)\n",
    "partAnomaliesCATotal = numpy.round(chiffreAffaireAnomalie / chiffreAffaireTotal,4)\n",
    "print(\"le chiffre d'affaire total est de ces anomalies est de\", chiffreAffaireAnomalie, \"K€\", \"soit\", \"{:.2%}\".format(partAnomaliesCATotal), \"du CA\" ) "
   ]
  },
  {
   "cell_type": "markdown",
   "id": "8bba7540",
   "metadata": {
    "slideshow": {
     "slide_type": "slide"
    }
   },
   "source": [
    ">> ### <a name=\"AU03\"></a> Methode Graphique avec Nuage de point\n",
    "[Table des matières](#Table_des_matières)"
   ]
  },
  {
   "cell_type": "code",
   "execution_count": 46,
   "id": "9d0c7d14",
   "metadata": {
    "slideshow": {
     "slide_type": "slide"
    }
   },
   "outputs": [
    {
     "data": {
      "text/html": [
       "<div>\n",
       "<style scoped>\n",
       "    .dataframe tbody tr th:only-of-type {\n",
       "        vertical-align: middle;\n",
       "    }\n",
       "\n",
       "    .dataframe tbody tr th {\n",
       "        vertical-align: top;\n",
       "    }\n",
       "\n",
       "    .dataframe thead th {\n",
       "        text-align: right;\n",
       "    }\n",
       "</style>\n",
       "<table border=\"1\" class=\"dataframe\">\n",
       "  <thead>\n",
       "    <tr style=\"text-align: right;\">\n",
       "      <th></th>\n",
       "      <th>product_id</th>\n",
       "      <th>id_web</th>\n",
       "      <th>onsale_web</th>\n",
       "      <th>price</th>\n",
       "      <th>stock_quantity</th>\n",
       "      <th>stock_status</th>\n",
       "      <th>total_sales</th>\n",
       "      <th>post_title</th>\n",
       "      <th>post_excerpt</th>\n",
       "      <th>post_name</th>\n",
       "      <th>chiffre_affaire</th>\n",
       "      <th>z-score</th>\n",
       "    </tr>\n",
       "  </thead>\n",
       "  <tbody>\n",
       "    <tr>\n",
       "      <th>0</th>\n",
       "      <td>3847.0</td>\n",
       "      <td>15298</td>\n",
       "      <td>1.0</td>\n",
       "      <td>24.2</td>\n",
       "      <td>0.0</td>\n",
       "      <td>outofstock</td>\n",
       "      <td>6.0</td>\n",
       "      <td>Pierre Jean Villa Saint-Joseph Préface 2018</td>\n",
       "      <td>Il exhale un nez subtil, racé avec du poivre f...</td>\n",
       "      <td>pierre-jean-villa-saint-joseph-preface-2018</td>\n",
       "      <td>145.2</td>\n",
       "      <td>-0.298309</td>\n",
       "    </tr>\n",
       "    <tr>\n",
       "      <th>1</th>\n",
       "      <td>3849.0</td>\n",
       "      <td>15296</td>\n",
       "      <td>1.0</td>\n",
       "      <td>34.3</td>\n",
       "      <td>0.0</td>\n",
       "      <td>outofstock</td>\n",
       "      <td>0.0</td>\n",
       "      <td>Pierre Jean Villa Saint-Joseph Rouge Tildé 2017</td>\n",
       "      <td>Les vieilles vignes lui apportent une rare pro...</td>\n",
       "      <td>pierre-jean-villa-saint-joseph-tilde-2017</td>\n",
       "      <td>0.0</td>\n",
       "      <td>0.065131</td>\n",
       "    </tr>\n",
       "    <tr>\n",
       "      <th>2</th>\n",
       "      <td>3850.0</td>\n",
       "      <td>15300</td>\n",
       "      <td>1.0</td>\n",
       "      <td>20.8</td>\n",
       "      <td>0.0</td>\n",
       "      <td>outofstock</td>\n",
       "      <td>0.0</td>\n",
       "      <td>Pierre Jean Villa Crozes-Hermitage Accroche Co...</td>\n",
       "      <td>Dentelle de fruit de jeunes syrah, aux tanins ...</td>\n",
       "      <td>pierre-jean-villa-croze-hermitage-accroche-coe...</td>\n",
       "      <td>0.0</td>\n",
       "      <td>-0.420655</td>\n",
       "    </tr>\n",
       "    <tr>\n",
       "      <th>3</th>\n",
       "      <td>4032.0</td>\n",
       "      <td>19814</td>\n",
       "      <td>1.0</td>\n",
       "      <td>14.1</td>\n",
       "      <td>0.0</td>\n",
       "      <td>outofstock</td>\n",
       "      <td>3.0</td>\n",
       "      <td>Pierre Jean Villa IGP Collines Rhodaniennes Ga...</td>\n",
       "      <td>Gamine représente tout le fruité et la gourman...</td>\n",
       "      <td>pierre-jean-villa-igp-gamine-2018</td>\n",
       "      <td>42.3</td>\n",
       "      <td>-0.661749</td>\n",
       "    </tr>\n",
       "    <tr>\n",
       "      <th>4</th>\n",
       "      <td>4039.0</td>\n",
       "      <td>19815</td>\n",
       "      <td>1.0</td>\n",
       "      <td>46.0</td>\n",
       "      <td>0.0</td>\n",
       "      <td>outofstock</td>\n",
       "      <td>0.0</td>\n",
       "      <td>Pierre Jean Villa Côte Rôtie Carmina 2017</td>\n",
       "      <td>Le côte rôtie Carmina monte en puissance mais ...</td>\n",
       "      <td>pierre-jean-villa-cote-rotie-carmina-2017</td>\n",
       "      <td>0.0</td>\n",
       "      <td>0.486146</td>\n",
       "    </tr>\n",
       "    <tr>\n",
       "      <th>...</th>\n",
       "      <td>...</td>\n",
       "      <td>...</td>\n",
       "      <td>...</td>\n",
       "      <td>...</td>\n",
       "      <td>...</td>\n",
       "      <td>...</td>\n",
       "      <td>...</td>\n",
       "      <td>...</td>\n",
       "      <td>...</td>\n",
       "      <td>...</td>\n",
       "      <td>...</td>\n",
       "      <td>...</td>\n",
       "    </tr>\n",
       "    <tr>\n",
       "      <th>728</th>\n",
       "      <td>6930.0</td>\n",
       "      <td>16135</td>\n",
       "      <td>1.0</td>\n",
       "      <td>8.4</td>\n",
       "      <td>83.0</td>\n",
       "      <td>instock</td>\n",
       "      <td>5.0</td>\n",
       "      <td>Mouthes Le Bihan Côtes de Duras L'Aimé Chai 2015</td>\n",
       "      <td>Belle robe jeune à dominante rubis soutenue. N...</td>\n",
       "      <td>mouthes-le-bihan-aime-chai-2015</td>\n",
       "      <td>42.0</td>\n",
       "      <td>-0.866859</td>\n",
       "    </tr>\n",
       "    <tr>\n",
       "      <th>729</th>\n",
       "      <td>7023.0</td>\n",
       "      <td>15891</td>\n",
       "      <td>1.0</td>\n",
       "      <td>27.5</td>\n",
       "      <td>15.0</td>\n",
       "      <td>instock</td>\n",
       "      <td>0.0</td>\n",
       "      <td>Camin Larredya Jurançon Sec La Virada 2018</td>\n",
       "      <td>L'exotisme du nez est complété par d'élégantes...</td>\n",
       "      <td>camin-larredya-jurancon-sec-la-virada-2018</td>\n",
       "      <td>0.0</td>\n",
       "      <td>-0.179561</td>\n",
       "    </tr>\n",
       "    <tr>\n",
       "      <th>730</th>\n",
       "      <td>7025.0</td>\n",
       "      <td>15887</td>\n",
       "      <td>1.0</td>\n",
       "      <td>69.0</td>\n",
       "      <td>2.0</td>\n",
       "      <td>instock</td>\n",
       "      <td>0.0</td>\n",
       "      <td>Domaine Jamet Côte Rôtie Fructus Voluptas 2018</td>\n",
       "      <td>Pour cette cuvée, Jean-Paul Jamet recherche un...</td>\n",
       "      <td>jamet-cote-rotie-fructus-voluptas-2018</td>\n",
       "      <td>0.0</td>\n",
       "      <td>1.313782</td>\n",
       "    </tr>\n",
       "    <tr>\n",
       "      <th>731</th>\n",
       "      <td>7247.0</td>\n",
       "      <td>13127-1</td>\n",
       "      <td>1.0</td>\n",
       "      <td>54.8</td>\n",
       "      <td>23.0</td>\n",
       "      <td>instock</td>\n",
       "      <td>0.0</td>\n",
       "      <td>Clos du Mont-Olivet Châteauneuf-du-Pape 2007</td>\n",
       "      <td>Nez gracieux, très élégant avec une touche flo...</td>\n",
       "      <td>clos-du-mont-olivet-chateauneuf-du-pape-2007-2</td>\n",
       "      <td>0.0</td>\n",
       "      <td>0.802807</td>\n",
       "    </tr>\n",
       "    <tr>\n",
       "      <th>733</th>\n",
       "      <td>7338.0</td>\n",
       "      <td>16230</td>\n",
       "      <td>1.0</td>\n",
       "      <td>16.3</td>\n",
       "      <td>45.0</td>\n",
       "      <td>instock</td>\n",
       "      <td>0.0</td>\n",
       "      <td>Domaine Saint-Nicolas Vin de France Blanc Les ...</td>\n",
       "      <td>Issu d'un assemblage de chenin blanc et de cha...</td>\n",
       "      <td>domaine-saint-nicolas-fiefs-vendeens-blanc-les...</td>\n",
       "      <td>0.0</td>\n",
       "      <td>-0.582584</td>\n",
       "    </tr>\n",
       "  </tbody>\n",
       "</table>\n",
       "<p>682 rows × 12 columns</p>\n",
       "</div>"
      ],
      "text/plain": [
       "    product_id   id_web  onsale_web  price  stock_quantity stock_status  \\\n",
       "0       3847.0    15298         1.0   24.2             0.0   outofstock   \n",
       "1       3849.0    15296         1.0   34.3             0.0   outofstock   \n",
       "2       3850.0    15300         1.0   20.8             0.0   outofstock   \n",
       "3       4032.0    19814         1.0   14.1             0.0   outofstock   \n",
       "4       4039.0    19815         1.0   46.0             0.0   outofstock   \n",
       "..         ...      ...         ...    ...             ...          ...   \n",
       "728     6930.0    16135         1.0    8.4            83.0      instock   \n",
       "729     7023.0    15891         1.0   27.5            15.0      instock   \n",
       "730     7025.0    15887         1.0   69.0             2.0      instock   \n",
       "731     7247.0  13127-1         1.0   54.8            23.0      instock   \n",
       "733     7338.0    16230         1.0   16.3            45.0      instock   \n",
       "\n",
       "     total_sales                                         post_title  \\\n",
       "0            6.0        Pierre Jean Villa Saint-Joseph Préface 2018   \n",
       "1            0.0    Pierre Jean Villa Saint-Joseph Rouge Tildé 2017   \n",
       "2            0.0  Pierre Jean Villa Crozes-Hermitage Accroche Co...   \n",
       "3            3.0  Pierre Jean Villa IGP Collines Rhodaniennes Ga...   \n",
       "4            0.0          Pierre Jean Villa Côte Rôtie Carmina 2017   \n",
       "..           ...                                                ...   \n",
       "728          5.0   Mouthes Le Bihan Côtes de Duras L'Aimé Chai 2015   \n",
       "729          0.0         Camin Larredya Jurançon Sec La Virada 2018   \n",
       "730          0.0     Domaine Jamet Côte Rôtie Fructus Voluptas 2018   \n",
       "731          0.0       Clos du Mont-Olivet Châteauneuf-du-Pape 2007   \n",
       "733          0.0  Domaine Saint-Nicolas Vin de France Blanc Les ...   \n",
       "\n",
       "                                          post_excerpt  \\\n",
       "0    Il exhale un nez subtil, racé avec du poivre f...   \n",
       "1    Les vieilles vignes lui apportent une rare pro...   \n",
       "2    Dentelle de fruit de jeunes syrah, aux tanins ...   \n",
       "3    Gamine représente tout le fruité et la gourman...   \n",
       "4    Le côte rôtie Carmina monte en puissance mais ...   \n",
       "..                                                 ...   \n",
       "728  Belle robe jeune à dominante rubis soutenue. N...   \n",
       "729  L'exotisme du nez est complété par d'élégantes...   \n",
       "730  Pour cette cuvée, Jean-Paul Jamet recherche un...   \n",
       "731  Nez gracieux, très élégant avec une touche flo...   \n",
       "733  Issu d'un assemblage de chenin blanc et de cha...   \n",
       "\n",
       "                                             post_name  chiffre_affaire  \\\n",
       "0          pierre-jean-villa-saint-joseph-preface-2018            145.2   \n",
       "1            pierre-jean-villa-saint-joseph-tilde-2017              0.0   \n",
       "2    pierre-jean-villa-croze-hermitage-accroche-coe...              0.0   \n",
       "3                    pierre-jean-villa-igp-gamine-2018             42.3   \n",
       "4            pierre-jean-villa-cote-rotie-carmina-2017              0.0   \n",
       "..                                                 ...              ...   \n",
       "728                    mouthes-le-bihan-aime-chai-2015             42.0   \n",
       "729         camin-larredya-jurancon-sec-la-virada-2018              0.0   \n",
       "730             jamet-cote-rotie-fructus-voluptas-2018              0.0   \n",
       "731     clos-du-mont-olivet-chateauneuf-du-pape-2007-2              0.0   \n",
       "733  domaine-saint-nicolas-fiefs-vendeens-blanc-les...              0.0   \n",
       "\n",
       "      z-score  \n",
       "0   -0.298309  \n",
       "1    0.065131  \n",
       "2   -0.420655  \n",
       "3   -0.661749  \n",
       "4    0.486146  \n",
       "..        ...  \n",
       "728 -0.866859  \n",
       "729 -0.179561  \n",
       "730  1.313782  \n",
       "731  0.802807  \n",
       "733 -0.582584  \n",
       "\n",
       "[682 rows x 12 columns]"
      ]
     },
     "execution_count": 46,
     "metadata": {},
     "output_type": "execute_result"
    }
   ],
   "source": [
    "prixSansAnomalies"
   ]
  },
  {
   "cell_type": "code",
   "execution_count": 47,
   "id": "a8a86c28",
   "metadata": {
    "slideshow": {
     "slide_type": "slide"
    }
   },
   "outputs": [
    {
     "data": {
      "image/png": "[encoded data removed]",
      "text/plain": [
       "<Figure size 1600x800 with 1 Axes>"
      ]
     },
     "metadata": {},
     "output_type": "display_data"
    }
   ],
   "source": [
    "#Graphique en nuage de point plot.figure()\n",
    "plot.figure(figsize = (16, 8)).patch.set_facecolor('#fff6d9')\n",
    "plot.gca().set_facecolor('#fff6d9') # Couleur de fond\n",
    "plot.gca().tick_params(colors='#861e00') # changement couleur des axes x et y\n",
    "plot.gca().spines[:].set_visible(False) # Masquage du cadre noir\n",
    "plot.scatter(prixSansAnomalies['price'].index, prixSansAnomalies['price'].values)\n",
    "plot.scatter(anomalieZscore['price'].index, anomalieZscore['price'].values, c=\"brown\")\n",
    "plot.ylim(0, 250) # Echelle de Y\n",
    "plot.title(\"Visualisation des prix et des prix en anomalie\", color = '#861e00', fontweight = 'bold') # titre du graphique\n",
    "plot.ylabel(\"prix\", color = '#861e00', fontweight = 'bold') #Titre axe des Y\n",
    "plot.show()"
   ]
  },
  {
   "cell_type": "markdown",
   "id": "fb3980b9",
   "metadata": {
    "slideshow": {
     "slide_type": "slide"
    }
   },
   "source": [
    ">> ### <a name=\"AU04\"></a> Methode Graphique avec Boxplot\n",
    "[Table des matières](#Table_des_matières)"
   ]
  },
  {
   "cell_type": "code",
   "execution_count": 48,
   "id": "b691bd2e",
   "metadata": {
    "slideshow": {
     "slide_type": "slide"
    }
   },
   "outputs": [
    {
     "data": {
      "text/plain": [
       "Text(0.5, 0, 'Prix')"
      ]
     },
     "execution_count": 48,
     "metadata": {},
     "output_type": "execute_result"
    },
    {
     "data": {
      "image/png": "[encoded data removed]",
      "text/plain": [
       "<Figure size 1600x800 with 1 Axes>"
      ]
     },
     "metadata": {},
     "output_type": "display_data"
    }
   ],
   "source": [
    "plot.figure(figsize=(16,8))\n",
    "plot.gca().set_facecolor('#fff6d9') # Couleur de fond\n",
    "plot.gca().tick_params(colors='#861e00') # changement couleur des axes x et y\n",
    "plot.gca().spines[:].set_visible(False) # Masquage du cadre noir\n",
    "sns.boxplot(x= 'price', data=nouvelERP, notch=False , #vert=False,\n",
    "            boxprops=dict(color=\"#ffbd47\"), #Couleur de fond de la boite\n",
    "            # couleur des moustaches Verticale et horizontales\n",
    "            capprops=dict(color=\"#00b0f0\"),whiskerprops=dict(color=\"#00b050\"),  \n",
    "            medianprops=dict(color=\"#861e00\"), #couleur de la médiane\"\n",
    "            #couleur et taille des marquerus\n",
    "            flierprops=dict(markerfacecolor=\"#ffbd47\", markeredgecolor=\"#861e00\", marker='D', markersize=13),) \n",
    "plot.xlim(0, 250) # Echelle de X\n",
    "plot.title(\"Boite à Moustache\", color = '#861e00', fontweight = 'bold') # titre du graphique\n",
    "plot.xlabel('Prix', color = '#861e00', fontweight = 'bold') #Titre axe des X\n",
    "plot.show()"
   ]
  },
  {
   "cell_type": "markdown",
   "id": "250bca1a",
   "metadata": {
    "slideshow": {
     "slide_type": "slide"
    }
   },
   "source": [
    "# <a name=\"Amadou\"></a> Partie 5 - Conclusion\n",
    "[Table des matières](#Table_des_matières)"
   ]
  },
  {
   "cell_type": "code",
   "execution_count": 49,
   "id": "be7c365d",
   "metadata": {},
   "outputs": [
    {
     "name": "stdout",
     "output_type": "stream",
     "text": [
      "En regardant les titres en anomalie, on s'aperçoit qu'il s'agit de grand cru ou de grande appellations pour les vins et autres spiritueux et il n'a rien de choquant à les voir dans cette catégorie de prix\n"
     ]
    }
   ],
   "source": [
    "print(\"En regardant les titres en anomalie, on s'aperçoit qu'il s'agit de grand cru ou de grande appellations pour \\\n",
    "les vins et autres spiritueux et il n'a rien de choquant à les voir dans cette catégorie de prix\")"
   ]
  },
  {
   "cell_type": "markdown",
   "id": "1d988090",
   "metadata": {
    "slideshow": {
     "slide_type": "skip"
    }
   },
   "source": [
    "# <a name=\"Table_des_matières\"></a> Partie 5 - Table des matières\n",
    "\n"
   ]
  },
  {
   "cell_type": "markdown",
   "id": "a4f71be8",
   "metadata": {
    "slideshow": {
     "slide_type": "skip"
    }
   },
   "source": [
    "##  1. Importation et Nettoyage des Données\n",
    "\n",
    "[Les Librairies utilisées](#Librairies) : Librairies utilisées\n",
    "\n",
    "[Fichier ERP](#Fichier01) : Exploration et mise en forme des données du fichier ERP \n",
    "\n",
    "[Fichier Web](#Fichier02) : Exploration et mise en forme des données du fichier Web\n",
    "\n",
    "[Fichier Liaison](#Fichier03) : Exploration et mise en forme des données du fichier Liaison\n",
    "\n",
    "\n",
    "\n",
    "## 2. Fusion des jeux de données\n",
    "\n",
    ">[Création Nouveau Dataframe](#Fusion) : Création du nouveau dataframe\n",
    "\n",
    "\n",
    "\n",
    "## 3. Analyse\n",
    "\n",
    ">[Question n°01](#Question01) : Chiffre d'Affaire par Produit\n",
    "\n",
    ">[Question n°02](#Question02) : Chiffre d'Affaire Total\n",
    "\n",
    "\n",
    "## 4. Analyse Univarié\n",
    "\n",
    ">[z-Score](#AU01) : Méthode Z-score\n",
    "\n",
    ">[Interquartilles](#AU02) : Méthode des interquartilles\n",
    "\n",
    ">[Nuage de Points](#AU03) : Méthode Graphique avec un nuage de points\n",
    "\n",
    ">[Boite à Moustaches ](#AU04) : Méthode Graphique avec une boite à Moustache\n",
    "\n",
    "\n",
    "\n",
    "\n",
    "## 5. Conclusion\n",
    "\n",
    ">[Conclusion](#Amadou) : Les prix sont-ils abérrants ?\n",
    "\n",
    "\n",
    "[Table des matières](#Table_des_matières)\n"
   ]
  }
 ],
 "metadata": {
  "celltoolbar": "Diaporama",
  "kernelspec": {
   "display_name": "Python 3 (ipykernel)",
   "language": "python",
   "name": "python3"
  },
  "language_info": {
   "codemirror_mode": {
    "name": "ipython",
    "version": 3
   },
   "file_extension": ".py",
   "mimetype": "text/x-python",
   "name": "python",
   "nbconvert_exporter": "python",
   "pygments_lexer": "ipython3",
   "version": "3.9.13"
  },
  "toc": {
   "base_numbering": 1,
   "nav_menu": {
    "height": "593px",
    "width": "449px"
   },
   "number_sections": false,
   "sideBar": true,
   "skip_h1_title": false,
   "title_cell": "Table of Contents",
   "title_sidebar": "Contents",
   "toc_cell": false,
   "toc_position": {},
   "toc_section_display": true,
   "toc_window_display": false
  }
 },
 "nbformat": 4,
 "nbformat_minor": 5
}
