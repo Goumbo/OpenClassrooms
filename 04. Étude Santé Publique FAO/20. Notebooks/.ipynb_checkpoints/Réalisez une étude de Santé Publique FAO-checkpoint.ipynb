{
 "cells": [
  {
   "cell_type": "markdown",
   "id": "0747251b",
   "metadata": {},
   "source": [
    "# <a name=\"debut\"></a> Importation des bibliothèques à utiliser"
   ]
  },
  {
   "cell_type": "code",
   "execution_count": 1,
   "id": "989a6c6c",
   "metadata": {},
   "outputs": [],
   "source": [
    "import numpy as numpy\n",
    "import pandas as panda\n",
    "import matplotlib.pyplot as plot\n",
    "import plotly.express as plotyexpress"
   ]
  },
  {
   "cell_type": "markdown",
   "id": "a45332c1",
   "metadata": {},
   "source": [
    "# Partie 1 - Importation et Nettoyage des Données\n",
    "> ##  <a name=\"aide_alimentaire\"></a> Le Fichier d'Aide Alimentaire. (aide_alimentaire.csv)\n",
    "\n",
    "> - Le pays bénéficiaire\n",
    "> - L'année\n",
    "> - Le produit\n",
    "> - La quantité qui a été comme aide alimentaire en tonnes\n",
    "\n",
    "[Retour Table des matières](#Table_des_matières)\n"
   ]
  },
  {
   "cell_type": "markdown",
   "id": "82f4b9f9",
   "metadata": {},
   "source": [
    "> #### Lecture Fichier et Affichage des 8 premières données"
   ]
  },
  {
   "cell_type": "code",
   "execution_count": 2,
   "id": "4989bac1",
   "metadata": {
    "scrolled": true
   },
   "outputs": [
    {
     "data": {
      "text/html": [
       "<div>\n",
       "<style scoped>\n",
       "    .dataframe tbody tr th:only-of-type {\n",
       "        vertical-align: middle;\n",
       "    }\n",
       "\n",
       "    .dataframe tbody tr th {\n",
       "        vertical-align: top;\n",
       "    }\n",
       "\n",
       "    .dataframe thead th {\n",
       "        text-align: right;\n",
       "    }\n",
       "</style>\n",
       "<table border=\"1\" class=\"dataframe\">\n",
       "  <thead>\n",
       "    <tr style=\"text-align: right;\">\n",
       "      <th></th>\n",
       "      <th>Pays bénéficiaire</th>\n",
       "      <th>Année</th>\n",
       "      <th>Produit</th>\n",
       "      <th>Valeur</th>\n",
       "    </tr>\n",
       "  </thead>\n",
       "  <tbody>\n",
       "    <tr>\n",
       "      <th>0</th>\n",
       "      <td>Afghanistan</td>\n",
       "      <td>2013.0</td>\n",
       "      <td>Autres non-céréales</td>\n",
       "      <td>682.0</td>\n",
       "    </tr>\n",
       "    <tr>\n",
       "      <th>1</th>\n",
       "      <td>Afghanistan</td>\n",
       "      <td>2014.0</td>\n",
       "      <td>Autres non-céréales</td>\n",
       "      <td>335.0</td>\n",
       "    </tr>\n",
       "    <tr>\n",
       "      <th>2</th>\n",
       "      <td>Afghanistan</td>\n",
       "      <td>2013.0</td>\n",
       "      <td>Blé et Farin</td>\n",
       "      <td>39224.0</td>\n",
       "    </tr>\n",
       "    <tr>\n",
       "      <th>3</th>\n",
       "      <td>Afghanistan</td>\n",
       "      <td>2014.0</td>\n",
       "      <td>Blé et Farin</td>\n",
       "      <td>15160.0</td>\n",
       "    </tr>\n",
       "    <tr>\n",
       "      <th>4</th>\n",
       "      <td>Afghanistan</td>\n",
       "      <td>2013.0</td>\n",
       "      <td>Céréales</td>\n",
       "      <td>40504.0</td>\n",
       "    </tr>\n",
       "    <tr>\n",
       "      <th>5</th>\n",
       "      <td>Afghanistan</td>\n",
       "      <td>2014.0</td>\n",
       "      <td>Céréales</td>\n",
       "      <td>15989.0</td>\n",
       "    </tr>\n",
       "    <tr>\n",
       "      <th>6</th>\n",
       "      <td>Afghanistan,2013,\"Fruits secs, total\",85</td>\n",
       "      <td>NaN</td>\n",
       "      <td>None</td>\n",
       "      <td>NaN</td>\n",
       "    </tr>\n",
       "    <tr>\n",
       "      <th>7</th>\n",
       "      <td>Afghanistan</td>\n",
       "      <td>2013.0</td>\n",
       "      <td>Huiles végétales</td>\n",
       "      <td>11087.0</td>\n",
       "    </tr>\n",
       "  </tbody>\n",
       "</table>\n",
       "</div>"
      ],
      "text/plain": [
       "                          Pays bénéficiaire   Année              Produit  \\\n",
       "0                               Afghanistan  2013.0  Autres non-céréales   \n",
       "1                               Afghanistan  2014.0  Autres non-céréales   \n",
       "2                               Afghanistan  2013.0         Blé et Farin   \n",
       "3                               Afghanistan  2014.0         Blé et Farin   \n",
       "4                               Afghanistan  2013.0             Céréales   \n",
       "5                               Afghanistan  2014.0             Céréales   \n",
       "6  Afghanistan,2013,\"Fruits secs, total\",85     NaN                 None   \n",
       "7                               Afghanistan  2013.0     Huiles végétales   \n",
       "\n",
       "    Valeur  \n",
       "0    682.0  \n",
       "1    335.0  \n",
       "2  39224.0  \n",
       "3  15160.0  \n",
       "4  40504.0  \n",
       "5  15989.0  \n",
       "6      NaN  \n",
       "7  11087.0  "
      ]
     },
     "execution_count": 2,
     "metadata": {},
     "output_type": "execute_result"
    }
   ],
   "source": [
    "# Variable du répertoire d'installation\n",
    "repertoireFichierImportation = \"F:/34. Projet 04/01_Les_Données/\" \n",
    "# variable pour le nom du fichier à impoter\n",
    "nomFicherImportation = \"aide_alimentaire.csv\"\n",
    "# Importer les données du fichiers dans le Dataframe aideAlimentaire\n",
    "aideAlimentaire = panda.read_csv(filepath_or_buffer= repertoireFichierImportation + nomFicherImportation ,sep = ',' ,header = 0, engine='python',on_bad_lines='skip')\n",
    "# Afficher les 8 premières données\n",
    "aideAlimentaire.head(8) "
   ]
  },
  {
   "cell_type": "markdown",
   "id": "0837c29f",
   "metadata": {},
   "source": [
    "> #### Types de données et Nombre de Lignes et de Colonnes du fichier"
   ]
  },
  {
   "cell_type": "code",
   "execution_count": 3,
   "id": "3330eb34",
   "metadata": {
    "scrolled": true
   },
   "outputs": [
    {
     "name": "stdout",
     "output_type": "stream",
     "text": [
      "<class 'pandas.core.frame.DataFrame'>\n",
      "RangeIndex: 1472 entries, 0 to 1471\n",
      "Data columns (total 4 columns):\n",
      " #   Column             Non-Null Count  Dtype  \n",
      "---  ------             --------------  -----  \n",
      " 0   Pays bénéficiaire  1472 non-null   object \n",
      " 1   Année              1025 non-null   float64\n",
      " 2   Produit            1025 non-null   object \n",
      " 3   Valeur             1025 non-null   float64\n",
      "dtypes: float64(2), object(2)\n",
      "memory usage: 46.1+ KB\n",
      "\n",
      "Le fichier contient 1472 Lignes et 4 Colonnes\n"
     ]
    }
   ],
   "source": [
    "# Afficher un résumé concis d'un DataFrame.\n",
    "aideAlimentaire.info(verbose=True)\n",
    "# Afficher le nombre de lignes et de colonnes\n",
    "print(\"\") #permet de passer une ligne\n",
    "print(\"Le fichier contient\", aideAlimentaire.shape[0], \"Lignes et\",aideAlimentaire.shape[1], \"Colonnes\" )"
   ]
  },
  {
   "cell_type": "markdown",
   "id": "285dcc3b",
   "metadata": {},
   "source": [
    "> #### Noms des Colonnes et Modification du  noms"
   ]
  },
  {
   "cell_type": "code",
   "execution_count": 4,
   "id": "b9d96134",
   "metadata": {},
   "outputs": [
    {
     "data": {
      "text/html": [
       "<div>\n",
       "<style scoped>\n",
       "    .dataframe tbody tr th:only-of-type {\n",
       "        vertical-align: middle;\n",
       "    }\n",
       "\n",
       "    .dataframe tbody tr th {\n",
       "        vertical-align: top;\n",
       "    }\n",
       "\n",
       "    .dataframe thead th {\n",
       "        text-align: right;\n",
       "    }\n",
       "</style>\n",
       "<table border=\"1\" class=\"dataframe\">\n",
       "  <thead>\n",
       "    <tr style=\"text-align: right;\">\n",
       "      <th></th>\n",
       "      <th>zone</th>\n",
       "      <th>année</th>\n",
       "      <th>produit</th>\n",
       "      <th>quantité_aide_alimentaire(Millions de t)</th>\n",
       "      <th>quantité_aide_alimentaire(Millons de t)</th>\n",
       "    </tr>\n",
       "  </thead>\n",
       "  <tbody>\n",
       "    <tr>\n",
       "      <th>0</th>\n",
       "      <td>Afghanistan</td>\n",
       "      <td>2013.0</td>\n",
       "      <td>Autres non-céréales</td>\n",
       "      <td>682.0</td>\n",
       "      <td>0.682</td>\n",
       "    </tr>\n",
       "    <tr>\n",
       "      <th>1</th>\n",
       "      <td>Afghanistan</td>\n",
       "      <td>2014.0</td>\n",
       "      <td>Autres non-céréales</td>\n",
       "      <td>335.0</td>\n",
       "      <td>0.335</td>\n",
       "    </tr>\n",
       "    <tr>\n",
       "      <th>2</th>\n",
       "      <td>Afghanistan</td>\n",
       "      <td>2013.0</td>\n",
       "      <td>Blé et Farin</td>\n",
       "      <td>39224.0</td>\n",
       "      <td>39.224</td>\n",
       "    </tr>\n",
       "    <tr>\n",
       "      <th>3</th>\n",
       "      <td>Afghanistan</td>\n",
       "      <td>2014.0</td>\n",
       "      <td>Blé et Farin</td>\n",
       "      <td>15160.0</td>\n",
       "      <td>15.160</td>\n",
       "    </tr>\n",
       "    <tr>\n",
       "      <th>4</th>\n",
       "      <td>Afghanistan</td>\n",
       "      <td>2013.0</td>\n",
       "      <td>Céréales</td>\n",
       "      <td>40504.0</td>\n",
       "      <td>40.504</td>\n",
       "    </tr>\n",
       "    <tr>\n",
       "      <th>5</th>\n",
       "      <td>Afghanistan</td>\n",
       "      <td>2014.0</td>\n",
       "      <td>Céréales</td>\n",
       "      <td>15989.0</td>\n",
       "      <td>15.989</td>\n",
       "    </tr>\n",
       "    <tr>\n",
       "      <th>6</th>\n",
       "      <td>Afghanistan,2013,\"Fruits secs, total\",85</td>\n",
       "      <td>NaN</td>\n",
       "      <td>None</td>\n",
       "      <td>NaN</td>\n",
       "      <td>NaN</td>\n",
       "    </tr>\n",
       "    <tr>\n",
       "      <th>7</th>\n",
       "      <td>Afghanistan</td>\n",
       "      <td>2013.0</td>\n",
       "      <td>Huiles végétales</td>\n",
       "      <td>11087.0</td>\n",
       "      <td>11.087</td>\n",
       "    </tr>\n",
       "  </tbody>\n",
       "</table>\n",
       "</div>"
      ],
      "text/plain": [
       "                                       zone   année              produit  \\\n",
       "0                               Afghanistan  2013.0  Autres non-céréales   \n",
       "1                               Afghanistan  2014.0  Autres non-céréales   \n",
       "2                               Afghanistan  2013.0         Blé et Farin   \n",
       "3                               Afghanistan  2014.0         Blé et Farin   \n",
       "4                               Afghanistan  2013.0             Céréales   \n",
       "5                               Afghanistan  2014.0             Céréales   \n",
       "6  Afghanistan,2013,\"Fruits secs, total\",85     NaN                 None   \n",
       "7                               Afghanistan  2013.0     Huiles végétales   \n",
       "\n",
       "   quantité_aide_alimentaire(Millions de t)  \\\n",
       "0                                     682.0   \n",
       "1                                     335.0   \n",
       "2                                   39224.0   \n",
       "3                                   15160.0   \n",
       "4                                   40504.0   \n",
       "5                                   15989.0   \n",
       "6                                       NaN   \n",
       "7                                   11087.0   \n",
       "\n",
       "   quantité_aide_alimentaire(Millons de t)  \n",
       "0                                    0.682  \n",
       "1                                    0.335  \n",
       "2                                   39.224  \n",
       "3                                   15.160  \n",
       "4                                   40.504  \n",
       "5                                   15.989  \n",
       "6                                      NaN  \n",
       "7                                   11.087  "
      ]
     },
     "execution_count": 4,
     "metadata": {},
     "output_type": "execute_result"
    }
   ],
   "source": [
    "# Remettre les noms des colonnes en minuscules\n",
    "aideAlimentaire.columns = aideAlimentaire.columns.str.lower()\n",
    "# Remplacer le nom de la colonne Valeur par quantité aide alimentaire\n",
    "aideAlimentaire = aideAlimentaire.rename(columns={'valeur':'quantité_aide_alimentaire(Millions de t)'})\n",
    "# Remplacer le nom de colonne de 'pays bénéficiaire'\n",
    "aideAlimentaire = aideAlimentaire.rename(columns={'pays bénéficiaire':'zone'})\n",
    "# Changer l'unité pour passer de millers à millions\n",
    "aideAlimentaire['quantité_aide_alimentaire(Millons de t)'] = aideAlimentaire['quantité_aide_alimentaire(Millions de t)'] /1000\n",
    "# Remplacer Swaziland par Eswatini\n",
    "aideAlimentaire['zone'] = aideAlimentaire['zone'].replace(['Swaziland'],['Eswatini'])\n",
    "# Afficher les changement.\n",
    "aideAlimentaire.head(8) "
   ]
  },
  {
   "cell_type": "markdown",
   "id": "f29e3fb8",
   "metadata": {},
   "source": [
    "> #### Nb de Doublons et Nb de Valeurs Manquantes"
   ]
  },
  {
   "cell_type": "code",
   "execution_count": 5,
   "id": "dbe2c4d6",
   "metadata": {},
   "outputs": [
    {
     "name": "stdout",
     "output_type": "stream",
     "text": [
      "Le nombre de doublon dans cette table est de 0\n",
      "\n",
      "Le nombre de valeur manquante par colonne dans cette table est de\n"
     ]
    },
    {
     "data": {
      "text/plain": [
       "zone                                          0\n",
       "année                                       447\n",
       "produit                                     447\n",
       "quantité_aide_alimentaire(Millions de t)    447\n",
       "quantité_aide_alimentaire(Millons de t)     447\n",
       "dtype: int64"
      ]
     },
     "execution_count": 5,
     "metadata": {},
     "output_type": "execute_result"
    }
   ],
   "source": [
    "# Trouver le nombre des doublons en filtrant sur les 3 premières colonnes\n",
    "doublon = aideAlimentaire.duplicated(['zone','année','produit']).sum()\n",
    "print(\"Le nombre de doublon dans cette table est de\" , doublon)\n",
    "print(\"\")\n",
    "\n",
    "# Trouver le nombre de Valeur manquante\n",
    "print(\"Le nombre de valeur manquante par colonne dans cette table est de\")\n",
    "aideAlimentaire.isnull().sum()\n",
    "#print(\"Le nombre de valeur manquante par colonne dans cette table est de\" , valeurManquante)\n",
    "#print(\"\")"
   ]
  },
  {
   "cell_type": "markdown",
   "id": "d1801b64",
   "metadata": {},
   "source": [
    "> ## <a name=\"population\"></a> Le Fichier de Population. (population.csv)\n",
    "\n",
    ">> - Le pays\n",
    ">> - L'année\n",
    ">> - La Population du pays, exprimée en milliers d'habitants\n",
    "\n",
    "[Retour Table des matières](#Table_des_matières)\n"
   ]
  },
  {
   "cell_type": "markdown",
   "id": "894cc459",
   "metadata": {},
   "source": [
    "> #### Lecture Fichier et Affichage des 8 premières données"
   ]
  },
  {
   "cell_type": "code",
   "execution_count": 6,
   "id": "96edfe21",
   "metadata": {},
   "outputs": [
    {
     "data": {
      "text/html": [
       "<div>\n",
       "<style scoped>\n",
       "    .dataframe tbody tr th:only-of-type {\n",
       "        vertical-align: middle;\n",
       "    }\n",
       "\n",
       "    .dataframe tbody tr th {\n",
       "        vertical-align: top;\n",
       "    }\n",
       "\n",
       "    .dataframe thead th {\n",
       "        text-align: right;\n",
       "    }\n",
       "</style>\n",
       "<table border=\"1\" class=\"dataframe\">\n",
       "  <thead>\n",
       "    <tr style=\"text-align: right;\">\n",
       "      <th></th>\n",
       "      <th>Zone</th>\n",
       "      <th>Année</th>\n",
       "      <th>Valeur</th>\n",
       "    </tr>\n",
       "  </thead>\n",
       "  <tbody>\n",
       "    <tr>\n",
       "      <th>0</th>\n",
       "      <td>Afghanistan</td>\n",
       "      <td>2013</td>\n",
       "      <td>32269.589</td>\n",
       "    </tr>\n",
       "    <tr>\n",
       "      <th>1</th>\n",
       "      <td>Afghanistan</td>\n",
       "      <td>2014</td>\n",
       "      <td>33370.794</td>\n",
       "    </tr>\n",
       "    <tr>\n",
       "      <th>2</th>\n",
       "      <td>Afghanistan</td>\n",
       "      <td>2015</td>\n",
       "      <td>34413.603</td>\n",
       "    </tr>\n",
       "    <tr>\n",
       "      <th>3</th>\n",
       "      <td>Afghanistan</td>\n",
       "      <td>2016</td>\n",
       "      <td>35383.032</td>\n",
       "    </tr>\n",
       "    <tr>\n",
       "      <th>4</th>\n",
       "      <td>Afghanistan</td>\n",
       "      <td>2017</td>\n",
       "      <td>36296.113</td>\n",
       "    </tr>\n",
       "    <tr>\n",
       "      <th>5</th>\n",
       "      <td>Afghanistan</td>\n",
       "      <td>2018</td>\n",
       "      <td>37171.921</td>\n",
       "    </tr>\n",
       "    <tr>\n",
       "      <th>6</th>\n",
       "      <td>Afrique du Sud</td>\n",
       "      <td>2013</td>\n",
       "      <td>53687.121</td>\n",
       "    </tr>\n",
       "    <tr>\n",
       "      <th>7</th>\n",
       "      <td>Afrique du Sud</td>\n",
       "      <td>2014</td>\n",
       "      <td>54544.186</td>\n",
       "    </tr>\n",
       "  </tbody>\n",
       "</table>\n",
       "</div>"
      ],
      "text/plain": [
       "             Zone  Année     Valeur\n",
       "0     Afghanistan   2013  32269.589\n",
       "1     Afghanistan   2014  33370.794\n",
       "2     Afghanistan   2015  34413.603\n",
       "3     Afghanistan   2016  35383.032\n",
       "4     Afghanistan   2017  36296.113\n",
       "5     Afghanistan   2018  37171.921\n",
       "6  Afrique du Sud   2013  53687.121\n",
       "7  Afrique du Sud   2014  54544.186"
      ]
     },
     "execution_count": 6,
     "metadata": {},
     "output_type": "execute_result"
    }
   ],
   "source": [
    "# variable pour le nom du fichier à impoter\n",
    "nomFicherImportation = \"population.csv\"\n",
    "# Importer les données du fichiers\n",
    "population = panda.read_csv(filepath_or_buffer= repertoireFichierImportation + nomFicherImportation ,sep = ',' ,header = 0)\n",
    "# Afficher le dataframe\n",
    "population.head(8) "
   ]
  },
  {
   "cell_type": "markdown",
   "id": "1e9e166f",
   "metadata": {},
   "source": [
    "> #### Types de données et Nombre de Lignes et de Colonnes du fichier"
   ]
  },
  {
   "cell_type": "code",
   "execution_count": 7,
   "id": "08a66131",
   "metadata": {},
   "outputs": [
    {
     "name": "stdout",
     "output_type": "stream",
     "text": [
      "<class 'pandas.core.frame.DataFrame'>\n",
      "RangeIndex: 1416 entries, 0 to 1415\n",
      "Data columns (total 3 columns):\n",
      " #   Column  Non-Null Count  Dtype  \n",
      "---  ------  --------------  -----  \n",
      " 0   Zone    1416 non-null   object \n",
      " 1   Année   1416 non-null   int64  \n",
      " 2   Valeur  1416 non-null   float64\n",
      "dtypes: float64(1), int64(1), object(1)\n",
      "memory usage: 33.3+ KB\n",
      "\n",
      "Le fichier contient 1416 Lignes et 3 Colonnes\n"
     ]
    }
   ],
   "source": [
    "# Afficher un résumé concis d'un DataFrame.\n",
    "population.info(verbose=True)\n",
    "# Afficher le nombre de lignes et de colonnes\n",
    "print(\"\") #permet de passer une ligne\n",
    "print(\"Le fichier contient\", population.shape[0], \"Lignes et\",population.shape[1], \"Colonnes\" )"
   ]
  },
  {
   "cell_type": "markdown",
   "id": "2b492985",
   "metadata": {},
   "source": [
    "> #### Noms des Colonnes et Modification du  noms"
   ]
  },
  {
   "cell_type": "code",
   "execution_count": 8,
   "id": "106c4b64",
   "metadata": {},
   "outputs": [
    {
     "data": {
      "text/html": [
       "<div>\n",
       "<style scoped>\n",
       "    .dataframe tbody tr th:only-of-type {\n",
       "        vertical-align: middle;\n",
       "    }\n",
       "\n",
       "    .dataframe tbody tr th {\n",
       "        vertical-align: top;\n",
       "    }\n",
       "\n",
       "    .dataframe thead th {\n",
       "        text-align: right;\n",
       "    }\n",
       "</style>\n",
       "<table border=\"1\" class=\"dataframe\">\n",
       "  <thead>\n",
       "    <tr style=\"text-align: right;\">\n",
       "      <th></th>\n",
       "      <th>zone</th>\n",
       "      <th>année</th>\n",
       "      <th>population_en_millions</th>\n",
       "    </tr>\n",
       "  </thead>\n",
       "  <tbody>\n",
       "    <tr>\n",
       "      <th>0</th>\n",
       "      <td>Afghanistan</td>\n",
       "      <td>2013</td>\n",
       "      <td>32.269589</td>\n",
       "    </tr>\n",
       "    <tr>\n",
       "      <th>1</th>\n",
       "      <td>Afghanistan</td>\n",
       "      <td>2014</td>\n",
       "      <td>33.370794</td>\n",
       "    </tr>\n",
       "    <tr>\n",
       "      <th>2</th>\n",
       "      <td>Afghanistan</td>\n",
       "      <td>2015</td>\n",
       "      <td>34.413603</td>\n",
       "    </tr>\n",
       "    <tr>\n",
       "      <th>3</th>\n",
       "      <td>Afghanistan</td>\n",
       "      <td>2016</td>\n",
       "      <td>35.383032</td>\n",
       "    </tr>\n",
       "    <tr>\n",
       "      <th>4</th>\n",
       "      <td>Afghanistan</td>\n",
       "      <td>2017</td>\n",
       "      <td>36.296113</td>\n",
       "    </tr>\n",
       "    <tr>\n",
       "      <th>5</th>\n",
       "      <td>Afghanistan</td>\n",
       "      <td>2018</td>\n",
       "      <td>37.171921</td>\n",
       "    </tr>\n",
       "    <tr>\n",
       "      <th>6</th>\n",
       "      <td>Afrique du Sud</td>\n",
       "      <td>2013</td>\n",
       "      <td>53.687121</td>\n",
       "    </tr>\n",
       "    <tr>\n",
       "      <th>7</th>\n",
       "      <td>Afrique du Sud</td>\n",
       "      <td>2014</td>\n",
       "      <td>54.544186</td>\n",
       "    </tr>\n",
       "  </tbody>\n",
       "</table>\n",
       "</div>"
      ],
      "text/plain": [
       "             zone  année  population_en_millions\n",
       "0     Afghanistan   2013               32.269589\n",
       "1     Afghanistan   2014               33.370794\n",
       "2     Afghanistan   2015               34.413603\n",
       "3     Afghanistan   2016               35.383032\n",
       "4     Afghanistan   2017               36.296113\n",
       "5     Afghanistan   2018               37.171921\n",
       "6  Afrique du Sud   2013               53.687121\n",
       "7  Afrique du Sud   2014               54.544186"
      ]
     },
     "execution_count": 8,
     "metadata": {},
     "output_type": "execute_result"
    }
   ],
   "source": [
    "# Remettre les noms des colonnes en minuscules\n",
    "population.columns = population.columns.str.lower()\n",
    "# Remplacer le nom de la colonne Valeur par Population\n",
    "population = population.rename(columns={'valeur':'population_en_millions'})\n",
    "# Changer l'unité pour passer de millers à millions\n",
    "population['population_en_millions'] = population['population_en_millions'] /1000\n",
    "# Afficher les changements.\n",
    "population.head(8) "
   ]
  },
  {
   "cell_type": "markdown",
   "id": "22957137",
   "metadata": {},
   "source": [
    "> #### Nb de Doublons et Nb de Valeurs Manquantes "
   ]
  },
  {
   "cell_type": "code",
   "execution_count": 9,
   "id": "b43a3fa3",
   "metadata": {},
   "outputs": [
    {
     "name": "stdout",
     "output_type": "stream",
     "text": [
      "Le nombre de doublon dans cette table est de 0\n",
      "\n",
      "Le nombre de valeur manquante par colonne dans cette table est de\n"
     ]
    },
    {
     "data": {
      "text/plain": [
       "zone                      0\n",
       "année                     0\n",
       "population_en_millions    0\n",
       "dtype: int64"
      ]
     },
     "execution_count": 9,
     "metadata": {},
     "output_type": "execute_result"
    }
   ],
   "source": [
    "# Trouver le nombre des doublons en filtrant sur les 2 premières colonnes\n",
    "doublon = population.duplicated(['zone','année']).sum()\n",
    "print(\"Le nombre de doublon dans cette table est de\" , doublon)\n",
    "print(\"\")\n",
    "# Trouver le nombre de Valeur manquante\n",
    "print(\"Le nombre de valeur manquante par colonne dans cette table est de\")\n",
    "population.isnull().sum()\n"
   ]
  },
  {
   "cell_type": "markdown",
   "id": "2e14b8cc",
   "metadata": {},
   "source": [
    "> ## <a name=\"Sous_Nutrition\"></a> Le Fichier d'insécurité Alimentaire. (sous_nutrition.csv)\n",
    "\n",
    ">> - Le pays\n",
    ">> - Intervalle d'années\n",
    ">> - Le nombre de personne en sous-alimentation en millions d'habitants\n",
    "\n",
    "[Retour Table des matières](#Table_des_matières)"
   ]
  },
  {
   "cell_type": "markdown",
   "id": "cfa3c9dc",
   "metadata": {},
   "source": [
    "> #### Lecture Fichier et Affichage des 8 premières données"
   ]
  },
  {
   "cell_type": "code",
   "execution_count": 10,
   "id": "1095b310",
   "metadata": {},
   "outputs": [
    {
     "data": {
      "text/html": [
       "<div>\n",
       "<style scoped>\n",
       "    .dataframe tbody tr th:only-of-type {\n",
       "        vertical-align: middle;\n",
       "    }\n",
       "\n",
       "    .dataframe tbody tr th {\n",
       "        vertical-align: top;\n",
       "    }\n",
       "\n",
       "    .dataframe thead th {\n",
       "        text-align: right;\n",
       "    }\n",
       "</style>\n",
       "<table border=\"1\" class=\"dataframe\">\n",
       "  <thead>\n",
       "    <tr style=\"text-align: right;\">\n",
       "      <th></th>\n",
       "      <th>Zone</th>\n",
       "      <th>Année</th>\n",
       "      <th>Valeur</th>\n",
       "    </tr>\n",
       "  </thead>\n",
       "  <tbody>\n",
       "    <tr>\n",
       "      <th>0</th>\n",
       "      <td>Afghanistan</td>\n",
       "      <td>2012-2014</td>\n",
       "      <td>8.6</td>\n",
       "    </tr>\n",
       "    <tr>\n",
       "      <th>1</th>\n",
       "      <td>Afghanistan</td>\n",
       "      <td>2013-2015</td>\n",
       "      <td>8.8</td>\n",
       "    </tr>\n",
       "    <tr>\n",
       "      <th>2</th>\n",
       "      <td>Afghanistan</td>\n",
       "      <td>2014-2016</td>\n",
       "      <td>8.9</td>\n",
       "    </tr>\n",
       "    <tr>\n",
       "      <th>3</th>\n",
       "      <td>Afghanistan</td>\n",
       "      <td>2015-2017</td>\n",
       "      <td>9.7</td>\n",
       "    </tr>\n",
       "    <tr>\n",
       "      <th>4</th>\n",
       "      <td>Afghanistan</td>\n",
       "      <td>2016-2018</td>\n",
       "      <td>10.5</td>\n",
       "    </tr>\n",
       "    <tr>\n",
       "      <th>5</th>\n",
       "      <td>Afghanistan</td>\n",
       "      <td>2017-2019</td>\n",
       "      <td>11.1</td>\n",
       "    </tr>\n",
       "    <tr>\n",
       "      <th>6</th>\n",
       "      <td>Afrique du Sud</td>\n",
       "      <td>2012-2014</td>\n",
       "      <td>2.2</td>\n",
       "    </tr>\n",
       "    <tr>\n",
       "      <th>7</th>\n",
       "      <td>Afrique du Sud</td>\n",
       "      <td>2013-2015</td>\n",
       "      <td>2.5</td>\n",
       "    </tr>\n",
       "    <tr>\n",
       "      <th>8</th>\n",
       "      <td>Afrique du Sud</td>\n",
       "      <td>2014-2016</td>\n",
       "      <td>2.8</td>\n",
       "    </tr>\n",
       "    <tr>\n",
       "      <th>9</th>\n",
       "      <td>Afrique du Sud</td>\n",
       "      <td>2015-2017</td>\n",
       "      <td>3</td>\n",
       "    </tr>\n",
       "    <tr>\n",
       "      <th>10</th>\n",
       "      <td>Afrique du Sud</td>\n",
       "      <td>2016-2018</td>\n",
       "      <td>3.1</td>\n",
       "    </tr>\n",
       "    <tr>\n",
       "      <th>11</th>\n",
       "      <td>Afrique du Sud</td>\n",
       "      <td>2017-2019</td>\n",
       "      <td>3.3</td>\n",
       "    </tr>\n",
       "    <tr>\n",
       "      <th>12</th>\n",
       "      <td>Albanie</td>\n",
       "      <td>2012-2014</td>\n",
       "      <td>0.1</td>\n",
       "    </tr>\n",
       "    <tr>\n",
       "      <th>13</th>\n",
       "      <td>Albanie</td>\n",
       "      <td>2013-2015</td>\n",
       "      <td>0.1</td>\n",
       "    </tr>\n",
       "    <tr>\n",
       "      <th>14</th>\n",
       "      <td>Albanie</td>\n",
       "      <td>2014-2016</td>\n",
       "      <td>0.1</td>\n",
       "    </tr>\n",
       "    <tr>\n",
       "      <th>15</th>\n",
       "      <td>Albanie</td>\n",
       "      <td>2015-2017</td>\n",
       "      <td>0.1</td>\n",
       "    </tr>\n",
       "    <tr>\n",
       "      <th>16</th>\n",
       "      <td>Albanie</td>\n",
       "      <td>2016-2018</td>\n",
       "      <td>0.1</td>\n",
       "    </tr>\n",
       "    <tr>\n",
       "      <th>17</th>\n",
       "      <td>Albanie</td>\n",
       "      <td>2017-2019</td>\n",
       "      <td>0.1</td>\n",
       "    </tr>\n",
       "    <tr>\n",
       "      <th>18</th>\n",
       "      <td>Algérie</td>\n",
       "      <td>2012-2014</td>\n",
       "      <td>1.3</td>\n",
       "    </tr>\n",
       "    <tr>\n",
       "      <th>19</th>\n",
       "      <td>Algérie</td>\n",
       "      <td>2013-2015</td>\n",
       "      <td>1.3</td>\n",
       "    </tr>\n",
       "    <tr>\n",
       "      <th>20</th>\n",
       "      <td>Algérie</td>\n",
       "      <td>2014-2016</td>\n",
       "      <td>1.3</td>\n",
       "    </tr>\n",
       "    <tr>\n",
       "      <th>21</th>\n",
       "      <td>Algérie</td>\n",
       "      <td>2015-2017</td>\n",
       "      <td>1.3</td>\n",
       "    </tr>\n",
       "    <tr>\n",
       "      <th>22</th>\n",
       "      <td>Algérie</td>\n",
       "      <td>2016-2018</td>\n",
       "      <td>1.3</td>\n",
       "    </tr>\n",
       "    <tr>\n",
       "      <th>23</th>\n",
       "      <td>Algérie</td>\n",
       "      <td>2017-2019</td>\n",
       "      <td>1.2</td>\n",
       "    </tr>\n",
       "    <tr>\n",
       "      <th>24</th>\n",
       "      <td>Allemagne</td>\n",
       "      <td>2012-2014</td>\n",
       "      <td>NaN</td>\n",
       "    </tr>\n",
       "    <tr>\n",
       "      <th>25</th>\n",
       "      <td>Allemagne</td>\n",
       "      <td>2013-2015</td>\n",
       "      <td>NaN</td>\n",
       "    </tr>\n",
       "    <tr>\n",
       "      <th>26</th>\n",
       "      <td>Allemagne</td>\n",
       "      <td>2014-2016</td>\n",
       "      <td>NaN</td>\n",
       "    </tr>\n",
       "    <tr>\n",
       "      <th>27</th>\n",
       "      <td>Allemagne</td>\n",
       "      <td>2015-2017</td>\n",
       "      <td>NaN</td>\n",
       "    </tr>\n",
       "    <tr>\n",
       "      <th>28</th>\n",
       "      <td>Allemagne</td>\n",
       "      <td>2016-2018</td>\n",
       "      <td>NaN</td>\n",
       "    </tr>\n",
       "    <tr>\n",
       "      <th>29</th>\n",
       "      <td>Allemagne</td>\n",
       "      <td>2017-2019</td>\n",
       "      <td>NaN</td>\n",
       "    </tr>\n",
       "    <tr>\n",
       "      <th>30</th>\n",
       "      <td>Andorre</td>\n",
       "      <td>2012-2014</td>\n",
       "      <td>NaN</td>\n",
       "    </tr>\n",
       "    <tr>\n",
       "      <th>31</th>\n",
       "      <td>Andorre</td>\n",
       "      <td>2013-2015</td>\n",
       "      <td>NaN</td>\n",
       "    </tr>\n",
       "    <tr>\n",
       "      <th>32</th>\n",
       "      <td>Andorre</td>\n",
       "      <td>2014-2016</td>\n",
       "      <td>NaN</td>\n",
       "    </tr>\n",
       "    <tr>\n",
       "      <th>33</th>\n",
       "      <td>Andorre</td>\n",
       "      <td>2015-2017</td>\n",
       "      <td>NaN</td>\n",
       "    </tr>\n",
       "    <tr>\n",
       "      <th>34</th>\n",
       "      <td>Andorre</td>\n",
       "      <td>2016-2018</td>\n",
       "      <td>NaN</td>\n",
       "    </tr>\n",
       "    <tr>\n",
       "      <th>35</th>\n",
       "      <td>Andorre</td>\n",
       "      <td>2017-2019</td>\n",
       "      <td>NaN</td>\n",
       "    </tr>\n",
       "    <tr>\n",
       "      <th>36</th>\n",
       "      <td>Angola</td>\n",
       "      <td>2012-2014</td>\n",
       "      <td>7.6</td>\n",
       "    </tr>\n",
       "    <tr>\n",
       "      <th>37</th>\n",
       "      <td>Angola</td>\n",
       "      <td>2013-2015</td>\n",
       "      <td>6.2</td>\n",
       "    </tr>\n",
       "    <tr>\n",
       "      <th>38</th>\n",
       "      <td>Angola</td>\n",
       "      <td>2014-2016</td>\n",
       "      <td>5.3</td>\n",
       "    </tr>\n",
       "    <tr>\n",
       "      <th>39</th>\n",
       "      <td>Angola</td>\n",
       "      <td>2015-2017</td>\n",
       "      <td>5.6</td>\n",
       "    </tr>\n",
       "    <tr>\n",
       "      <th>40</th>\n",
       "      <td>Angola</td>\n",
       "      <td>2016-2018</td>\n",
       "      <td>5.8</td>\n",
       "    </tr>\n",
       "    <tr>\n",
       "      <th>41</th>\n",
       "      <td>Angola</td>\n",
       "      <td>2017-2019</td>\n",
       "      <td>5.7</td>\n",
       "    </tr>\n",
       "    <tr>\n",
       "      <th>42</th>\n",
       "      <td>Antigua-et-Barbuda</td>\n",
       "      <td>2012-2014</td>\n",
       "      <td>NaN</td>\n",
       "    </tr>\n",
       "    <tr>\n",
       "      <th>43</th>\n",
       "      <td>Antigua-et-Barbuda</td>\n",
       "      <td>2013-2015</td>\n",
       "      <td>NaN</td>\n",
       "    </tr>\n",
       "    <tr>\n",
       "      <th>44</th>\n",
       "      <td>Antigua-et-Barbuda</td>\n",
       "      <td>2014-2016</td>\n",
       "      <td>NaN</td>\n",
       "    </tr>\n",
       "    <tr>\n",
       "      <th>45</th>\n",
       "      <td>Antigua-et-Barbuda</td>\n",
       "      <td>2015-2017</td>\n",
       "      <td>NaN</td>\n",
       "    </tr>\n",
       "    <tr>\n",
       "      <th>46</th>\n",
       "      <td>Antigua-et-Barbuda</td>\n",
       "      <td>2016-2018</td>\n",
       "      <td>NaN</td>\n",
       "    </tr>\n",
       "    <tr>\n",
       "      <th>47</th>\n",
       "      <td>Antigua-et-Barbuda</td>\n",
       "      <td>2017-2019</td>\n",
       "      <td>NaN</td>\n",
       "    </tr>\n",
       "    <tr>\n",
       "      <th>48</th>\n",
       "      <td>Arabie saoudite</td>\n",
       "      <td>2012-2014</td>\n",
       "      <td>1.5</td>\n",
       "    </tr>\n",
       "    <tr>\n",
       "      <th>49</th>\n",
       "      <td>Arabie saoudite</td>\n",
       "      <td>2013-2015</td>\n",
       "      <td>1.5</td>\n",
       "    </tr>\n",
       "    <tr>\n",
       "      <th>50</th>\n",
       "      <td>Arabie saoudite</td>\n",
       "      <td>2014-2016</td>\n",
       "      <td>1.5</td>\n",
       "    </tr>\n",
       "    <tr>\n",
       "      <th>51</th>\n",
       "      <td>Arabie saoudite</td>\n",
       "      <td>2015-2017</td>\n",
       "      <td>1.5</td>\n",
       "    </tr>\n",
       "    <tr>\n",
       "      <th>52</th>\n",
       "      <td>Arabie saoudite</td>\n",
       "      <td>2016-2018</td>\n",
       "      <td>1.6</td>\n",
       "    </tr>\n",
       "    <tr>\n",
       "      <th>53</th>\n",
       "      <td>Arabie saoudite</td>\n",
       "      <td>2017-2019</td>\n",
       "      <td>1.6</td>\n",
       "    </tr>\n",
       "    <tr>\n",
       "      <th>54</th>\n",
       "      <td>Argentine</td>\n",
       "      <td>2012-2014</td>\n",
       "      <td>1.2</td>\n",
       "    </tr>\n",
       "    <tr>\n",
       "      <th>55</th>\n",
       "      <td>Argentine</td>\n",
       "      <td>2013-2015</td>\n",
       "      <td>NaN</td>\n",
       "    </tr>\n",
       "    <tr>\n",
       "      <th>56</th>\n",
       "      <td>Argentine</td>\n",
       "      <td>2014-2016</td>\n",
       "      <td>1.1</td>\n",
       "    </tr>\n",
       "    <tr>\n",
       "      <th>57</th>\n",
       "      <td>Argentine</td>\n",
       "      <td>2015-2017</td>\n",
       "      <td>1.3</td>\n",
       "    </tr>\n",
       "    <tr>\n",
       "      <th>58</th>\n",
       "      <td>Argentine</td>\n",
       "      <td>2016-2018</td>\n",
       "      <td>1.5</td>\n",
       "    </tr>\n",
       "    <tr>\n",
       "      <th>59</th>\n",
       "      <td>Argentine</td>\n",
       "      <td>2017-2019</td>\n",
       "      <td>1.7</td>\n",
       "    </tr>\n",
       "  </tbody>\n",
       "</table>\n",
       "</div>"
      ],
      "text/plain": [
       "                  Zone      Année Valeur\n",
       "0          Afghanistan  2012-2014    8.6\n",
       "1          Afghanistan  2013-2015    8.8\n",
       "2          Afghanistan  2014-2016    8.9\n",
       "3          Afghanistan  2015-2017    9.7\n",
       "4          Afghanistan  2016-2018   10.5\n",
       "5          Afghanistan  2017-2019   11.1\n",
       "6       Afrique du Sud  2012-2014    2.2\n",
       "7       Afrique du Sud  2013-2015    2.5\n",
       "8       Afrique du Sud  2014-2016    2.8\n",
       "9       Afrique du Sud  2015-2017      3\n",
       "10      Afrique du Sud  2016-2018    3.1\n",
       "11      Afrique du Sud  2017-2019    3.3\n",
       "12             Albanie  2012-2014    0.1\n",
       "13             Albanie  2013-2015    0.1\n",
       "14             Albanie  2014-2016    0.1\n",
       "15             Albanie  2015-2017    0.1\n",
       "16             Albanie  2016-2018    0.1\n",
       "17             Albanie  2017-2019    0.1\n",
       "18             Algérie  2012-2014    1.3\n",
       "19             Algérie  2013-2015    1.3\n",
       "20             Algérie  2014-2016    1.3\n",
       "21             Algérie  2015-2017    1.3\n",
       "22             Algérie  2016-2018    1.3\n",
       "23             Algérie  2017-2019    1.2\n",
       "24           Allemagne  2012-2014    NaN\n",
       "25           Allemagne  2013-2015    NaN\n",
       "26           Allemagne  2014-2016    NaN\n",
       "27           Allemagne  2015-2017    NaN\n",
       "28           Allemagne  2016-2018    NaN\n",
       "29           Allemagne  2017-2019    NaN\n",
       "30             Andorre  2012-2014    NaN\n",
       "31             Andorre  2013-2015    NaN\n",
       "32             Andorre  2014-2016    NaN\n",
       "33             Andorre  2015-2017    NaN\n",
       "34             Andorre  2016-2018    NaN\n",
       "35             Andorre  2017-2019    NaN\n",
       "36              Angola  2012-2014    7.6\n",
       "37              Angola  2013-2015    6.2\n",
       "38              Angola  2014-2016    5.3\n",
       "39              Angola  2015-2017    5.6\n",
       "40              Angola  2016-2018    5.8\n",
       "41              Angola  2017-2019    5.7\n",
       "42  Antigua-et-Barbuda  2012-2014    NaN\n",
       "43  Antigua-et-Barbuda  2013-2015    NaN\n",
       "44  Antigua-et-Barbuda  2014-2016    NaN\n",
       "45  Antigua-et-Barbuda  2015-2017    NaN\n",
       "46  Antigua-et-Barbuda  2016-2018    NaN\n",
       "47  Antigua-et-Barbuda  2017-2019    NaN\n",
       "48     Arabie saoudite  2012-2014    1.5\n",
       "49     Arabie saoudite  2013-2015    1.5\n",
       "50     Arabie saoudite  2014-2016    1.5\n",
       "51     Arabie saoudite  2015-2017    1.5\n",
       "52     Arabie saoudite  2016-2018    1.6\n",
       "53     Arabie saoudite  2017-2019    1.6\n",
       "54           Argentine  2012-2014    1.2\n",
       "55           Argentine  2013-2015    NaN\n",
       "56           Argentine  2014-2016    1.1\n",
       "57           Argentine  2015-2017    1.3\n",
       "58           Argentine  2016-2018    1.5\n",
       "59           Argentine  2017-2019    1.7"
      ]
     },
     "execution_count": 10,
     "metadata": {},
     "output_type": "execute_result"
    }
   ],
   "source": [
    "#variable pour le nom du fichier à impoter\n",
    "nomFicherImportation = \"sous_nutrition.csv\"\n",
    "# Importer les données du fichiers ()\n",
    "sousNutrition = panda.read_csv(filepath_or_buffer= repertoireFichierImportation + nomFicherImportation ,sep = ',' ,header = 0 )\n",
    "# Afficher le dataframe\n",
    "sousNutrition.head(60) "
   ]
  },
  {
   "cell_type": "markdown",
   "id": "63c07911",
   "metadata": {},
   "source": [
    "> #### Types de données et Nombre de Lignes et de Colonnes du fichier"
   ]
  },
  {
   "cell_type": "code",
   "execution_count": 11,
   "id": "afa2ea0c",
   "metadata": {},
   "outputs": [
    {
     "name": "stdout",
     "output_type": "stream",
     "text": [
      "<class 'pandas.core.frame.DataFrame'>\n",
      "RangeIndex: 1218 entries, 0 to 1217\n",
      "Data columns (total 3 columns):\n",
      " #   Column  Non-Null Count  Dtype \n",
      "---  ------  --------------  ----- \n",
      " 0   Zone    1218 non-null   object\n",
      " 1   Année   1218 non-null   object\n",
      " 2   Valeur  624 non-null    object\n",
      "dtypes: object(3)\n",
      "memory usage: 28.7+ KB\n",
      "\n",
      "Le fichier contient 1218 Lignes et 3 Colonnes\n"
     ]
    }
   ],
   "source": [
    "# Afficher un résumé concis d'un DataFrame.\n",
    "sousNutrition.info(verbose=True)\n",
    "# Afficher le nombre de lignes et de colonnes\n",
    "print(\"\") #permet de passer une ligne\n",
    "print(\"Le fichier contient\", sousNutrition.shape[0], \"Lignes et\",sousNutrition.shape[1], \"Colonnes\" )"
   ]
  },
  {
   "cell_type": "markdown",
   "id": "3367701b",
   "metadata": {},
   "source": [
    "> #### Noms des Colonnes et Modification du  noms"
   ]
  },
  {
   "cell_type": "code",
   "execution_count": 12,
   "id": "beef398b",
   "metadata": {},
   "outputs": [
    {
     "name": "stdout",
     "output_type": "stream",
     "text": [
      "La colonne Année contient les valeurs suivantes : ['2012-2014' '2013-2015' '2014-2016' '2015-2017' '2016-2018' '2017-2019']\n"
     ]
    }
   ],
   "source": [
    "# Remettre les noms des colonnes en minuscules\n",
    "sousNutrition.columns = sousNutrition.columns.str.lower()\n",
    "# Remplacer le nom de la colonne Valeur par Population\n",
    "sousNutrition = sousNutrition.rename(columns={'valeur':'nb_de_Personnes_en_sous_nutrition_(millions)'})\n",
    "# Afficher les valeurs uniques de la colonne \"Année\" du Dataframe sousNutrition\n",
    "print(\"La colonne Année contient les valeurs suivantes :\", sousNutrition['année'].unique())\n"
   ]
  },
  {
   "cell_type": "code",
   "execution_count": 13,
   "id": "fe7d64a7",
   "metadata": {},
   "outputs": [
    {
     "name": "stdout",
     "output_type": "stream",
     "text": [
      "<class 'pandas.core.frame.DataFrame'>\n",
      "RangeIndex: 1218 entries, 0 to 1217\n",
      "Data columns (total 3 columns):\n",
      " #   Column                                        Non-Null Count  Dtype \n",
      "---  ------                                        --------------  ----- \n",
      " 0   zone                                          1218 non-null   object\n",
      " 1   année                                         1218 non-null   int64 \n",
      " 2   nb_de_Personnes_en_sous_nutrition_(millions)  624 non-null    object\n",
      "dtypes: int64(1), object(2)\n",
      "memory usage: 28.7+ KB\n"
     ]
    }
   ],
   "source": [
    "# Remplacer les valeurs de Année \n",
    "sousNutrition['année'] = sousNutrition['année'].replace(['2012-2014', '2013-2015','2014-2016','2015-2017','2016-2018',\n",
    "    '2017-2019'],['2013', '2014','2015','2016','2017','2018'])\n",
    "# Changer le type gt la colonne Année en int à la place d'object\n",
    "sousNutrition['année']= sousNutrition['année'].astype(int)\n",
    "# Afficher un résumé concis d'un DataFrame.\n",
    "sousNutrition.info()"
   ]
  },
  {
   "cell_type": "code",
   "execution_count": 14,
   "id": "def2632d",
   "metadata": {
    "scrolled": true
   },
   "outputs": [
    {
     "data": {
      "text/html": [
       "<div>\n",
       "<style scoped>\n",
       "    .dataframe tbody tr th:only-of-type {\n",
       "        vertical-align: middle;\n",
       "    }\n",
       "\n",
       "    .dataframe tbody tr th {\n",
       "        vertical-align: top;\n",
       "    }\n",
       "\n",
       "    .dataframe thead th {\n",
       "        text-align: right;\n",
       "    }\n",
       "</style>\n",
       "<table border=\"1\" class=\"dataframe\">\n",
       "  <thead>\n",
       "    <tr style=\"text-align: right;\">\n",
       "      <th></th>\n",
       "      <th>zone</th>\n",
       "      <th>année</th>\n",
       "      <th>nb_de_Personnes_en_sous_nutrition_(millions)</th>\n",
       "    </tr>\n",
       "  </thead>\n",
       "  <tbody>\n",
       "    <tr>\n",
       "      <th>0</th>\n",
       "      <td>Afghanistan</td>\n",
       "      <td>2013</td>\n",
       "      <td>8.6</td>\n",
       "    </tr>\n",
       "    <tr>\n",
       "      <th>1</th>\n",
       "      <td>Afghanistan</td>\n",
       "      <td>2014</td>\n",
       "      <td>8.8</td>\n",
       "    </tr>\n",
       "    <tr>\n",
       "      <th>2</th>\n",
       "      <td>Afghanistan</td>\n",
       "      <td>2015</td>\n",
       "      <td>8.9</td>\n",
       "    </tr>\n",
       "    <tr>\n",
       "      <th>3</th>\n",
       "      <td>Afghanistan</td>\n",
       "      <td>2016</td>\n",
       "      <td>9.7</td>\n",
       "    </tr>\n",
       "    <tr>\n",
       "      <th>4</th>\n",
       "      <td>Afghanistan</td>\n",
       "      <td>2017</td>\n",
       "      <td>10.5</td>\n",
       "    </tr>\n",
       "    <tr>\n",
       "      <th>5</th>\n",
       "      <td>Afghanistan</td>\n",
       "      <td>2018</td>\n",
       "      <td>11.1</td>\n",
       "    </tr>\n",
       "    <tr>\n",
       "      <th>6</th>\n",
       "      <td>Afrique du Sud</td>\n",
       "      <td>2013</td>\n",
       "      <td>2.2</td>\n",
       "    </tr>\n",
       "    <tr>\n",
       "      <th>7</th>\n",
       "      <td>Afrique du Sud</td>\n",
       "      <td>2014</td>\n",
       "      <td>2.5</td>\n",
       "    </tr>\n",
       "    <tr>\n",
       "      <th>8</th>\n",
       "      <td>Afrique du Sud</td>\n",
       "      <td>2015</td>\n",
       "      <td>2.8</td>\n",
       "    </tr>\n",
       "    <tr>\n",
       "      <th>9</th>\n",
       "      <td>Afrique du Sud</td>\n",
       "      <td>2016</td>\n",
       "      <td>3.0</td>\n",
       "    </tr>\n",
       "    <tr>\n",
       "      <th>10</th>\n",
       "      <td>Afrique du Sud</td>\n",
       "      <td>2017</td>\n",
       "      <td>3.1</td>\n",
       "    </tr>\n",
       "    <tr>\n",
       "      <th>11</th>\n",
       "      <td>Afrique du Sud</td>\n",
       "      <td>2018</td>\n",
       "      <td>3.3</td>\n",
       "    </tr>\n",
       "    <tr>\n",
       "      <th>12</th>\n",
       "      <td>Albanie</td>\n",
       "      <td>2013</td>\n",
       "      <td>0.1</td>\n",
       "    </tr>\n",
       "    <tr>\n",
       "      <th>13</th>\n",
       "      <td>Albanie</td>\n",
       "      <td>2014</td>\n",
       "      <td>0.1</td>\n",
       "    </tr>\n",
       "    <tr>\n",
       "      <th>14</th>\n",
       "      <td>Albanie</td>\n",
       "      <td>2015</td>\n",
       "      <td>0.1</td>\n",
       "    </tr>\n",
       "    <tr>\n",
       "      <th>15</th>\n",
       "      <td>Albanie</td>\n",
       "      <td>2016</td>\n",
       "      <td>0.1</td>\n",
       "    </tr>\n",
       "    <tr>\n",
       "      <th>16</th>\n",
       "      <td>Albanie</td>\n",
       "      <td>2017</td>\n",
       "      <td>0.1</td>\n",
       "    </tr>\n",
       "    <tr>\n",
       "      <th>17</th>\n",
       "      <td>Albanie</td>\n",
       "      <td>2018</td>\n",
       "      <td>0.1</td>\n",
       "    </tr>\n",
       "    <tr>\n",
       "      <th>18</th>\n",
       "      <td>Algérie</td>\n",
       "      <td>2013</td>\n",
       "      <td>1.3</td>\n",
       "    </tr>\n",
       "    <tr>\n",
       "      <th>19</th>\n",
       "      <td>Algérie</td>\n",
       "      <td>2014</td>\n",
       "      <td>1.3</td>\n",
       "    </tr>\n",
       "    <tr>\n",
       "      <th>20</th>\n",
       "      <td>Algérie</td>\n",
       "      <td>2015</td>\n",
       "      <td>1.3</td>\n",
       "    </tr>\n",
       "    <tr>\n",
       "      <th>21</th>\n",
       "      <td>Algérie</td>\n",
       "      <td>2016</td>\n",
       "      <td>1.3</td>\n",
       "    </tr>\n",
       "    <tr>\n",
       "      <th>22</th>\n",
       "      <td>Algérie</td>\n",
       "      <td>2017</td>\n",
       "      <td>1.3</td>\n",
       "    </tr>\n",
       "    <tr>\n",
       "      <th>23</th>\n",
       "      <td>Algérie</td>\n",
       "      <td>2018</td>\n",
       "      <td>1.2</td>\n",
       "    </tr>\n",
       "    <tr>\n",
       "      <th>24</th>\n",
       "      <td>Allemagne</td>\n",
       "      <td>2013</td>\n",
       "      <td>NaN</td>\n",
       "    </tr>\n",
       "    <tr>\n",
       "      <th>25</th>\n",
       "      <td>Allemagne</td>\n",
       "      <td>2014</td>\n",
       "      <td>NaN</td>\n",
       "    </tr>\n",
       "    <tr>\n",
       "      <th>26</th>\n",
       "      <td>Allemagne</td>\n",
       "      <td>2015</td>\n",
       "      <td>NaN</td>\n",
       "    </tr>\n",
       "    <tr>\n",
       "      <th>27</th>\n",
       "      <td>Allemagne</td>\n",
       "      <td>2016</td>\n",
       "      <td>NaN</td>\n",
       "    </tr>\n",
       "    <tr>\n",
       "      <th>28</th>\n",
       "      <td>Allemagne</td>\n",
       "      <td>2017</td>\n",
       "      <td>NaN</td>\n",
       "    </tr>\n",
       "    <tr>\n",
       "      <th>29</th>\n",
       "      <td>Allemagne</td>\n",
       "      <td>2018</td>\n",
       "      <td>NaN</td>\n",
       "    </tr>\n",
       "    <tr>\n",
       "      <th>30</th>\n",
       "      <td>Andorre</td>\n",
       "      <td>2013</td>\n",
       "      <td>NaN</td>\n",
       "    </tr>\n",
       "    <tr>\n",
       "      <th>31</th>\n",
       "      <td>Andorre</td>\n",
       "      <td>2014</td>\n",
       "      <td>NaN</td>\n",
       "    </tr>\n",
       "    <tr>\n",
       "      <th>32</th>\n",
       "      <td>Andorre</td>\n",
       "      <td>2015</td>\n",
       "      <td>NaN</td>\n",
       "    </tr>\n",
       "    <tr>\n",
       "      <th>33</th>\n",
       "      <td>Andorre</td>\n",
       "      <td>2016</td>\n",
       "      <td>NaN</td>\n",
       "    </tr>\n",
       "    <tr>\n",
       "      <th>34</th>\n",
       "      <td>Andorre</td>\n",
       "      <td>2017</td>\n",
       "      <td>NaN</td>\n",
       "    </tr>\n",
       "    <tr>\n",
       "      <th>35</th>\n",
       "      <td>Andorre</td>\n",
       "      <td>2018</td>\n",
       "      <td>NaN</td>\n",
       "    </tr>\n",
       "    <tr>\n",
       "      <th>36</th>\n",
       "      <td>Angola</td>\n",
       "      <td>2013</td>\n",
       "      <td>7.6</td>\n",
       "    </tr>\n",
       "    <tr>\n",
       "      <th>37</th>\n",
       "      <td>Angola</td>\n",
       "      <td>2014</td>\n",
       "      <td>6.2</td>\n",
       "    </tr>\n",
       "    <tr>\n",
       "      <th>38</th>\n",
       "      <td>Angola</td>\n",
       "      <td>2015</td>\n",
       "      <td>5.3</td>\n",
       "    </tr>\n",
       "    <tr>\n",
       "      <th>39</th>\n",
       "      <td>Angola</td>\n",
       "      <td>2016</td>\n",
       "      <td>5.6</td>\n",
       "    </tr>\n",
       "    <tr>\n",
       "      <th>40</th>\n",
       "      <td>Angola</td>\n",
       "      <td>2017</td>\n",
       "      <td>5.8</td>\n",
       "    </tr>\n",
       "    <tr>\n",
       "      <th>41</th>\n",
       "      <td>Angola</td>\n",
       "      <td>2018</td>\n",
       "      <td>5.7</td>\n",
       "    </tr>\n",
       "    <tr>\n",
       "      <th>42</th>\n",
       "      <td>Antigua-et-Barbuda</td>\n",
       "      <td>2013</td>\n",
       "      <td>NaN</td>\n",
       "    </tr>\n",
       "    <tr>\n",
       "      <th>43</th>\n",
       "      <td>Antigua-et-Barbuda</td>\n",
       "      <td>2014</td>\n",
       "      <td>NaN</td>\n",
       "    </tr>\n",
       "    <tr>\n",
       "      <th>44</th>\n",
       "      <td>Antigua-et-Barbuda</td>\n",
       "      <td>2015</td>\n",
       "      <td>NaN</td>\n",
       "    </tr>\n",
       "    <tr>\n",
       "      <th>45</th>\n",
       "      <td>Antigua-et-Barbuda</td>\n",
       "      <td>2016</td>\n",
       "      <td>NaN</td>\n",
       "    </tr>\n",
       "    <tr>\n",
       "      <th>46</th>\n",
       "      <td>Antigua-et-Barbuda</td>\n",
       "      <td>2017</td>\n",
       "      <td>NaN</td>\n",
       "    </tr>\n",
       "    <tr>\n",
       "      <th>47</th>\n",
       "      <td>Antigua-et-Barbuda</td>\n",
       "      <td>2018</td>\n",
       "      <td>NaN</td>\n",
       "    </tr>\n",
       "    <tr>\n",
       "      <th>48</th>\n",
       "      <td>Arabie saoudite</td>\n",
       "      <td>2013</td>\n",
       "      <td>1.5</td>\n",
       "    </tr>\n",
       "    <tr>\n",
       "      <th>49</th>\n",
       "      <td>Arabie saoudite</td>\n",
       "      <td>2014</td>\n",
       "      <td>1.5</td>\n",
       "    </tr>\n",
       "    <tr>\n",
       "      <th>50</th>\n",
       "      <td>Arabie saoudite</td>\n",
       "      <td>2015</td>\n",
       "      <td>1.5</td>\n",
       "    </tr>\n",
       "    <tr>\n",
       "      <th>51</th>\n",
       "      <td>Arabie saoudite</td>\n",
       "      <td>2016</td>\n",
       "      <td>1.5</td>\n",
       "    </tr>\n",
       "    <tr>\n",
       "      <th>52</th>\n",
       "      <td>Arabie saoudite</td>\n",
       "      <td>2017</td>\n",
       "      <td>1.6</td>\n",
       "    </tr>\n",
       "    <tr>\n",
       "      <th>53</th>\n",
       "      <td>Arabie saoudite</td>\n",
       "      <td>2018</td>\n",
       "      <td>1.6</td>\n",
       "    </tr>\n",
       "    <tr>\n",
       "      <th>54</th>\n",
       "      <td>Argentine</td>\n",
       "      <td>2013</td>\n",
       "      <td>1.2</td>\n",
       "    </tr>\n",
       "    <tr>\n",
       "      <th>55</th>\n",
       "      <td>Argentine</td>\n",
       "      <td>2014</td>\n",
       "      <td>NaN</td>\n",
       "    </tr>\n",
       "    <tr>\n",
       "      <th>56</th>\n",
       "      <td>Argentine</td>\n",
       "      <td>2015</td>\n",
       "      <td>1.1</td>\n",
       "    </tr>\n",
       "    <tr>\n",
       "      <th>57</th>\n",
       "      <td>Argentine</td>\n",
       "      <td>2016</td>\n",
       "      <td>1.3</td>\n",
       "    </tr>\n",
       "    <tr>\n",
       "      <th>58</th>\n",
       "      <td>Argentine</td>\n",
       "      <td>2017</td>\n",
       "      <td>1.5</td>\n",
       "    </tr>\n",
       "    <tr>\n",
       "      <th>59</th>\n",
       "      <td>Argentine</td>\n",
       "      <td>2018</td>\n",
       "      <td>1.7</td>\n",
       "    </tr>\n",
       "  </tbody>\n",
       "</table>\n",
       "</div>"
      ],
      "text/plain": [
       "                  zone  année  nb_de_Personnes_en_sous_nutrition_(millions)\n",
       "0          Afghanistan   2013                                           8.6\n",
       "1          Afghanistan   2014                                           8.8\n",
       "2          Afghanistan   2015                                           8.9\n",
       "3          Afghanistan   2016                                           9.7\n",
       "4          Afghanistan   2017                                          10.5\n",
       "5          Afghanistan   2018                                          11.1\n",
       "6       Afrique du Sud   2013                                           2.2\n",
       "7       Afrique du Sud   2014                                           2.5\n",
       "8       Afrique du Sud   2015                                           2.8\n",
       "9       Afrique du Sud   2016                                           3.0\n",
       "10      Afrique du Sud   2017                                           3.1\n",
       "11      Afrique du Sud   2018                                           3.3\n",
       "12             Albanie   2013                                           0.1\n",
       "13             Albanie   2014                                           0.1\n",
       "14             Albanie   2015                                           0.1\n",
       "15             Albanie   2016                                           0.1\n",
       "16             Albanie   2017                                           0.1\n",
       "17             Albanie   2018                                           0.1\n",
       "18             Algérie   2013                                           1.3\n",
       "19             Algérie   2014                                           1.3\n",
       "20             Algérie   2015                                           1.3\n",
       "21             Algérie   2016                                           1.3\n",
       "22             Algérie   2017                                           1.3\n",
       "23             Algérie   2018                                           1.2\n",
       "24           Allemagne   2013                                           NaN\n",
       "25           Allemagne   2014                                           NaN\n",
       "26           Allemagne   2015                                           NaN\n",
       "27           Allemagne   2016                                           NaN\n",
       "28           Allemagne   2017                                           NaN\n",
       "29           Allemagne   2018                                           NaN\n",
       "30             Andorre   2013                                           NaN\n",
       "31             Andorre   2014                                           NaN\n",
       "32             Andorre   2015                                           NaN\n",
       "33             Andorre   2016                                           NaN\n",
       "34             Andorre   2017                                           NaN\n",
       "35             Andorre   2018                                           NaN\n",
       "36              Angola   2013                                           7.6\n",
       "37              Angola   2014                                           6.2\n",
       "38              Angola   2015                                           5.3\n",
       "39              Angola   2016                                           5.6\n",
       "40              Angola   2017                                           5.8\n",
       "41              Angola   2018                                           5.7\n",
       "42  Antigua-et-Barbuda   2013                                           NaN\n",
       "43  Antigua-et-Barbuda   2014                                           NaN\n",
       "44  Antigua-et-Barbuda   2015                                           NaN\n",
       "45  Antigua-et-Barbuda   2016                                           NaN\n",
       "46  Antigua-et-Barbuda   2017                                           NaN\n",
       "47  Antigua-et-Barbuda   2018                                           NaN\n",
       "48     Arabie saoudite   2013                                           1.5\n",
       "49     Arabie saoudite   2014                                           1.5\n",
       "50     Arabie saoudite   2015                                           1.5\n",
       "51     Arabie saoudite   2016                                           1.5\n",
       "52     Arabie saoudite   2017                                           1.6\n",
       "53     Arabie saoudite   2018                                           1.6\n",
       "54           Argentine   2013                                           1.2\n",
       "55           Argentine   2014                                           NaN\n",
       "56           Argentine   2015                                           1.1\n",
       "57           Argentine   2016                                           1.3\n",
       "58           Argentine   2017                                           1.5\n",
       "59           Argentine   2018                                           1.7"
      ]
     },
     "execution_count": 14,
     "metadata": {},
     "output_type": "execute_result"
    }
   ],
   "source": [
    "# Remplacer les valeurs de nombre de personnes (millions)  \"<0.1\" par 0\n",
    "sousNutrition['nb_de_Personnes_en_sous_nutrition_(millions)'] = sousNutrition['nb_de_Personnes_en_sous_nutrition_(millions)'].replace(['<0.1'],['0'])\n",
    "# Changer le type de la colonne en float à la place d'object\n",
    "sousNutrition['nb_de_Personnes_en_sous_nutrition_(millions)']= sousNutrition['nb_de_Personnes_en_sous_nutrition_(millions)'].astype(float)\n",
    "# Afficher le DataFrame\n",
    "sousNutrition.head(60) "
   ]
  },
  {
   "cell_type": "markdown",
   "id": "c0c58e38",
   "metadata": {},
   "source": [
    "> #### Nb de Doublons et Nb de Valeurs Manquantes "
   ]
  },
  {
   "cell_type": "code",
   "execution_count": 15,
   "id": "d9a72e1e",
   "metadata": {},
   "outputs": [
    {
     "name": "stdout",
     "output_type": "stream",
     "text": [
      "Le nombre de doublon dans cette table est de 0\n",
      "\n",
      "Le nombre de valeur manquante par colonne dans cette table est de\n"
     ]
    },
    {
     "data": {
      "text/plain": [
       "zone                                              0\n",
       "année                                             0\n",
       "nb_de_Personnes_en_sous_nutrition_(millions)    594\n",
       "dtype: int64"
      ]
     },
     "execution_count": 15,
     "metadata": {},
     "output_type": "execute_result"
    }
   ],
   "source": [
    "# Trouver le nombre des doublons en filtrant sur les 2 premières colonnes\n",
    "doublon = sousNutrition.duplicated(['zone', 'année']).sum()\n",
    "print(\"Le nombre de doublon dans cette table est de\" , doublon)\n",
    "print(\"\")\n",
    "# Trouver le nombre de Valeur manquante\n",
    "print(\"Le nombre de valeur manquante par colonne dans cette table est de\")\n",
    "sousNutrition.isnull().sum()\n"
   ]
  },
  {
   "cell_type": "markdown",
   "id": "01b5ada7",
   "metadata": {},
   "source": [
    "> ## <a name=\"Dispo_Alimentaire\"></a> Le Fichier de disponibilité alimentaire. (dispo_alimentaire.csv)\n",
    "\n",
    ">> - Le pays\n",
    ">> - Le produit\n",
    ">> - 4 variables de disponibilité alimentaire. Ces 4 variables sont exprimées dans des unités bien spécifiques, qui sont précisées directement dans le nom de la variable. À noter cependant que la notation kcal est un abus de langage, elle correspond à une calorie réelle.\n",
    ">> - 10 variables qui précisent les utilisations/moyens d’acquisition de la disponibilité alimentaire. Elles sont toutes exprimées en milliers de tonnes.\n",
    ">> - Enfin, une variable type qui précise si le produit est d’origine animale ou végétale.\n",
    "\n",
    "[Retour Table des matières](#Table_des_matières)"
   ]
  },
  {
   "cell_type": "markdown",
   "id": "52321fc8",
   "metadata": {},
   "source": [
    "> #### Lecture Fichier et affichage des 8 premières données"
   ]
  },
  {
   "cell_type": "code",
   "execution_count": 16,
   "id": "4afc50af",
   "metadata": {
    "scrolled": true
   },
   "outputs": [
    {
     "data": {
      "text/html": [
       "<div>\n",
       "<style scoped>\n",
       "    .dataframe tbody tr th:only-of-type {\n",
       "        vertical-align: middle;\n",
       "    }\n",
       "\n",
       "    .dataframe tbody tr th {\n",
       "        vertical-align: top;\n",
       "    }\n",
       "\n",
       "    .dataframe thead th {\n",
       "        text-align: right;\n",
       "    }\n",
       "</style>\n",
       "<table border=\"1\" class=\"dataframe\">\n",
       "  <thead>\n",
       "    <tr style=\"text-align: right;\">\n",
       "      <th></th>\n",
       "      <th>Zone</th>\n",
       "      <th>Produit</th>\n",
       "      <th>Origine</th>\n",
       "      <th>Aliments pour animaux</th>\n",
       "      <th>Autres Utilisations</th>\n",
       "      <th>Disponibilité alimentaire (Kcal/personne/jour)</th>\n",
       "      <th>Disponibilité alimentaire en quantité (kg/personne/an)</th>\n",
       "      <th>Disponibilité de matière grasse en quantité (g/personne/jour)</th>\n",
       "      <th>Disponibilité de protéines en quantité (g/personne/jour)</th>\n",
       "      <th>Disponibilité intérieure</th>\n",
       "      <th>Exportations - Quantité</th>\n",
       "      <th>Importations - Quantité</th>\n",
       "      <th>Nourriture</th>\n",
       "      <th>Pertes</th>\n",
       "      <th>Production</th>\n",
       "      <th>Semences</th>\n",
       "      <th>Traitement</th>\n",
       "      <th>Variation de stock</th>\n",
       "    </tr>\n",
       "  </thead>\n",
       "  <tbody>\n",
       "    <tr>\n",
       "      <th>0</th>\n",
       "      <td>Afghanistan</td>\n",
       "      <td>Abats Comestible</td>\n",
       "      <td>animale</td>\n",
       "      <td>NaN</td>\n",
       "      <td>NaN</td>\n",
       "      <td>5.0</td>\n",
       "      <td>1.72</td>\n",
       "      <td>0.20</td>\n",
       "      <td>0.77</td>\n",
       "      <td>53.0</td>\n",
       "      <td>NaN</td>\n",
       "      <td>NaN</td>\n",
       "      <td>53.0</td>\n",
       "      <td>NaN</td>\n",
       "      <td>53.0</td>\n",
       "      <td>NaN</td>\n",
       "      <td>NaN</td>\n",
       "      <td>NaN</td>\n",
       "    </tr>\n",
       "    <tr>\n",
       "      <th>1</th>\n",
       "      <td>Afghanistan</td>\n",
       "      <td>Agrumes, Autres</td>\n",
       "      <td>vegetale</td>\n",
       "      <td>NaN</td>\n",
       "      <td>NaN</td>\n",
       "      <td>1.0</td>\n",
       "      <td>1.29</td>\n",
       "      <td>0.01</td>\n",
       "      <td>0.02</td>\n",
       "      <td>41.0</td>\n",
       "      <td>2.0</td>\n",
       "      <td>40.0</td>\n",
       "      <td>39.0</td>\n",
       "      <td>2.0</td>\n",
       "      <td>3.0</td>\n",
       "      <td>NaN</td>\n",
       "      <td>NaN</td>\n",
       "      <td>NaN</td>\n",
       "    </tr>\n",
       "    <tr>\n",
       "      <th>2</th>\n",
       "      <td>Afghanistan</td>\n",
       "      <td>Aliments pour enfants</td>\n",
       "      <td>vegetale</td>\n",
       "      <td>NaN</td>\n",
       "      <td>NaN</td>\n",
       "      <td>1.0</td>\n",
       "      <td>0.06</td>\n",
       "      <td>0.01</td>\n",
       "      <td>0.03</td>\n",
       "      <td>2.0</td>\n",
       "      <td>NaN</td>\n",
       "      <td>2.0</td>\n",
       "      <td>2.0</td>\n",
       "      <td>NaN</td>\n",
       "      <td>NaN</td>\n",
       "      <td>NaN</td>\n",
       "      <td>NaN</td>\n",
       "      <td>NaN</td>\n",
       "    </tr>\n",
       "    <tr>\n",
       "      <th>3</th>\n",
       "      <td>Afghanistan</td>\n",
       "      <td>Ananas</td>\n",
       "      <td>vegetale</td>\n",
       "      <td>NaN</td>\n",
       "      <td>NaN</td>\n",
       "      <td>0.0</td>\n",
       "      <td>0.00</td>\n",
       "      <td>NaN</td>\n",
       "      <td>NaN</td>\n",
       "      <td>0.0</td>\n",
       "      <td>NaN</td>\n",
       "      <td>0.0</td>\n",
       "      <td>0.0</td>\n",
       "      <td>NaN</td>\n",
       "      <td>NaN</td>\n",
       "      <td>NaN</td>\n",
       "      <td>NaN</td>\n",
       "      <td>NaN</td>\n",
       "    </tr>\n",
       "    <tr>\n",
       "      <th>4</th>\n",
       "      <td>Afghanistan</td>\n",
       "      <td>Bananes</td>\n",
       "      <td>vegetale</td>\n",
       "      <td>NaN</td>\n",
       "      <td>NaN</td>\n",
       "      <td>4.0</td>\n",
       "      <td>2.70</td>\n",
       "      <td>0.02</td>\n",
       "      <td>0.05</td>\n",
       "      <td>82.0</td>\n",
       "      <td>NaN</td>\n",
       "      <td>82.0</td>\n",
       "      <td>82.0</td>\n",
       "      <td>NaN</td>\n",
       "      <td>NaN</td>\n",
       "      <td>NaN</td>\n",
       "      <td>NaN</td>\n",
       "      <td>NaN</td>\n",
       "    </tr>\n",
       "    <tr>\n",
       "      <th>5</th>\n",
       "      <td>Afghanistan</td>\n",
       "      <td>Beurre, Ghee</td>\n",
       "      <td>animale</td>\n",
       "      <td>NaN</td>\n",
       "      <td>NaN</td>\n",
       "      <td>23.0</td>\n",
       "      <td>1.17</td>\n",
       "      <td>2.61</td>\n",
       "      <td>0.03</td>\n",
       "      <td>36.0</td>\n",
       "      <td>NaN</td>\n",
       "      <td>0.0</td>\n",
       "      <td>36.0</td>\n",
       "      <td>NaN</td>\n",
       "      <td>36.0</td>\n",
       "      <td>NaN</td>\n",
       "      <td>NaN</td>\n",
       "      <td>NaN</td>\n",
       "    </tr>\n",
       "    <tr>\n",
       "      <th>6</th>\n",
       "      <td>Afghanistan</td>\n",
       "      <td>Bière</td>\n",
       "      <td>vegetale</td>\n",
       "      <td>NaN</td>\n",
       "      <td>NaN</td>\n",
       "      <td>0.0</td>\n",
       "      <td>0.09</td>\n",
       "      <td>NaN</td>\n",
       "      <td>0.00</td>\n",
       "      <td>3.0</td>\n",
       "      <td>NaN</td>\n",
       "      <td>3.0</td>\n",
       "      <td>3.0</td>\n",
       "      <td>NaN</td>\n",
       "      <td>NaN</td>\n",
       "      <td>NaN</td>\n",
       "      <td>NaN</td>\n",
       "      <td>NaN</td>\n",
       "    </tr>\n",
       "    <tr>\n",
       "      <th>7</th>\n",
       "      <td>Afghanistan</td>\n",
       "      <td>Blé</td>\n",
       "      <td>vegetale</td>\n",
       "      <td>NaN</td>\n",
       "      <td>NaN</td>\n",
       "      <td>1369.0</td>\n",
       "      <td>160.23</td>\n",
       "      <td>4.69</td>\n",
       "      <td>36.91</td>\n",
       "      <td>5992.0</td>\n",
       "      <td>NaN</td>\n",
       "      <td>1173.0</td>\n",
       "      <td>4895.0</td>\n",
       "      <td>775.0</td>\n",
       "      <td>5169.0</td>\n",
       "      <td>322.0</td>\n",
       "      <td>NaN</td>\n",
       "      <td>-350.0</td>\n",
       "    </tr>\n",
       "  </tbody>\n",
       "</table>\n",
       "</div>"
      ],
      "text/plain": [
       "          Zone                Produit   Origine  Aliments pour animaux  \\\n",
       "0  Afghanistan       Abats Comestible   animale                    NaN   \n",
       "1  Afghanistan        Agrumes, Autres  vegetale                    NaN   \n",
       "2  Afghanistan  Aliments pour enfants  vegetale                    NaN   \n",
       "3  Afghanistan                 Ananas  vegetale                    NaN   \n",
       "4  Afghanistan                Bananes  vegetale                    NaN   \n",
       "5  Afghanistan           Beurre, Ghee   animale                    NaN   \n",
       "6  Afghanistan                  Bière  vegetale                    NaN   \n",
       "7  Afghanistan                    Blé  vegetale                    NaN   \n",
       "\n",
       "   Autres Utilisations  Disponibilité alimentaire (Kcal/personne/jour)  \\\n",
       "0                  NaN                                             5.0   \n",
       "1                  NaN                                             1.0   \n",
       "2                  NaN                                             1.0   \n",
       "3                  NaN                                             0.0   \n",
       "4                  NaN                                             4.0   \n",
       "5                  NaN                                            23.0   \n",
       "6                  NaN                                             0.0   \n",
       "7                  NaN                                          1369.0   \n",
       "\n",
       "   Disponibilité alimentaire en quantité (kg/personne/an)  \\\n",
       "0                                               1.72        \n",
       "1                                               1.29        \n",
       "2                                               0.06        \n",
       "3                                               0.00        \n",
       "4                                               2.70        \n",
       "5                                               1.17        \n",
       "6                                               0.09        \n",
       "7                                             160.23        \n",
       "\n",
       "   Disponibilité de matière grasse en quantité (g/personne/jour)  \\\n",
       "0                                               0.20               \n",
       "1                                               0.01               \n",
       "2                                               0.01               \n",
       "3                                                NaN               \n",
       "4                                               0.02               \n",
       "5                                               2.61               \n",
       "6                                                NaN               \n",
       "7                                               4.69               \n",
       "\n",
       "   Disponibilité de protéines en quantité (g/personne/jour)  \\\n",
       "0                                               0.77          \n",
       "1                                               0.02          \n",
       "2                                               0.03          \n",
       "3                                                NaN          \n",
       "4                                               0.05          \n",
       "5                                               0.03          \n",
       "6                                               0.00          \n",
       "7                                              36.91          \n",
       "\n",
       "   Disponibilité intérieure  Exportations - Quantité  Importations - Quantité  \\\n",
       "0                      53.0                      NaN                      NaN   \n",
       "1                      41.0                      2.0                     40.0   \n",
       "2                       2.0                      NaN                      2.0   \n",
       "3                       0.0                      NaN                      0.0   \n",
       "4                      82.0                      NaN                     82.0   \n",
       "5                      36.0                      NaN                      0.0   \n",
       "6                       3.0                      NaN                      3.0   \n",
       "7                    5992.0                      NaN                   1173.0   \n",
       "\n",
       "   Nourriture  Pertes  Production  Semences  Traitement  Variation de stock  \n",
       "0        53.0     NaN        53.0       NaN         NaN                 NaN  \n",
       "1        39.0     2.0         3.0       NaN         NaN                 NaN  \n",
       "2         2.0     NaN         NaN       NaN         NaN                 NaN  \n",
       "3         0.0     NaN         NaN       NaN         NaN                 NaN  \n",
       "4        82.0     NaN         NaN       NaN         NaN                 NaN  \n",
       "5        36.0     NaN        36.0       NaN         NaN                 NaN  \n",
       "6         3.0     NaN         NaN       NaN         NaN                 NaN  \n",
       "7      4895.0   775.0      5169.0     322.0         NaN              -350.0  "
      ]
     },
     "execution_count": 16,
     "metadata": {},
     "output_type": "execute_result"
    }
   ],
   "source": [
    "# variable pour le nom du fichier à impoter\n",
    "nomFicherImportation = \"dispo_alimentaire.csv\"\n",
    "# Importer les données du fichiers ()\n",
    "dispoAlimentaire = panda.read_csv(filepath_or_buffer= repertoireFichierImportation + nomFicherImportation ,sep = ',' ,header = 0 )\n",
    "# Affichage du dataframe\n",
    "dispoAlimentaire.head(8)"
   ]
  },
  {
   "cell_type": "markdown",
   "id": "76fba45a",
   "metadata": {},
   "source": [
    "> #### Types de données et Nombre de Lignes et de Colonnes du fichier"
   ]
  },
  {
   "cell_type": "code",
   "execution_count": 17,
   "id": "6943b017",
   "metadata": {
    "scrolled": true
   },
   "outputs": [
    {
     "name": "stdout",
     "output_type": "stream",
     "text": [
      "<class 'pandas.core.frame.DataFrame'>\n",
      "RangeIndex: 15605 entries, 0 to 15604\n",
      "Data columns (total 18 columns):\n",
      " #   Column                                                         Non-Null Count  Dtype  \n",
      "---  ------                                                         --------------  -----  \n",
      " 0   Zone                                                           15605 non-null  object \n",
      " 1   Produit                                                        15605 non-null  object \n",
      " 2   Origine                                                        15605 non-null  object \n",
      " 3   Aliments pour animaux                                          2720 non-null   float64\n",
      " 4   Autres Utilisations                                            5496 non-null   float64\n",
      " 5   Disponibilité alimentaire (Kcal/personne/jour)                 14241 non-null  float64\n",
      " 6   Disponibilité alimentaire en quantité (kg/personne/an)         14015 non-null  float64\n",
      " 7   Disponibilité de matière grasse en quantité (g/personne/jour)  11794 non-null  float64\n",
      " 8   Disponibilité de protéines en quantité (g/personne/jour)       11561 non-null  float64\n",
      " 9   Disponibilité intérieure                                       15382 non-null  float64\n",
      " 10  Exportations - Quantité                                        12226 non-null  float64\n",
      " 11  Importations - Quantité                                        14852 non-null  float64\n",
      " 12  Nourriture                                                     14015 non-null  float64\n",
      " 13  Pertes                                                         4278 non-null   float64\n",
      " 14  Production                                                     9180 non-null   float64\n",
      " 15  Semences                                                       2091 non-null   float64\n",
      " 16  Traitement                                                     2292 non-null   float64\n",
      " 17  Variation de stock                                             6776 non-null   float64\n",
      "dtypes: float64(15), object(3)\n",
      "memory usage: 2.1+ MB\n",
      "\n",
      "Le fichier contient 15605 Lignes et 18 Colonnes\n"
     ]
    }
   ],
   "source": [
    "# Afficher un résumé concis d'un DataFrame.\n",
    "dispoAlimentaire.info()\n",
    "# Afficher lr nombre de lignes et de colonnes\n",
    "print(\"\") #permet de passer une ligne\n",
    "print(\"Le fichier contient\", dispoAlimentaire.shape[0], \"Lignes et\",dispoAlimentaire.shape[1], \"Colonnes\" )"
   ]
  },
  {
   "cell_type": "markdown",
   "id": "bc74e609",
   "metadata": {},
   "source": [
    "> #### Noms des Colonnes et Modification du  noms"
   ]
  },
  {
   "cell_type": "code",
   "execution_count": 18,
   "id": "504c2935",
   "metadata": {},
   "outputs": [
    {
     "data": {
      "text/html": [
       "<div>\n",
       "<style scoped>\n",
       "    .dataframe tbody tr th:only-of-type {\n",
       "        vertical-align: middle;\n",
       "    }\n",
       "\n",
       "    .dataframe tbody tr th {\n",
       "        vertical-align: top;\n",
       "    }\n",
       "\n",
       "    .dataframe thead th {\n",
       "        text-align: right;\n",
       "    }\n",
       "</style>\n",
       "<table border=\"1\" class=\"dataframe\">\n",
       "  <thead>\n",
       "    <tr style=\"text-align: right;\">\n",
       "      <th></th>\n",
       "      <th>zone</th>\n",
       "      <th>produit</th>\n",
       "      <th>origine</th>\n",
       "      <th>aliments pour animaux</th>\n",
       "      <th>autres utilisations</th>\n",
       "      <th>disponibilité alimentaire (kcal/personne/jour)</th>\n",
       "      <th>disponibilité alimentaire en quantité (kg/personne/an)</th>\n",
       "      <th>disponibilité de matière grasse en quantité (g/personne/jour)</th>\n",
       "      <th>disponibilité de protéines en quantité (g/personne/jour)</th>\n",
       "      <th>disponibilité intérieure</th>\n",
       "      <th>exportations - quantité</th>\n",
       "      <th>importations - quantité</th>\n",
       "      <th>nourriture</th>\n",
       "      <th>pertes</th>\n",
       "      <th>production</th>\n",
       "      <th>semences</th>\n",
       "      <th>traitement</th>\n",
       "      <th>variation de stock</th>\n",
       "    </tr>\n",
       "  </thead>\n",
       "  <tbody>\n",
       "    <tr>\n",
       "      <th>0</th>\n",
       "      <td>Afghanistan</td>\n",
       "      <td>Abats Comestible</td>\n",
       "      <td>animale</td>\n",
       "      <td>0.0</td>\n",
       "      <td>0.0</td>\n",
       "      <td>5.0</td>\n",
       "      <td>1.72</td>\n",
       "      <td>0.20</td>\n",
       "      <td>0.77</td>\n",
       "      <td>53.0</td>\n",
       "      <td>0.0</td>\n",
       "      <td>0.0</td>\n",
       "      <td>53.0</td>\n",
       "      <td>0.0</td>\n",
       "      <td>53.0</td>\n",
       "      <td>0.0</td>\n",
       "      <td>0.0</td>\n",
       "      <td>0.0</td>\n",
       "    </tr>\n",
       "    <tr>\n",
       "      <th>1</th>\n",
       "      <td>Afghanistan</td>\n",
       "      <td>Agrumes, Autres</td>\n",
       "      <td>vegetale</td>\n",
       "      <td>0.0</td>\n",
       "      <td>0.0</td>\n",
       "      <td>1.0</td>\n",
       "      <td>1.29</td>\n",
       "      <td>0.01</td>\n",
       "      <td>0.02</td>\n",
       "      <td>41.0</td>\n",
       "      <td>2.0</td>\n",
       "      <td>40.0</td>\n",
       "      <td>39.0</td>\n",
       "      <td>2.0</td>\n",
       "      <td>3.0</td>\n",
       "      <td>0.0</td>\n",
       "      <td>0.0</td>\n",
       "      <td>0.0</td>\n",
       "    </tr>\n",
       "    <tr>\n",
       "      <th>2</th>\n",
       "      <td>Afghanistan</td>\n",
       "      <td>Aliments pour enfants</td>\n",
       "      <td>vegetale</td>\n",
       "      <td>0.0</td>\n",
       "      <td>0.0</td>\n",
       "      <td>1.0</td>\n",
       "      <td>0.06</td>\n",
       "      <td>0.01</td>\n",
       "      <td>0.03</td>\n",
       "      <td>2.0</td>\n",
       "      <td>0.0</td>\n",
       "      <td>2.0</td>\n",
       "      <td>2.0</td>\n",
       "      <td>0.0</td>\n",
       "      <td>0.0</td>\n",
       "      <td>0.0</td>\n",
       "      <td>0.0</td>\n",
       "      <td>0.0</td>\n",
       "    </tr>\n",
       "    <tr>\n",
       "      <th>3</th>\n",
       "      <td>Afghanistan</td>\n",
       "      <td>Ananas</td>\n",
       "      <td>vegetale</td>\n",
       "      <td>0.0</td>\n",
       "      <td>0.0</td>\n",
       "      <td>0.0</td>\n",
       "      <td>0.00</td>\n",
       "      <td>0.00</td>\n",
       "      <td>0.00</td>\n",
       "      <td>0.0</td>\n",
       "      <td>0.0</td>\n",
       "      <td>0.0</td>\n",
       "      <td>0.0</td>\n",
       "      <td>0.0</td>\n",
       "      <td>0.0</td>\n",
       "      <td>0.0</td>\n",
       "      <td>0.0</td>\n",
       "      <td>0.0</td>\n",
       "    </tr>\n",
       "    <tr>\n",
       "      <th>4</th>\n",
       "      <td>Afghanistan</td>\n",
       "      <td>Bananes</td>\n",
       "      <td>vegetale</td>\n",
       "      <td>0.0</td>\n",
       "      <td>0.0</td>\n",
       "      <td>4.0</td>\n",
       "      <td>2.70</td>\n",
       "      <td>0.02</td>\n",
       "      <td>0.05</td>\n",
       "      <td>82.0</td>\n",
       "      <td>0.0</td>\n",
       "      <td>82.0</td>\n",
       "      <td>82.0</td>\n",
       "      <td>0.0</td>\n",
       "      <td>0.0</td>\n",
       "      <td>0.0</td>\n",
       "      <td>0.0</td>\n",
       "      <td>0.0</td>\n",
       "    </tr>\n",
       "    <tr>\n",
       "      <th>5</th>\n",
       "      <td>Afghanistan</td>\n",
       "      <td>Beurre, Ghee</td>\n",
       "      <td>animale</td>\n",
       "      <td>0.0</td>\n",
       "      <td>0.0</td>\n",
       "      <td>23.0</td>\n",
       "      <td>1.17</td>\n",
       "      <td>2.61</td>\n",
       "      <td>0.03</td>\n",
       "      <td>36.0</td>\n",
       "      <td>0.0</td>\n",
       "      <td>0.0</td>\n",
       "      <td>36.0</td>\n",
       "      <td>0.0</td>\n",
       "      <td>36.0</td>\n",
       "      <td>0.0</td>\n",
       "      <td>0.0</td>\n",
       "      <td>0.0</td>\n",
       "    </tr>\n",
       "    <tr>\n",
       "      <th>6</th>\n",
       "      <td>Afghanistan</td>\n",
       "      <td>Bière</td>\n",
       "      <td>vegetale</td>\n",
       "      <td>0.0</td>\n",
       "      <td>0.0</td>\n",
       "      <td>0.0</td>\n",
       "      <td>0.09</td>\n",
       "      <td>0.00</td>\n",
       "      <td>0.00</td>\n",
       "      <td>3.0</td>\n",
       "      <td>0.0</td>\n",
       "      <td>3.0</td>\n",
       "      <td>3.0</td>\n",
       "      <td>0.0</td>\n",
       "      <td>0.0</td>\n",
       "      <td>0.0</td>\n",
       "      <td>0.0</td>\n",
       "      <td>0.0</td>\n",
       "    </tr>\n",
       "    <tr>\n",
       "      <th>7</th>\n",
       "      <td>Afghanistan</td>\n",
       "      <td>Blé</td>\n",
       "      <td>vegetale</td>\n",
       "      <td>0.0</td>\n",
       "      <td>0.0</td>\n",
       "      <td>1369.0</td>\n",
       "      <td>160.23</td>\n",
       "      <td>4.69</td>\n",
       "      <td>36.91</td>\n",
       "      <td>5992.0</td>\n",
       "      <td>0.0</td>\n",
       "      <td>1173.0</td>\n",
       "      <td>4895.0</td>\n",
       "      <td>775.0</td>\n",
       "      <td>5169.0</td>\n",
       "      <td>322.0</td>\n",
       "      <td>0.0</td>\n",
       "      <td>-350.0</td>\n",
       "    </tr>\n",
       "  </tbody>\n",
       "</table>\n",
       "</div>"
      ],
      "text/plain": [
       "          zone                produit   origine  aliments pour animaux  \\\n",
       "0  Afghanistan       Abats Comestible   animale                    0.0   \n",
       "1  Afghanistan        Agrumes, Autres  vegetale                    0.0   \n",
       "2  Afghanistan  Aliments pour enfants  vegetale                    0.0   \n",
       "3  Afghanistan                 Ananas  vegetale                    0.0   \n",
       "4  Afghanistan                Bananes  vegetale                    0.0   \n",
       "5  Afghanistan           Beurre, Ghee   animale                    0.0   \n",
       "6  Afghanistan                  Bière  vegetale                    0.0   \n",
       "7  Afghanistan                    Blé  vegetale                    0.0   \n",
       "\n",
       "   autres utilisations  disponibilité alimentaire (kcal/personne/jour)  \\\n",
       "0                  0.0                                             5.0   \n",
       "1                  0.0                                             1.0   \n",
       "2                  0.0                                             1.0   \n",
       "3                  0.0                                             0.0   \n",
       "4                  0.0                                             4.0   \n",
       "5                  0.0                                            23.0   \n",
       "6                  0.0                                             0.0   \n",
       "7                  0.0                                          1369.0   \n",
       "\n",
       "   disponibilité alimentaire en quantité (kg/personne/an)  \\\n",
       "0                                               1.72        \n",
       "1                                               1.29        \n",
       "2                                               0.06        \n",
       "3                                               0.00        \n",
       "4                                               2.70        \n",
       "5                                               1.17        \n",
       "6                                               0.09        \n",
       "7                                             160.23        \n",
       "\n",
       "   disponibilité de matière grasse en quantité (g/personne/jour)  \\\n",
       "0                                               0.20               \n",
       "1                                               0.01               \n",
       "2                                               0.01               \n",
       "3                                               0.00               \n",
       "4                                               0.02               \n",
       "5                                               2.61               \n",
       "6                                               0.00               \n",
       "7                                               4.69               \n",
       "\n",
       "   disponibilité de protéines en quantité (g/personne/jour)  \\\n",
       "0                                               0.77          \n",
       "1                                               0.02          \n",
       "2                                               0.03          \n",
       "3                                               0.00          \n",
       "4                                               0.05          \n",
       "5                                               0.03          \n",
       "6                                               0.00          \n",
       "7                                              36.91          \n",
       "\n",
       "   disponibilité intérieure  exportations - quantité  importations - quantité  \\\n",
       "0                      53.0                      0.0                      0.0   \n",
       "1                      41.0                      2.0                     40.0   \n",
       "2                       2.0                      0.0                      2.0   \n",
       "3                       0.0                      0.0                      0.0   \n",
       "4                      82.0                      0.0                     82.0   \n",
       "5                      36.0                      0.0                      0.0   \n",
       "6                       3.0                      0.0                      3.0   \n",
       "7                    5992.0                      0.0                   1173.0   \n",
       "\n",
       "   nourriture  pertes  production  semences  traitement  variation de stock  \n",
       "0        53.0     0.0        53.0       0.0         0.0                 0.0  \n",
       "1        39.0     2.0         3.0       0.0         0.0                 0.0  \n",
       "2         2.0     0.0         0.0       0.0         0.0                 0.0  \n",
       "3         0.0     0.0         0.0       0.0         0.0                 0.0  \n",
       "4        82.0     0.0         0.0       0.0         0.0                 0.0  \n",
       "5        36.0     0.0        36.0       0.0         0.0                 0.0  \n",
       "6         3.0     0.0         0.0       0.0         0.0                 0.0  \n",
       "7      4895.0   775.0      5169.0     322.0         0.0              -350.0  "
      ]
     },
     "execution_count": 18,
     "metadata": {},
     "output_type": "execute_result"
    }
   ],
   "source": [
    "# Remettre les noms des colonnes en minuscules\n",
    "dispoAlimentaire.columns = dispoAlimentaire.columns.str.lower()\n",
    "# Remplacer les Nan par 0\n",
    "dispoAlimentaire.fillna(0, inplace=True)\n",
    "# Remplacer les noms de Pays suivant : Tchéquie (la) par Tchéquie, et Royaume-Uni par Royaume-Uni de Grande-Bretagne et d'Irlande du Nord\n",
    "dispoAlimentaire['zone'] = dispoAlimentaire['zone'].replace([\"Tchéquie (la)\",\"Royaume-Uni\"],[\"Tchéquie\", \"Royaume-Uni de Grande-Bretagne et d'Irlande du Nord\"])\n",
    "# Afficher les changements.\n",
    "dispoAlimentaire.head(8) "
   ]
  },
  {
   "cell_type": "markdown",
   "id": "1d9ef85c",
   "metadata": {},
   "source": [
    "> #### Nb de Doublons et Nb de Valeurs Manquantes"
   ]
  },
  {
   "cell_type": "code",
   "execution_count": 19,
   "id": "15bf3397",
   "metadata": {},
   "outputs": [
    {
     "name": "stdout",
     "output_type": "stream",
     "text": [
      "Le nombre de doublon dans cette table est de 0\n",
      "\n",
      "Le nombre de valeur manquante par colonne dans cette table est de\n"
     ]
    },
    {
     "data": {
      "text/plain": [
       "zone                                                             0\n",
       "produit                                                          0\n",
       "origine                                                          0\n",
       "aliments pour animaux                                            0\n",
       "autres utilisations                                              0\n",
       "disponibilité alimentaire (kcal/personne/jour)                   0\n",
       "disponibilité alimentaire en quantité (kg/personne/an)           0\n",
       "disponibilité de matière grasse en quantité (g/personne/jour)    0\n",
       "disponibilité de protéines en quantité (g/personne/jour)         0\n",
       "disponibilité intérieure                                         0\n",
       "exportations - quantité                                          0\n",
       "importations - quantité                                          0\n",
       "nourriture                                                       0\n",
       "pertes                                                           0\n",
       "production                                                       0\n",
       "semences                                                         0\n",
       "traitement                                                       0\n",
       "variation de stock                                               0\n",
       "dtype: int64"
      ]
     },
     "execution_count": 19,
     "metadata": {},
     "output_type": "execute_result"
    }
   ],
   "source": [
    "# Trouver le nombre des doublons en filtrant sur les 2 premières colonnes\n",
    "doublon = dispoAlimentaire.duplicated(['zone', 'produit', 'origine']).sum()\n",
    "print(\"Le nombre de doublon dans cette table est de\" , doublon)\n",
    "print(\"\")\n",
    "\n",
    "# Trouver le nombre de Valeur manquante\n",
    "print(\"Le nombre de valeur manquante par colonne dans cette table est de\")\n",
    "dispoAlimentaire.isnull().sum()"
   ]
  },
  {
   "cell_type": "markdown",
   "id": "de0f436c",
   "metadata": {},
   "source": [
    "# Partie 2 - Réponse à Marc\n",
    "\n",
    "> ## <a name=\"Question01\"></a> Question 01 : La proportion de personnes en état de sous-nutrition\n",
    "\n",
    "[Retour Table des matières](#Table_des_matières)\n",
    "\n",
    ">> ### Sur la population mondiale"
   ]
  },
  {
   "cell_type": "code",
   "execution_count": 20,
   "id": "c786a3e2",
   "metadata": {
    "scrolled": true
   },
   "outputs": [
    {
     "name": "stdout",
     "output_type": "stream",
     "text": [
      "La Population Mondiale est de 7548.134 Millions d'Habitants soit 7.548 milliards d'habitants\n",
      "\n",
      "La Population en sous nutrition est de 535.7 Millions d'Habitants\n",
      "\n",
      "7.10% des habitants de la planète sont en état de sous nutrition\n"
     ]
    }
   ],
   "source": [
    "# Lier les dataframe Population et sousNutrition entre eux avec un filtre sur l'année 2017\n",
    "question01Ma = panda.merge(population.loc[population['année'] == 2017,[\"zone\", \"population_en_millions\"]], \n",
    "    sousNutrition.loc[sousNutrition['année'] == 2017,[\"zone\", \"nb_de_Personnes_en_sous_nutrition_(millions)\"]], \n",
    "    on= \"zone\", how = 'outer')\n",
    "# Calculer la Population mondiale\n",
    "totalPopulation2017 = numpy.round(question01Ma['population_en_millions'].sum(),3)\n",
    "totalMilliardPopulation2017 =numpy.round(totalPopulation2017/1000,3)\n",
    "print(\"La Population Mondiale est de\",totalPopulation2017, \"Millions d'Habitants soit\", totalMilliardPopulation2017,\n",
    "      \"milliards d'habitants\")\n",
    "print(\"\")\n",
    "# Calculer la population en sous nutrition\n",
    "totalSousNutrition2017 = question01Ma['nb_de_Personnes_en_sous_nutrition_(millions)'].sum()\n",
    "print(\"La Population en sous nutrition est de\",totalSousNutrition2017, \"Millions d'Habitants\")\n",
    "# Calculer la proportion d'habitants en Sous Nutrition\n",
    "pourcentageSousNutrition =numpy.round((totalSousNutrition2017/totalPopulation2017),4)\n",
    "print(\"\")\n",
    "#\"{:.2%}\".format(variable) permet d'afficher directement en % avec le nombre de chiffre derrière la virgule\n",
    "print(\"{:.2%}\".format(pourcentageSousNutrition), \"des habitants de la planète sont en état de sous nutrition\")"
   ]
  },
  {
   "cell_type": "markdown",
   "id": "2aa7a2bb",
   "metadata": {},
   "source": [
    ">> ### Sur la population avec des données de sous nutrition uniquement"
   ]
  },
  {
   "cell_type": "code",
   "execution_count": 21,
   "id": "d5bffc8b",
   "metadata": {},
   "outputs": [
    {
     "name": "stdout",
     "output_type": "stream",
     "text": [
      "La Population Mondiale est de 4167.954 Millions d'Habitants soit 4.168 milliards d'habitants\n",
      "\n",
      "La Population en sous nutrition est de 535.6999999999999 Millions d'Habitants\n",
      "\n",
      "12.85% des habitants de la planète sont en état de sous nutrition\n"
     ]
    }
   ],
   "source": [
    "# Filtrer les données, uniquement pour les pays ayant de la sous nutrition.\n",
    "question01Ma = question01Ma.loc[(question01Ma['nb_de_Personnes_en_sous_nutrition_(millions)'] > 0 ),:]\n",
    "# Calculer Calculer la Population mondiale\n",
    "TotalPopulation2017 = numpy.round(question01Ma['population_en_millions'].sum(),3)\n",
    "TotalMilliardPopulation2017 =numpy.round(TotalPopulation2017/1000,3)\n",
    "print(\"La Population Mondiale est de\",TotalPopulation2017, \"Millions d'Habitants soit\", TotalMilliardPopulation2017,\n",
    "      \"milliards d'habitants\")\n",
    "print(\"\")\n",
    "# Calculer la population en sous nutrition\n",
    "TotalSousNutrition2017 = question01Ma['nb_de_Personnes_en_sous_nutrition_(millions)'].sum()\n",
    "print(\"La Population en sous nutrition est de\",TotalSousNutrition2017, \"Millions d'Habitants\")\n",
    "# Calculer la proportion d'habitants en Sous Nutrition\n",
    "PourcentageSousNutrition =numpy.round((TotalSousNutrition2017/TotalPopulation2017),4)\n",
    "print(\"\")\n",
    "#\"{:.2%}\".format(variable) permet d'afficher directement en % avec le nombre de chiffre derrière la virgule\n",
    "print(\"{:.2%}\".format(PourcentageSousNutrition), \"des habitants de la planète sont en état de sous nutrition\")"
   ]
  },
  {
   "cell_type": "markdown",
   "id": "ce84c8c1",
   "metadata": {},
   "source": [
    "> ## <a name=\"Question02\"></a> Question 02 : Le nombre théorique de personnes qui pourraient être nourries avec la disponibilité totale\n",
    "\n",
    "\n",
    "[Retour Table des matières](#Table_des_matières)"
   ]
  },
  {
   "cell_type": "code",
   "execution_count": 22,
   "id": "6726dab3",
   "metadata": {},
   "outputs": [
    {
     "name": "stdout",
     "output_type": "stream",
     "text": [
      "Un Total de 21182.163 milliards de Kcal est disponible pour nourrir les_humains par jour\n",
      "\n",
      "Avec 2500 Kcal par jour, nous pouvons nourrir 8.473 milliards d'habitants, soit 112.25% de la population actuelle\n",
      "\n"
     ]
    }
   ],
   "source": [
    "# Lier les dataframe Population et dispoAlimentaire entre eux avec un filtre sur l'année 2017\n",
    "question02Ma = panda.merge(population.loc[population['année'] == 2017,[\"zone\", \"population_en_millions\"]], \n",
    "    dispoAlimentaire, on= \"zone\", how = 'inner')\n",
    "# Créer une colonne Disponibilité en million kcal/an \n",
    "question02Ma['disponibilité alimentaire en millions (kcal/jour)'] = (question02Ma\n",
    "    ['disponibilité alimentaire (kcal/personne/jour)'] * question02Ma['population_en_millions'])\n",
    "# Calculer le nombre de calories disponible par jour\n",
    "totalCaloriesJour = numpy.round(question02Ma['disponibilité alimentaire en millions (kcal/jour)'].sum()/1000,3)\n",
    "print(\"Un Total de\", totalCaloriesJour, \"milliards de Kcal est disponible pour nourrir les_humains par jour\")\n",
    "print(\"\")\n",
    "# Calculer le nombre théorque de personne à nourrir avec comme référence 2500 Kcal par humain\n",
    "caloriesNecessaireHumain = 2500\n",
    "nbHumainsTheorique = numpy.round(totalCaloriesJour / caloriesNecessaireHumain ,3)\n",
    "PourcentageTheorique = nbHumainsTheorique /totalMilliardPopulation2017 \n",
    "print(\"Avec\" ,caloriesNecessaireHumain, \"Kcal par jour, nous pouvons nourrir\", nbHumainsTheorique ,\n",
    "      \"milliards d'habitants, soit\", \"{:.2%}\".format(PourcentageTheorique), \"de la population actuelle\")\n",
    "print(\"\")"
   ]
  },
  {
   "cell_type": "markdown",
   "id": "daa2e3b2",
   "metadata": {},
   "source": [
    "> ## <a name=\"Question03\"></a> Question 03 : Le nombre théorique de personnes qui pourraient être nourries avec la disponibilité alimentaire des produits végétaux\n",
    "\n",
    "\n",
    "[Retour Table des matières](#Table_des_matières)"
   ]
  },
  {
   "cell_type": "code",
   "execution_count": 23,
   "id": "f055becb",
   "metadata": {},
   "outputs": [
    {
     "name": "stdout",
     "output_type": "stream",
     "text": [
      "Un Total de 17449.509 milliards de Kcal est disponible pour nourrir les humains par jour\n",
      "\n",
      "Avec 2500 Kcal par jour, nous pouvons nourrir 6.98 milliards d'habitants, soit 92.47% de la population actuelle des végétaux\n",
      "\n"
     ]
    }
   ],
   "source": [
    "# Lier les dataframe population et dispoAlimentaire\n",
    "question03Ma = panda.merge(population.loc[population['année'] == 2017,[\"zone\", \"population_en_millions\"]], \n",
    "    dispoAlimentaire.loc[dispoAlimentaire['origine'] == 'vegetale'], on= \"zone\", how = 'inner')\n",
    "# Créer une colonne Disponibilité en million kcal/an \n",
    "question03Ma['disponibilité alimentaire en millions (kcal/jour)'] = (question03Ma['disponibilité alimentaire (kcal/personne/jour)'] * question03Ma['population_en_millions'])\n",
    "# Calculer le nombre de calories disponible par jour\n",
    "totalCaloriesJour = numpy.round(question03Ma['disponibilité alimentaire en millions (kcal/jour)'].sum()/1000,3)\n",
    "print(\"Un Total de\", totalCaloriesJour, \"milliards de Kcal est disponible pour nourrir les humains par jour\")\n",
    "print(\"\")\n",
    "# Calculer le nombre théorque de personne à nourrir avec comme référence 2500 Kcal par humain\n",
    "caloriesNecessaireHumain = 2500\n",
    "nbHumainsTheorique = numpy.round(totalCaloriesJour / caloriesNecessaireHumain ,3)\n",
    "PourcentageTheorique = nbHumainsTheorique /totalMilliardPopulation2017 \n",
    "print(\"Avec\" ,caloriesNecessaireHumain, \"Kcal par jour, nous pouvons nourrir\" , nbHumainsTheorique , \"milliards d'habitants, soit\", \"{:.2%}\".format(PourcentageTheorique), \"de la population actuelle des végétaux\")\n",
    "print(\"\")"
   ]
  },
  {
   "cell_type": "markdown",
   "id": "37eb48d4",
   "metadata": {},
   "source": [
    "> ## <a name=\"Question04\"></a> Question 04 : la disponibilité intérieure\n",
    "\n",
    ">> ### <a name=\"Question04a\"></a> Question 04a : Les aliments pour Animaux\n",
    "\n",
    "[Retour Table des matières](#Table_des_matières)\n",
    "\n"
   ]
  },
  {
   "cell_type": "markdown",
   "id": "9a5ead9e",
   "metadata": {},
   "source": [
    "Disponibilité intérieure = Production + Importations - Exportations + Variation de Stock\n",
    "Disponibilité intérieure = Nourriture + Aliments animaux + Semences + Pertes + Traitement + Autres utilisations\n"
   ]
  },
  {
   "cell_type": "code",
   "execution_count": 24,
   "id": "c8a7b81a",
   "metadata": {},
   "outputs": [
    {
     "name": "stdout",
     "output_type": "stream",
     "text": [
      "Les aliments pour Animaux représentent 1304.245 Millions de tonnes sur une disponibilité totale de 9848.994 Millions de tonnes\n",
      "\n",
      "Soit 13.24% de la demande totale\n"
     ]
    }
   ],
   "source": [
    "# On récupère le disponibilité intérieure\n",
    "question04Ma = dispoAlimentaire\n",
    "# calculer le total de la disponibilité Intérieur et du total des Aliments pour Animaux\n",
    "totalDisponibiliteInterieure = numpy.round(question04Ma['disponibilité intérieure'].sum() / 1000,3)\n",
    "totalAlimentsAnimaux = numpy.round(question04Ma['aliments pour animaux'].sum() / 1000, 3)\n",
    "print(\"Les aliments pour Animaux représentent\", totalAlimentsAnimaux, \"Millions de tonnes sur une disponibilité totale de\", totalDisponibiliteInterieure , \"Millions de tonnes\")\n",
    "print(\"\")\n",
    "print(\"Soit \" \"{:.2%}\".format(totalAlimentsAnimaux/totalDisponibiliteInterieure) , \"de la demande totale\" )"
   ]
  },
  {
   "cell_type": "markdown",
   "id": "56f85b3d",
   "metadata": {},
   "source": [
    ">> ### <a name=\"Question04b\"></a> Question 04b : Les pertes Alimentaires\n",
    "[Retour Table des matières](#Table_des_matières)\n"
   ]
  },
  {
   "cell_type": "code",
   "execution_count": 25,
   "id": "f7bb4169",
   "metadata": {},
   "outputs": [
    {
     "name": "stdout",
     "output_type": "stream",
     "text": [
      "Les pertes alimentaires représentent 453.698 Millions de tonnes sur une disponibilité totale de 9848.994 Millions de tonnes\n",
      "\n",
      "Soit 4.61% de la demande totale\n"
     ]
    }
   ],
   "source": [
    "# calculer le total des pertes alimentaires\n",
    "totalPerteAlimentaire = numpy.round(question04Ma['pertes'].sum() / 1000,3)\n",
    "print(\"Les pertes alimentaires représentent\", totalPerteAlimentaire, \"Millions de tonnes sur une disponibilité totale de\", totalDisponibiliteInterieure , \"Millions de tonnes\")\n",
    "print(\"\")\n",
    "print(\"Soit \" \"{:.2%}\".format(totalPerteAlimentaire/totalDisponibiliteInterieure) , \"de la demande totale\" )"
   ]
  },
  {
   "cell_type": "markdown",
   "id": "dd4e8ac4",
   "metadata": {},
   "source": [
    ">> ### <a name=\"Question04c\"></a> Question 04c : Nourriture pour l'alimentation humaine\n",
    "[Retour Table des matières](#Table_des_matières)\n"
   ]
  },
  {
   "cell_type": "code",
   "execution_count": 26,
   "id": "cfe0fea2",
   "metadata": {
    "scrolled": true
   },
   "outputs": [
    {
     "name": "stdout",
     "output_type": "stream",
     "text": [
      "La nourriture alimentaire représentent 4876.258 Millions de tonnes sur une disponibilité totale de 9848.994 Millions de tonnes\n",
      "\n",
      "Soit 49.51% de la demande totale\n"
     ]
    }
   ],
   "source": [
    "# calculer du total des pertes alimentaires\n",
    "totalNourriture = numpy.round(question04Ma['nourriture'].sum() / 1000,3)\n",
    "print(\"La nourriture alimentaire représentent\", totalNourriture, \"Millions de tonnes sur une disponibilité totale de\", totalDisponibiliteInterieure , \"Millions de tonnes\")\n",
    "print(\"\")\n",
    "print(\"Soit \" \"{:.2%}\".format(totalNourriture/totalDisponibiliteInterieure) , \"de la demande totale\" )"
   ]
  },
  {
   "cell_type": "markdown",
   "id": "e79b52cb",
   "metadata": {},
   "source": [
    ">> #### Graphique"
   ]
  },
  {
   "cell_type": "code",
   "execution_count": 27,
   "id": "150c54e1",
   "metadata": {},
   "outputs": [
    {
     "data": {
      "image/png": "[encoded data removed]",
      "text/plain": [
       "<Figure size 1000x1000 with 1 Axes>"
      ]
     },
     "metadata": {},
     "output_type": "display_data"
    }
   ],
   "source": [
    "# Suppression des colonnes inutiles pour le graphique\n",
    "question04Ma =question04Ma.drop(question04Ma.columns[[0,1,2,5,6,7,8,9,10,11,14,17]], axis=1).sum()\n",
    "# On definit la taille du Pie plot ainsi que sa couleur\n",
    "plot.figure(figsize = (10, 10)).patch.set_facecolor('#fff0c1')\n",
    "# On regle et on affiche le Pie plot\n",
    "plot.pie(x = question04Ma.head(6), \n",
    "            labels=['Aliments pour Animaux', 'Autres utilisations', 'Nourriture', 'Pertes', 'Semences', 'Traitement'], #les noms affichés\n",
    "            textprops = dict(color = '#861e00'), # Couleurs du texte\n",
    "            explode = [0, 0.1, 0.1, 0, 0.1, 0], # Décallage des camemberts\n",
    "            autopct = lambda x: str(round(x, 2)) + '%',\n",
    "            pctdistance = 0.65, labeldistance = 1.1, #Distance texte dans Camembert et à l'extérieur\n",
    "            shadow = True) #Ombre\n",
    "plot.title('Disponibilitées Alimentaires', color = '#861e00', fontweight = 'bold'); #Titre en gras et Couleur\n",
    "# Sauvegarde du graphique\n",
    "plot.savefig(\"F:/34. Projet 04/04_Resultats/disponibilite_alimentaire.png\", dpi=300, bbox_inches='tight', facecolor='#fff0c1')"
   ]
  },
  {
   "cell_type": "markdown",
   "id": "25773abb",
   "metadata": {},
   "source": [
    "# Partie 3 - Réponse à Mélanie\n",
    "\n",
    "> ## <a name=\"Question21\"></a> Question 01 : proportion de personnes sous-alimentées est la plus forte en 2017\n",
    "\n",
    "[Retour Table des matières](#Table_des_matières)"
   ]
  },
  {
   "cell_type": "code",
   "execution_count": 28,
   "id": "4dd950c8",
   "metadata": {},
   "outputs": [
    {
     "data": {
      "text/html": [
       "<div>\n",
       "<style scoped>\n",
       "    .dataframe tbody tr th:only-of-type {\n",
       "        vertical-align: middle;\n",
       "    }\n",
       "\n",
       "    .dataframe tbody tr th {\n",
       "        vertical-align: top;\n",
       "    }\n",
       "\n",
       "    .dataframe thead th {\n",
       "        text-align: right;\n",
       "    }\n",
       "</style>\n",
       "<table border=\"1\" class=\"dataframe\">\n",
       "  <thead>\n",
       "    <tr style=\"text-align: right;\">\n",
       "      <th></th>\n",
       "      <th>zone</th>\n",
       "      <th>ratio_sous_nutrition_%</th>\n",
       "    </tr>\n",
       "  </thead>\n",
       "  <tbody>\n",
       "    <tr>\n",
       "      <th>81</th>\n",
       "      <td>Haïti</td>\n",
       "      <td>48.26</td>\n",
       "    </tr>\n",
       "    <tr>\n",
       "      <th>165</th>\n",
       "      <td>République populaire démocratique de Corée</td>\n",
       "      <td>47.19</td>\n",
       "    </tr>\n",
       "    <tr>\n",
       "      <th>109</th>\n",
       "      <td>Madagascar</td>\n",
       "      <td>41.06</td>\n",
       "    </tr>\n",
       "    <tr>\n",
       "      <th>104</th>\n",
       "      <td>Libéria</td>\n",
       "      <td>38.28</td>\n",
       "    </tr>\n",
       "    <tr>\n",
       "      <th>100</th>\n",
       "      <td>Lesotho</td>\n",
       "      <td>38.25</td>\n",
       "    </tr>\n",
       "    <tr>\n",
       "      <th>197</th>\n",
       "      <td>Tchad</td>\n",
       "      <td>37.96</td>\n",
       "    </tr>\n",
       "    <tr>\n",
       "      <th>157</th>\n",
       "      <td>Rwanda</td>\n",
       "      <td>35.06</td>\n",
       "    </tr>\n",
       "    <tr>\n",
       "      <th>126</th>\n",
       "      <td>Mozambique</td>\n",
       "      <td>32.81</td>\n",
       "    </tr>\n",
       "    <tr>\n",
       "      <th>200</th>\n",
       "      <td>Timor-Leste</td>\n",
       "      <td>32.17</td>\n",
       "    </tr>\n",
       "    <tr>\n",
       "      <th>0</th>\n",
       "      <td>Afghanistan</td>\n",
       "      <td>28.93</td>\n",
       "    </tr>\n",
       "    <tr>\n",
       "      <th>48</th>\n",
       "      <td>Congo</td>\n",
       "      <td>27.39</td>\n",
       "    </tr>\n",
       "    <tr>\n",
       "      <th>212</th>\n",
       "      <td>Venezuela (République bolivarienne du)</td>\n",
       "      <td>27.21</td>\n",
       "    </tr>\n",
       "    <tr>\n",
       "      <th>183</th>\n",
       "      <td>Sierra Leone</td>\n",
       "      <td>26.71</td>\n",
       "    </tr>\n",
       "  </tbody>\n",
       "</table>\n",
       "</div>"
      ],
      "text/plain": [
       "                                           zone  ratio_sous_nutrition_%\n",
       "81                                        Haïti                   48.26\n",
       "165  République populaire démocratique de Corée                   47.19\n",
       "109                                  Madagascar                   41.06\n",
       "104                                     Libéria                   38.28\n",
       "100                                     Lesotho                   38.25\n",
       "197                                       Tchad                   37.96\n",
       "157                                      Rwanda                   35.06\n",
       "126                                  Mozambique                   32.81\n",
       "200                                 Timor-Leste                   32.17\n",
       "0                                   Afghanistan                   28.93\n",
       "48                                        Congo                   27.39\n",
       "212      Venezuela (République bolivarienne du)                   27.21\n",
       "183                                Sierra Leone                   26.71"
      ]
     },
     "execution_count": 28,
     "metadata": {},
     "output_type": "execute_result"
    }
   ],
   "source": [
    "# On récupère le Dataframe de la question de Marc : Question01\n",
    "question01Mel = question01Ma\n",
    "# Créer une colonne Ratio sous nutrition\n",
    "question01Mel['ratio_sous_nutrition_%']= numpy.round((question01Mel['nb_de_Personnes_en_sous_nutrition_(millions)'] \n",
    "    / question01Mel['population_en_millions']) * 100, 2)\n",
    "# Supprimer les colonnes inutiles\n",
    "question01Mel = question01Mel.drop(columns=[\"population_en_millions\",\"nb_de_Personnes_en_sous_nutrition_(millions)\"])\n",
    "# trier par ordre décroissant et afficher des 13 premiers résultats\n",
    "question01Mel.sort_values(by=[\"ratio_sous_nutrition_%\"], ascending=False).head(13)\n"
   ]
  },
  {
   "cell_type": "markdown",
   "id": "bce5a4c4",
   "metadata": {},
   "source": [
    ">> #### Graphique"
   ]
  },
  {
   "cell_type": "code",
   "execution_count": 29,
   "id": "ec7c2b7f",
   "metadata": {
    "scrolled": true
   },
   "outputs": [],
   "source": [
    "# variable pour le nom du fichier à importer\n",
    "nomFicherImportation = \"Liste des codes ISO 3166-1.csv\"\n",
    "# Importer les données du fichiers dans le Dataframe aideAlimentaire\n",
    "codeISO = panda.read_csv(filepath_or_buffer= repertoireFichierImportation + nomFicherImportation ,sep = ';' ,header = 0)\n",
    "# Remplacer le nom de la colonne Valeur par quantité aide alimentaire\n",
    "codeISO = codeISO.rename(columns={'Pays':'zone'})\n",
    "codeISO = panda.merge(question01Mel, codeISO[['zone','ISO 3166-1 alpha-3']], on= \"zone\", how = 'outer')\n"
   ]
  },
  {
   "cell_type": "code",
   "execution_count": 30,
   "id": "63c58b7b",
   "metadata": {
    "scrolled": true
   },
   "outputs": [
    {
     "data": {
      "application/vnd.plotly.v1+json": {
       "config": {
        "plotlyServerURL": "https://plot.ly"
       },
       "data": [
        {
         "coloraxis": "coloraxis",
         "geo": "geo",
         "hovertemplate": "<b>%{hovertext}</b><br><br>ISO 3166-1 alpha-3=%{location}<br>ratio_sous_nutrition_%=%{z}<extra></extra>",
         "hovertext": [
          "Afghanistan",
          "Afrique du Sud",
          "Albanie",
          "Algérie",
          "Allemagne",
          "Andorre",
          "Angola",
          "Anguilla",
          "Antarctique",
          "Antigua-et-Barbuda",
          "Arabie Saoudite",
          "Arabie saoudite",
          "Argentine",
          "Arménie",
          "Aruba",
          "Australie",
          "Autriche",
          "Azerbaïdjan",
          "Bahamas",
          "Bahreïn",
          "Bangladesh",
          "Barbade",
          "Belgique",
          "Belize",
          "Bermudes",
          "Bhoutan",
          "Bolivie (État plurinational de)",
          "Bosnie-Herzégovine",
          "Botswana",
          "Brunéi Darussalam",
          "Brésil",
          "Bulgarie",
          "Burkina Faso",
          "Burundi",
          "Bélarus",
          "Bénin",
          "Cabo Verde",
          "Cambodge",
          "Cameroun",
          "Canada",
          "Chili",
          "Chine - RAS de Hong-Kong",
          "Chine - RAS de Macao",
          "Chine, Taiwan Province de",
          "Chine, continentale",
          "Chypre",
          "Colombie",
          "Comores",
          "Congo",
          "Costa Rica",
          "Croatie",
          "Cuba",
          "Côte d'Ivoire",
          "Danemark",
          "Djibouti",
          "Dominique",
          "El Salvador",
          "Espagne",
          "Estonie",
          "Eswatini",
          "Fidji",
          "Finlande",
          "France",
          "Fédération de Russie",
          "Gabon",
          "Gambie",
          "Ghana",
          "Gibraltar",
          "Grenade",
          "Groenland",
          "Grèce",
          "Guadeloupe",
          "Guam",
          "Guatemala",
          "Guernesey",
          "Guinée",
          "Guinée équatoriale",
          "Guinée-Bissau",
          "Guyane française",
          "Guyane française",
          "Géorgie",
          "Géorgie du Sud et les îles Sandwich du Sud",
          "Haïti",
          "Honduras",
          "Hongrie",
          "Iles Cayman",
          "Inde",
          "Indonésie",
          "Iran (République islamique d')",
          "Iraq",
          "Irlande",
          "Islande",
          "Israël",
          "Italie",
          "Jamaïque",
          "Japon",
          "Jersey",
          "Jordanie",
          "Kazakhstan",
          "Kenya",
          "Kirghizistan",
          "Kiribati",
          "Koweït",
          "Lesotho",
          "Lettonie",
          "Liban",
          "Libye",
          "Libéria",
          "Liechtenstein",
          "Lituanie",
          "Luxembourg",
          "Macédoine du Nord",
          "Madagascar",
          "Malaisie",
          "Malawi",
          "Maldives",
          "Mali",
          "Malte",
          "Maroc",
          "Martinique",
          "Maurice",
          "Mauritanie",
          "Mayotte",
          "Mexique",
          "Micronésie (États fédérés de)",
          "Monaco",
          "Mongolie",
          "Montserrat",
          "Monténégro",
          "Mozambique",
          "Myanmar",
          "Namibie",
          "Nauru",
          "Nicaragua",
          "Niger",
          "Nigéria",
          "Nioué",
          "Norvège",
          "Nouvelle-Calédonie",
          "Nouvelle-Zélande",
          "Népal",
          "Oman",
          "Ouganda",
          "Ouzbékistan",
          "Pakistan",
          "Palaos",
          "Palestine",
          "Panama",
          "Papouasie-Nouvelle-Guinée",
          "Paraguay",
          "Pays-Bas",
          "Philippines",
          "Pitcairn",
          "Pologne",
          "Polynésie française",
          "Porto Rico",
          "Portugal",
          "Pérou",
          "Qatar",
          "Roumanie",
          "Royaume-Uni de Grande-Bretagne et d'Irlande du Nord",
          "Rwanda",
          "République arabe syrienne",
          "République centrafricaine",
          "République de Corée",
          "République de Moldova",
          "République dominicaine",
          "République démocratique du Congo",
          "République démocratique populaire lao",
          "République populaire démocratique de Corée",
          "République-Unie de Tanzanie",
          "Réunion",
          "Sahara occidental",
          "Saint-Barthélemy",
          "Saint-Kitts-et-Nevis",
          "Saint-Marin",
          "Saint-Martin (partie française)",
          "Saint-Pierre-et-Miquelon",
          "Saint-Siège (Vatican)",
          "Saint-Vincent-et-les Grenadines",
          "Sainte-Hélène, Ascension et Tristan da Cunha",
          "Sainte-Lucie",
          "Samoa",
          "Samoa américaines",
          "Sao Tomé-et-Principe",
          "Serbie",
          "Seychelles",
          "Sierra Leone",
          "Singapour",
          "Sint Maarten  (partie néerlandaise)",
          "Slovaquie",
          "Slovénie",
          "Somalie",
          "Soudan",
          "Soudan du Sud",
          "Sri Lanka",
          "Suisse",
          "Suriname",
          "Suède",
          "Svalbard et Jan Mayen",
          "Sénégal",
          "Tadjikistan",
          "Tchad",
          "Tchéquie",
          "Terres australes et antarctiques françaises",
          "Territoire britannique de l’Océan Indien",
          "Thaïlande",
          "Timor-Leste",
          "Togo",
          "Tokélaou",
          "Tonga",
          "Trinité-et-Tobago",
          "Tunisie",
          "Turkménistan",
          "Turquie",
          "Tuvalu",
          "Ukraine",
          "Uruguay",
          "Vanuatu",
          "Venezuela (République bolivarienne du)",
          "Viet Nam",
          "Yémen",
          "Zambie",
          "Zimbabwe",
          "Égypte",
          "Émirats Arabes Unis",
          "Émirats arabes unis",
          "Équateur",
          "Érythrée",
          "États-Unis d'Amérique",
          "Éthiopie",
          "Île Bouvet",
          "Île Christmas",
          "Île Norfolk",
          "Île de Man",
          "Îles Cocos",
          "Îles Cook",
          "Îles Falkland (Malvinas)",
          "Îles Féroé",
          "Îles Heard-et-MacDonald",
          "Îles Mariannes du Nord",
          "Îles Marshall",
          "Îles Salomon",
          "Îles Turques-et-Caïques",
          "Îles Vierges américaines",
          "Îles Vierges britanniques",
          "Îles Wallis-et-Futuna",
          "Îles mineures éloignées des États-Unis",
          "Îles Åland"
         ],
         "locations": [
          "AFG",
          "ZAF",
          "ALB",
          "DZA",
          "DEU",
          "AND",
          "AGO",
          "AIA",
          "ATA",
          "ATG",
          "SAU",
          null,
          "ARG",
          "ARM",
          "ABW",
          "AUS",
          "AUT",
          "AZE",
          "BHS",
          "BHR",
          "BGD",
          "BRB",
          "BEL",
          "BLZ",
          "BMU",
          "BTN",
          "BOL",
          "BIH",
          "BWA",
          "BRN",
          "BRA",
          "BGR",
          "BFA",
          "BDI",
          "BLR",
          "BEN",
          "CPV",
          "KHM",
          "CMR",
          "CAN",
          "CHL",
          "HKG",
          "MAC",
          "TWN",
          "CHN",
          "CYP",
          "COL",
          "COM",
          "COG",
          "CRI",
          "HRV",
          "CUB",
          "CIV",
          "DNK",
          "DJI",
          "DMA",
          "SLV",
          "ESP",
          "EST",
          "SWZ",
          "FJI",
          "FIN",
          "FRA",
          "RUS",
          "GAB",
          "GMB",
          "GHA",
          "GIB",
          "GRD",
          "GRL",
          "GRC",
          "GLP",
          "GUM",
          "GTM",
          "GGY",
          "GIN",
          "GNQ",
          "GNB",
          "GUF",
          "GUY",
          "GEO",
          "SGS",
          "HTI",
          "HND",
          "HUN",
          "CYM",
          "IND",
          "IDN",
          "IRN",
          "IRQ",
          "IRL",
          "ISL",
          "ISR",
          "ITA",
          "JAM",
          "JPN",
          "JEY",
          "JOR",
          "KAZ",
          "KEN",
          "KGZ",
          "KIR",
          "KWT",
          "LSO",
          "LVA",
          "LBN",
          "LBY",
          "LBR",
          "LIE",
          "LTU",
          "LUX",
          "MKD",
          "MDG",
          "MYS",
          "MWI",
          "MDV",
          "MLI",
          "MLT",
          "MAR",
          "MTQ",
          "MUS",
          "MRT",
          "MYT",
          "MEX",
          "FSM",
          "MCO",
          "MNG",
          "MSR",
          "MNE",
          "MOZ",
          "MMR",
          "NAM",
          "NRU",
          "NIC",
          "NER",
          "NGA",
          "NIU",
          "NOR",
          "NCL",
          "NZL",
          "NPL",
          "OMN",
          "UGA",
          "UZB",
          "PAK",
          "PLW",
          "PSE",
          "PAN",
          "PNG",
          "PRY",
          "NLD",
          "PHL",
          "PCN",
          "POL",
          "PYF",
          "PRI",
          "PRT",
          "PER",
          "QAT",
          "ROU",
          "GBR",
          "RWA",
          "SYR",
          "CAF",
          "KOR",
          "MDA",
          "DOM",
          "COD",
          "LAO",
          "PRK",
          "TZA",
          "REU",
          "ESH",
          "BLM",
          "KNA",
          "SMR",
          "MAF",
          "SPM",
          "VAT",
          "VCT",
          "SHN",
          "LCA",
          "WSM",
          "ASM",
          "STP",
          "SRB",
          "SYC",
          "SLE",
          "SGP",
          "SXM",
          "SVK",
          "SVN",
          "SOM",
          "SDN",
          "SSD",
          "LKA",
          "CHE",
          "SUR",
          "SWE",
          "SJM",
          "SEN",
          "TJK",
          "TCD",
          "CZE",
          "ATF",
          "IOT",
          "THA",
          "TLS",
          "TGO",
          "TKL",
          "TON",
          "TTO",
          "TUN",
          "TKM",
          "TUR",
          "TUV",
          "UKR",
          "URY",
          "VUT",
          "VEN",
          "VNM",
          "YEM",
          "ZMB",
          "ZWE",
          "EGY",
          "ARE",
          null,
          "ECU",
          "ERI",
          "USA",
          "ETH",
          "BVT",
          "CXR",
          "NFK",
          "IMN",
          "CCK",
          "COK",
          "FLK",
          "FRO",
          "HMD",
          "MNP",
          "MHL",
          "SLB",
          "TCA",
          "VIR",
          "VGB",
          "WLF",
          "UMI",
          "ALA"
         ],
         "name": "",
         "type": "choropleth",
         "z": {
          "bdata": "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",
          "dtype": "f8"
         }
        }
       ],
       "layout": {
        "coloraxis": {
         "colorbar": {
          "title": {
           "text": "ratio_sous_nutrition_%"
          }
         },
         "colorscale": [
          [
           0,
           "rgb(196, 230, 195)"
          ],
          [
           0.16666666666666666,
           "rgb(150, 210, 164)"
          ],
          [
           0.3333333333333333,
           "rgb(109, 188, 144)"
          ],
          [
           0.5,
           "rgb(77, 162, 132)"
          ],
          [
           0.6666666666666666,
           "rgb(54, 135, 122)"
          ],
          [
           0.8333333333333334,
           "rgb(38, 107, 110)"
          ],
          [
           1,
           "rgb(29, 79, 96)"
          ]
         ]
        },
        "geo": {
         "center": {},
         "domain": {
          "x": [
           0,
           1
          ],
          "y": [
           0,
           1
          ]
         },
         "projection": {
          "type": "natural earth"
         }
        },
        "legend": {
         "tracegroupgap": 0
        },
        "margin": {
         "t": 60
        },
        "template": {
         "data": {
          "bar": [
           {
            "error_x": {
             "color": "#2a3f5f"
            },
            "error_y": {
             "color": "#2a3f5f"
            },
            "marker": {
             "line": {
              "color": "#E5ECF6",
              "width": 0.5
             },
             "pattern": {
              "fillmode": "overlay",
              "size": 10,
              "solidity": 0.2
             }
            },
            "type": "bar"
           }
          ],
          "barpolar": [
           {
            "marker": {
             "line": {
              "color": "#E5ECF6",
              "width": 0.5
             },
             "pattern": {
              "fillmode": "overlay",
              "size": 10,
              "solidity": 0.2
             }
            },
            "type": "barpolar"
           }
          ],
          "carpet": [
           {
            "aaxis": {
             "endlinecolor": "#2a3f5f",
             "gridcolor": "white",
             "linecolor": "white",
             "minorgridcolor": "white",
             "startlinecolor": "#2a3f5f"
            },
            "baxis": {
             "endlinecolor": "#2a3f5f",
             "gridcolor": "white",
             "linecolor": "white",
             "minorgridcolor": "white",
             "startlinecolor": "#2a3f5f"
            },
            "type": "carpet"
           }
          ],
          "choropleth": [
           {
            "colorbar": {
             "outlinewidth": 0,
             "ticks": ""
            },
            "type": "choropleth"
           }
          ],
          "contour": [
           {
            "colorbar": {
             "outlinewidth": 0,
             "ticks": ""
            },
            "colorscale": [
             [
              0,
              "#0d0887"
             ],
             [
              0.1111111111111111,
              "#46039f"
             ],
             [
              0.2222222222222222,
              "#7201a8"
             ],
             [
              0.3333333333333333,
              "#9c179e"
             ],
             [
              0.4444444444444444,
              "#bd3786"
             ],
             [
              0.5555555555555556,
              "#d8576b"
             ],
             [
              0.6666666666666666,
              "#ed7953"
             ],
             [
              0.7777777777777778,
              "#fb9f3a"
             ],
             [
              0.8888888888888888,
              "#fdca26"
             ],
             [
              1,
              "#f0f921"
             ]
            ],
            "type": "contour"
           }
          ],
          "contourcarpet": [
           {
            "colorbar": {
             "outlinewidth": 0,
             "ticks": ""
            },
            "type": "contourcarpet"
           }
          ],
          "heatmap": [
           {
            "colorbar": {
             "outlinewidth": 0,
             "ticks": ""
            },
            "colorscale": [
             [
              0,
              "#0d0887"
             ],
             [
              0.1111111111111111,
              "#46039f"
             ],
             [
              0.2222222222222222,
              "#7201a8"
             ],
             [
              0.3333333333333333,
              "#9c179e"
             ],
             [
              0.4444444444444444,
              "#bd3786"
             ],
             [
              0.5555555555555556,
              "#d8576b"
             ],
             [
              0.6666666666666666,
              "#ed7953"
             ],
             [
              0.7777777777777778,
              "#fb9f3a"
             ],
             [
              0.8888888888888888,
              "#fdca26"
             ],
             [
              1,
              "#f0f921"
             ]
            ],
            "type": "heatmap"
           }
          ],
          "histogram": [
           {
            "marker": {
             "pattern": {
              "fillmode": "overlay",
              "size": 10,
              "solidity": 0.2
             }
            },
            "type": "histogram"
           }
          ],
          "histogram2d": [
           {
            "colorbar": {
             "outlinewidth": 0,
             "ticks": ""
            },
            "colorscale": [
             [
              0,
              "#0d0887"
             ],
             [
              0.1111111111111111,
              "#46039f"
             ],
             [
              0.2222222222222222,
              "#7201a8"
             ],
             [
              0.3333333333333333,
              "#9c179e"
             ],
             [
              0.4444444444444444,
              "#bd3786"
             ],
             [
              0.5555555555555556,
              "#d8576b"
             ],
             [
              0.6666666666666666,
              "#ed7953"
             ],
             [
              0.7777777777777778,
              "#fb9f3a"
             ],
             [
              0.8888888888888888,
              "#fdca26"
             ],
             [
              1,
              "#f0f921"
             ]
            ],
            "type": "histogram2d"
           }
          ],
          "histogram2dcontour": [
           {
            "colorbar": {
             "outlinewidth": 0,
             "ticks": ""
            },
            "colorscale": [
             [
              0,
              "#0d0887"
             ],
             [
              0.1111111111111111,
              "#46039f"
             ],
             [
              0.2222222222222222,
              "#7201a8"
             ],
             [
              0.3333333333333333,
              "#9c179e"
             ],
             [
              0.4444444444444444,
              "#bd3786"
             ],
             [
              0.5555555555555556,
              "#d8576b"
             ],
             [
              0.6666666666666666,
              "#ed7953"
             ],
             [
              0.7777777777777778,
              "#fb9f3a"
             ],
             [
              0.8888888888888888,
              "#fdca26"
             ],
             [
              1,
              "#f0f921"
             ]
            ],
            "type": "histogram2dcontour"
           }
          ],
          "mesh3d": [
           {
            "colorbar": {
             "outlinewidth": 0,
             "ticks": ""
            },
            "type": "mesh3d"
           }
          ],
          "parcoords": [
           {
            "line": {
             "colorbar": {
              "outlinewidth": 0,
              "ticks": ""
             }
            },
            "type": "parcoords"
           }
          ],
          "pie": [
           {
            "automargin": true,
            "type": "pie"
           }
          ],
          "scatter": [
           {
            "fillpattern": {
             "fillmode": "overlay",
             "size": 10,
             "solidity": 0.2
            },
            "type": "scatter"
           }
          ],
          "scatter3d": [
           {
            "line": {
             "colorbar": {
              "outlinewidth": 0,
              "ticks": ""
             }
            },
            "marker": {
             "colorbar": {
              "outlinewidth": 0,
              "ticks": ""
             }
            },
            "type": "scatter3d"
           }
          ],
          "scattercarpet": [
           {
            "marker": {
             "colorbar": {
              "outlinewidth": 0,
              "ticks": ""
             }
            },
            "type": "scattercarpet"
           }
          ],
          "scattergeo": [
           {
            "marker": {
             "colorbar": {
              "outlinewidth": 0,
              "ticks": ""
             }
            },
            "type": "scattergeo"
           }
          ],
          "scattergl": [
           {
            "marker": {
             "colorbar": {
              "outlinewidth": 0,
              "ticks": ""
             }
            },
            "type": "scattergl"
           }
          ],
          "scattermap": [
           {
            "marker": {
             "colorbar": {
              "outlinewidth": 0,
              "ticks": ""
             }
            },
            "type": "scattermap"
           }
          ],
          "scattermapbox": [
           {
            "marker": {
             "colorbar": {
              "outlinewidth": 0,
              "ticks": ""
             }
            },
            "type": "scattermapbox"
           }
          ],
          "scatterpolar": [
           {
            "marker": {
             "colorbar": {
              "outlinewidth": 0,
              "ticks": ""
             }
            },
            "type": "scatterpolar"
           }
          ],
          "scatterpolargl": [
           {
            "marker": {
             "colorbar": {
              "outlinewidth": 0,
              "ticks": ""
             }
            },
            "type": "scatterpolargl"
           }
          ],
          "scatterternary": [
           {
            "marker": {
             "colorbar": {
              "outlinewidth": 0,
              "ticks": ""
             }
            },
            "type": "scatterternary"
           }
          ],
          "surface": [
           {
            "colorbar": {
             "outlinewidth": 0,
             "ticks": ""
            },
            "colorscale": [
             [
              0,
              "#0d0887"
             ],
             [
              0.1111111111111111,
              "#46039f"
             ],
             [
              0.2222222222222222,
              "#7201a8"
             ],
             [
              0.3333333333333333,
              "#9c179e"
             ],
             [
              0.4444444444444444,
              "#bd3786"
             ],
             [
              0.5555555555555556,
              "#d8576b"
             ],
             [
              0.6666666666666666,
              "#ed7953"
             ],
             [
              0.7777777777777778,
              "#fb9f3a"
             ],
             [
              0.8888888888888888,
              "#fdca26"
             ],
             [
              1,
              "#f0f921"
             ]
            ],
            "type": "surface"
           }
          ],
          "table": [
           {
            "cells": {
             "fill": {
              "color": "#EBF0F8"
             },
             "line": {
              "color": "white"
             }
            },
            "header": {
             "fill": {
              "color": "#C8D4E3"
             },
             "line": {
              "color": "white"
             }
            },
            "type": "table"
           }
          ]
         },
         "layout": {
          "annotationdefaults": {
           "arrowcolor": "#2a3f5f",
           "arrowhead": 0,
           "arrowwidth": 1
          },
          "autotypenumbers": "strict",
          "coloraxis": {
           "colorbar": {
            "outlinewidth": 0,
            "ticks": ""
           }
          },
          "colorscale": {
           "diverging": [
            [
             0,
             "#8e0152"
            ],
            [
             0.1,
             "#c51b7d"
            ],
            [
             0.2,
             "#de77ae"
            ],
            [
             0.3,
             "#f1b6da"
            ],
            [
             0.4,
             "#fde0ef"
            ],
            [
             0.5,
             "#f7f7f7"
            ],
            [
             0.6,
             "#e6f5d0"
            ],
            [
             0.7,
             "#b8e186"
            ],
            [
             0.8,
             "#7fbc41"
            ],
            [
             0.9,
             "#4d9221"
            ],
            [
             1,
             "#276419"
            ]
           ],
           "sequential": [
            [
             0,
             "#0d0887"
            ],
            [
             0.1111111111111111,
             "#46039f"
            ],
            [
             0.2222222222222222,
             "#7201a8"
            ],
            [
             0.3333333333333333,
             "#9c179e"
            ],
            [
             0.4444444444444444,
             "#bd3786"
            ],
            [
             0.5555555555555556,
             "#d8576b"
            ],
            [
             0.6666666666666666,
             "#ed7953"
            ],
            [
             0.7777777777777778,
             "#fb9f3a"
            ],
            [
             0.8888888888888888,
             "#fdca26"
            ],
            [
             1,
             "#f0f921"
            ]
           ],
           "sequentialminus": [
            [
             0,
             "#0d0887"
            ],
            [
             0.1111111111111111,
             "#46039f"
            ],
            [
             0.2222222222222222,
             "#7201a8"
            ],
            [
             0.3333333333333333,
             "#9c179e"
            ],
            [
             0.4444444444444444,
             "#bd3786"
            ],
            [
             0.5555555555555556,
             "#d8576b"
            ],
            [
             0.6666666666666666,
             "#ed7953"
            ],
            [
             0.7777777777777778,
             "#fb9f3a"
            ],
            [
             0.8888888888888888,
             "#fdca26"
            ],
            [
             1,
             "#f0f921"
            ]
           ]
          },
          "colorway": [
           "#636efa",
           "#EF553B",
           "#00cc96",
           "#ab63fa",
           "#FFA15A",
           "#19d3f3",
           "#FF6692",
           "#B6E880",
           "#FF97FF",
           "#FECB52"
          ],
          "font": {
           "color": "#2a3f5f"
          },
          "geo": {
           "bgcolor": "white",
           "lakecolor": "white",
           "landcolor": "#E5ECF6",
           "showlakes": true,
           "showland": true,
           "subunitcolor": "white"
          },
          "hoverlabel": {
           "align": "left"
          },
          "hovermode": "closest",
          "mapbox": {
           "style": "light"
          },
          "paper_bgcolor": "white",
          "plot_bgcolor": "#E5ECF6",
          "polar": {
           "angularaxis": {
            "gridcolor": "white",
            "linecolor": "white",
            "ticks": ""
           },
           "bgcolor": "#E5ECF6",
           "radialaxis": {
            "gridcolor": "white",
            "linecolor": "white",
            "ticks": ""
           }
          },
          "scene": {
           "xaxis": {
            "backgroundcolor": "#E5ECF6",
            "gridcolor": "white",
            "gridwidth": 2,
            "linecolor": "white",
            "showbackground": true,
            "ticks": "",
            "zerolinecolor": "white"
           },
           "yaxis": {
            "backgroundcolor": "#E5ECF6",
            "gridcolor": "white",
            "gridwidth": 2,
            "linecolor": "white",
            "showbackground": true,
            "ticks": "",
            "zerolinecolor": "white"
           },
           "zaxis": {
            "backgroundcolor": "#E5ECF6",
            "gridcolor": "white",
            "gridwidth": 2,
            "linecolor": "white",
            "showbackground": true,
            "ticks": "",
            "zerolinecolor": "white"
           }
          },
          "shapedefaults": {
           "line": {
            "color": "#2a3f5f"
           }
          },
          "ternary": {
           "aaxis": {
            "gridcolor": "white",
            "linecolor": "white",
            "ticks": ""
           },
           "baxis": {
            "gridcolor": "white",
            "linecolor": "white",
            "ticks": ""
           },
           "bgcolor": "#E5ECF6",
           "caxis": {
            "gridcolor": "white",
            "linecolor": "white",
            "ticks": ""
           }
          },
          "title": {
           "x": 0.05
          },
          "xaxis": {
           "automargin": true,
           "gridcolor": "white",
           "linecolor": "white",
           "ticks": "",
           "title": {
            "standoff": 15
           },
           "zerolinecolor": "white",
           "zerolinewidth": 2
          },
          "yaxis": {
           "automargin": true,
           "gridcolor": "white",
           "linecolor": "white",
           "ticks": "",
           "title": {
            "standoff": 15
           },
           "zerolinecolor": "white",
           "zerolinewidth": 2
          }
         }
        }
       }
      }
     },
     "metadata": {},
     "output_type": "display_data"
    }
   ],
   "source": [
    "#Paramètre du graphique\n",
    "fig = plotyexpress.choropleth(codeISO, locations=\"ISO 3166-1 alpha-3\", #DataFrame, Données Iso à croiser                    \n",
    "                    color=\"ratio_sous_nutrition_%\",   # la colonne qui doit être coloré                   \n",
    "                    hover_name=\"zone\",  # la colonne qui montre les pays\n",
    "                    color_continuous_scale=plotyexpress.colors.sequential.Blugrn, #la couleur à afficher\n",
    "                    projection = \"natural earth\") # la forme de la carte\n",
    "# affichage du Graphe  \n",
    "fig.show()"
   ]
  },
  {
   "cell_type": "markdown",
   "id": "098c25d1",
   "metadata": {},
   "source": [
    "> ## <a name=\"Question22\"></a> Question 02 : Liste des Pays qui ont le plus bénéficié d'aide\n",
    "\n",
    "\n",
    "[Retour Table des matières](#Table_des_matières)\n"
   ]
  },
  {
   "cell_type": "code",
   "execution_count": 31,
   "id": "48ebb8e1",
   "metadata": {},
   "outputs": [
    {
     "name": "stderr",
     "output_type": "stream",
     "text": [
      "C:\\Users\\Nous\\AppData\\Local\\Temp\\ipykernel_15944\\1463846857.py:6: FutureWarning:\n",
      "\n",
      "The provided callable <function sum at 0x0000024C03F30180> is currently using SeriesGroupBy.sum. In a future version of pandas, the provided callable will be used directly. To keep current behavior pass the string \"sum\" instead.\n",
      "\n"
     ]
    },
    {
     "data": {
      "text/html": [
       "<div>\n",
       "<style scoped>\n",
       "    .dataframe tbody tr th:only-of-type {\n",
       "        vertical-align: middle;\n",
       "    }\n",
       "\n",
       "    .dataframe tbody tr th {\n",
       "        vertical-align: top;\n",
       "    }\n",
       "\n",
       "    .dataframe thead th {\n",
       "        text-align: right;\n",
       "    }\n",
       "</style>\n",
       "<table border=\"1\" class=\"dataframe\">\n",
       "  <thead>\n",
       "    <tr style=\"text-align: right;\">\n",
       "      <th></th>\n",
       "      <th>quantité_aide_alimentaire(Millons de t)</th>\n",
       "    </tr>\n",
       "    <tr>\n",
       "      <th>zone</th>\n",
       "      <th></th>\n",
       "    </tr>\n",
       "  </thead>\n",
       "  <tbody>\n",
       "    <tr>\n",
       "      <th>République arabe syrienne</th>\n",
       "      <td>1376.466</td>\n",
       "    </tr>\n",
       "    <tr>\n",
       "      <th>Éthiopie</th>\n",
       "      <td>1311.820</td>\n",
       "    </tr>\n",
       "    <tr>\n",
       "      <th>Yémen</th>\n",
       "      <td>1130.305</td>\n",
       "    </tr>\n",
       "    <tr>\n",
       "      <th>Soudan du Sud</th>\n",
       "      <td>670.629</td>\n",
       "    </tr>\n",
       "    <tr>\n",
       "      <th>Soudan</th>\n",
       "      <td>637.657</td>\n",
       "    </tr>\n",
       "    <tr>\n",
       "      <th>Kenya</th>\n",
       "      <td>510.458</td>\n",
       "    </tr>\n",
       "    <tr>\n",
       "      <th>Bangladesh</th>\n",
       "      <td>340.691</td>\n",
       "    </tr>\n",
       "    <tr>\n",
       "      <th>Somalie</th>\n",
       "      <td>273.950</td>\n",
       "    </tr>\n",
       "    <tr>\n",
       "      <th>Tchad</th>\n",
       "      <td>253.048</td>\n",
       "    </tr>\n",
       "    <tr>\n",
       "      <th>République démocratique du Congo</th>\n",
       "      <td>242.491</td>\n",
       "    </tr>\n",
       "    <tr>\n",
       "      <th>Niger</th>\n",
       "      <td>196.466</td>\n",
       "    </tr>\n",
       "    <tr>\n",
       "      <th>République populaire démocratique de Corée</th>\n",
       "      <td>167.511</td>\n",
       "    </tr>\n",
       "    <tr>\n",
       "      <th>Afghanistan</th>\n",
       "      <td>167.399</td>\n",
       "    </tr>\n",
       "  </tbody>\n",
       "</table>\n",
       "</div>"
      ],
      "text/plain": [
       "                                            quantité_aide_alimentaire(Millons de t)\n",
       "zone                                                                               \n",
       "République arabe syrienne                                                  1376.466\n",
       "Éthiopie                                                                   1311.820\n",
       "Yémen                                                                      1130.305\n",
       "Soudan du Sud                                                               670.629\n",
       "Soudan                                                                      637.657\n",
       "Kenya                                                                       510.458\n",
       "Bangladesh                                                                  340.691\n",
       "Somalie                                                                     273.950\n",
       "Tchad                                                                       253.048\n",
       "République démocratique du Congo                                            242.491\n",
       "Niger                                                                       196.466\n",
       "République populaire démocratique de Corée                                  167.511\n",
       "Afghanistan                                                                 167.399"
      ]
     },
     "execution_count": 31,
     "metadata": {},
     "output_type": "execute_result"
    }
   ],
   "source": [
    "# On récupére le dataframe d'aide alimentaire\n",
    "question02Mel = aideAlimentaire\n",
    "# Supprimer les colonnes inutiles\n",
    "question02Mel = question02Mel.drop(columns=[\"produit\", \"année\"])\n",
    "# Regrouper les données par pays\n",
    "question02Mel = question02Mel.groupby(['zone']).agg({'quantité_aide_alimentaire(Millons de t)': numpy.sum})\n",
    "# Afficher la liste des pays ayant reçu le plus d'aide par ordre décroissant\n",
    "question02Mel.sort_values(by = 'quantité_aide_alimentaire(Millons de t)', ascending = False).head(13)\n"
   ]
  },
  {
   "cell_type": "markdown",
   "id": "e378c5ef",
   "metadata": {},
   "source": [
    "> ## <a name=\"Question23\"></a> Question 03 : Les pays ayant le plus de disponibilité par habitant\n",
    "\n",
    "\n",
    "[Retour Table des matières](#Table_des_matières)\n"
   ]
  },
  {
   "cell_type": "code",
   "execution_count": 32,
   "id": "96a2cd2e",
   "metadata": {},
   "outputs": [
    {
     "data": {
      "text/html": [
       "<div>\n",
       "<style scoped>\n",
       "    .dataframe tbody tr th:only-of-type {\n",
       "        vertical-align: middle;\n",
       "    }\n",
       "\n",
       "    .dataframe tbody tr th {\n",
       "        vertical-align: top;\n",
       "    }\n",
       "\n",
       "    .dataframe thead th {\n",
       "        text-align: right;\n",
       "    }\n",
       "</style>\n",
       "<table border=\"1\" class=\"dataframe\">\n",
       "  <thead>\n",
       "    <tr style=\"text-align: right;\">\n",
       "      <th></th>\n",
       "      <th>disponibilité alimentaire (kcal/personne/jour)</th>\n",
       "    </tr>\n",
       "    <tr>\n",
       "      <th>zone</th>\n",
       "      <th></th>\n",
       "    </tr>\n",
       "  </thead>\n",
       "  <tbody>\n",
       "    <tr>\n",
       "      <th>Autriche</th>\n",
       "      <td>3770.0</td>\n",
       "    </tr>\n",
       "    <tr>\n",
       "      <th>Belgique</th>\n",
       "      <td>3737.0</td>\n",
       "    </tr>\n",
       "    <tr>\n",
       "      <th>Turquie</th>\n",
       "      <td>3708.0</td>\n",
       "    </tr>\n",
       "    <tr>\n",
       "      <th>États-Unis d'Amérique</th>\n",
       "      <td>3682.0</td>\n",
       "    </tr>\n",
       "    <tr>\n",
       "      <th>Israël</th>\n",
       "      <td>3610.0</td>\n",
       "    </tr>\n",
       "    <tr>\n",
       "      <th>Irlande</th>\n",
       "      <td>3602.0</td>\n",
       "    </tr>\n",
       "    <tr>\n",
       "      <th>Italie</th>\n",
       "      <td>3578.0</td>\n",
       "    </tr>\n",
       "    <tr>\n",
       "      <th>Luxembourg</th>\n",
       "      <td>3540.0</td>\n",
       "    </tr>\n",
       "    <tr>\n",
       "      <th>Égypte</th>\n",
       "      <td>3518.0</td>\n",
       "    </tr>\n",
       "    <tr>\n",
       "      <th>Allemagne</th>\n",
       "      <td>3503.0</td>\n",
       "    </tr>\n",
       "    <tr>\n",
       "      <th>Koweït</th>\n",
       "      <td>3499.0</td>\n",
       "    </tr>\n",
       "    <tr>\n",
       "      <th>Canada</th>\n",
       "      <td>3499.0</td>\n",
       "    </tr>\n",
       "    <tr>\n",
       "      <th>Monténégro</th>\n",
       "      <td>3490.0</td>\n",
       "    </tr>\n",
       "  </tbody>\n",
       "</table>\n",
       "</div>"
      ],
      "text/plain": [
       "                       disponibilité alimentaire (kcal/personne/jour)\n",
       "zone                                                                 \n",
       "Autriche                                                       3770.0\n",
       "Belgique                                                       3737.0\n",
       "Turquie                                                        3708.0\n",
       "États-Unis d'Amérique                                          3682.0\n",
       "Israël                                                         3610.0\n",
       "Irlande                                                        3602.0\n",
       "Italie                                                         3578.0\n",
       "Luxembourg                                                     3540.0\n",
       "Égypte                                                         3518.0\n",
       "Allemagne                                                      3503.0\n",
       "Koweït                                                         3499.0\n",
       "Canada                                                         3499.0\n",
       "Monténégro                                                     3490.0"
      ]
     },
     "execution_count": 32,
     "metadata": {},
     "output_type": "execute_result"
    }
   ],
   "source": [
    "# récupére le dataframe de disponibilité alimentaire en sélectionnant les données \n",
    "question03Mel = dispoAlimentaire[['zone','disponibilité alimentaire (kcal/personne/jour)']]\n",
    "# Grouper les données par zone\n",
    "question03Mel = question03Mel.groupby(['zone']).sum()\n",
    "# Afficher la liste des pays avec le plus de disponibilité par ordre décroissant\n",
    "question03Mel.sort_values(by = 'disponibilité alimentaire (kcal/personne/jour)', ascending = False).head(13)"
   ]
  },
  {
   "cell_type": "markdown",
   "id": "03effdd4",
   "metadata": {},
   "source": [
    "> ## <a name=\"Question24\"></a> Question 04 : Les pays ayant le moins de disponibilité par habitant\n",
    "\n",
    "\n",
    "[Retour Table des matières](#Table_des_matières)\n"
   ]
  },
  {
   "cell_type": "code",
   "execution_count": 33,
   "id": "8a9a69a3",
   "metadata": {},
   "outputs": [
    {
     "data": {
      "text/html": [
       "<div>\n",
       "<style scoped>\n",
       "    .dataframe tbody tr th:only-of-type {\n",
       "        vertical-align: middle;\n",
       "    }\n",
       "\n",
       "    .dataframe tbody tr th {\n",
       "        vertical-align: top;\n",
       "    }\n",
       "\n",
       "    .dataframe thead th {\n",
       "        text-align: right;\n",
       "    }\n",
       "</style>\n",
       "<table border=\"1\" class=\"dataframe\">\n",
       "  <thead>\n",
       "    <tr style=\"text-align: right;\">\n",
       "      <th></th>\n",
       "      <th>disponibilité alimentaire (kcal/personne/jour)</th>\n",
       "    </tr>\n",
       "    <tr>\n",
       "      <th>zone</th>\n",
       "      <th></th>\n",
       "    </tr>\n",
       "  </thead>\n",
       "  <tbody>\n",
       "    <tr>\n",
       "      <th>République centrafricaine</th>\n",
       "      <td>1879.0</td>\n",
       "    </tr>\n",
       "    <tr>\n",
       "      <th>Zambie</th>\n",
       "      <td>1924.0</td>\n",
       "    </tr>\n",
       "    <tr>\n",
       "      <th>Madagascar</th>\n",
       "      <td>2056.0</td>\n",
       "    </tr>\n",
       "    <tr>\n",
       "      <th>Afghanistan</th>\n",
       "      <td>2087.0</td>\n",
       "    </tr>\n",
       "    <tr>\n",
       "      <th>Haïti</th>\n",
       "      <td>2089.0</td>\n",
       "    </tr>\n",
       "    <tr>\n",
       "      <th>République populaire démocratique de Corée</th>\n",
       "      <td>2093.0</td>\n",
       "    </tr>\n",
       "    <tr>\n",
       "      <th>Tchad</th>\n",
       "      <td>2109.0</td>\n",
       "    </tr>\n",
       "    <tr>\n",
       "      <th>Zimbabwe</th>\n",
       "      <td>2113.0</td>\n",
       "    </tr>\n",
       "    <tr>\n",
       "      <th>Ouganda</th>\n",
       "      <td>2126.0</td>\n",
       "    </tr>\n",
       "    <tr>\n",
       "      <th>Éthiopie</th>\n",
       "      <td>2129.0</td>\n",
       "    </tr>\n",
       "    <tr>\n",
       "      <th>Timor-Leste</th>\n",
       "      <td>2129.0</td>\n",
       "    </tr>\n",
       "    <tr>\n",
       "      <th>Namibie</th>\n",
       "      <td>2166.0</td>\n",
       "    </tr>\n",
       "    <tr>\n",
       "      <th>Tadjikistan</th>\n",
       "      <td>2199.0</td>\n",
       "    </tr>\n",
       "  </tbody>\n",
       "</table>\n",
       "</div>"
      ],
      "text/plain": [
       "                                            disponibilité alimentaire (kcal/personne/jour)\n",
       "zone                                                                                      \n",
       "République centrafricaine                                                           1879.0\n",
       "Zambie                                                                              1924.0\n",
       "Madagascar                                                                          2056.0\n",
       "Afghanistan                                                                         2087.0\n",
       "Haïti                                                                               2089.0\n",
       "République populaire démocratique de Corée                                          2093.0\n",
       "Tchad                                                                               2109.0\n",
       "Zimbabwe                                                                            2113.0\n",
       "Ouganda                                                                             2126.0\n",
       "Éthiopie                                                                            2129.0\n",
       "Timor-Leste                                                                         2129.0\n",
       "Namibie                                                                             2166.0\n",
       "Tadjikistan                                                                         2199.0"
      ]
     },
     "execution_count": 33,
     "metadata": {},
     "output_type": "execute_result"
    }
   ],
   "source": [
    "#On récupère le dataframe précédent\n",
    "question04Mel = question03Mel\n",
    "# Afficher la liste des pays le moins de disponibilité par ordre décroissant\n",
    "question04Mel.sort_values(by = 'disponibilité alimentaire (kcal/personne/jour)', ascending = True).head(13)"
   ]
  },
  {
   "cell_type": "markdown",
   "id": "806e93c4",
   "metadata": {},
   "source": [
    "# Partie 4 - Analyse de Julien\n",
    "\n",
    "> ## <a name=\"Question41\"></a> Question 01 : Utilisation des céréales\n",
    "\n",
    "[Retour Table des matières](#Table_des_matières)"
   ]
  },
  {
   "cell_type": "code",
   "execution_count": 34,
   "id": "0b755128",
   "metadata": {
    "scrolled": true
   },
   "outputs": [
    {
     "data": {
      "text/html": [
       "<div>\n",
       "<style scoped>\n",
       "    .dataframe tbody tr th:only-of-type {\n",
       "        vertical-align: middle;\n",
       "    }\n",
       "\n",
       "    .dataframe tbody tr th {\n",
       "        vertical-align: top;\n",
       "    }\n",
       "\n",
       "    .dataframe thead th {\n",
       "        text-align: right;\n",
       "    }\n",
       "</style>\n",
       "<table border=\"1\" class=\"dataframe\">\n",
       "  <thead>\n",
       "    <tr style=\"text-align: right;\">\n",
       "      <th></th>\n",
       "      <th>produit</th>\n",
       "      <th>zone</th>\n",
       "      <th>aliments pour animaux</th>\n",
       "      <th>disponibilité intérieure</th>\n",
       "      <th>nourriture</th>\n",
       "      <th>%_aliments_animaux</th>\n",
       "      <th>%_nourriture</th>\n",
       "    </tr>\n",
       "  </thead>\n",
       "  <tbody>\n",
       "    <tr>\n",
       "      <th>0</th>\n",
       "      <td>Avoine</td>\n",
       "      <td>Afrique du SudAlbanieAlgérieAllemagneAngolaAnt...</td>\n",
       "      <td>16251.0</td>\n",
       "      <td>23407.0</td>\n",
       "      <td>3903.0</td>\n",
       "      <td>69.43</td>\n",
       "      <td>16.67</td>\n",
       "    </tr>\n",
       "    <tr>\n",
       "      <th>1</th>\n",
       "      <td>Blé</td>\n",
       "      <td>AfghanistanAfrique du SudAlbanieAlgérieAllemag...</td>\n",
       "      <td>129668.0</td>\n",
       "      <td>679498.0</td>\n",
       "      <td>457824.0</td>\n",
       "      <td>19.08</td>\n",
       "      <td>67.38</td>\n",
       "    </tr>\n",
       "    <tr>\n",
       "      <th>2</th>\n",
       "      <td>Céréales, Autres</td>\n",
       "      <td>AfghanistanAfrique du SudAlbanieAlgérieAllemag...</td>\n",
       "      <td>19035.0</td>\n",
       "      <td>27485.0</td>\n",
       "      <td>5324.0</td>\n",
       "      <td>69.26</td>\n",
       "      <td>19.37</td>\n",
       "    </tr>\n",
       "    <tr>\n",
       "      <th>3</th>\n",
       "      <td>Maïs</td>\n",
       "      <td>AfghanistanAfrique du SudAlbanieAlgérieAllemag...</td>\n",
       "      <td>546116.0</td>\n",
       "      <td>955799.0</td>\n",
       "      <td>125184.0</td>\n",
       "      <td>57.14</td>\n",
       "      <td>13.10</td>\n",
       "    </tr>\n",
       "    <tr>\n",
       "      <th>4</th>\n",
       "      <td>Millet</td>\n",
       "      <td>AfghanistanAfrique du SudAlbanieAlgérieAllemag...</td>\n",
       "      <td>3306.0</td>\n",
       "      <td>29911.0</td>\n",
       "      <td>23040.0</td>\n",
       "      <td>11.05</td>\n",
       "      <td>77.03</td>\n",
       "    </tr>\n",
       "    <tr>\n",
       "      <th>5</th>\n",
       "      <td>Orge</td>\n",
       "      <td>AfghanistanAfrique du SudAlbanieAlgérieAllemag...</td>\n",
       "      <td>92658.0</td>\n",
       "      <td>140439.0</td>\n",
       "      <td>6794.0</td>\n",
       "      <td>65.98</td>\n",
       "      <td>4.84</td>\n",
       "    </tr>\n",
       "    <tr>\n",
       "      <th>6</th>\n",
       "      <td>Riz (Eq Blanchi)</td>\n",
       "      <td>AfghanistanAfrique du SudAlbanieAlgérieAllemag...</td>\n",
       "      <td>33594.0</td>\n",
       "      <td>475656.0</td>\n",
       "      <td>377286.0</td>\n",
       "      <td>7.06</td>\n",
       "      <td>79.32</td>\n",
       "    </tr>\n",
       "    <tr>\n",
       "      <th>7</th>\n",
       "      <td>Seigle</td>\n",
       "      <td>Afrique du SudAlbanieAlgérieAllemagneAntigua-e...</td>\n",
       "      <td>8099.0</td>\n",
       "      <td>16567.0</td>\n",
       "      <td>5502.0</td>\n",
       "      <td>48.89</td>\n",
       "      <td>33.21</td>\n",
       "    </tr>\n",
       "    <tr>\n",
       "      <th>8</th>\n",
       "      <td>Sorgho</td>\n",
       "      <td>Afrique du SudAlbanieAlgérieAllemagneAngolaAnt...</td>\n",
       "      <td>24808.0</td>\n",
       "      <td>58237.0</td>\n",
       "      <td>24153.0</td>\n",
       "      <td>42.60</td>\n",
       "      <td>41.47</td>\n",
       "    </tr>\n",
       "  </tbody>\n",
       "</table>\n",
       "</div>"
      ],
      "text/plain": [
       "            produit                                               zone  \\\n",
       "0            Avoine  Afrique du SudAlbanieAlgérieAllemagneAngolaAnt...   \n",
       "1               Blé  AfghanistanAfrique du SudAlbanieAlgérieAllemag...   \n",
       "2  Céréales, Autres  AfghanistanAfrique du SudAlbanieAlgérieAllemag...   \n",
       "3              Maïs  AfghanistanAfrique du SudAlbanieAlgérieAllemag...   \n",
       "4            Millet  AfghanistanAfrique du SudAlbanieAlgérieAllemag...   \n",
       "5              Orge  AfghanistanAfrique du SudAlbanieAlgérieAllemag...   \n",
       "6  Riz (Eq Blanchi)  AfghanistanAfrique du SudAlbanieAlgérieAllemag...   \n",
       "7            Seigle  Afrique du SudAlbanieAlgérieAllemagneAntigua-e...   \n",
       "8            Sorgho  Afrique du SudAlbanieAlgérieAllemagneAngolaAnt...   \n",
       "\n",
       "   aliments pour animaux  disponibilité intérieure  nourriture  \\\n",
       "0                16251.0                   23407.0      3903.0   \n",
       "1               129668.0                  679498.0    457824.0   \n",
       "2                19035.0                   27485.0      5324.0   \n",
       "3               546116.0                  955799.0    125184.0   \n",
       "4                 3306.0                   29911.0     23040.0   \n",
       "5                92658.0                  140439.0      6794.0   \n",
       "6                33594.0                  475656.0    377286.0   \n",
       "7                 8099.0                   16567.0      5502.0   \n",
       "8                24808.0                   58237.0     24153.0   \n",
       "\n",
       "   %_aliments_animaux  %_nourriture  \n",
       "0               69.43         16.67  \n",
       "1               19.08         67.38  \n",
       "2               69.26         19.37  \n",
       "3               57.14         13.10  \n",
       "4               11.05         77.03  \n",
       "5               65.98          4.84  \n",
       "6                7.06         79.32  \n",
       "7               48.89         33.21  \n",
       "8               42.60         41.47  "
      ]
     },
     "execution_count": 34,
     "metadata": {},
     "output_type": "execute_result"
    }
   ],
   "source": [
    "# Récuperer la liste des céréales sur le site de la FAO (https://www.fao.org/faostat/fr/#data/FBS) dans groupe de produits\n",
    "liste_cereale = [\"Blé\",\"Maïs\",\"Millet\",\"Orge\",\"Riz (Eq Blanchi)\",\"Avoine\",\"Céréales, Autres\",\"Seigle\",\"Sorgho\"]\n",
    "# Récupérer le dataframe dispo alimentaire\n",
    "question01Jul = dispoAlimentaire\n",
    "# Supprimer les colonnes inutiles\n",
    "question01Jul = question01Jul.drop(columns=[\"origine\", \"disponibilité alimentaire (kcal/personne/jour)\", \n",
    "    \"disponibilité alimentaire en quantité (kg/personne/an)\",\"disponibilité de matière grasse en quantité (g/personne/jour)\",\n",
    "    \"disponibilité de protéines en quantité (g/personne/jour)\", \"exportations - quantité\",\"importations - quantité\", \n",
    "    \"production\", \"variation de stock\", \"autres utilisations\", \"pertes\", \"semences\", \"traitement\" ])\n",
    "# Garder les éléments de la liste Céréale, isin ne retourne que les valeurs vrais.\n",
    "question01Jul= question01Jul[question01Jul['produit'].isin(liste_cereale)]\n",
    "# grouper sur les produits\n",
    "question01Jul= question01Jul.groupby(\"produit\").sum()\n",
    "question01Jul.reset_index(drop=False, inplace=True)\n",
    "# Création des colonnes %Apa et %nourriture\n",
    "question01Jul['%_aliments_animaux'] = numpy.round(question01Jul['aliments pour animaux'] / question01Jul['disponibilité intérieure'] * 100,2)\n",
    "question01Jul['%_nourriture'] = numpy.round(question01Jul['nourriture'] / question01Jul['disponibilité intérieure'] * 100,2)\n",
    "question01Jul.head(10)"
   ]
  },
  {
   "cell_type": "code",
   "execution_count": 35,
   "id": "702e02d3",
   "metadata": {},
   "outputs": [
    {
     "name": "stdout",
     "output_type": "stream",
     "text": [
      "36.29% des céréales servent à nourrir des animaux\n",
      "\n",
      "42.75% des céréales servent à nourrir des humains\n"
     ]
    }
   ],
   "source": [
    "# Calculer et afficher les résultats\n",
    "totalAnimaux = question01Jul[\"aliments pour animaux\"].sum()\n",
    "totalNourriture = question01Jul['nourriture'].sum()\n",
    "totalDisponibilité = question01Jul['disponibilité intérieure'].sum()\n",
    "pourcentageAnimaux = totalAnimaux  / totalDisponibilité\n",
    "pourcentageNourriture = totalNourriture  / totalDisponibilité\n",
    "print(\"{:.2%}\".format(pourcentageAnimaux), \"des céréales servent à nourrir des animaux\")\n",
    "print(\"\")\n",
    "print(\"{:.2%}\".format(pourcentageNourriture), \"des céréales servent à nourrir des humains\")\n"
   ]
  },
  {
   "cell_type": "markdown",
   "id": "8fd1e336",
   "metadata": {},
   "source": [
    "> ## <a name=\"Question42\"></a> Question 02 : Utilisation du Manioc en Thailande\n",
    "[Retour Table des matières](#Table_des_matières)"
   ]
  },
  {
   "cell_type": "code",
   "execution_count": 36,
   "id": "4483b239",
   "metadata": {},
   "outputs": [
    {
     "name": "stdout",
     "output_type": "stream",
     "text": [
      "La Thaïlande produit 30.228 milliers de tonnes de manioc, elle en exporte 25.214 milliers de tonnes.\n",
      "\n",
      "La Thaïlande exporte donc 83.4%  de sa production de Manioc.\n",
      "\n",
      "2.9% du manioc est pour l'alimentation humaine en Thailande\n"
     ]
    }
   ],
   "source": [
    "# Récuperer le Dataframe dispoAlimentaire\n",
    "question02Jula = dispoAlimentaire\n",
    "# Filtrer sur les données de la Thailande et du manioc\n",
    "question02Jula = question02Jula.loc[(question02Jula['produit'] == \"Manioc\") & (question02Jula['zone'] == \"Thaïlande\"),:]\n",
    "maniocExport = question02Jula['exportations - quantité'].sum() /1000\n",
    "maniocProduction = question02Jula['production'].sum()/ 1000\n",
    "maniocNourriture = question02Jula['nourriture'].sum()/ 1000\n",
    "pourcentageManioc = maniocExport/maniocProduction\n",
    "pourcentageNourriture = maniocNourriture/maniocProduction\n",
    "# Affichee la proportion\n",
    "print(\"La Thaïlande produit\", maniocProduction, \"milliers de tonnes de manioc, elle en exporte\", maniocExport, \"milliers de tonnes.\")\n",
    "print(\"\")\n",
    "print(\"La Thaïlande exporte donc\", \"{:.1%}\".format(pourcentageManioc), \" de sa production de Manioc.\")\n",
    "print(\"\")\n",
    "print(\"{:.1%}\".format(pourcentageNourriture) , \"du manioc est pour l'alimentation humaine en Thailande\")\n"
   ]
  },
  {
   "cell_type": "code",
   "execution_count": 37,
   "id": "9293da15",
   "metadata": {},
   "outputs": [
    {
     "name": "stdout",
     "output_type": "stream",
     "text": [
      "la taux de sous nutrition en Thaïlande est de 8.96%\n"
     ]
    }
   ],
   "source": [
    "# Récuperer le Dataframe de la 1ere question de Marc\n",
    "question02Julb = question01Ma\n",
    "# Filtrer sur les résultats de la Thailande uniquement\n",
    "question02Julb  = question02Julb[question02Julb.zone==\"Thaïlande\"]\n",
    "#question02Julb = question02Julb.loc[(question02Julb['zone'] == \"Thaïlande\"),:]\n",
    "sousNutritionThailande = question02Julb['ratio_sous_nutrition_%'].values[0] / 100\n",
    "print(\"la taux de sous nutrition en Thaïlande est de\", \"{:.2%}\".format(sousNutritionThailande))"
   ]
  },
  {
   "cell_type": "markdown",
   "id": "1d988090",
   "metadata": {},
   "source": [
    "# <a name=\"Table_des_matières\"></a> Partie 5 - Table des matières\n",
    "\n"
   ]
  },
  {
   "cell_type": "markdown",
   "id": "a4f71be8",
   "metadata": {},
   "source": [
    "##  1. Importation et Nettoyage des Données\n",
    "\n",
    "[Bibliothèque](#debut) : Importation des différentes bibliothèques\n",
    "\n",
    "[Fichier Aide Alimentaire](#aide_alimentaire) : Exploration et mise en forme des données du fichier d'aide alimentaire \n",
    "\n",
    "[Fichier Population](#population) : Exploration et mise en forme des données du fichier Population\n",
    "\n",
    "[Retour Sous_Nutrition](#Sous_Nutrition) : Exploration et mise en forme des données du fichier Sous Nutrition\n",
    "\n",
    "[Retour Dispo Alimentaire](#Dispo_Alimentaire) : Exploration et mise en forme des données du fichier disponibilité alimentaire\n",
    "\n",
    "## 2. Questions de Marc\n",
    "\n",
    ">[Question n°01](#Question01) : Personnes en état de sous-nutrition\n",
    "\n",
    ">[Question n°02](#Question02) : Personnes qui pourraient être nourries avec la disponibilité totale\n",
    "\n",
    ">[Question n°03](#Question03) : Personnes qui pourraient être nourries avec la disponibilité des végétaux\n",
    "\n",
    ">[Question n°04](#Question04) : Disponibilité Alimentaire\n",
    "\n",
    ">> [Question n°04a](#Question04a) : Alimentation animales, \n",
    "> >[Question n°04b](#Question04b) : Pertes Alimentaires,\n",
    ">> [Question n°04c](#Question04c) : Nourriture Humaines.\n",
    "\n",
    "\n",
    "## 3. Questions de Mélanie\n",
    "\n",
    ">[Question n°01](#Question21) : proportion de personnes sous-alimentées est la plus forte en 2017\n",
    "\n",
    ">[Question n°02](#Question22) : Liste des Pays qui ont le plus bénéficié d'aide\n",
    "\n",
    ">[Question n°03](#Question23) : Les pays ayant le plus de disponibilité par habitant\n",
    "\n",
    ">[Question n°04](#Question24) : Les pays ayant le moins de disponibilité par habitant\n",
    "\n",
    "\n",
    "## 4. Questions de Julien\n",
    "\n",
    ">[Question n°01](#Question41) : Utilisation des Céréales\n",
    "\n",
    ">[Question n°02](#Question42) : Utilisation du Manioc en Thaïlande\n",
    "\n",
    "[Retour Table des matières](#Table_des_matières)\n"
   ]
  },
  {
   "cell_type": "code",
   "execution_count": null,
   "id": "963d7cdb",
   "metadata": {},
   "outputs": [],
   "source": []
  }
 ],
 "metadata": {
  "celltoolbar": "Format de la Cellule Texte Brut",
  "kernelspec": {
   "display_name": "Python 3 (ipykernel)",
   "language": "python",
   "name": "python3"
  },
  "language_info": {
   "codemirror_mode": {
    "name": "ipython",
    "version": 3
   },
   "file_extension": ".py",
   "mimetype": "text/x-python",
   "name": "python",
   "nbconvert_exporter": "python",
   "pygments_lexer": "ipython3",
   "version": "3.13.5"
  },
  "toc": {
   "base_numbering": 1,
   "nav_menu": {},
   "number_sections": true,
   "sideBar": true,
   "skip_h1_title": false,
   "title_cell": "Table of Contents",
   "title_sidebar": "Contents",
   "toc_cell": false,
   "toc_position": {},
   "toc_section_display": true,
   "toc_window_display": false
  },
  "vscode": {
   "interpreter": {
    "hash": "6b97eecc7f9f0738067811810ef25f5774c41f20557555eeba3bcc2097bc37f9"
   }
  }
 },
 "nbformat": 4,
 "nbformat_minor": 5
}
